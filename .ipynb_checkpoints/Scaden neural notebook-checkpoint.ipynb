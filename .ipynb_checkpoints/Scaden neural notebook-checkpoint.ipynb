{
 "cells": [
  {
   "cell_type": "code",
   "execution_count": 1,
   "metadata": {},
   "outputs": [
    {
     "name": "stderr",
     "output_type": "stream",
     "text": [
      "G:\\Users\\Philipp\\Anaconda3\\lib\\site-packages\\scanpy\\api\\__init__.py:6: FutureWarning: \n",
      "\n",
      "In a future version of Scanpy, `scanpy.api` will be removed.\n",
      "Simply use `import scanpy as sc` and `import scanpy.external as sce` instead.\n",
      "\n",
      "  FutureWarning,\n"
     ]
    }
   ],
   "source": [
    "import os\n",
    "import sys\n",
    "import scanpy as sc\n",
    "import tensorflow as tf\n",
    "import numpy as np\n",
    "import pandas as pd\n",
    "from scaden import Scaden\n",
    "from architectures import architectures"
   ]
  },
  {
   "cell_type": "code",
   "execution_count": 2,
   "metadata": {},
   "outputs": [],
   "source": [
    "import scanpy as sc"
   ]
  },
  {
   "cell_type": "code",
   "execution_count": 3,
   "metadata": {},
   "outputs": [],
   "source": [
    "from scaden_main import *"
   ]
  },
  {
   "cell_type": "code",
   "execution_count": 4,
   "metadata": {},
   "outputs": [
    {
     "name": "stdout",
     "output_type": "stream",
     "text": [
      "Found 13666 common genes.\n",
      "Pre-processing raw data ...\n",
      "Subsetting genes ...\n",
      "Scaling using log_min_max\n",
      "Writing to disk ...\n"
     ]
    },
    {
     "name": "stderr",
     "output_type": "stream",
     "text": [
      "G:\\Users\\Philipp\\Anaconda3\\lib\\site-packages\\anndata\\_core\\anndata.py:1068: ImplicitModificationWarning: Initializing view as actual.\n",
      "  \"Initializing view as actual.\", ImplicitModificationWarning,\n"
     ]
    },
    {
     "name": "stdout",
     "output_type": "stream",
     "text": [
      "Data pre-processing done.\n"
     ]
    }
   ],
   "source": [
    "processing(data_path='Nov1_gep.txt', training_data='datasetWB.h5ad', processed_path=\"processednov2.h5ad\",var_cutoff=0.1)"
   ]
  },
  {
   "cell_type": "code",
   "execution_count": 5,
   "metadata": {
    "scrolled": true
   },
   "outputs": [
    {
     "name": "stdout",
     "output_type": "stream",
     "text": [
      "Training on: []\n",
      "Training M256 Model ...\n",
      "WARNING:tensorflow:From C:\\Users\\phiph\\Documents\\GitHub\\Deconvolution\\scaden_main.py:57: The name tf.reset_default_graph is deprecated. Please use tf.compat.v1.reset_default_graph instead.\n",
      "\n",
      "WARNING:tensorflow:From C:\\Users\\phiph\\Documents\\GitHub\\Deconvolution\\scaden_main.py:58: The name tf.Session is deprecated. Please use tf.compat.v1.Session instead.\n",
      "\n",
      "WARNING:tensorflow:From C:\\Users\\phiph\\Documents\\GitHub\\Deconvolution\\scaden.py:166: The name tf.placeholder is deprecated. Please use tf.compat.v1.placeholder instead.\n",
      "\n",
      "WARNING:tensorflow:From C:\\Users\\phiph\\Documents\\GitHub\\Deconvolution\\scaden.py:228: The name tf.data.Iterator is deprecated. Please use tf.compat.v1.data.Iterator instead.\n",
      "\n",
      "WARNING:tensorflow:From C:\\Users\\phiph\\Documents\\GitHub\\Deconvolution\\scaden.py:228: DatasetV1.output_types (from tensorflow.python.data.ops.dataset_ops) is deprecated and will be removed in a future version.\n",
      "Instructions for updating:\n",
      "Use `tf.compat.v1.data.get_output_types(dataset)`.\n",
      "WARNING:tensorflow:From C:\\Users\\phiph\\Documents\\GitHub\\Deconvolution\\scaden.py:228: DatasetV1.output_shapes (from tensorflow.python.data.ops.dataset_ops) is deprecated and will be removed in a future version.\n",
      "Instructions for updating:\n",
      "Use `tf.compat.v1.data.get_output_shapes(dataset)`.\n",
      "WARNING:tensorflow:From G:\\Users\\Philipp\\Anaconda3\\lib\\site-packages\\tensorflow\\python\\data\\ops\\iterator_ops.py:348: Iterator.output_types (from tensorflow.python.data.ops.iterator_ops) is deprecated and will be removed in a future version.\n",
      "Instructions for updating:\n",
      "Use `tf.compat.v1.data.get_output_types(iterator)`.\n",
      "WARNING:tensorflow:From G:\\Users\\Philipp\\Anaconda3\\lib\\site-packages\\tensorflow\\python\\data\\ops\\iterator_ops.py:349: Iterator.output_shapes (from tensorflow.python.data.ops.iterator_ops) is deprecated and will be removed in a future version.\n",
      "Instructions for updating:\n",
      "Use `tf.compat.v1.data.get_output_shapes(iterator)`.\n",
      "WARNING:tensorflow:From G:\\Users\\Philipp\\Anaconda3\\lib\\site-packages\\tensorflow\\python\\data\\ops\\iterator_ops.py:351: Iterator.output_classes (from tensorflow.python.data.ops.iterator_ops) is deprecated and will be removed in a future version.\n",
      "Instructions for updating:\n",
      "Use `tf.compat.v1.data.get_output_classes(iterator)`.\n",
      "WARNING:tensorflow:From C:\\Users\\phiph\\Documents\\GitHub\\Deconvolution\\scaden.py:237: The name tf.placeholder_with_default is deprecated. Please use tf.compat.v1.placeholder_with_default instead.\n",
      "\n",
      "WARNING:tensorflow:From C:\\Users\\phiph\\Documents\\GitHub\\Deconvolution\\scaden.py:47: The name tf.variable_scope is deprecated. Please use tf.compat.v1.variable_scope instead.\n",
      "\n",
      "WARNING:tensorflow:From C:\\Users\\phiph\\Documents\\GitHub\\Deconvolution\\scaden.py:48: dense (from tensorflow.python.layers.core) is deprecated and will be removed in a future version.\n",
      "Instructions for updating:\n",
      "Use keras.layers.dense instead.\n",
      "WARNING:tensorflow:From G:\\Users\\Philipp\\Anaconda3\\lib\\site-packages\\tensorflow\\python\\ops\\init_ops.py:1251: calling VarianceScaling.__init__ (from tensorflow.python.ops.init_ops) with dtype is deprecated and will be removed in a future version.\n",
      "Instructions for updating:\n",
      "Call initializer instance with the dtype argument instead of passing it to the constructor\n",
      "WARNING:tensorflow:From C:\\Users\\phiph\\Documents\\GitHub\\Deconvolution\\scaden.py:49: dropout (from tensorflow.python.layers.core) is deprecated and will be removed in a future version.\n",
      "Instructions for updating:\n",
      "Use keras.layers.dropout instead.\n",
      "WARNING:tensorflow:From C:\\Users\\phiph\\Documents\\GitHub\\Deconvolution\\scaden.py:105: The name tf.metrics.root_mean_squared_error is deprecated. Please use tf.compat.v1.metrics.root_mean_squared_error instead.\n",
      "\n",
      "WARNING:tensorflow:From C:\\Users\\phiph\\Documents\\GitHub\\Deconvolution\\scaden.py:110: The name tf.metrics.mean_relative_error is deprecated. Please use tf.compat.v1.metrics.mean_relative_error instead.\n",
      "\n",
      "WARNING:tensorflow:From G:\\Users\\Philipp\\Anaconda3\\lib\\site-packages\\tensorflow\\python\\ops\\metrics_impl.py:1261: div (from tensorflow.python.ops.math_ops) is deprecated and will be removed in a future version.\n",
      "Instructions for updating:\n",
      "Deprecated in favor of operator or tf.math.divide.\n",
      "WARNING:tensorflow:From G:\\Users\\Philipp\\Anaconda3\\lib\\site-packages\\tensorflow\\python\\ops\\metrics_impl.py:1261: add_dispatch_support.<locals>.wrapper (from tensorflow.python.ops.array_ops) is deprecated and will be removed in a future version.\n",
      "Instructions for updating:\n",
      "Use tf.where in 2.0, which has the same broadcast rule as np.where\n",
      "WARNING:tensorflow:From C:\\Users\\phiph\\Documents\\GitHub\\Deconvolution\\scaden.py:114: The name tf.metrics.mean_absolute_error is deprecated. Please use tf.compat.v1.metrics.mean_absolute_error instead.\n",
      "\n",
      "WARNING:tensorflow:From C:\\Users\\phiph\\Documents\\GitHub\\Deconvolution\\scaden.py:135: The name tf.summary.scalar is deprecated. Please use tf.compat.v1.summary.scalar instead.\n",
      "\n",
      "WARNING:tensorflow:From C:\\Users\\phiph\\Documents\\GitHub\\Deconvolution\\scaden.py:139: The name tf.summary.merge_all is deprecated. Please use tf.compat.v1.summary.merge_all instead.\n",
      "\n",
      "WARNING:tensorflow:From C:\\Users\\phiph\\Documents\\GitHub\\Deconvolution\\scaden.py:250: The name tf.train.AdamOptimizer is deprecated. Please use tf.compat.v1.train.AdamOptimizer instead.\n",
      "\n",
      "WARNING:tensorflow:From C:\\Users\\phiph\\Documents\\GitHub\\Deconvolution\\scaden.py:265: The name tf.train.Saver is deprecated. Please use tf.compat.v1.train.Saver instead.\n",
      "\n",
      "WARNING:tensorflow:From C:\\Users\\phiph\\Documents\\GitHub\\Deconvolution\\scaden.py:267: The name tf.summary.FileWriter is deprecated. Please use tf.compat.v1.summary.FileWriter instead.\n",
      "\n",
      "None\n"
     ]
    },
    {
     "name": "stderr",
     "output_type": "stream",
     "text": [
      "Step: 2000, Loss: 0.001: 100%|██████████| 2000/2000 [00:30<00:00, 65.05it/s]\n"
     ]
    },
    {
     "name": "stdout",
     "output_type": "stream",
     "text": [
      "Training M512 Model ...\n",
      "None\n"
     ]
    },
    {
     "name": "stderr",
     "output_type": "stream",
     "text": [
      "Step: 2000, Loss: 0.001: 100%|██████████| 2000/2000 [00:31<00:00, 62.85it/s]\n"
     ]
    },
    {
     "name": "stdout",
     "output_type": "stream",
     "text": [
      "Training M1024 Model ...\n",
      "None\n"
     ]
    },
    {
     "name": "stderr",
     "output_type": "stream",
     "text": [
      "Step: 2000, Loss: 0.001: 100%|██████████| 2000/2000 [00:36<00:00, 54.26it/s]\n"
     ]
    },
    {
     "name": "stdout",
     "output_type": "stream",
     "text": [
      "Training finished.\n"
     ]
    }
   ],
   "source": [
    "training('processednov2.h5ad', train_datasets='', model_dir=\".\", batch_size=128, learning_rate=0.0001, num_steps=2000)"
   ]
  },
  {
   "cell_type": "code",
   "execution_count": 6,
   "metadata": {},
   "outputs": [
    {
     "name": "stdout",
     "output_type": "stream",
     "text": [
      "model_checkpoint_path: \".\\\\m256\\\\m256-2000\"\n",
      "all_model_checkpoint_paths: \".\\\\m256\\\\m256-2000\"\n",
      "\n",
      "WARNING:tensorflow:From G:\\Users\\Philipp\\Anaconda3\\lib\\site-packages\\tensorflow\\python\\training\\saver.py:1276: checkpoint_exists (from tensorflow.python.training.checkpoint_management) is deprecated and will be removed in a future version.\n",
      "Instructions for updating:\n",
      "Use standard file APIs to check for files with this prefix.\n",
      "INFO:tensorflow:Restoring parameters from .\\m256\\m256-2000\n",
      "Model parameters restored successfully\n",
      "model_checkpoint_path: \".\\\\m512\\\\m512-2000\"\n",
      "all_model_checkpoint_paths: \".\\\\m512\\\\m512-2000\"\n",
      "\n",
      "INFO:tensorflow:Restoring parameters from .\\m512\\m512-2000\n",
      "Model parameters restored successfully\n",
      "model_checkpoint_path: \".\\\\m1024\\\\m1024-2000\"\n",
      "all_model_checkpoint_paths: \".\\\\m1024\\\\m1024-2000\"\n",
      "\n",
      "INFO:tensorflow:Restoring parameters from .\\m1024\\m1024-2000\n",
      "Model parameters restored successfully\n"
     ]
    }
   ],
   "source": [
    "prediction(model_dir='.',data_path='Nov2_gep.txt', out_name='Nov2_sca_WBagn.txt')"
   ]
  },
  {
   "cell_type": "code",
   "execution_count": 36,
   "metadata": {},
   "outputs": [],
   "source": [
    "raw_input = sc.read_h5ad(\"datasetWBann.h5ad\")\n"
   ]
  },
  {
   "cell_type": "code",
   "execution_count": 37,
   "metadata": {},
   "outputs": [
    {
     "data": {
      "text/plain": [
       "14607"
      ]
     },
     "execution_count": 37,
     "metadata": {},
     "output_type": "execute_result"
    }
   ],
   "source": [
    "len(raw_input.X[0])"
   ]
  },
  {
   "cell_type": "code",
   "execution_count": 28,
   "metadata": {},
   "outputs": [
    {
     "data": {
      "text/html": [
       "<div>\n",
       "<style scoped>\n",
       "    .dataframe tbody tr th:only-of-type {\n",
       "        vertical-align: middle;\n",
       "    }\n",
       "\n",
       "    .dataframe tbody tr th {\n",
       "        vertical-align: top;\n",
       "    }\n",
       "\n",
       "    .dataframe thead th {\n",
       "        text-align: right;\n",
       "    }\n",
       "</style>\n",
       "<table border=\"1\" class=\"dataframe\">\n",
       "  <thead>\n",
       "    <tr style=\"text-align: right;\">\n",
       "      <th></th>\n",
       "      <th>Neutrophils</th>\n",
       "      <th>Monocytes</th>\n",
       "      <th>Lymphocytes</th>\n",
       "      <th>Basophils.Eosinophils</th>\n",
       "      <th>ds</th>\n",
       "    </tr>\n",
       "  </thead>\n",
       "  <tbody>\n",
       "    <tr>\n",
       "      <td>0</td>\n",
       "      <td>0.852</td>\n",
       "      <td>0.045</td>\n",
       "      <td>0.085</td>\n",
       "      <td>0.018</td>\n",
       "      <td>Nov2</td>\n",
       "    </tr>\n",
       "    <tr>\n",
       "      <td>1</td>\n",
       "      <td>0.539</td>\n",
       "      <td>0.032</td>\n",
       "      <td>0.400</td>\n",
       "      <td>0.029</td>\n",
       "      <td>Nov2</td>\n",
       "    </tr>\n",
       "    <tr>\n",
       "      <td>2</td>\n",
       "      <td>0.696</td>\n",
       "      <td>0.043</td>\n",
       "      <td>0.239</td>\n",
       "      <td>0.022</td>\n",
       "      <td>Nov2</td>\n",
       "    </tr>\n",
       "    <tr>\n",
       "      <td>3</td>\n",
       "      <td>0.538</td>\n",
       "      <td>0.074</td>\n",
       "      <td>0.285</td>\n",
       "      <td>0.103</td>\n",
       "      <td>Nov2</td>\n",
       "    </tr>\n",
       "    <tr>\n",
       "      <td>4</td>\n",
       "      <td>0.615</td>\n",
       "      <td>0.053</td>\n",
       "      <td>0.307</td>\n",
       "      <td>0.025</td>\n",
       "      <td>Nov2</td>\n",
       "    </tr>\n",
       "    <tr>\n",
       "      <td>...</td>\n",
       "      <td>...</td>\n",
       "      <td>...</td>\n",
       "      <td>...</td>\n",
       "      <td>...</td>\n",
       "      <td>...</td>\n",
       "    </tr>\n",
       "    <tr>\n",
       "      <td>188</td>\n",
       "      <td>0.605</td>\n",
       "      <td>0.096</td>\n",
       "      <td>0.281</td>\n",
       "      <td>0.018</td>\n",
       "      <td>Nov2</td>\n",
       "    </tr>\n",
       "    <tr>\n",
       "      <td>189</td>\n",
       "      <td>0.805</td>\n",
       "      <td>0.086</td>\n",
       "      <td>0.078</td>\n",
       "      <td>0.031</td>\n",
       "      <td>Nov2</td>\n",
       "    </tr>\n",
       "    <tr>\n",
       "      <td>190</td>\n",
       "      <td>0.577</td>\n",
       "      <td>0.066</td>\n",
       "      <td>0.331</td>\n",
       "      <td>0.026</td>\n",
       "      <td>Nov2</td>\n",
       "    </tr>\n",
       "    <tr>\n",
       "      <td>191</td>\n",
       "      <td>0.671</td>\n",
       "      <td>0.061</td>\n",
       "      <td>0.242</td>\n",
       "      <td>0.026</td>\n",
       "      <td>Nov2</td>\n",
       "    </tr>\n",
       "    <tr>\n",
       "      <td>192</td>\n",
       "      <td>0.619</td>\n",
       "      <td>0.086</td>\n",
       "      <td>0.273</td>\n",
       "      <td>0.022</td>\n",
       "      <td>Nov2</td>\n",
       "    </tr>\n",
       "  </tbody>\n",
       "</table>\n",
       "<p>193 rows × 5 columns</p>\n",
       "</div>"
      ],
      "text/plain": [
       "     Neutrophils  Monocytes  Lymphocytes  Basophils.Eosinophils    ds\n",
       "0          0.852      0.045        0.085                  0.018  Nov2\n",
       "1          0.539      0.032        0.400                  0.029  Nov2\n",
       "2          0.696      0.043        0.239                  0.022  Nov2\n",
       "3          0.538      0.074        0.285                  0.103  Nov2\n",
       "4          0.615      0.053        0.307                  0.025  Nov2\n",
       "..           ...        ...          ...                    ...   ...\n",
       "188        0.605      0.096        0.281                  0.018  Nov2\n",
       "189        0.805      0.086        0.078                  0.031  Nov2\n",
       "190        0.577      0.066        0.331                  0.026  Nov2\n",
       "191        0.671      0.061        0.242                  0.026  Nov2\n",
       "192        0.619      0.086        0.273                  0.022  Nov2\n",
       "\n",
       "[193 rows x 5 columns]"
      ]
     },
     "execution_count": 28,
     "metadata": {},
     "output_type": "execute_result"
    }
   ],
   "source": [
    "a= raw_input.obs\n",
    "a"
   ]
  },
  {
   "cell_type": "code",
   "execution_count": 29,
   "metadata": {},
   "outputs": [
    {
     "ename": "ValueError",
     "evalue": "Length mismatch: Expected axis has 193 elements, new values have 13590 elements",
     "output_type": "error",
     "traceback": [
      "\u001b[1;31m---------------------------------------------------------------------------\u001b[0m",
      "\u001b[1;31mValueError\u001b[0m                                Traceback (most recent call last)",
      "\u001b[1;32m<ipython-input-29-043efee25f97>\u001b[0m in \u001b[0;36m<module>\u001b[1;34m\u001b[0m\n\u001b[1;32m----> 1\u001b[1;33m \u001b[0ma\u001b[0m\u001b[1;33m.\u001b[0m\u001b[0mindex\u001b[0m\u001b[1;33m=\u001b[0m\u001b[0mrange\u001b[0m\u001b[1;33m(\u001b[0m\u001b[1;36m13590\u001b[0m\u001b[1;33m)\u001b[0m\u001b[1;33m\u001b[0m\u001b[1;33m\u001b[0m\u001b[0m\n\u001b[0m",
      "\u001b[1;32mG:\\Users\\Philipp\\Anaconda3\\lib\\site-packages\\pandas\\core\\generic.py\u001b[0m in \u001b[0;36m__setattr__\u001b[1;34m(self, name, value)\u001b[0m\n\u001b[0;32m   5190\u001b[0m         \u001b[1;32mtry\u001b[0m\u001b[1;33m:\u001b[0m\u001b[1;33m\u001b[0m\u001b[1;33m\u001b[0m\u001b[0m\n\u001b[0;32m   5191\u001b[0m             \u001b[0mobject\u001b[0m\u001b[1;33m.\u001b[0m\u001b[0m__getattribute__\u001b[0m\u001b[1;33m(\u001b[0m\u001b[0mself\u001b[0m\u001b[1;33m,\u001b[0m \u001b[0mname\u001b[0m\u001b[1;33m)\u001b[0m\u001b[1;33m\u001b[0m\u001b[1;33m\u001b[0m\u001b[0m\n\u001b[1;32m-> 5192\u001b[1;33m             \u001b[1;32mreturn\u001b[0m \u001b[0mobject\u001b[0m\u001b[1;33m.\u001b[0m\u001b[0m__setattr__\u001b[0m\u001b[1;33m(\u001b[0m\u001b[0mself\u001b[0m\u001b[1;33m,\u001b[0m \u001b[0mname\u001b[0m\u001b[1;33m,\u001b[0m \u001b[0mvalue\u001b[0m\u001b[1;33m)\u001b[0m\u001b[1;33m\u001b[0m\u001b[1;33m\u001b[0m\u001b[0m\n\u001b[0m\u001b[0;32m   5193\u001b[0m         \u001b[1;32mexcept\u001b[0m \u001b[0mAttributeError\u001b[0m\u001b[1;33m:\u001b[0m\u001b[1;33m\u001b[0m\u001b[1;33m\u001b[0m\u001b[0m\n\u001b[0;32m   5194\u001b[0m             \u001b[1;32mpass\u001b[0m\u001b[1;33m\u001b[0m\u001b[1;33m\u001b[0m\u001b[0m\n",
      "\u001b[1;32mpandas\\_libs\\properties.pyx\u001b[0m in \u001b[0;36mpandas._libs.properties.AxisProperty.__set__\u001b[1;34m()\u001b[0m\n",
      "\u001b[1;32mG:\\Users\\Philipp\\Anaconda3\\lib\\site-packages\\pandas\\core\\generic.py\u001b[0m in \u001b[0;36m_set_axis\u001b[1;34m(self, axis, labels)\u001b[0m\n\u001b[0;32m    688\u001b[0m \u001b[1;33m\u001b[0m\u001b[0m\n\u001b[0;32m    689\u001b[0m     \u001b[1;32mdef\u001b[0m \u001b[0m_set_axis\u001b[0m\u001b[1;33m(\u001b[0m\u001b[0mself\u001b[0m\u001b[1;33m,\u001b[0m \u001b[0maxis\u001b[0m\u001b[1;33m,\u001b[0m \u001b[0mlabels\u001b[0m\u001b[1;33m)\u001b[0m\u001b[1;33m:\u001b[0m\u001b[1;33m\u001b[0m\u001b[1;33m\u001b[0m\u001b[0m\n\u001b[1;32m--> 690\u001b[1;33m         \u001b[0mself\u001b[0m\u001b[1;33m.\u001b[0m\u001b[0m_data\u001b[0m\u001b[1;33m.\u001b[0m\u001b[0mset_axis\u001b[0m\u001b[1;33m(\u001b[0m\u001b[0maxis\u001b[0m\u001b[1;33m,\u001b[0m \u001b[0mlabels\u001b[0m\u001b[1;33m)\u001b[0m\u001b[1;33m\u001b[0m\u001b[1;33m\u001b[0m\u001b[0m\n\u001b[0m\u001b[0;32m    691\u001b[0m         \u001b[0mself\u001b[0m\u001b[1;33m.\u001b[0m\u001b[0m_clear_item_cache\u001b[0m\u001b[1;33m(\u001b[0m\u001b[1;33m)\u001b[0m\u001b[1;33m\u001b[0m\u001b[1;33m\u001b[0m\u001b[0m\n\u001b[0;32m    692\u001b[0m \u001b[1;33m\u001b[0m\u001b[0m\n",
      "\u001b[1;32mG:\\Users\\Philipp\\Anaconda3\\lib\\site-packages\\pandas\\core\\internals\\managers.py\u001b[0m in \u001b[0;36mset_axis\u001b[1;34m(self, axis, new_labels)\u001b[0m\n\u001b[0;32m    181\u001b[0m             raise ValueError(\n\u001b[0;32m    182\u001b[0m                 \u001b[1;34m\"Length mismatch: Expected axis has {old} elements, new \"\u001b[0m\u001b[1;33m\u001b[0m\u001b[1;33m\u001b[0m\u001b[0m\n\u001b[1;32m--> 183\u001b[1;33m                 \u001b[1;34m\"values have {new} elements\"\u001b[0m\u001b[1;33m.\u001b[0m\u001b[0mformat\u001b[0m\u001b[1;33m(\u001b[0m\u001b[0mold\u001b[0m\u001b[1;33m=\u001b[0m\u001b[0mold_len\u001b[0m\u001b[1;33m,\u001b[0m \u001b[0mnew\u001b[0m\u001b[1;33m=\u001b[0m\u001b[0mnew_len\u001b[0m\u001b[1;33m)\u001b[0m\u001b[1;33m\u001b[0m\u001b[1;33m\u001b[0m\u001b[0m\n\u001b[0m\u001b[0;32m    184\u001b[0m             )\n\u001b[0;32m    185\u001b[0m \u001b[1;33m\u001b[0m\u001b[0m\n",
      "\u001b[1;31mValueError\u001b[0m: Length mismatch: Expected axis has 193 elements, new values have 13590 elements"
     ]
    }
   ],
   "source": [
    "a.index=range(13590)"
   ]
  },
  {
   "cell_type": "code",
   "execution_count": 57,
   "metadata": {},
   "outputs": [
    {
     "ename": "KeyError",
     "evalue": "'index'",
     "output_type": "error",
     "traceback": [
      "\u001b[1;31m---------------------------------------------------------------------------\u001b[0m",
      "\u001b[1;31mKeyError\u001b[0m                                  Traceback (most recent call last)",
      "\u001b[1;32mG:\\Users\\Philipp\\Anaconda3\\lib\\site-packages\\pandas\\core\\indexes\\base.py\u001b[0m in \u001b[0;36mget_loc\u001b[1;34m(self, key, method, tolerance)\u001b[0m\n\u001b[0;32m   2896\u001b[0m             \u001b[1;32mtry\u001b[0m\u001b[1;33m:\u001b[0m\u001b[1;33m\u001b[0m\u001b[1;33m\u001b[0m\u001b[0m\n\u001b[1;32m-> 2897\u001b[1;33m                 \u001b[1;32mreturn\u001b[0m \u001b[0mself\u001b[0m\u001b[1;33m.\u001b[0m\u001b[0m_engine\u001b[0m\u001b[1;33m.\u001b[0m\u001b[0mget_loc\u001b[0m\u001b[1;33m(\u001b[0m\u001b[0mkey\u001b[0m\u001b[1;33m)\u001b[0m\u001b[1;33m\u001b[0m\u001b[1;33m\u001b[0m\u001b[0m\n\u001b[0m\u001b[0;32m   2898\u001b[0m             \u001b[1;32mexcept\u001b[0m \u001b[0mKeyError\u001b[0m\u001b[1;33m:\u001b[0m\u001b[1;33m\u001b[0m\u001b[1;33m\u001b[0m\u001b[0m\n",
      "\u001b[1;32mpandas\\_libs\\index.pyx\u001b[0m in \u001b[0;36mpandas._libs.index.IndexEngine.get_loc\u001b[1;34m()\u001b[0m\n",
      "\u001b[1;32mpandas\\_libs\\index.pyx\u001b[0m in \u001b[0;36mpandas._libs.index.IndexEngine.get_loc\u001b[1;34m()\u001b[0m\n",
      "\u001b[1;32mpandas\\_libs\\index_class_helper.pxi\u001b[0m in \u001b[0;36mpandas._libs.index.Int64Engine._check_type\u001b[1;34m()\u001b[0m\n",
      "\u001b[1;31mKeyError\u001b[0m: 'index'",
      "\nDuring handling of the above exception, another exception occurred:\n",
      "\u001b[1;31mKeyError\u001b[0m                                  Traceback (most recent call last)",
      "\u001b[1;32m<ipython-input-57-cea46f385e85>\u001b[0m in \u001b[0;36m<module>\u001b[1;34m\u001b[0m\n\u001b[1;32m----> 1\u001b[1;33m \u001b[0ma\u001b[0m\u001b[1;33m.\u001b[0m\u001b[0mindex\u001b[0m\u001b[1;33m[\u001b[0m\u001b[0ma\u001b[0m\u001b[1;33m[\u001b[0m\u001b[1;34m'index'\u001b[0m\u001b[1;33m]\u001b[0m\u001b[1;33m==\u001b[0m\u001b[1;34m\"A1BG\"\u001b[0m\u001b[1;33m]\u001b[0m\u001b[1;33m.\u001b[0m\u001b[0mtolist\u001b[0m\u001b[1;33m(\u001b[0m\u001b[1;33m)\u001b[0m\u001b[1;33m\u001b[0m\u001b[1;33m\u001b[0m\u001b[0m\n\u001b[0m",
      "\u001b[1;32mG:\\Users\\Philipp\\Anaconda3\\lib\\site-packages\\pandas\\core\\frame.py\u001b[0m in \u001b[0;36m__getitem__\u001b[1;34m(self, key)\u001b[0m\n\u001b[0;32m   2978\u001b[0m             \u001b[1;32mif\u001b[0m \u001b[0mself\u001b[0m\u001b[1;33m.\u001b[0m\u001b[0mcolumns\u001b[0m\u001b[1;33m.\u001b[0m\u001b[0mnlevels\u001b[0m \u001b[1;33m>\u001b[0m \u001b[1;36m1\u001b[0m\u001b[1;33m:\u001b[0m\u001b[1;33m\u001b[0m\u001b[1;33m\u001b[0m\u001b[0m\n\u001b[0;32m   2979\u001b[0m                 \u001b[1;32mreturn\u001b[0m \u001b[0mself\u001b[0m\u001b[1;33m.\u001b[0m\u001b[0m_getitem_multilevel\u001b[0m\u001b[1;33m(\u001b[0m\u001b[0mkey\u001b[0m\u001b[1;33m)\u001b[0m\u001b[1;33m\u001b[0m\u001b[1;33m\u001b[0m\u001b[0m\n\u001b[1;32m-> 2980\u001b[1;33m             \u001b[0mindexer\u001b[0m \u001b[1;33m=\u001b[0m \u001b[0mself\u001b[0m\u001b[1;33m.\u001b[0m\u001b[0mcolumns\u001b[0m\u001b[1;33m.\u001b[0m\u001b[0mget_loc\u001b[0m\u001b[1;33m(\u001b[0m\u001b[0mkey\u001b[0m\u001b[1;33m)\u001b[0m\u001b[1;33m\u001b[0m\u001b[1;33m\u001b[0m\u001b[0m\n\u001b[0m\u001b[0;32m   2981\u001b[0m             \u001b[1;32mif\u001b[0m \u001b[0mis_integer\u001b[0m\u001b[1;33m(\u001b[0m\u001b[0mindexer\u001b[0m\u001b[1;33m)\u001b[0m\u001b[1;33m:\u001b[0m\u001b[1;33m\u001b[0m\u001b[1;33m\u001b[0m\u001b[0m\n\u001b[0;32m   2982\u001b[0m                 \u001b[0mindexer\u001b[0m \u001b[1;33m=\u001b[0m \u001b[1;33m[\u001b[0m\u001b[0mindexer\u001b[0m\u001b[1;33m]\u001b[0m\u001b[1;33m\u001b[0m\u001b[1;33m\u001b[0m\u001b[0m\n",
      "\u001b[1;32mG:\\Users\\Philipp\\Anaconda3\\lib\\site-packages\\pandas\\core\\indexes\\base.py\u001b[0m in \u001b[0;36mget_loc\u001b[1;34m(self, key, method, tolerance)\u001b[0m\n\u001b[0;32m   2897\u001b[0m                 \u001b[1;32mreturn\u001b[0m \u001b[0mself\u001b[0m\u001b[1;33m.\u001b[0m\u001b[0m_engine\u001b[0m\u001b[1;33m.\u001b[0m\u001b[0mget_loc\u001b[0m\u001b[1;33m(\u001b[0m\u001b[0mkey\u001b[0m\u001b[1;33m)\u001b[0m\u001b[1;33m\u001b[0m\u001b[1;33m\u001b[0m\u001b[0m\n\u001b[0;32m   2898\u001b[0m             \u001b[1;32mexcept\u001b[0m \u001b[0mKeyError\u001b[0m\u001b[1;33m:\u001b[0m\u001b[1;33m\u001b[0m\u001b[1;33m\u001b[0m\u001b[0m\n\u001b[1;32m-> 2899\u001b[1;33m                 \u001b[1;32mreturn\u001b[0m \u001b[0mself\u001b[0m\u001b[1;33m.\u001b[0m\u001b[0m_engine\u001b[0m\u001b[1;33m.\u001b[0m\u001b[0mget_loc\u001b[0m\u001b[1;33m(\u001b[0m\u001b[0mself\u001b[0m\u001b[1;33m.\u001b[0m\u001b[0m_maybe_cast_indexer\u001b[0m\u001b[1;33m(\u001b[0m\u001b[0mkey\u001b[0m\u001b[1;33m)\u001b[0m\u001b[1;33m)\u001b[0m\u001b[1;33m\u001b[0m\u001b[1;33m\u001b[0m\u001b[0m\n\u001b[0m\u001b[0;32m   2900\u001b[0m         \u001b[0mindexer\u001b[0m \u001b[1;33m=\u001b[0m \u001b[0mself\u001b[0m\u001b[1;33m.\u001b[0m\u001b[0mget_indexer\u001b[0m\u001b[1;33m(\u001b[0m\u001b[1;33m[\u001b[0m\u001b[0mkey\u001b[0m\u001b[1;33m]\u001b[0m\u001b[1;33m,\u001b[0m \u001b[0mmethod\u001b[0m\u001b[1;33m=\u001b[0m\u001b[0mmethod\u001b[0m\u001b[1;33m,\u001b[0m \u001b[0mtolerance\u001b[0m\u001b[1;33m=\u001b[0m\u001b[0mtolerance\u001b[0m\u001b[1;33m)\u001b[0m\u001b[1;33m\u001b[0m\u001b[1;33m\u001b[0m\u001b[0m\n\u001b[0;32m   2901\u001b[0m         \u001b[1;32mif\u001b[0m \u001b[0mindexer\u001b[0m\u001b[1;33m.\u001b[0m\u001b[0mndim\u001b[0m \u001b[1;33m>\u001b[0m \u001b[1;36m1\u001b[0m \u001b[1;32mor\u001b[0m \u001b[0mindexer\u001b[0m\u001b[1;33m.\u001b[0m\u001b[0msize\u001b[0m \u001b[1;33m>\u001b[0m \u001b[1;36m1\u001b[0m\u001b[1;33m:\u001b[0m\u001b[1;33m\u001b[0m\u001b[1;33m\u001b[0m\u001b[0m\n",
      "\u001b[1;32mpandas\\_libs\\index.pyx\u001b[0m in \u001b[0;36mpandas._libs.index.IndexEngine.get_loc\u001b[1;34m()\u001b[0m\n",
      "\u001b[1;32mpandas\\_libs\\index.pyx\u001b[0m in \u001b[0;36mpandas._libs.index.IndexEngine.get_loc\u001b[1;34m()\u001b[0m\n",
      "\u001b[1;32mpandas\\_libs\\index_class_helper.pxi\u001b[0m in \u001b[0;36mpandas._libs.index.Int64Engine._check_type\u001b[1;34m()\u001b[0m\n",
      "\u001b[1;31mKeyError\u001b[0m: 'index'"
     ]
    }
   ],
   "source": [
    "a.index[a['index']==\"A1BG\"].tolist()"
   ]
  },
  {
   "cell_type": "code",
   "execution_count": 58,
   "metadata": {},
   "outputs": [
    {
     "data": {
      "text/plain": [
       "43.98881"
      ]
     },
     "execution_count": 58,
     "metadata": {},
     "output_type": "execute_result"
    }
   ],
   "source": [
    "raw_input.X[:,2100].mean()"
   ]
  },
  {
   "cell_type": "code",
   "execution_count": 14,
   "metadata": {},
   "outputs": [],
   "source": [
    "ratios = [raw_input.obs[ctype] for ctype in raw_input.uns['cell_types']]\n",
    "Scaden.y_data = np.array(ratios, dtype=np.float32).transpose()"
   ]
  },
  {
   "cell_type": "code",
   "execution_count": 16,
   "metadata": {
    "scrolled": true
   },
   "outputs": [
    {
     "ename": "RuntimeError",
     "evalue": "tf.placeholder() is not compatible with eager execution.",
     "output_type": "error",
     "traceback": [
      "\u001b[1;31m---------------------------------------------------------------------------\u001b[0m",
      "\u001b[1;31mRuntimeError\u001b[0m                              Traceback (most recent call last)",
      "\u001b[1;32m<ipython-input-16-2cc2421d28ed>\u001b[0m in \u001b[0;36m<module>\u001b[1;34m\u001b[0m\n\u001b[1;32m----> 1\u001b[1;33m \u001b[0mScaden\u001b[0m\u001b[1;33m.\u001b[0m\u001b[0mx_data_ph\u001b[0m \u001b[1;33m=\u001b[0m \u001b[0mtf\u001b[0m\u001b[1;33m.\u001b[0m\u001b[0mcompat\u001b[0m\u001b[1;33m.\u001b[0m\u001b[0mv1\u001b[0m\u001b[1;33m.\u001b[0m\u001b[0mplaceholder\u001b[0m\u001b[1;33m(\u001b[0m\u001b[0mScaden\u001b[0m\u001b[1;33m.\u001b[0m\u001b[0mx_data\u001b[0m\u001b[1;33m.\u001b[0m\u001b[0mdtype\u001b[0m\u001b[1;33m,\u001b[0m \u001b[0mScaden\u001b[0m\u001b[1;33m.\u001b[0m\u001b[0mx_data\u001b[0m\u001b[1;33m.\u001b[0m\u001b[0mshape\u001b[0m\u001b[1;33m,\u001b[0m \u001b[0mname\u001b[0m\u001b[1;33m=\u001b[0m\u001b[1;34m\"x_data_ph\"\u001b[0m\u001b[1;33m)\u001b[0m\u001b[1;33m\u001b[0m\u001b[1;33m\u001b[0m\u001b[0m\n\u001b[0m\u001b[0;32m      2\u001b[0m \u001b[0mScaden\u001b[0m\u001b[1;33m.\u001b[0m\u001b[0my_data_ph\u001b[0m \u001b[1;33m=\u001b[0m \u001b[0mtf\u001b[0m\u001b[1;33m.\u001b[0m\u001b[0mcompat\u001b[0m\u001b[1;33m.\u001b[0m\u001b[0mv1\u001b[0m\u001b[1;33m.\u001b[0m\u001b[0mplaceholder\u001b[0m\u001b[1;33m(\u001b[0m\u001b[0mScaden\u001b[0m\u001b[1;33m.\u001b[0m\u001b[0my_data\u001b[0m\u001b[1;33m.\u001b[0m\u001b[0mdtype\u001b[0m\u001b[1;33m,\u001b[0m \u001b[0mScaden\u001b[0m\u001b[1;33m.\u001b[0m\u001b[0my_data\u001b[0m\u001b[1;33m.\u001b[0m\u001b[0mshape\u001b[0m\u001b[1;33m,\u001b[0m \u001b[0mname\u001b[0m\u001b[1;33m=\u001b[0m\u001b[1;34m\"y_data_ph\"\u001b[0m\u001b[1;33m)\u001b[0m\u001b[1;33m\u001b[0m\u001b[1;33m\u001b[0m\u001b[0m\n",
      "\u001b[1;32mG:\\Users\\Philipp\\Anaconda3\\lib\\site-packages\\tensorflow_core\\python\\ops\\array_ops.py\u001b[0m in \u001b[0;36mplaceholder\u001b[1;34m(dtype, shape, name)\u001b[0m\n\u001b[0;32m   2625\u001b[0m   \"\"\"\n\u001b[0;32m   2626\u001b[0m   \u001b[1;32mif\u001b[0m \u001b[0mcontext\u001b[0m\u001b[1;33m.\u001b[0m\u001b[0mexecuting_eagerly\u001b[0m\u001b[1;33m(\u001b[0m\u001b[1;33m)\u001b[0m\u001b[1;33m:\u001b[0m\u001b[1;33m\u001b[0m\u001b[1;33m\u001b[0m\u001b[0m\n\u001b[1;32m-> 2627\u001b[1;33m     raise RuntimeError(\"tf.placeholder() is not compatible with \"\n\u001b[0m\u001b[0;32m   2628\u001b[0m                        \"eager execution.\")\n\u001b[0;32m   2629\u001b[0m \u001b[1;33m\u001b[0m\u001b[0m\n",
      "\u001b[1;31mRuntimeError\u001b[0m: tf.placeholder() is not compatible with eager execution."
     ]
    }
   ],
   "source": [
    "Scaden.x_data_ph = tf.compat.v1.placeholder(Scaden.x_data.dtype, Scaden.x_data.shape, name=\"x_data_ph\")\n",
    "Scaden.y_data_ph = tf.compat.v1.placeholder(Scaden.y_data.dtype, Scaden.y_data.shape, name=\"y_data_ph\")"
   ]
  },
  {
   "cell_type": "code",
   "execution_count": 79,
   "metadata": {},
   "outputs": [],
   "source": [
    "y = pd.read_table(os.path.join(os.getcwd() + \"\\\\preprocessing\\\\Nov\\\\Nov1_prop.txt\"), sep=\"\\t\")"
   ]
  },
  {
   "cell_type": "code",
   "execution_count": 83,
   "metadata": {},
   "outputs": [
    {
     "data": {
      "text/plain": [
       "Index(['Neutrophils', 'Monocytes', 'Lymphocytes', 'Basophils.Eosinophils'], dtype='object')"
      ]
     },
     "execution_count": 83,
     "metadata": {},
     "output_type": "execute_result"
    }
   ],
   "source": [
    "y.columns"
   ]
  },
  {
   "cell_type": "code",
   "execution_count": 81,
   "metadata": {},
   "outputs": [],
   "source": [
    "yseries=[]"
   ]
  },
  {
   "cell_type": "code",
   "execution_count": 82,
   "metadata": {},
   "outputs": [
    {
     "data": {
      "text/html": [
       "<div>\n",
       "<style scoped>\n",
       "    .dataframe tbody tr th:only-of-type {\n",
       "        vertical-align: middle;\n",
       "    }\n",
       "\n",
       "    .dataframe tbody tr th {\n",
       "        vertical-align: top;\n",
       "    }\n",
       "\n",
       "    .dataframe thead th {\n",
       "        text-align: right;\n",
       "    }\n",
       "</style>\n",
       "<table border=\"1\" class=\"dataframe\">\n",
       "  <thead>\n",
       "    <tr style=\"text-align: right;\">\n",
       "      <th></th>\n",
       "      <th>Neutrophils</th>\n",
       "      <th>Monocytes</th>\n",
       "      <th>Lymphocytes</th>\n",
       "      <th>Basophils.Eosinophils</th>\n",
       "    </tr>\n",
       "  </thead>\n",
       "  <tbody>\n",
       "    <tr>\n",
       "      <td>D0006-20</td>\n",
       "      <td>0.563000</td>\n",
       "      <td>0.059000</td>\n",
       "      <td>0.308000</td>\n",
       "      <td>0.070000</td>\n",
       "    </tr>\n",
       "    <tr>\n",
       "      <td>D0008-14</td>\n",
       "      <td>0.564000</td>\n",
       "      <td>0.065000</td>\n",
       "      <td>0.348000</td>\n",
       "      <td>0.023000</td>\n",
       "    </tr>\n",
       "    <tr>\n",
       "      <td>D0055-67</td>\n",
       "      <td>0.601000</td>\n",
       "      <td>0.055000</td>\n",
       "      <td>0.321000</td>\n",
       "      <td>0.023000</td>\n",
       "    </tr>\n",
       "    <tr>\n",
       "      <td>D0065-37</td>\n",
       "      <td>0.663000</td>\n",
       "      <td>0.048000</td>\n",
       "      <td>0.267000</td>\n",
       "      <td>0.022000</td>\n",
       "    </tr>\n",
       "    <tr>\n",
       "      <td>D0100-29</td>\n",
       "      <td>0.506000</td>\n",
       "      <td>0.053000</td>\n",
       "      <td>0.428000</td>\n",
       "      <td>0.013000</td>\n",
       "    </tr>\n",
       "    <tr>\n",
       "      <td>...</td>\n",
       "      <td>...</td>\n",
       "      <td>...</td>\n",
       "      <td>...</td>\n",
       "      <td>...</td>\n",
       "    </tr>\n",
       "    <tr>\n",
       "      <td>D1804-58</td>\n",
       "      <td>0.697778</td>\n",
       "      <td>0.068889</td>\n",
       "      <td>0.211111</td>\n",
       "      <td>0.022222</td>\n",
       "    </tr>\n",
       "    <tr>\n",
       "      <td>D1809-43</td>\n",
       "      <td>0.536000</td>\n",
       "      <td>0.048000</td>\n",
       "      <td>0.366000</td>\n",
       "      <td>0.050000</td>\n",
       "    </tr>\n",
       "    <tr>\n",
       "      <td>D1813-31</td>\n",
       "      <td>0.704000</td>\n",
       "      <td>0.085000</td>\n",
       "      <td>0.188000</td>\n",
       "      <td>0.023000</td>\n",
       "    </tr>\n",
       "    <tr>\n",
       "      <td>D1821-07</td>\n",
       "      <td>0.562000</td>\n",
       "      <td>0.048000</td>\n",
       "      <td>0.352000</td>\n",
       "      <td>0.038000</td>\n",
       "    </tr>\n",
       "    <tr>\n",
       "      <td>D1853-08</td>\n",
       "      <td>0.614000</td>\n",
       "      <td>0.064000</td>\n",
       "      <td>0.294000</td>\n",
       "      <td>0.028000</td>\n",
       "    </tr>\n",
       "  </tbody>\n",
       "</table>\n",
       "<p>225 rows × 4 columns</p>\n",
       "</div>"
      ],
      "text/plain": [
       "          Neutrophils  Monocytes  Lymphocytes  Basophils.Eosinophils\n",
       "D0006-20     0.563000   0.059000     0.308000               0.070000\n",
       "D0008-14     0.564000   0.065000     0.348000               0.023000\n",
       "D0055-67     0.601000   0.055000     0.321000               0.023000\n",
       "D0065-37     0.663000   0.048000     0.267000               0.022000\n",
       "D0100-29     0.506000   0.053000     0.428000               0.013000\n",
       "...               ...        ...          ...                    ...\n",
       "D1804-58     0.697778   0.068889     0.211111               0.022222\n",
       "D1809-43     0.536000   0.048000     0.366000               0.050000\n",
       "D1813-31     0.704000   0.085000     0.188000               0.023000\n",
       "D1821-07     0.562000   0.048000     0.352000               0.038000\n",
       "D1853-08     0.614000   0.064000     0.294000               0.028000\n",
       "\n",
       "[225 rows x 4 columns]"
      ]
     },
     "execution_count": 82,
     "metadata": {},
     "output_type": "execute_result"
    }
   ],
   "source": [
    "y"
   ]
  },
  {
   "cell_type": "code",
   "execution_count": 22,
   "metadata": {},
   "outputs": [],
   "source": [
    "    for i in range(y.shape[0]):\n",
    "        yseries.append(list(y.iloc[i]))\n",
    "    y = np.array(yseries)"
   ]
  },
  {
   "cell_type": "code",
   "execution_count": 25,
   "metadata": {},
   "outputs": [
    {
     "data": {
      "text/plain": [
       "array([[0.563     , 0.059     , 0.308     , 0.07      ],\n",
       "       [0.564     , 0.065     , 0.348     , 0.023     ],\n",
       "       [0.601     , 0.055     , 0.321     , 0.023     ],\n",
       "       [0.663     , 0.048     , 0.267     , 0.022     ],\n",
       "       [0.506     , 0.053     , 0.428     , 0.013     ],\n",
       "       [0.4       , 0.045     , 0.475     , 0.08      ],\n",
       "       [0.719     , 0.071     , 0.182     , 0.028     ],\n",
       "       [0.658     , 0.053     , 0.254     , 0.035     ],\n",
       "       [0.642     , 0.07      , 0.272     , 0.016     ],\n",
       "       [0.594     , 0.055     , 0.309     , 0.042     ],\n",
       "       [0.534     , 0.074     , 0.362     , 0.03      ],\n",
       "       [0.599     , 0.053     , 0.3       , 0.048     ],\n",
       "       [0.481     , 0.078     , 0.417     , 0.024     ],\n",
       "       [0.832     , 0.044     , 0.099     , 0.025     ],\n",
       "       [0.594     , 0.064     , 0.325     , 0.017     ],\n",
       "       [0.542     , 0.057     , 0.32      , 0.081     ],\n",
       "       [0.416     , 0.048     , 0.524     , 0.012     ],\n",
       "       [0.428     , 0.066     , 0.489     , 0.017     ],\n",
       "       [0.537     , 0.055     , 0.396     , 0.012     ],\n",
       "       [0.665     , 0.059     , 0.23      , 0.046     ],\n",
       "       [0.598     , 0.071     , 0.319     , 0.012     ],\n",
       "       [0.49      , 0.055     , 0.436     , 0.019     ],\n",
       "       [0.483     , 0.052     , 0.422     , 0.043     ],\n",
       "       [0.57      , 0.052     , 0.331     , 0.047     ],\n",
       "       [0.536     , 0.051     , 0.396     , 0.017     ],\n",
       "       [0.602     , 0.098     , 0.278     , 0.022     ],\n",
       "       [0.556     , 0.088     , 0.332     , 0.024     ],\n",
       "       [0.47      , 0.07      , 0.442     , 0.018     ],\n",
       "       [0.491     , 0.092     , 0.388     , 0.029     ],\n",
       "       [0.486     , 0.063     , 0.423     , 0.028     ],\n",
       "       [0.407     , 0.092     , 0.454     , 0.047     ],\n",
       "       [0.665     , 0.078     , 0.252     , 0.005     ],\n",
       "       [0.647     , 0.054     , 0.283     , 0.016     ],\n",
       "       [0.542     , 0.066     , 0.382     , 0.01      ],\n",
       "       [0.602     , 0.062     , 0.323     , 0.013     ],\n",
       "       [0.375     , 0.05      , 0.469     , 0.106     ],\n",
       "       [0.566     , 0.048     , 0.337     , 0.049     ],\n",
       "       [0.462     , 0.094     , 0.352     , 0.092     ],\n",
       "       [0.644     , 0.082     , 0.246     , 0.028     ],\n",
       "       [0.601     , 0.057     , 0.328     , 0.014     ],\n",
       "       [0.658     , 0.077     , 0.265     , 0.        ],\n",
       "       [0.458     , 0.096     , 0.433     , 0.013     ],\n",
       "       [0.663     , 0.064     , 0.26      , 0.013     ],\n",
       "       [0.669     , 0.065     , 0.24      , 0.026     ],\n",
       "       [0.559     , 0.083     , 0.309     , 0.049     ],\n",
       "       [0.552     , 0.042     , 0.355     , 0.051     ],\n",
       "       [0.619     , 0.047     , 0.294     , 0.04      ],\n",
       "       [0.624     , 0.045     , 0.303     , 0.028     ],\n",
       "       [0.564     , 0.066     , 0.354     , 0.016     ],\n",
       "       [0.49868421, 0.09473684, 0.39473684, 0.01184211],\n",
       "       [0.54193548, 0.1       , 0.32258065, 0.03548387],\n",
       "       [0.57402597, 0.07532468, 0.32467532, 0.02597403],\n",
       "       [0.6       , 0.07258065, 0.30645161, 0.02096774],\n",
       "       [0.72727273, 0.06969697, 0.1969697 , 0.00606061],\n",
       "       [0.567     , 0.053     , 0.349     , 0.031     ],\n",
       "       [0.543     , 0.047     , 0.386     , 0.024     ],\n",
       "       [0.53      , 0.065     , 0.375     , 0.03      ],\n",
       "       [0.528     , 0.092     , 0.349     , 0.031     ],\n",
       "       [0.695     , 0.054     , 0.243     , 0.008     ],\n",
       "       [0.614     , 0.046     , 0.315     , 0.025     ],\n",
       "       [0.659     , 0.086     , 0.199     , 0.056     ],\n",
       "       [0.532     , 0.123     , 0.277     , 0.068     ],\n",
       "       [0.509     , 0.053     , 0.377     , 0.061     ],\n",
       "       [0.64285714, 0.08333333, 0.26190476, 0.01190476],\n",
       "       [0.61428571, 0.05714286, 0.3       , 0.02857143],\n",
       "       [0.76388889, 0.06944444, 0.15277778, 0.01388889],\n",
       "       [0.74324324, 0.08108108, 0.14864865, 0.02702703],\n",
       "       [0.80357143, 0.07142857, 0.125     , 0.        ],\n",
       "       [0.68669528, 0.07725322, 0.03433476, 0.20171674],\n",
       "       [0.72619048, 0.05952381, 0.21428571, 0.        ],\n",
       "       [0.66101695, 0.11864407, 0.20338983, 0.01694915],\n",
       "       [0.53333333, 0.06666667, 0.36666667, 0.03333333],\n",
       "       [0.66666667, 0.08333333, 0.2       , 0.05      ],\n",
       "       [0.72916667, 0.04166667, 0.16666667, 0.0625    ],\n",
       "       [0.72727273, 0.09090909, 0.13636364, 0.04545455],\n",
       "       [0.61      , 0.028     , 0.325     , 0.037     ],\n",
       "       [0.389     , 0.05      , 0.525     , 0.036     ],\n",
       "       [0.55      , 0.054     , 0.369     , 0.027     ],\n",
       "       [0.507     , 0.085     , 0.361     , 0.047     ],\n",
       "       [0.335     , 0.066     , 0.311     , 0.288     ],\n",
       "       [0.67      , 0.06      , 0.225     , 0.045     ],\n",
       "       [0.623     , 0.05      , 0.291     , 0.036     ],\n",
       "       [0.517     , 0.073     , 0.361     , 0.049     ],\n",
       "       [0.589     , 0.072     , 0.316     , 0.023     ],\n",
       "       [0.518     , 0.083     , 0.367     , 0.032     ],\n",
       "       [0.536     , 0.083     , 0.362     , 0.019     ],\n",
       "       [0.418     , 0.071     , 0.441     , 0.07      ],\n",
       "       [0.681     , 0.044     , 0.234     , 0.041     ],\n",
       "       [0.564     , 0.087     , 0.339     , 0.01      ],\n",
       "       [0.381     , 0.079     , 0.484     , 0.056     ],\n",
       "       [0.58      , 0.052     , 0.329     , 0.039     ],\n",
       "       [0.515     , 0.051     , 0.405     , 0.029     ],\n",
       "       [0.52      , 0.046     , 0.401     , 0.033     ],\n",
       "       [0.567     , 0.075     , 0.344     , 0.014     ],\n",
       "       [0.518     , 0.057     , 0.412     , 0.013     ],\n",
       "       [0.434     , 0.053     , 0.479     , 0.034     ],\n",
       "       [0.445     , 0.064     , 0.448     , 0.043     ],\n",
       "       [0.617     , 0.068     , 0.284     , 0.031     ],\n",
       "       [0.614     , 0.072     , 0.274     , 0.04      ],\n",
       "       [0.754     , 0.069     , 0.163     , 0.014     ],\n",
       "       [0.613     , 0.048     , 0.305     , 0.034     ],\n",
       "       [0.641     , 0.074     , 0.256     , 0.029     ],\n",
       "       [0.641     , 0.067     , 0.284     , 0.008     ],\n",
       "       [0.656     , 0.064     , 0.237     , 0.043     ],\n",
       "       [0.644     , 0.047     , 0.278     , 0.031     ],\n",
       "       [0.552     , 0.049     , 0.367     , 0.032     ],\n",
       "       [0.593     , 0.038     , 0.324     , 0.045     ],\n",
       "       [0.607     , 0.043     , 0.259     , 0.091     ],\n",
       "       [0.611     , 0.039     , 0.336     , 0.014     ],\n",
       "       [0.491     , 0.058     , 0.413     , 0.038     ],\n",
       "       [0.48      , 0.063     , 0.43      , 0.027     ],\n",
       "       [0.637     , 0.112     , 0.24      , 0.011     ],\n",
       "       [0.684     , 0.056     , 0.213     , 0.047     ],\n",
       "       [0.64224501, 0.07135538, 0.28639961, 0.        ],\n",
       "       [0.64224501, 0.07135538, 0.28639961, 0.        ],\n",
       "       [0.49926579, 0.09001468, 0.35697504, 0.05374449],\n",
       "       [0.63174045, 0.06846691, 0.29979264, 0.        ],\n",
       "       [0.3883858 , 0.06620679, 0.45578704, 0.08962037],\n",
       "       [0.44024251, 0.0810485 , 0.22104137, 0.25766762],\n",
       "       [0.55147059, 0.07647059, 0.35294118, 0.01911765],\n",
       "       [0.50869565, 0.11521739, 0.34782609, 0.02826087],\n",
       "       [0.61272727, 0.07454545, 0.29090909, 0.02181818],\n",
       "       [0.699     , 0.044     , 0.243     , 0.014     ],\n",
       "       [0.691     , 0.038     , 0.252     , 0.019     ],\n",
       "       [0.713     , 0.054     , 0.208     , 0.025     ],\n",
       "       [0.755     , 0.036     , 0.18      , 0.029     ],\n",
       "       [0.7015873 , 0.06349206, 0.22222222, 0.01269841],\n",
       "       [0.51458333, 0.0875    , 0.375     , 0.02291667],\n",
       "       [0.64918033, 0.05081967, 0.24590164, 0.05409836],\n",
       "       [0.60862069, 0.05      , 0.31034483, 0.03103448],\n",
       "       [0.611     , 0.055     , 0.296     , 0.038     ],\n",
       "       [0.614     , 0.061     , 0.286     , 0.039     ],\n",
       "       [0.71764706, 0.08235294, 0.18823529, 0.01176471],\n",
       "       [0.68      , 0.09333333, 0.22666667, 0.        ],\n",
       "       [0.564     , 0.032     , 0.337     , 0.067     ],\n",
       "       [0.575     , 0.082     , 0.319     , 0.024     ],\n",
       "       [0.6       , 0.109     , 0.27      , 0.021     ],\n",
       "       [0.61643836, 0.08219178, 0.28767123, 0.01369863],\n",
       "       [0.521     , 0.089     , 0.304     , 0.086     ],\n",
       "       [0.69333333, 0.04      , 0.21333333, 0.05333333],\n",
       "       [0.506     , 0.199     , 0.27      , 0.025     ],\n",
       "       [0.611     , 0.034     , 0.323     , 0.032     ],\n",
       "       [0.718     , 0.032     , 0.226     , 0.024     ],\n",
       "       [0.412     , 0.04      , 0.51      , 0.038     ],\n",
       "       [0.532     , 0.078     , 0.319     , 0.071     ],\n",
       "       [0.64      , 0.054     , 0.262     , 0.044     ],\n",
       "       [0.67      , 0.061     , 0.221     , 0.048     ],\n",
       "       [0.678     , 0.051     , 0.218     , 0.053     ],\n",
       "       [0.72      , 0.06      , 0.201     , 0.019     ],\n",
       "       [0.711     , 0.078     , 0.209     , 0.002     ],\n",
       "       [0.71      , 0.07      , 0.194     , 0.026     ],\n",
       "       [0.417     , 0.037     , 0.541     , 0.005     ],\n",
       "       [0.673     , 0.054     , 0.242     , 0.031     ],\n",
       "       [0.593     , 0.054     , 0.296     , 0.057     ],\n",
       "       [0.499     , 0.074     , 0.363     , 0.064     ],\n",
       "       [0.617     , 0.065     , 0.288     , 0.03      ],\n",
       "       [0.486     , 0.082     , 0.395     , 0.037     ],\n",
       "       [0.583     , 0.056     , 0.347     , 0.014     ],\n",
       "       [0.492     , 0.124     , 0.33      , 0.054     ],\n",
       "       [0.707     , 0.049     , 0.237     , 0.007     ],\n",
       "       [0.419     , 0.054     , 0.468     , 0.059     ],\n",
       "       [0.442     , 0.044     , 0.484     , 0.03      ],\n",
       "       [0.511     , 0.065     , 0.402     , 0.022     ],\n",
       "       [0.656     , 0.066     , 0.255     , 0.023     ],\n",
       "       [0.514     , 0.075     , 0.394     , 0.017     ],\n",
       "       [0.552     , 0.088     , 0.336     , 0.024     ],\n",
       "       [0.458     , 0.051     , 0.411     , 0.08      ],\n",
       "       [0.605     , 0.075     , 0.224     , 0.096     ],\n",
       "       [0.75      , 0.049     , 0.183     , 0.018     ],\n",
       "       [0.526     , 0.067     , 0.383     , 0.024     ],\n",
       "       [0.399     , 0.056     , 0.529     , 0.016     ],\n",
       "       [0.635     , 0.088     , 0.238     , 0.039     ],\n",
       "       [0.671     , 0.065     , 0.216     , 0.048     ],\n",
       "       [0.578     , 0.059     , 0.342     , 0.021     ],\n",
       "       [0.52      , 0.066     , 0.405     , 0.009     ],\n",
       "       [0.565     , 0.053     , 0.329     , 0.053     ],\n",
       "       [0.513     , 0.059     , 0.383     , 0.045     ],\n",
       "       [0.449     , 0.043     , 0.486     , 0.022     ],\n",
       "       [0.42      , 0.085     , 0.469     , 0.026     ],\n",
       "       [0.547     , 0.088     , 0.333     , 0.032     ],\n",
       "       [0.484     , 0.091     , 0.407     , 0.018     ],\n",
       "       [0.545     , 0.069     , 0.346     , 0.04      ],\n",
       "       [0.514     , 0.066     , 0.39      , 0.03      ],\n",
       "       [0.545     , 0.039     , 0.406     , 0.01      ],\n",
       "       [0.548     , 0.032     , 0.411     , 0.009     ],\n",
       "       [0.44      , 0.072     , 0.451     , 0.037     ],\n",
       "       [0.64320988, 0.11358025, 0.22469136, 0.01851852],\n",
       "       [0.675     , 0.11944444, 0.18888889, 0.01666667],\n",
       "       [0.579     , 0.05      , 0.335     , 0.036     ],\n",
       "       [0.49830508, 0.08135593, 0.40677966, 0.01355932],\n",
       "       [0.55      , 0.033     , 0.398     , 0.019     ],\n",
       "       [0.55625   , 0.08541667, 0.33333333, 0.025     ],\n",
       "       [0.60909091, 0.06545455, 0.30909091, 0.01636364],\n",
       "       [0.51323529, 0.10147059, 0.32352941, 0.06176471],\n",
       "       [0.49714286, 0.12285714, 0.37142857, 0.00857143],\n",
       "       [0.43793103, 0.06896552, 0.43448276, 0.05862069],\n",
       "       [0.58571429, 0.10714286, 0.26190476, 0.0452381 ],\n",
       "       [0.492     , 0.059     , 0.352     , 0.097     ],\n",
       "       [0.367     , 0.042     , 0.563     , 0.028     ],\n",
       "       [0.613     , 0.058     , 0.297     , 0.032     ],\n",
       "       [0.825     , 0.04      , 0.115     , 0.02      ],\n",
       "       [0.618     , 0.062     , 0.293     , 0.027     ],\n",
       "       [0.595     , 0.079     , 0.301     , 0.025     ],\n",
       "       [0.776     , 0.056     , 0.11      , 0.058     ],\n",
       "       [0.639     , 0.097     , 0.221     , 0.043     ],\n",
       "       [0.631     , 0.068     , 0.29      , 0.011     ],\n",
       "       [0.604     , 0.048     , 0.319     , 0.029     ],\n",
       "       [0.617     , 0.052     , 0.294     , 0.037     ],\n",
       "       [0.376     , 0.079     , 0.516     , 0.029     ],\n",
       "       [0.732     , 0.065     , 0.165     , 0.038     ],\n",
       "       [0.636     , 0.061     , 0.241     , 0.062     ],\n",
       "       [0.672     , 0.056     , 0.239     , 0.033     ],\n",
       "       [0.6097561 , 0.06585366, 0.31707317, 0.00731707],\n",
       "       [0.74814815, 0.08888889, 0.14074074, 0.02222222],\n",
       "       [0.841     , 0.061     , 0.091     , 0.007     ],\n",
       "       [0.527     , 0.124     , 0.313     , 0.036     ],\n",
       "       [0.72839506, 0.09876543, 0.14814815, 0.02469136],\n",
       "       [0.586     , 0.087     , 0.295     , 0.032     ],\n",
       "       [0.631     , 0.087     , 0.235     , 0.047     ],\n",
       "       [0.608     , 0.04      , 0.322     , 0.03      ],\n",
       "       [0.69777778, 0.06888889, 0.21111111, 0.02222222],\n",
       "       [0.536     , 0.048     , 0.366     , 0.05      ],\n",
       "       [0.704     , 0.085     , 0.188     , 0.023     ],\n",
       "       [0.562     , 0.048     , 0.352     , 0.038     ],\n",
       "       [0.614     , 0.064     , 0.294     , 0.028     ]])"
      ]
     },
     "execution_count": 25,
     "metadata": {},
     "output_type": "execute_result"
    }
   ],
   "source": [
    "y"
   ]
  },
  {
   "cell_type": "code",
   "execution_count": 29,
   "metadata": {},
   "outputs": [
    {
     "data": {
      "text/plain": [
       "'C:\\\\Users\\\\phiph\\\\Documents\\\\GitHub\\\\Deconvolution'"
      ]
     },
     "execution_count": 29,
     "metadata": {},
     "output_type": "execute_result"
    }
   ],
   "source": [
    "os.getcwd()"
   ]
  },
  {
   "cell_type": "code",
   "execution_count": 71,
   "metadata": {},
   "outputs": [],
   "source": [
    "celltypes_path = os.path.join(os.getcwd() +\"\\\\preprocessing\\\\Nov\\\\celltypes.txt\")"
   ]
  },
  {
   "cell_type": "code",
   "execution_count": 84,
   "metadata": {},
   "outputs": [],
   "source": [
    "celltypes = pd.read_table(celltypes_path, sep=\"\\t\")"
   ]
  },
  {
   "cell_type": "code",
   "execution_count": 85,
   "metadata": {},
   "outputs": [
    {
     "data": {
      "text/plain": [
       "Index(['Neutrophils', 'Monocytes', 'Lymphocytes', 'Basophils.Eosinophils'], dtype='object')"
      ]
     },
     "execution_count": 85,
     "metadata": {},
     "output_type": "execute_result"
    }
   ],
   "source": [
    "celltypes.columns"
   ]
  },
  {
   "cell_type": "code",
   "execution_count": 86,
   "metadata": {},
   "outputs": [
    {
     "ename": "TypeError",
     "evalue": "'type' object is not subscriptable",
     "output_type": "error",
     "traceback": [
      "\u001b[1;31m---------------------------------------------------------------------------\u001b[0m",
      "\u001b[1;31mTypeError\u001b[0m                                 Traceback (most recent call last)",
      "\u001b[1;32m<ipython-input-86-cc82cae8d0fc>\u001b[0m in \u001b[0;36m<module>\u001b[1;34m\u001b[0m\n\u001b[1;32m----> 1\u001b[1;33m \u001b[0mlist\u001b[0m\u001b[1;33m[\u001b[0m\u001b[0mcelltypes\u001b[0m\u001b[1;33m.\u001b[0m\u001b[0mcolumns\u001b[0m\u001b[1;33m]\u001b[0m\u001b[1;33m\u001b[0m\u001b[1;33m\u001b[0m\u001b[0m\n\u001b[0m",
      "\u001b[1;31mTypeError\u001b[0m: 'type' object is not subscriptable"
     ]
    }
   ],
   "source": [
    "list[celltypes.columns]"
   ]
  },
  {
   "cell_type": "code",
   "execution_count": 4,
   "metadata": {},
   "outputs": [
    {
     "data": {
      "text/plain": [
       "'C:\\\\Users\\\\phiph\\\\Documents\\\\GitHub\\\\Deconvolution\\\\preprocessing\\\\Nov'"
      ]
     },
     "execution_count": 4,
     "metadata": {},
     "output_type": "execute_result"
    }
   ],
   "source": [
    "import glob\n",
    "data_dir =os.path.join(os.getcwd() +\"\\\\preprocessing\\\\Nov\")\n",
    "pattern = \"*_samples.txt\"\n",
    "data_dir"
   ]
  },
  {
   "cell_type": "code",
   "execution_count": 99,
   "metadata": {},
   "outputs": [
    {
     "data": {
      "text/plain": [
       "['C:\\\\Users\\\\phiph\\\\Documents\\\\GitHub\\\\Deconvolution\\\\preprocessing\\\\Nov\\\\Nov1_test_labels.txt',\n",
       " 'C:\\\\Users\\\\phiph\\\\Documents\\\\GitHub\\\\Deconvolution\\\\preprocessing\\\\Nov\\\\Nov1_test_sample.txt']"
      ]
     },
     "execution_count": 99,
     "metadata": {},
     "output_type": "execute_result"
    }
   ],
   "source": [
    "glob.glob(data_dir + \"\\\\*Sample\")"
   ]
  },
  {
   "cell_type": "code",
   "execution_count": 9,
   "metadata": {},
   "outputs": [],
   "source": [
    "x = Scaden"
   ]
  },
  {
   "cell_type": "code",
   "execution_count": 10,
   "metadata": {},
   "outputs": [],
   "source": [
    "model_dir=\".\"\n",
    "input_path='Nov1_samples.txt'"
   ]
  },
  {
   "cell_type": "code",
   "execution_count": 11,
   "metadata": {},
   "outputs": [],
   "source": [
    "tf.reset_default_graph()\n",
    "sess = tf.Session() \n",
    "cdn256 = Scaden(sess=sess,\n",
    "                model_dir=model_dir + \"\\m256\",\n",
    "                model_name='m256')\n",
    "cdn256.hidden_units = architectures['m256'][0]\n",
    "cdn256.do_rates = architectures['m256'][1]\n"
   ]
  },
  {
   "cell_type": "code",
   "execution_count": 12,
   "metadata": {},
   "outputs": [],
   "source": [
    "sig_genes = pd.read_table(cdn256.model_dir + \"\\genes.txt\", index_col=0)\n",
    "cdn256.sig_genes = list(sig_genes['0'])\n",
    "labels = pd.read_table(cdn256.model_dir + \"\\celltypes.txt\", index_col=0)\n",
    "cdn256.labels = list(labels['0'])"
   ]
  },
  {
   "cell_type": "code",
   "execution_count": 13,
   "metadata": {},
   "outputs": [],
   "source": [
    "cdn256.build_model(input_path=input_path, train_datasets=[], mode=\"predict\")"
   ]
  },
  {
   "cell_type": "code",
   "execution_count": 11,
   "metadata": {},
   "outputs": [
    {
     "ename": "AttributeError",
     "evalue": "'Scaden' object has no attribute 'optimizer'",
     "output_type": "error",
     "traceback": [
      "\u001b[1;31m---------------------------------------------------------------------------\u001b[0m",
      "\u001b[1;31mAttributeError\u001b[0m                            Traceback (most recent call last)",
      "\u001b[1;32m<ipython-input-11-4390ca5cd07d>\u001b[0m in \u001b[0;36m<module>\u001b[1;34m\u001b[0m\n\u001b[1;32m----> 1\u001b[1;33m \u001b[0mgrad\u001b[0m \u001b[1;33m=\u001b[0m \u001b[0mcdn256\u001b[0m\u001b[1;33m.\u001b[0m\u001b[0moptimizer\u001b[0m\u001b[1;33m.\u001b[0m\u001b[0mcompute_gradents\u001b[0m\u001b[1;33m(\u001b[0m\u001b[0mcdn256\u001b[0m\u001b[1;33m.\u001b[0m\u001b[0mlogits\u001b[0m\u001b[1;33m,\u001b[0m \u001b[0mtf\u001b[0m\u001b[1;33m.\u001b[0m\u001b[0mtrainable_variables\u001b[0m\u001b[1;33m(\u001b[0m\u001b[1;33m)\u001b[0m\u001b[1;33m)\u001b[0m\u001b[1;33m\u001b[0m\u001b[1;33m\u001b[0m\u001b[0m\n\u001b[0m",
      "\u001b[1;31mAttributeError\u001b[0m: 'Scaden' object has no attribute 'optimizer'"
     ]
    }
   ],
   "source": []
  },
  {
   "cell_type": "code",
   "execution_count": 14,
   "metadata": {},
   "outputs": [],
   "source": [
    "cdn256.sess.run(tf.global_variables_initializer())"
   ]
  },
  {
   "cell_type": "code",
   "execution_count": 11,
   "metadata": {},
   "outputs": [],
   "source": [
    "cdn256.sess.run(tf.local_variables_initializer())\n",
    "\n",
    "cdn256.saver = tf.train.Saver()\n",
    "\n",
    "model = os.path.join(cdn256.model_dir, cdn256.model_name)\n",
    "cdn256.writer = tf.summary.FileWriter(model, cdn256.sess.graph)"
   ]
  },
  {
   "cell_type": "code",
   "execution_count": 12,
   "metadata": {},
   "outputs": [
    {
     "name": "stdout",
     "output_type": "stream",
     "text": [
      "model_checkpoint_path: \".\\\\m256\\\\m256-2000\"\n",
      "all_model_checkpoint_paths: \".\\\\m256\\\\m256-2000\"\n",
      "\n",
      "WARNING:tensorflow:From G:\\Users\\Philipp\\Anaconda3\\lib\\site-packages\\tensorflow\\python\\training\\saver.py:1276: checkpoint_exists (from tensorflow.python.training.checkpoint_management) is deprecated and will be removed in a future version.\n",
      "Instructions for updating:\n",
      "Use standard file APIs to check for files with this prefix.\n",
      "INFO:tensorflow:Restoring parameters from .\\m256\\m256-2000\n",
      "Model parameters restored successfully\n"
     ]
    }
   ],
   "source": [
    "cdn256.sess.run(cdn256.data_init_op, feed_dict={cdn256.x_data_ph: cdn256.x_data, cdn256.y_data_ph: cdn256.y_dummy})\n",
    "cdn256.load_weights(cdn256.model_dir)"
   ]
  },
  {
   "cell_type": "code",
   "execution_count": 21,
   "metadata": {},
   "outputs": [
    {
     "name": "stdout",
     "output_type": "stream",
     "text": [
      "Tensor(\"scaden_model/logits_layer/Softmax:0\", shape=(?, 4), dtype=float32)\n"
     ]
    }
   ],
   "source": [
    "print(cdn256.logits)"
   ]
  },
  {
   "cell_type": "code",
   "execution_count": 25,
   "metadata": {},
   "outputs": [
    {
     "ename": "FailedPreconditionError",
     "evalue": "2 root error(s) found.\n  (0) Failed precondition: Attempting to use uninitialized value scaden_model/dense1/kernel\n\t [[node scaden_model/dense1/kernel/read (defined at C:\\Users\\phiph\\Documents\\GitHub\\Deconvolution\\scaden.py:48) ]]\n  (1) Failed precondition: Attempting to use uninitialized value scaden_model/dense1/kernel\n\t [[node scaden_model/dense1/kernel/read (defined at C:\\Users\\phiph\\Documents\\GitHub\\Deconvolution\\scaden.py:48) ]]\n\t [[scaden_model/logits_layer/Softmax/_13]]\n0 successful operations.\n0 derived errors ignored.\n\nOriginal stack trace for 'scaden_model/dense1/kernel/read':\n  File \"G:\\Users\\Philipp\\Anaconda3\\lib\\runpy.py\", line 193, in _run_module_as_main\n    \"__main__\", mod_spec)\n  File \"G:\\Users\\Philipp\\Anaconda3\\lib\\runpy.py\", line 85, in _run_code\n    exec(code, run_globals)\n  File \"G:\\Users\\Philipp\\Anaconda3\\lib\\site-packages\\ipykernel_launcher.py\", line 16, in <module>\n    app.launch_new_instance()\n  File \"G:\\Users\\Philipp\\Anaconda3\\lib\\site-packages\\traitlets\\config\\application.py\", line 664, in launch_instance\n    app.start()\n  File \"G:\\Users\\Philipp\\Anaconda3\\lib\\site-packages\\ipykernel\\kernelapp.py\", line 563, in start\n    self.io_loop.start()\n  File \"G:\\Users\\Philipp\\Anaconda3\\lib\\site-packages\\tornado\\platform\\asyncio.py\", line 148, in start\n    self.asyncio_loop.run_forever()\n  File \"G:\\Users\\Philipp\\Anaconda3\\lib\\asyncio\\base_events.py\", line 534, in run_forever\n    self._run_once()\n  File \"G:\\Users\\Philipp\\Anaconda3\\lib\\asyncio\\base_events.py\", line 1771, in _run_once\n    handle._run()\n  File \"G:\\Users\\Philipp\\Anaconda3\\lib\\asyncio\\events.py\", line 88, in _run\n    self._context.run(self._callback, *self._args)\n  File \"G:\\Users\\Philipp\\Anaconda3\\lib\\site-packages\\tornado\\ioloop.py\", line 690, in <lambda>\n    lambda f: self._run_callback(functools.partial(callback, future))\n  File \"G:\\Users\\Philipp\\Anaconda3\\lib\\site-packages\\tornado\\ioloop.py\", line 743, in _run_callback\n    ret = callback()\n  File \"G:\\Users\\Philipp\\Anaconda3\\lib\\site-packages\\tornado\\gen.py\", line 787, in inner\n    self.run()\n  File \"G:\\Users\\Philipp\\Anaconda3\\lib\\site-packages\\tornado\\gen.py\", line 748, in run\n    yielded = self.gen.send(value)\n  File \"G:\\Users\\Philipp\\Anaconda3\\lib\\site-packages\\ipykernel\\kernelbase.py\", line 365, in process_one\n    yield gen.maybe_future(dispatch(*args))\n  File \"G:\\Users\\Philipp\\Anaconda3\\lib\\site-packages\\tornado\\gen.py\", line 209, in wrapper\n    yielded = next(result)\n  File \"G:\\Users\\Philipp\\Anaconda3\\lib\\site-packages\\ipykernel\\kernelbase.py\", line 272, in dispatch_shell\n    yield gen.maybe_future(handler(stream, idents, msg))\n  File \"G:\\Users\\Philipp\\Anaconda3\\lib\\site-packages\\tornado\\gen.py\", line 209, in wrapper\n    yielded = next(result)\n  File \"G:\\Users\\Philipp\\Anaconda3\\lib\\site-packages\\ipykernel\\kernelbase.py\", line 542, in execute_request\n    user_expressions, allow_stdin,\n  File \"G:\\Users\\Philipp\\Anaconda3\\lib\\site-packages\\tornado\\gen.py\", line 209, in wrapper\n    yielded = next(result)\n  File \"G:\\Users\\Philipp\\Anaconda3\\lib\\site-packages\\ipykernel\\ipkernel.py\", line 294, in do_execute\n    res = shell.run_cell(code, store_history=store_history, silent=silent)\n  File \"G:\\Users\\Philipp\\Anaconda3\\lib\\site-packages\\ipykernel\\zmqshell.py\", line 536, in run_cell\n    return super(ZMQInteractiveShell, self).run_cell(*args, **kwargs)\n  File \"G:\\Users\\Philipp\\Anaconda3\\lib\\site-packages\\IPython\\core\\interactiveshell.py\", line 2855, in run_cell\n    raw_cell, store_history, silent, shell_futures)\n  File \"G:\\Users\\Philipp\\Anaconda3\\lib\\site-packages\\IPython\\core\\interactiveshell.py\", line 2881, in _run_cell\n    return runner(coro)\n  File \"G:\\Users\\Philipp\\Anaconda3\\lib\\site-packages\\IPython\\core\\async_helpers.py\", line 68, in _pseudo_sync_runner\n    coro.send(None)\n  File \"G:\\Users\\Philipp\\Anaconda3\\lib\\site-packages\\IPython\\core\\interactiveshell.py\", line 3058, in run_cell_async\n    interactivity=interactivity, compiler=compiler, result=result)\n  File \"G:\\Users\\Philipp\\Anaconda3\\lib\\site-packages\\IPython\\core\\interactiveshell.py\", line 3249, in run_ast_nodes\n    if (await self.run_code(code, result,  async_=asy)):\n  File \"G:\\Users\\Philipp\\Anaconda3\\lib\\site-packages\\IPython\\core\\interactiveshell.py\", line 3326, in run_code\n    exec(code_obj, self.user_global_ns, self.user_ns)\n  File \"<ipython-input-19-a680721f2b7d>\", line 1, in <module>\n    cdn256.build_model(input_path=input_path, train_datasets=[], mode=\"predict\")\n  File \"C:\\Users\\phiph\\Documents\\GitHub\\Deconvolution\\scaden.py\", line 240, in build_model\n    self.logits = self.model_fn(X=self.x, n_classes=self.n_classes)\n  File \"C:\\Users\\phiph\\Documents\\GitHub\\Deconvolution\\scaden.py\", line 48, in model_fn\n    layer1 = tf.layers.dense(X, units=self.hidden_units[0], activation=activation , name=\"dense1\")\n  File \"G:\\Users\\Philipp\\Anaconda3\\lib\\site-packages\\tensorflow\\python\\util\\deprecation.py\", line 324, in new_func\n    return func(*args, **kwargs)\n  File \"G:\\Users\\Philipp\\Anaconda3\\lib\\site-packages\\tensorflow\\python\\layers\\core.py\", line 188, in dense\n    return layer.apply(inputs)\n  File \"G:\\Users\\Philipp\\Anaconda3\\lib\\site-packages\\tensorflow\\python\\keras\\engine\\base_layer.py\", line 1479, in apply\n    return self.__call__(inputs, *args, **kwargs)\n  File \"G:\\Users\\Philipp\\Anaconda3\\lib\\site-packages\\tensorflow\\python\\layers\\base.py\", line 537, in __call__\n    outputs = super(Layer, self).__call__(inputs, *args, **kwargs)\n  File \"G:\\Users\\Philipp\\Anaconda3\\lib\\site-packages\\tensorflow\\python\\keras\\engine\\base_layer.py\", line 591, in __call__\n    self._maybe_build(inputs)\n  File \"G:\\Users\\Philipp\\Anaconda3\\lib\\site-packages\\tensorflow\\python\\keras\\engine\\base_layer.py\", line 1881, in _maybe_build\n    self.build(input_shapes)\n  File \"G:\\Users\\Philipp\\Anaconda3\\lib\\site-packages\\tensorflow\\python\\keras\\layers\\core.py\", line 1017, in build\n    trainable=True)\n  File \"G:\\Users\\Philipp\\Anaconda3\\lib\\site-packages\\tensorflow\\python\\layers\\base.py\", line 450, in add_weight\n    **kwargs)\n  File \"G:\\Users\\Philipp\\Anaconda3\\lib\\site-packages\\tensorflow\\python\\keras\\engine\\base_layer.py\", line 384, in add_weight\n    aggregation=aggregation)\n  File \"G:\\Users\\Philipp\\Anaconda3\\lib\\site-packages\\tensorflow\\python\\training\\tracking\\base.py\", line 663, in _add_variable_with_custom_getter\n    **kwargs_for_getter)\n  File \"G:\\Users\\Philipp\\Anaconda3\\lib\\site-packages\\tensorflow\\python\\ops\\variable_scope.py\", line 1496, in get_variable\n    aggregation=aggregation)\n  File \"G:\\Users\\Philipp\\Anaconda3\\lib\\site-packages\\tensorflow\\python\\ops\\variable_scope.py\", line 1239, in get_variable\n    aggregation=aggregation)\n  File \"G:\\Users\\Philipp\\Anaconda3\\lib\\site-packages\\tensorflow\\python\\ops\\variable_scope.py\", line 562, in get_variable\n    aggregation=aggregation)\n  File \"G:\\Users\\Philipp\\Anaconda3\\lib\\site-packages\\tensorflow\\python\\ops\\variable_scope.py\", line 514, in _true_getter\n    aggregation=aggregation)\n  File \"G:\\Users\\Philipp\\Anaconda3\\lib\\site-packages\\tensorflow\\python\\ops\\variable_scope.py\", line 929, in _get_single_variable\n    aggregation=aggregation)\n  File \"G:\\Users\\Philipp\\Anaconda3\\lib\\site-packages\\tensorflow\\python\\ops\\variables.py\", line 259, in __call__\n    return cls._variable_v1_call(*args, **kwargs)\n  File \"G:\\Users\\Philipp\\Anaconda3\\lib\\site-packages\\tensorflow\\python\\ops\\variables.py\", line 220, in _variable_v1_call\n    shape=shape)\n  File \"G:\\Users\\Philipp\\Anaconda3\\lib\\site-packages\\tensorflow\\python\\ops\\variables.py\", line 198, in <lambda>\n    previous_getter = lambda **kwargs: default_variable_creator(None, **kwargs)\n  File \"G:\\Users\\Philipp\\Anaconda3\\lib\\site-packages\\tensorflow\\python\\ops\\variable_scope.py\", line 2511, in default_variable_creator\n    shape=shape)\n  File \"G:\\Users\\Philipp\\Anaconda3\\lib\\site-packages\\tensorflow\\python\\ops\\variables.py\", line 263, in __call__\n    return super(VariableMetaclass, cls).__call__(*args, **kwargs)\n  File \"G:\\Users\\Philipp\\Anaconda3\\lib\\site-packages\\tensorflow\\python\\ops\\variables.py\", line 1568, in __init__\n    shape=shape)\n  File \"G:\\Users\\Philipp\\Anaconda3\\lib\\site-packages\\tensorflow\\python\\ops\\variables.py\", line 1755, in _init_from_args\n    self._snapshot = array_ops.identity(self._variable, name=\"read\")\n  File \"G:\\Users\\Philipp\\Anaconda3\\lib\\site-packages\\tensorflow\\python\\util\\dispatch.py\", line 180, in wrapper\n    return target(*args, **kwargs)\n  File \"G:\\Users\\Philipp\\Anaconda3\\lib\\site-packages\\tensorflow\\python\\ops\\array_ops.py\", line 86, in identity\n    ret = gen_array_ops.identity(input, name=name)\n  File \"G:\\Users\\Philipp\\Anaconda3\\lib\\site-packages\\tensorflow\\python\\ops\\gen_array_ops.py\", line 4997, in identity\n    \"Identity\", input=input, name=name)\n  File \"G:\\Users\\Philipp\\Anaconda3\\lib\\site-packages\\tensorflow\\python\\framework\\op_def_library.py\", line 788, in _apply_op_helper\n    op_def=op_def)\n  File \"G:\\Users\\Philipp\\Anaconda3\\lib\\site-packages\\tensorflow\\python\\util\\deprecation.py\", line 507, in new_func\n    return func(*args, **kwargs)\n  File \"G:\\Users\\Philipp\\Anaconda3\\lib\\site-packages\\tensorflow\\python\\framework\\ops.py\", line 3616, in create_op\n    op_def=op_def)\n  File \"G:\\Users\\Philipp\\Anaconda3\\lib\\site-packages\\tensorflow\\python\\framework\\ops.py\", line 2005, in __init__\n    self._traceback = tf_stack.extract_stack()\n",
     "output_type": "error",
     "traceback": [
      "\u001b[1;31m---------------------------------------------------------------------------\u001b[0m",
      "\u001b[1;31mFailedPreconditionError\u001b[0m                   Traceback (most recent call last)",
      "\u001b[1;32mG:\\Users\\Philipp\\Anaconda3\\lib\\site-packages\\tensorflow\\python\\client\\session.py\u001b[0m in \u001b[0;36m_do_call\u001b[1;34m(self, fn, *args)\u001b[0m\n\u001b[0;32m   1355\u001b[0m     \u001b[1;32mtry\u001b[0m\u001b[1;33m:\u001b[0m\u001b[1;33m\u001b[0m\u001b[1;33m\u001b[0m\u001b[0m\n\u001b[1;32m-> 1356\u001b[1;33m       \u001b[1;32mreturn\u001b[0m \u001b[0mfn\u001b[0m\u001b[1;33m(\u001b[0m\u001b[1;33m*\u001b[0m\u001b[0margs\u001b[0m\u001b[1;33m)\u001b[0m\u001b[1;33m\u001b[0m\u001b[1;33m\u001b[0m\u001b[0m\n\u001b[0m\u001b[0;32m   1357\u001b[0m     \u001b[1;32mexcept\u001b[0m \u001b[0merrors\u001b[0m\u001b[1;33m.\u001b[0m\u001b[0mOpError\u001b[0m \u001b[1;32mas\u001b[0m \u001b[0me\u001b[0m\u001b[1;33m:\u001b[0m\u001b[1;33m\u001b[0m\u001b[1;33m\u001b[0m\u001b[0m\n",
      "\u001b[1;32mG:\\Users\\Philipp\\Anaconda3\\lib\\site-packages\\tensorflow\\python\\client\\session.py\u001b[0m in \u001b[0;36m_run_fn\u001b[1;34m(feed_dict, fetch_list, target_list, options, run_metadata)\u001b[0m\n\u001b[0;32m   1340\u001b[0m       return self._call_tf_sessionrun(\n\u001b[1;32m-> 1341\u001b[1;33m           options, feed_dict, fetch_list, target_list, run_metadata)\n\u001b[0m\u001b[0;32m   1342\u001b[0m \u001b[1;33m\u001b[0m\u001b[0m\n",
      "\u001b[1;32mG:\\Users\\Philipp\\Anaconda3\\lib\\site-packages\\tensorflow\\python\\client\\session.py\u001b[0m in \u001b[0;36m_call_tf_sessionrun\u001b[1;34m(self, options, feed_dict, fetch_list, target_list, run_metadata)\u001b[0m\n\u001b[0;32m   1428\u001b[0m         \u001b[0mself\u001b[0m\u001b[1;33m.\u001b[0m\u001b[0m_session\u001b[0m\u001b[1;33m,\u001b[0m \u001b[0moptions\u001b[0m\u001b[1;33m,\u001b[0m \u001b[0mfeed_dict\u001b[0m\u001b[1;33m,\u001b[0m \u001b[0mfetch_list\u001b[0m\u001b[1;33m,\u001b[0m \u001b[0mtarget_list\u001b[0m\u001b[1;33m,\u001b[0m\u001b[1;33m\u001b[0m\u001b[1;33m\u001b[0m\u001b[0m\n\u001b[1;32m-> 1429\u001b[1;33m         run_metadata)\n\u001b[0m\u001b[0;32m   1430\u001b[0m \u001b[1;33m\u001b[0m\u001b[0m\n",
      "\u001b[1;31mFailedPreconditionError\u001b[0m: 2 root error(s) found.\n  (0) Failed precondition: Attempting to use uninitialized value scaden_model/dense1/kernel\n\t [[{{node scaden_model/dense1/kernel/read}}]]\n  (1) Failed precondition: Attempting to use uninitialized value scaden_model/dense1/kernel\n\t [[{{node scaden_model/dense1/kernel/read}}]]\n\t [[scaden_model/logits_layer/Softmax/_13]]\n0 successful operations.\n0 derived errors ignored.",
      "\nDuring handling of the above exception, another exception occurred:\n",
      "\u001b[1;31mFailedPreconditionError\u001b[0m                   Traceback (most recent call last)",
      "\u001b[1;32m<ipython-input-25-7b64d3f21333>\u001b[0m in \u001b[0;36m<module>\u001b[1;34m\u001b[0m\n\u001b[1;32m----> 1\u001b[1;33m \u001b[0mpredictions\u001b[0m \u001b[1;33m=\u001b[0m \u001b[0mcdn256\u001b[0m\u001b[1;33m.\u001b[0m\u001b[0msess\u001b[0m\u001b[1;33m.\u001b[0m\u001b[0mrun\u001b[0m\u001b[1;33m(\u001b[0m\u001b[1;33m[\u001b[0m\u001b[0mcdn256\u001b[0m\u001b[1;33m.\u001b[0m\u001b[0mlogits\u001b[0m\u001b[1;33m]\u001b[0m\u001b[1;33m,\u001b[0m \u001b[0mfeed_dict\u001b[0m\u001b[1;33m=\u001b[0m\u001b[1;33m{\u001b[0m\u001b[0mcdn256\u001b[0m\u001b[1;33m.\u001b[0m\u001b[0mtraining_mode\u001b[0m\u001b[1;33m:\u001b[0m \u001b[1;32mFalse\u001b[0m\u001b[1;33m}\u001b[0m\u001b[1;33m)\u001b[0m\u001b[1;33m\u001b[0m\u001b[1;33m\u001b[0m\u001b[0m\n\u001b[0m",
      "\u001b[1;32mG:\\Users\\Philipp\\Anaconda3\\lib\\site-packages\\tensorflow\\python\\client\\session.py\u001b[0m in \u001b[0;36mrun\u001b[1;34m(self, fetches, feed_dict, options, run_metadata)\u001b[0m\n\u001b[0;32m    948\u001b[0m     \u001b[1;32mtry\u001b[0m\u001b[1;33m:\u001b[0m\u001b[1;33m\u001b[0m\u001b[1;33m\u001b[0m\u001b[0m\n\u001b[0;32m    949\u001b[0m       result = self._run(None, fetches, feed_dict, options_ptr,\n\u001b[1;32m--> 950\u001b[1;33m                          run_metadata_ptr)\n\u001b[0m\u001b[0;32m    951\u001b[0m       \u001b[1;32mif\u001b[0m \u001b[0mrun_metadata\u001b[0m\u001b[1;33m:\u001b[0m\u001b[1;33m\u001b[0m\u001b[1;33m\u001b[0m\u001b[0m\n\u001b[0;32m    952\u001b[0m         \u001b[0mproto_data\u001b[0m \u001b[1;33m=\u001b[0m \u001b[0mtf_session\u001b[0m\u001b[1;33m.\u001b[0m\u001b[0mTF_GetBuffer\u001b[0m\u001b[1;33m(\u001b[0m\u001b[0mrun_metadata_ptr\u001b[0m\u001b[1;33m)\u001b[0m\u001b[1;33m\u001b[0m\u001b[1;33m\u001b[0m\u001b[0m\n",
      "\u001b[1;32mG:\\Users\\Philipp\\Anaconda3\\lib\\site-packages\\tensorflow\\python\\client\\session.py\u001b[0m in \u001b[0;36m_run\u001b[1;34m(self, handle, fetches, feed_dict, options, run_metadata)\u001b[0m\n\u001b[0;32m   1171\u001b[0m     \u001b[1;32mif\u001b[0m \u001b[0mfinal_fetches\u001b[0m \u001b[1;32mor\u001b[0m \u001b[0mfinal_targets\u001b[0m \u001b[1;32mor\u001b[0m \u001b[1;33m(\u001b[0m\u001b[0mhandle\u001b[0m \u001b[1;32mand\u001b[0m \u001b[0mfeed_dict_tensor\u001b[0m\u001b[1;33m)\u001b[0m\u001b[1;33m:\u001b[0m\u001b[1;33m\u001b[0m\u001b[1;33m\u001b[0m\u001b[0m\n\u001b[0;32m   1172\u001b[0m       results = self._do_run(handle, final_targets, final_fetches,\n\u001b[1;32m-> 1173\u001b[1;33m                              feed_dict_tensor, options, run_metadata)\n\u001b[0m\u001b[0;32m   1174\u001b[0m     \u001b[1;32melse\u001b[0m\u001b[1;33m:\u001b[0m\u001b[1;33m\u001b[0m\u001b[1;33m\u001b[0m\u001b[0m\n\u001b[0;32m   1175\u001b[0m       \u001b[0mresults\u001b[0m \u001b[1;33m=\u001b[0m \u001b[1;33m[\u001b[0m\u001b[1;33m]\u001b[0m\u001b[1;33m\u001b[0m\u001b[1;33m\u001b[0m\u001b[0m\n",
      "\u001b[1;32mG:\\Users\\Philipp\\Anaconda3\\lib\\site-packages\\tensorflow\\python\\client\\session.py\u001b[0m in \u001b[0;36m_do_run\u001b[1;34m(self, handle, target_list, fetch_list, feed_dict, options, run_metadata)\u001b[0m\n\u001b[0;32m   1348\u001b[0m     \u001b[1;32mif\u001b[0m \u001b[0mhandle\u001b[0m \u001b[1;32mis\u001b[0m \u001b[1;32mNone\u001b[0m\u001b[1;33m:\u001b[0m\u001b[1;33m\u001b[0m\u001b[1;33m\u001b[0m\u001b[0m\n\u001b[0;32m   1349\u001b[0m       return self._do_call(_run_fn, feeds, fetches, targets, options,\n\u001b[1;32m-> 1350\u001b[1;33m                            run_metadata)\n\u001b[0m\u001b[0;32m   1351\u001b[0m     \u001b[1;32melse\u001b[0m\u001b[1;33m:\u001b[0m\u001b[1;33m\u001b[0m\u001b[1;33m\u001b[0m\u001b[0m\n\u001b[0;32m   1352\u001b[0m       \u001b[1;32mreturn\u001b[0m \u001b[0mself\u001b[0m\u001b[1;33m.\u001b[0m\u001b[0m_do_call\u001b[0m\u001b[1;33m(\u001b[0m\u001b[0m_prun_fn\u001b[0m\u001b[1;33m,\u001b[0m \u001b[0mhandle\u001b[0m\u001b[1;33m,\u001b[0m \u001b[0mfeeds\u001b[0m\u001b[1;33m,\u001b[0m \u001b[0mfetches\u001b[0m\u001b[1;33m)\u001b[0m\u001b[1;33m\u001b[0m\u001b[1;33m\u001b[0m\u001b[0m\n",
      "\u001b[1;32mG:\\Users\\Philipp\\Anaconda3\\lib\\site-packages\\tensorflow\\python\\client\\session.py\u001b[0m in \u001b[0;36m_do_call\u001b[1;34m(self, fn, *args)\u001b[0m\n\u001b[0;32m   1368\u001b[0m           \u001b[1;32mpass\u001b[0m\u001b[1;33m\u001b[0m\u001b[1;33m\u001b[0m\u001b[0m\n\u001b[0;32m   1369\u001b[0m       \u001b[0mmessage\u001b[0m \u001b[1;33m=\u001b[0m \u001b[0merror_interpolation\u001b[0m\u001b[1;33m.\u001b[0m\u001b[0minterpolate\u001b[0m\u001b[1;33m(\u001b[0m\u001b[0mmessage\u001b[0m\u001b[1;33m,\u001b[0m \u001b[0mself\u001b[0m\u001b[1;33m.\u001b[0m\u001b[0m_graph\u001b[0m\u001b[1;33m)\u001b[0m\u001b[1;33m\u001b[0m\u001b[1;33m\u001b[0m\u001b[0m\n\u001b[1;32m-> 1370\u001b[1;33m       \u001b[1;32mraise\u001b[0m \u001b[0mtype\u001b[0m\u001b[1;33m(\u001b[0m\u001b[0me\u001b[0m\u001b[1;33m)\u001b[0m\u001b[1;33m(\u001b[0m\u001b[0mnode_def\u001b[0m\u001b[1;33m,\u001b[0m \u001b[0mop\u001b[0m\u001b[1;33m,\u001b[0m \u001b[0mmessage\u001b[0m\u001b[1;33m)\u001b[0m\u001b[1;33m\u001b[0m\u001b[1;33m\u001b[0m\u001b[0m\n\u001b[0m\u001b[0;32m   1371\u001b[0m \u001b[1;33m\u001b[0m\u001b[0m\n\u001b[0;32m   1372\u001b[0m   \u001b[1;32mdef\u001b[0m \u001b[0m_extend_graph\u001b[0m\u001b[1;33m(\u001b[0m\u001b[0mself\u001b[0m\u001b[1;33m)\u001b[0m\u001b[1;33m:\u001b[0m\u001b[1;33m\u001b[0m\u001b[1;33m\u001b[0m\u001b[0m\n",
      "\u001b[1;31mFailedPreconditionError\u001b[0m: 2 root error(s) found.\n  (0) Failed precondition: Attempting to use uninitialized value scaden_model/dense1/kernel\n\t [[node scaden_model/dense1/kernel/read (defined at C:\\Users\\phiph\\Documents\\GitHub\\Deconvolution\\scaden.py:48) ]]\n  (1) Failed precondition: Attempting to use uninitialized value scaden_model/dense1/kernel\n\t [[node scaden_model/dense1/kernel/read (defined at C:\\Users\\phiph\\Documents\\GitHub\\Deconvolution\\scaden.py:48) ]]\n\t [[scaden_model/logits_layer/Softmax/_13]]\n0 successful operations.\n0 derived errors ignored.\n\nOriginal stack trace for 'scaden_model/dense1/kernel/read':\n  File \"G:\\Users\\Philipp\\Anaconda3\\lib\\runpy.py\", line 193, in _run_module_as_main\n    \"__main__\", mod_spec)\n  File \"G:\\Users\\Philipp\\Anaconda3\\lib\\runpy.py\", line 85, in _run_code\n    exec(code, run_globals)\n  File \"G:\\Users\\Philipp\\Anaconda3\\lib\\site-packages\\ipykernel_launcher.py\", line 16, in <module>\n    app.launch_new_instance()\n  File \"G:\\Users\\Philipp\\Anaconda3\\lib\\site-packages\\traitlets\\config\\application.py\", line 664, in launch_instance\n    app.start()\n  File \"G:\\Users\\Philipp\\Anaconda3\\lib\\site-packages\\ipykernel\\kernelapp.py\", line 563, in start\n    self.io_loop.start()\n  File \"G:\\Users\\Philipp\\Anaconda3\\lib\\site-packages\\tornado\\platform\\asyncio.py\", line 148, in start\n    self.asyncio_loop.run_forever()\n  File \"G:\\Users\\Philipp\\Anaconda3\\lib\\asyncio\\base_events.py\", line 534, in run_forever\n    self._run_once()\n  File \"G:\\Users\\Philipp\\Anaconda3\\lib\\asyncio\\base_events.py\", line 1771, in _run_once\n    handle._run()\n  File \"G:\\Users\\Philipp\\Anaconda3\\lib\\asyncio\\events.py\", line 88, in _run\n    self._context.run(self._callback, *self._args)\n  File \"G:\\Users\\Philipp\\Anaconda3\\lib\\site-packages\\tornado\\ioloop.py\", line 690, in <lambda>\n    lambda f: self._run_callback(functools.partial(callback, future))\n  File \"G:\\Users\\Philipp\\Anaconda3\\lib\\site-packages\\tornado\\ioloop.py\", line 743, in _run_callback\n    ret = callback()\n  File \"G:\\Users\\Philipp\\Anaconda3\\lib\\site-packages\\tornado\\gen.py\", line 787, in inner\n    self.run()\n  File \"G:\\Users\\Philipp\\Anaconda3\\lib\\site-packages\\tornado\\gen.py\", line 748, in run\n    yielded = self.gen.send(value)\n  File \"G:\\Users\\Philipp\\Anaconda3\\lib\\site-packages\\ipykernel\\kernelbase.py\", line 365, in process_one\n    yield gen.maybe_future(dispatch(*args))\n  File \"G:\\Users\\Philipp\\Anaconda3\\lib\\site-packages\\tornado\\gen.py\", line 209, in wrapper\n    yielded = next(result)\n  File \"G:\\Users\\Philipp\\Anaconda3\\lib\\site-packages\\ipykernel\\kernelbase.py\", line 272, in dispatch_shell\n    yield gen.maybe_future(handler(stream, idents, msg))\n  File \"G:\\Users\\Philipp\\Anaconda3\\lib\\site-packages\\tornado\\gen.py\", line 209, in wrapper\n    yielded = next(result)\n  File \"G:\\Users\\Philipp\\Anaconda3\\lib\\site-packages\\ipykernel\\kernelbase.py\", line 542, in execute_request\n    user_expressions, allow_stdin,\n  File \"G:\\Users\\Philipp\\Anaconda3\\lib\\site-packages\\tornado\\gen.py\", line 209, in wrapper\n    yielded = next(result)\n  File \"G:\\Users\\Philipp\\Anaconda3\\lib\\site-packages\\ipykernel\\ipkernel.py\", line 294, in do_execute\n    res = shell.run_cell(code, store_history=store_history, silent=silent)\n  File \"G:\\Users\\Philipp\\Anaconda3\\lib\\site-packages\\ipykernel\\zmqshell.py\", line 536, in run_cell\n    return super(ZMQInteractiveShell, self).run_cell(*args, **kwargs)\n  File \"G:\\Users\\Philipp\\Anaconda3\\lib\\site-packages\\IPython\\core\\interactiveshell.py\", line 2855, in run_cell\n    raw_cell, store_history, silent, shell_futures)\n  File \"G:\\Users\\Philipp\\Anaconda3\\lib\\site-packages\\IPython\\core\\interactiveshell.py\", line 2881, in _run_cell\n    return runner(coro)\n  File \"G:\\Users\\Philipp\\Anaconda3\\lib\\site-packages\\IPython\\core\\async_helpers.py\", line 68, in _pseudo_sync_runner\n    coro.send(None)\n  File \"G:\\Users\\Philipp\\Anaconda3\\lib\\site-packages\\IPython\\core\\interactiveshell.py\", line 3058, in run_cell_async\n    interactivity=interactivity, compiler=compiler, result=result)\n  File \"G:\\Users\\Philipp\\Anaconda3\\lib\\site-packages\\IPython\\core\\interactiveshell.py\", line 3249, in run_ast_nodes\n    if (await self.run_code(code, result,  async_=asy)):\n  File \"G:\\Users\\Philipp\\Anaconda3\\lib\\site-packages\\IPython\\core\\interactiveshell.py\", line 3326, in run_code\n    exec(code_obj, self.user_global_ns, self.user_ns)\n  File \"<ipython-input-19-a680721f2b7d>\", line 1, in <module>\n    cdn256.build_model(input_path=input_path, train_datasets=[], mode=\"predict\")\n  File \"C:\\Users\\phiph\\Documents\\GitHub\\Deconvolution\\scaden.py\", line 240, in build_model\n    self.logits = self.model_fn(X=self.x, n_classes=self.n_classes)\n  File \"C:\\Users\\phiph\\Documents\\GitHub\\Deconvolution\\scaden.py\", line 48, in model_fn\n    layer1 = tf.layers.dense(X, units=self.hidden_units[0], activation=activation , name=\"dense1\")\n  File \"G:\\Users\\Philipp\\Anaconda3\\lib\\site-packages\\tensorflow\\python\\util\\deprecation.py\", line 324, in new_func\n    return func(*args, **kwargs)\n  File \"G:\\Users\\Philipp\\Anaconda3\\lib\\site-packages\\tensorflow\\python\\layers\\core.py\", line 188, in dense\n    return layer.apply(inputs)\n  File \"G:\\Users\\Philipp\\Anaconda3\\lib\\site-packages\\tensorflow\\python\\keras\\engine\\base_layer.py\", line 1479, in apply\n    return self.__call__(inputs, *args, **kwargs)\n  File \"G:\\Users\\Philipp\\Anaconda3\\lib\\site-packages\\tensorflow\\python\\layers\\base.py\", line 537, in __call__\n    outputs = super(Layer, self).__call__(inputs, *args, **kwargs)\n  File \"G:\\Users\\Philipp\\Anaconda3\\lib\\site-packages\\tensorflow\\python\\keras\\engine\\base_layer.py\", line 591, in __call__\n    self._maybe_build(inputs)\n  File \"G:\\Users\\Philipp\\Anaconda3\\lib\\site-packages\\tensorflow\\python\\keras\\engine\\base_layer.py\", line 1881, in _maybe_build\n    self.build(input_shapes)\n  File \"G:\\Users\\Philipp\\Anaconda3\\lib\\site-packages\\tensorflow\\python\\keras\\layers\\core.py\", line 1017, in build\n    trainable=True)\n  File \"G:\\Users\\Philipp\\Anaconda3\\lib\\site-packages\\tensorflow\\python\\layers\\base.py\", line 450, in add_weight\n    **kwargs)\n  File \"G:\\Users\\Philipp\\Anaconda3\\lib\\site-packages\\tensorflow\\python\\keras\\engine\\base_layer.py\", line 384, in add_weight\n    aggregation=aggregation)\n  File \"G:\\Users\\Philipp\\Anaconda3\\lib\\site-packages\\tensorflow\\python\\training\\tracking\\base.py\", line 663, in _add_variable_with_custom_getter\n    **kwargs_for_getter)\n  File \"G:\\Users\\Philipp\\Anaconda3\\lib\\site-packages\\tensorflow\\python\\ops\\variable_scope.py\", line 1496, in get_variable\n    aggregation=aggregation)\n  File \"G:\\Users\\Philipp\\Anaconda3\\lib\\site-packages\\tensorflow\\python\\ops\\variable_scope.py\", line 1239, in get_variable\n    aggregation=aggregation)\n  File \"G:\\Users\\Philipp\\Anaconda3\\lib\\site-packages\\tensorflow\\python\\ops\\variable_scope.py\", line 562, in get_variable\n    aggregation=aggregation)\n  File \"G:\\Users\\Philipp\\Anaconda3\\lib\\site-packages\\tensorflow\\python\\ops\\variable_scope.py\", line 514, in _true_getter\n    aggregation=aggregation)\n  File \"G:\\Users\\Philipp\\Anaconda3\\lib\\site-packages\\tensorflow\\python\\ops\\variable_scope.py\", line 929, in _get_single_variable\n    aggregation=aggregation)\n  File \"G:\\Users\\Philipp\\Anaconda3\\lib\\site-packages\\tensorflow\\python\\ops\\variables.py\", line 259, in __call__\n    return cls._variable_v1_call(*args, **kwargs)\n  File \"G:\\Users\\Philipp\\Anaconda3\\lib\\site-packages\\tensorflow\\python\\ops\\variables.py\", line 220, in _variable_v1_call\n    shape=shape)\n  File \"G:\\Users\\Philipp\\Anaconda3\\lib\\site-packages\\tensorflow\\python\\ops\\variables.py\", line 198, in <lambda>\n    previous_getter = lambda **kwargs: default_variable_creator(None, **kwargs)\n  File \"G:\\Users\\Philipp\\Anaconda3\\lib\\site-packages\\tensorflow\\python\\ops\\variable_scope.py\", line 2511, in default_variable_creator\n    shape=shape)\n  File \"G:\\Users\\Philipp\\Anaconda3\\lib\\site-packages\\tensorflow\\python\\ops\\variables.py\", line 263, in __call__\n    return super(VariableMetaclass, cls).__call__(*args, **kwargs)\n  File \"G:\\Users\\Philipp\\Anaconda3\\lib\\site-packages\\tensorflow\\python\\ops\\variables.py\", line 1568, in __init__\n    shape=shape)\n  File \"G:\\Users\\Philipp\\Anaconda3\\lib\\site-packages\\tensorflow\\python\\ops\\variables.py\", line 1755, in _init_from_args\n    self._snapshot = array_ops.identity(self._variable, name=\"read\")\n  File \"G:\\Users\\Philipp\\Anaconda3\\lib\\site-packages\\tensorflow\\python\\util\\dispatch.py\", line 180, in wrapper\n    return target(*args, **kwargs)\n  File \"G:\\Users\\Philipp\\Anaconda3\\lib\\site-packages\\tensorflow\\python\\ops\\array_ops.py\", line 86, in identity\n    ret = gen_array_ops.identity(input, name=name)\n  File \"G:\\Users\\Philipp\\Anaconda3\\lib\\site-packages\\tensorflow\\python\\ops\\gen_array_ops.py\", line 4997, in identity\n    \"Identity\", input=input, name=name)\n  File \"G:\\Users\\Philipp\\Anaconda3\\lib\\site-packages\\tensorflow\\python\\framework\\op_def_library.py\", line 788, in _apply_op_helper\n    op_def=op_def)\n  File \"G:\\Users\\Philipp\\Anaconda3\\lib\\site-packages\\tensorflow\\python\\util\\deprecation.py\", line 507, in new_func\n    return func(*args, **kwargs)\n  File \"G:\\Users\\Philipp\\Anaconda3\\lib\\site-packages\\tensorflow\\python\\framework\\ops.py\", line 3616, in create_op\n    op_def=op_def)\n  File \"G:\\Users\\Philipp\\Anaconda3\\lib\\site-packages\\tensorflow\\python\\framework\\ops.py\", line 2005, in __init__\n    self._traceback = tf_stack.extract_stack()\n"
     ]
    }
   ],
   "source": [
    "predictions = cdn256.sess.run([cdn256.logits], feed_dict={cdn256.training_mode: False})"
   ]
  },
  {
   "cell_type": "code",
   "execution_count": 15,
   "metadata": {},
   "outputs": [
    {
     "ename": "NameError",
     "evalue": "name 'tape' is not defined",
     "output_type": "error",
     "traceback": [
      "\u001b[1;31m---------------------------------------------------------------------------\u001b[0m",
      "\u001b[1;31mNameError\u001b[0m                                 Traceback (most recent call last)",
      "\u001b[1;32m<ipython-input-15-db0ff0149d25>\u001b[0m in \u001b[0;36m<module>\u001b[1;34m\u001b[0m\n\u001b[1;32m----> 1\u001b[1;33m \u001b[0mgrads\u001b[0m \u001b[1;33m=\u001b[0m \u001b[0mtape\u001b[0m\u001b[1;33m.\u001b[0m\u001b[0mgradient\u001b[0m\u001b[1;33m(\u001b[0m\u001b[0mpredictions\u001b[0m\u001b[1;33m[\u001b[0m\u001b[1;36m0\u001b[0m\u001b[1;33m]\u001b[0m\u001b[1;33m,\u001b[0m\u001b[0mcdn256\u001b[0m\u001b[1;33m.\u001b[0m\u001b[0mx\u001b[0m\u001b[1;33m)\u001b[0m\u001b[1;33m\u001b[0m\u001b[1;33m\u001b[0m\u001b[0m\n\u001b[0m",
      "\u001b[1;31mNameError\u001b[0m: name 'tape' is not defined"
     ]
    }
   ],
   "source": [
    "  \n",
    "grads = tape.gradient(predictions[0],cdn256.x)"
   ]
  },
  {
   "cell_type": "code",
   "execution_count": 23,
   "metadata": {},
   "outputs": [
    {
     "name": "stdout",
     "output_type": "stream",
     "text": [
      "Tensor(\"Cast:0\", shape=(?, 13590), dtype=float32)\n"
     ]
    }
   ],
   "source": [
    "print(cdn256.x)"
   ]
  },
  {
   "cell_type": "code",
   "execution_count": 1,
   "metadata": {},
   "outputs": [
    {
     "ename": "NameError",
     "evalue": "name 'tf' is not defined",
     "output_type": "error",
     "traceback": [
      "\u001b[1;31m---------------------------------------------------------------------------\u001b[0m",
      "\u001b[1;31mNameError\u001b[0m                                 Traceback (most recent call last)",
      "\u001b[1;32m<ipython-input-1-72923bdfa82c>\u001b[0m in \u001b[0;36m<module>\u001b[1;34m\u001b[0m\n\u001b[1;32m----> 1\u001b[1;33m \u001b[0mgrad\u001b[0m \u001b[1;33m=\u001b[0m \u001b[0mtf\u001b[0m\u001b[1;33m.\u001b[0m\u001b[0mgradients\u001b[0m\u001b[1;33m(\u001b[0m\u001b[0mcdn256\u001b[0m\u001b[1;33m.\u001b[0m\u001b[0mlogits\u001b[0m\u001b[1;33m,\u001b[0m\u001b[0mcdn256\u001b[0m\u001b[1;33m.\u001b[0m\u001b[0mx\u001b[0m\u001b[1;33m)\u001b[0m\u001b[1;33m\u001b[0m\u001b[1;33m\u001b[0m\u001b[0m\n\u001b[0m\u001b[0;32m      2\u001b[0m \u001b[0mprint\u001b[0m\u001b[1;33m(\u001b[0m\u001b[0mgrad\u001b[0m\u001b[1;33m)\u001b[0m\u001b[1;33m\u001b[0m\u001b[1;33m\u001b[0m\u001b[0m\n",
      "\u001b[1;31mNameError\u001b[0m: name 'tf' is not defined"
     ]
    }
   ],
   "source": [
    "grad = tf.gradients(cdn256.logits,cdn256.x)\n",
    "print(grad)"
   ]
  },
  {
   "cell_type": "code",
   "execution_count": 76,
   "metadata": {},
   "outputs": [
    {
     "name": "stdout",
     "output_type": "stream",
     "text": [
      "Tensor(\"Sum_8:0\", shape=(), dtype=float32)\n"
     ]
    }
   ],
   "source": [
    "X = tf.Variable(tf.random_normal([3, 3]))\n",
    "X_sum = tf.reduce_sum(X)\n",
    "y = X_sum**2 + X_sum - 1\n",
    "\n",
    "grad = tf.gradients(y, X)\n",
    "print(X_sum)"
   ]
  },
  {
   "cell_type": "code",
   "execution_count": 16,
   "metadata": {},
   "outputs": [
    {
     "ename": "OutOfRangeError",
     "evalue": "2 root error(s) found.\n  (0) Out of range: End of sequence\n\t [[node IteratorGetNext (defined at C:\\Users\\phiph\\Documents\\GitHub\\Deconvolution\\scaden.py:229) ]]\n  (1) Out of range: End of sequence\n\t [[node IteratorGetNext (defined at C:\\Users\\phiph\\Documents\\GitHub\\Deconvolution\\scaden.py:229) ]]\n\t [[IteratorGetNext/_37]]\n0 successful operations.\n0 derived errors ignored.\n\nErrors may have originated from an input operation.\nInput Source operations connected to node IteratorGetNext:\n IteratorV2 (defined at C:\\Users\\phiph\\Documents\\GitHub\\Deconvolution\\scaden.py:228)\n\nInput Source operations connected to node IteratorGetNext:\n IteratorV2 (defined at C:\\Users\\phiph\\Documents\\GitHub\\Deconvolution\\scaden.py:228)\n\nOriginal stack trace for 'IteratorGetNext':\n  File \"G:\\Users\\Philipp\\Anaconda3\\lib\\runpy.py\", line 193, in _run_module_as_main\n    \"__main__\", mod_spec)\n  File \"G:\\Users\\Philipp\\Anaconda3\\lib\\runpy.py\", line 85, in _run_code\n    exec(code, run_globals)\n  File \"G:\\Users\\Philipp\\Anaconda3\\lib\\site-packages\\ipykernel_launcher.py\", line 16, in <module>\n    app.launch_new_instance()\n  File \"G:\\Users\\Philipp\\Anaconda3\\lib\\site-packages\\traitlets\\config\\application.py\", line 664, in launch_instance\n    app.start()\n  File \"G:\\Users\\Philipp\\Anaconda3\\lib\\site-packages\\ipykernel\\kernelapp.py\", line 563, in start\n    self.io_loop.start()\n  File \"G:\\Users\\Philipp\\Anaconda3\\lib\\site-packages\\tornado\\platform\\asyncio.py\", line 148, in start\n    self.asyncio_loop.run_forever()\n  File \"G:\\Users\\Philipp\\Anaconda3\\lib\\asyncio\\base_events.py\", line 534, in run_forever\n    self._run_once()\n  File \"G:\\Users\\Philipp\\Anaconda3\\lib\\asyncio\\base_events.py\", line 1771, in _run_once\n    handle._run()\n  File \"G:\\Users\\Philipp\\Anaconda3\\lib\\asyncio\\events.py\", line 88, in _run\n    self._context.run(self._callback, *self._args)\n  File \"G:\\Users\\Philipp\\Anaconda3\\lib\\site-packages\\tornado\\ioloop.py\", line 690, in <lambda>\n    lambda f: self._run_callback(functools.partial(callback, future))\n  File \"G:\\Users\\Philipp\\Anaconda3\\lib\\site-packages\\tornado\\ioloop.py\", line 743, in _run_callback\n    ret = callback()\n  File \"G:\\Users\\Philipp\\Anaconda3\\lib\\site-packages\\tornado\\gen.py\", line 787, in inner\n    self.run()\n  File \"G:\\Users\\Philipp\\Anaconda3\\lib\\site-packages\\tornado\\gen.py\", line 748, in run\n    yielded = self.gen.send(value)\n  File \"G:\\Users\\Philipp\\Anaconda3\\lib\\site-packages\\ipykernel\\kernelbase.py\", line 365, in process_one\n    yield gen.maybe_future(dispatch(*args))\n  File \"G:\\Users\\Philipp\\Anaconda3\\lib\\site-packages\\tornado\\gen.py\", line 209, in wrapper\n    yielded = next(result)\n  File \"G:\\Users\\Philipp\\Anaconda3\\lib\\site-packages\\ipykernel\\kernelbase.py\", line 272, in dispatch_shell\n    yield gen.maybe_future(handler(stream, idents, msg))\n  File \"G:\\Users\\Philipp\\Anaconda3\\lib\\site-packages\\tornado\\gen.py\", line 209, in wrapper\n    yielded = next(result)\n  File \"G:\\Users\\Philipp\\Anaconda3\\lib\\site-packages\\ipykernel\\kernelbase.py\", line 542, in execute_request\n    user_expressions, allow_stdin,\n  File \"G:\\Users\\Philipp\\Anaconda3\\lib\\site-packages\\tornado\\gen.py\", line 209, in wrapper\n    yielded = next(result)\n  File \"G:\\Users\\Philipp\\Anaconda3\\lib\\site-packages\\ipykernel\\ipkernel.py\", line 294, in do_execute\n    res = shell.run_cell(code, store_history=store_history, silent=silent)\n  File \"G:\\Users\\Philipp\\Anaconda3\\lib\\site-packages\\ipykernel\\zmqshell.py\", line 536, in run_cell\n    return super(ZMQInteractiveShell, self).run_cell(*args, **kwargs)\n  File \"G:\\Users\\Philipp\\Anaconda3\\lib\\site-packages\\IPython\\core\\interactiveshell.py\", line 2855, in run_cell\n    raw_cell, store_history, silent, shell_futures)\n  File \"G:\\Users\\Philipp\\Anaconda3\\lib\\site-packages\\IPython\\core\\interactiveshell.py\", line 2881, in _run_cell\n    return runner(coro)\n  File \"G:\\Users\\Philipp\\Anaconda3\\lib\\site-packages\\IPython\\core\\async_helpers.py\", line 68, in _pseudo_sync_runner\n    coro.send(None)\n  File \"G:\\Users\\Philipp\\Anaconda3\\lib\\site-packages\\IPython\\core\\interactiveshell.py\", line 3058, in run_cell_async\n    interactivity=interactivity, compiler=compiler, result=result)\n  File \"G:\\Users\\Philipp\\Anaconda3\\lib\\site-packages\\IPython\\core\\interactiveshell.py\", line 3249, in run_ast_nodes\n    if (await self.run_code(code, result,  async_=asy)):\n  File \"G:\\Users\\Philipp\\Anaconda3\\lib\\site-packages\\IPython\\core\\interactiveshell.py\", line 3326, in run_code\n    exec(code_obj, self.user_global_ns, self.user_ns)\n  File \"<ipython-input-8-a680721f2b7d>\", line 1, in <module>\n    cdn256.build_model(input_path=input_path, train_datasets=[], mode=\"predict\")\n  File \"C:\\Users\\phiph\\Documents\\GitHub\\Deconvolution\\scaden.py\", line 229, in build_model\n    next_element = iter.get_next()\n  File \"G:\\Users\\Philipp\\Anaconda3\\lib\\site-packages\\tensorflow\\python\\data\\ops\\iterator_ops.py\", line 426, in get_next\n    output_shapes=self._structure._flat_shapes, name=name)\n  File \"G:\\Users\\Philipp\\Anaconda3\\lib\\site-packages\\tensorflow\\python\\ops\\gen_dataset_ops.py\", line 1974, in iterator_get_next\n    output_shapes=output_shapes, name=name)\n  File \"G:\\Users\\Philipp\\Anaconda3\\lib\\site-packages\\tensorflow\\python\\framework\\op_def_library.py\", line 788, in _apply_op_helper\n    op_def=op_def)\n  File \"G:\\Users\\Philipp\\Anaconda3\\lib\\site-packages\\tensorflow\\python\\util\\deprecation.py\", line 507, in new_func\n    return func(*args, **kwargs)\n  File \"G:\\Users\\Philipp\\Anaconda3\\lib\\site-packages\\tensorflow\\python\\framework\\ops.py\", line 3616, in create_op\n    op_def=op_def)\n  File \"G:\\Users\\Philipp\\Anaconda3\\lib\\site-packages\\tensorflow\\python\\framework\\ops.py\", line 2005, in __init__\n    self._traceback = tf_stack.extract_stack()\n",
     "output_type": "error",
     "traceback": [
      "\u001b[1;31m---------------------------------------------------------------------------\u001b[0m",
      "\u001b[1;31mOutOfRangeError\u001b[0m                           Traceback (most recent call last)",
      "\u001b[1;32mG:\\Users\\Philipp\\Anaconda3\\lib\\site-packages\\tensorflow\\python\\client\\session.py\u001b[0m in \u001b[0;36m_do_call\u001b[1;34m(self, fn, *args)\u001b[0m\n\u001b[0;32m   1355\u001b[0m     \u001b[1;32mtry\u001b[0m\u001b[1;33m:\u001b[0m\u001b[1;33m\u001b[0m\u001b[1;33m\u001b[0m\u001b[0m\n\u001b[1;32m-> 1356\u001b[1;33m       \u001b[1;32mreturn\u001b[0m \u001b[0mfn\u001b[0m\u001b[1;33m(\u001b[0m\u001b[1;33m*\u001b[0m\u001b[0margs\u001b[0m\u001b[1;33m)\u001b[0m\u001b[1;33m\u001b[0m\u001b[1;33m\u001b[0m\u001b[0m\n\u001b[0m\u001b[0;32m   1357\u001b[0m     \u001b[1;32mexcept\u001b[0m \u001b[0merrors\u001b[0m\u001b[1;33m.\u001b[0m\u001b[0mOpError\u001b[0m \u001b[1;32mas\u001b[0m \u001b[0me\u001b[0m\u001b[1;33m:\u001b[0m\u001b[1;33m\u001b[0m\u001b[1;33m\u001b[0m\u001b[0m\n",
      "\u001b[1;32mG:\\Users\\Philipp\\Anaconda3\\lib\\site-packages\\tensorflow\\python\\client\\session.py\u001b[0m in \u001b[0;36m_run_fn\u001b[1;34m(feed_dict, fetch_list, target_list, options, run_metadata)\u001b[0m\n\u001b[0;32m   1340\u001b[0m       return self._call_tf_sessionrun(\n\u001b[1;32m-> 1341\u001b[1;33m           options, feed_dict, fetch_list, target_list, run_metadata)\n\u001b[0m\u001b[0;32m   1342\u001b[0m \u001b[1;33m\u001b[0m\u001b[0m\n",
      "\u001b[1;32mG:\\Users\\Philipp\\Anaconda3\\lib\\site-packages\\tensorflow\\python\\client\\session.py\u001b[0m in \u001b[0;36m_call_tf_sessionrun\u001b[1;34m(self, options, feed_dict, fetch_list, target_list, run_metadata)\u001b[0m\n\u001b[0;32m   1428\u001b[0m         \u001b[0mself\u001b[0m\u001b[1;33m.\u001b[0m\u001b[0m_session\u001b[0m\u001b[1;33m,\u001b[0m \u001b[0moptions\u001b[0m\u001b[1;33m,\u001b[0m \u001b[0mfeed_dict\u001b[0m\u001b[1;33m,\u001b[0m \u001b[0mfetch_list\u001b[0m\u001b[1;33m,\u001b[0m \u001b[0mtarget_list\u001b[0m\u001b[1;33m,\u001b[0m\u001b[1;33m\u001b[0m\u001b[1;33m\u001b[0m\u001b[0m\n\u001b[1;32m-> 1429\u001b[1;33m         run_metadata)\n\u001b[0m\u001b[0;32m   1430\u001b[0m \u001b[1;33m\u001b[0m\u001b[0m\n",
      "\u001b[1;31mOutOfRangeError\u001b[0m: 2 root error(s) found.\n  (0) Out of range: End of sequence\n\t [[{{node IteratorGetNext}}]]\n  (1) Out of range: End of sequence\n\t [[{{node IteratorGetNext}}]]\n\t [[IteratorGetNext/_37]]\n0 successful operations.\n0 derived errors ignored.",
      "\nDuring handling of the above exception, another exception occurred:\n",
      "\u001b[1;31mOutOfRangeError\u001b[0m                           Traceback (most recent call last)",
      "\u001b[1;32m<ipython-input-16-0e3679d7a63e>\u001b[0m in \u001b[0;36m<module>\u001b[1;34m\u001b[0m\n\u001b[1;32m----> 1\u001b[1;33m \u001b[0mgradients_1\u001b[0m \u001b[1;33m=\u001b[0m \u001b[0mcdn256\u001b[0m\u001b[1;33m.\u001b[0m\u001b[0msess\u001b[0m\u001b[1;33m.\u001b[0m\u001b[0mrun\u001b[0m\u001b[1;33m(\u001b[0m\u001b[0mgrad\u001b[0m\u001b[1;33m)\u001b[0m\u001b[1;33m\u001b[0m\u001b[1;33m\u001b[0m\u001b[0m\n\u001b[0m\u001b[0;32m      2\u001b[0m \u001b[1;31m#grad_value = sess.run(grad)\u001b[0m\u001b[1;33m\u001b[0m\u001b[1;33m\u001b[0m\u001b[1;33m\u001b[0m\u001b[0m\n\u001b[0;32m      3\u001b[0m \u001b[0mprint\u001b[0m\u001b[1;33m(\u001b[0m\u001b[0mgradients_1\u001b[0m\u001b[1;33m)\u001b[0m\u001b[1;33m\u001b[0m\u001b[1;33m\u001b[0m\u001b[0m\n",
      "\u001b[1;32mG:\\Users\\Philipp\\Anaconda3\\lib\\site-packages\\tensorflow\\python\\client\\session.py\u001b[0m in \u001b[0;36mrun\u001b[1;34m(self, fetches, feed_dict, options, run_metadata)\u001b[0m\n\u001b[0;32m    948\u001b[0m     \u001b[1;32mtry\u001b[0m\u001b[1;33m:\u001b[0m\u001b[1;33m\u001b[0m\u001b[1;33m\u001b[0m\u001b[0m\n\u001b[0;32m    949\u001b[0m       result = self._run(None, fetches, feed_dict, options_ptr,\n\u001b[1;32m--> 950\u001b[1;33m                          run_metadata_ptr)\n\u001b[0m\u001b[0;32m    951\u001b[0m       \u001b[1;32mif\u001b[0m \u001b[0mrun_metadata\u001b[0m\u001b[1;33m:\u001b[0m\u001b[1;33m\u001b[0m\u001b[1;33m\u001b[0m\u001b[0m\n\u001b[0;32m    952\u001b[0m         \u001b[0mproto_data\u001b[0m \u001b[1;33m=\u001b[0m \u001b[0mtf_session\u001b[0m\u001b[1;33m.\u001b[0m\u001b[0mTF_GetBuffer\u001b[0m\u001b[1;33m(\u001b[0m\u001b[0mrun_metadata_ptr\u001b[0m\u001b[1;33m)\u001b[0m\u001b[1;33m\u001b[0m\u001b[1;33m\u001b[0m\u001b[0m\n",
      "\u001b[1;32mG:\\Users\\Philipp\\Anaconda3\\lib\\site-packages\\tensorflow\\python\\client\\session.py\u001b[0m in \u001b[0;36m_run\u001b[1;34m(self, handle, fetches, feed_dict, options, run_metadata)\u001b[0m\n\u001b[0;32m   1171\u001b[0m     \u001b[1;32mif\u001b[0m \u001b[0mfinal_fetches\u001b[0m \u001b[1;32mor\u001b[0m \u001b[0mfinal_targets\u001b[0m \u001b[1;32mor\u001b[0m \u001b[1;33m(\u001b[0m\u001b[0mhandle\u001b[0m \u001b[1;32mand\u001b[0m \u001b[0mfeed_dict_tensor\u001b[0m\u001b[1;33m)\u001b[0m\u001b[1;33m:\u001b[0m\u001b[1;33m\u001b[0m\u001b[1;33m\u001b[0m\u001b[0m\n\u001b[0;32m   1172\u001b[0m       results = self._do_run(handle, final_targets, final_fetches,\n\u001b[1;32m-> 1173\u001b[1;33m                              feed_dict_tensor, options, run_metadata)\n\u001b[0m\u001b[0;32m   1174\u001b[0m     \u001b[1;32melse\u001b[0m\u001b[1;33m:\u001b[0m\u001b[1;33m\u001b[0m\u001b[1;33m\u001b[0m\u001b[0m\n\u001b[0;32m   1175\u001b[0m       \u001b[0mresults\u001b[0m \u001b[1;33m=\u001b[0m \u001b[1;33m[\u001b[0m\u001b[1;33m]\u001b[0m\u001b[1;33m\u001b[0m\u001b[1;33m\u001b[0m\u001b[0m\n",
      "\u001b[1;32mG:\\Users\\Philipp\\Anaconda3\\lib\\site-packages\\tensorflow\\python\\client\\session.py\u001b[0m in \u001b[0;36m_do_run\u001b[1;34m(self, handle, target_list, fetch_list, feed_dict, options, run_metadata)\u001b[0m\n\u001b[0;32m   1348\u001b[0m     \u001b[1;32mif\u001b[0m \u001b[0mhandle\u001b[0m \u001b[1;32mis\u001b[0m \u001b[1;32mNone\u001b[0m\u001b[1;33m:\u001b[0m\u001b[1;33m\u001b[0m\u001b[1;33m\u001b[0m\u001b[0m\n\u001b[0;32m   1349\u001b[0m       return self._do_call(_run_fn, feeds, fetches, targets, options,\n\u001b[1;32m-> 1350\u001b[1;33m                            run_metadata)\n\u001b[0m\u001b[0;32m   1351\u001b[0m     \u001b[1;32melse\u001b[0m\u001b[1;33m:\u001b[0m\u001b[1;33m\u001b[0m\u001b[1;33m\u001b[0m\u001b[0m\n\u001b[0;32m   1352\u001b[0m       \u001b[1;32mreturn\u001b[0m \u001b[0mself\u001b[0m\u001b[1;33m.\u001b[0m\u001b[0m_do_call\u001b[0m\u001b[1;33m(\u001b[0m\u001b[0m_prun_fn\u001b[0m\u001b[1;33m,\u001b[0m \u001b[0mhandle\u001b[0m\u001b[1;33m,\u001b[0m \u001b[0mfeeds\u001b[0m\u001b[1;33m,\u001b[0m \u001b[0mfetches\u001b[0m\u001b[1;33m)\u001b[0m\u001b[1;33m\u001b[0m\u001b[1;33m\u001b[0m\u001b[0m\n",
      "\u001b[1;32mG:\\Users\\Philipp\\Anaconda3\\lib\\site-packages\\tensorflow\\python\\client\\session.py\u001b[0m in \u001b[0;36m_do_call\u001b[1;34m(self, fn, *args)\u001b[0m\n\u001b[0;32m   1368\u001b[0m           \u001b[1;32mpass\u001b[0m\u001b[1;33m\u001b[0m\u001b[1;33m\u001b[0m\u001b[0m\n\u001b[0;32m   1369\u001b[0m       \u001b[0mmessage\u001b[0m \u001b[1;33m=\u001b[0m \u001b[0merror_interpolation\u001b[0m\u001b[1;33m.\u001b[0m\u001b[0minterpolate\u001b[0m\u001b[1;33m(\u001b[0m\u001b[0mmessage\u001b[0m\u001b[1;33m,\u001b[0m \u001b[0mself\u001b[0m\u001b[1;33m.\u001b[0m\u001b[0m_graph\u001b[0m\u001b[1;33m)\u001b[0m\u001b[1;33m\u001b[0m\u001b[1;33m\u001b[0m\u001b[0m\n\u001b[1;32m-> 1370\u001b[1;33m       \u001b[1;32mraise\u001b[0m \u001b[0mtype\u001b[0m\u001b[1;33m(\u001b[0m\u001b[0me\u001b[0m\u001b[1;33m)\u001b[0m\u001b[1;33m(\u001b[0m\u001b[0mnode_def\u001b[0m\u001b[1;33m,\u001b[0m \u001b[0mop\u001b[0m\u001b[1;33m,\u001b[0m \u001b[0mmessage\u001b[0m\u001b[1;33m)\u001b[0m\u001b[1;33m\u001b[0m\u001b[1;33m\u001b[0m\u001b[0m\n\u001b[0m\u001b[0;32m   1371\u001b[0m \u001b[1;33m\u001b[0m\u001b[0m\n\u001b[0;32m   1372\u001b[0m   \u001b[1;32mdef\u001b[0m \u001b[0m_extend_graph\u001b[0m\u001b[1;33m(\u001b[0m\u001b[0mself\u001b[0m\u001b[1;33m)\u001b[0m\u001b[1;33m:\u001b[0m\u001b[1;33m\u001b[0m\u001b[1;33m\u001b[0m\u001b[0m\n",
      "\u001b[1;31mOutOfRangeError\u001b[0m: 2 root error(s) found.\n  (0) Out of range: End of sequence\n\t [[node IteratorGetNext (defined at C:\\Users\\phiph\\Documents\\GitHub\\Deconvolution\\scaden.py:229) ]]\n  (1) Out of range: End of sequence\n\t [[node IteratorGetNext (defined at C:\\Users\\phiph\\Documents\\GitHub\\Deconvolution\\scaden.py:229) ]]\n\t [[IteratorGetNext/_37]]\n0 successful operations.\n0 derived errors ignored.\n\nErrors may have originated from an input operation.\nInput Source operations connected to node IteratorGetNext:\n IteratorV2 (defined at C:\\Users\\phiph\\Documents\\GitHub\\Deconvolution\\scaden.py:228)\n\nInput Source operations connected to node IteratorGetNext:\n IteratorV2 (defined at C:\\Users\\phiph\\Documents\\GitHub\\Deconvolution\\scaden.py:228)\n\nOriginal stack trace for 'IteratorGetNext':\n  File \"G:\\Users\\Philipp\\Anaconda3\\lib\\runpy.py\", line 193, in _run_module_as_main\n    \"__main__\", mod_spec)\n  File \"G:\\Users\\Philipp\\Anaconda3\\lib\\runpy.py\", line 85, in _run_code\n    exec(code, run_globals)\n  File \"G:\\Users\\Philipp\\Anaconda3\\lib\\site-packages\\ipykernel_launcher.py\", line 16, in <module>\n    app.launch_new_instance()\n  File \"G:\\Users\\Philipp\\Anaconda3\\lib\\site-packages\\traitlets\\config\\application.py\", line 664, in launch_instance\n    app.start()\n  File \"G:\\Users\\Philipp\\Anaconda3\\lib\\site-packages\\ipykernel\\kernelapp.py\", line 563, in start\n    self.io_loop.start()\n  File \"G:\\Users\\Philipp\\Anaconda3\\lib\\site-packages\\tornado\\platform\\asyncio.py\", line 148, in start\n    self.asyncio_loop.run_forever()\n  File \"G:\\Users\\Philipp\\Anaconda3\\lib\\asyncio\\base_events.py\", line 534, in run_forever\n    self._run_once()\n  File \"G:\\Users\\Philipp\\Anaconda3\\lib\\asyncio\\base_events.py\", line 1771, in _run_once\n    handle._run()\n  File \"G:\\Users\\Philipp\\Anaconda3\\lib\\asyncio\\events.py\", line 88, in _run\n    self._context.run(self._callback, *self._args)\n  File \"G:\\Users\\Philipp\\Anaconda3\\lib\\site-packages\\tornado\\ioloop.py\", line 690, in <lambda>\n    lambda f: self._run_callback(functools.partial(callback, future))\n  File \"G:\\Users\\Philipp\\Anaconda3\\lib\\site-packages\\tornado\\ioloop.py\", line 743, in _run_callback\n    ret = callback()\n  File \"G:\\Users\\Philipp\\Anaconda3\\lib\\site-packages\\tornado\\gen.py\", line 787, in inner\n    self.run()\n  File \"G:\\Users\\Philipp\\Anaconda3\\lib\\site-packages\\tornado\\gen.py\", line 748, in run\n    yielded = self.gen.send(value)\n  File \"G:\\Users\\Philipp\\Anaconda3\\lib\\site-packages\\ipykernel\\kernelbase.py\", line 365, in process_one\n    yield gen.maybe_future(dispatch(*args))\n  File \"G:\\Users\\Philipp\\Anaconda3\\lib\\site-packages\\tornado\\gen.py\", line 209, in wrapper\n    yielded = next(result)\n  File \"G:\\Users\\Philipp\\Anaconda3\\lib\\site-packages\\ipykernel\\kernelbase.py\", line 272, in dispatch_shell\n    yield gen.maybe_future(handler(stream, idents, msg))\n  File \"G:\\Users\\Philipp\\Anaconda3\\lib\\site-packages\\tornado\\gen.py\", line 209, in wrapper\n    yielded = next(result)\n  File \"G:\\Users\\Philipp\\Anaconda3\\lib\\site-packages\\ipykernel\\kernelbase.py\", line 542, in execute_request\n    user_expressions, allow_stdin,\n  File \"G:\\Users\\Philipp\\Anaconda3\\lib\\site-packages\\tornado\\gen.py\", line 209, in wrapper\n    yielded = next(result)\n  File \"G:\\Users\\Philipp\\Anaconda3\\lib\\site-packages\\ipykernel\\ipkernel.py\", line 294, in do_execute\n    res = shell.run_cell(code, store_history=store_history, silent=silent)\n  File \"G:\\Users\\Philipp\\Anaconda3\\lib\\site-packages\\ipykernel\\zmqshell.py\", line 536, in run_cell\n    return super(ZMQInteractiveShell, self).run_cell(*args, **kwargs)\n  File \"G:\\Users\\Philipp\\Anaconda3\\lib\\site-packages\\IPython\\core\\interactiveshell.py\", line 2855, in run_cell\n    raw_cell, store_history, silent, shell_futures)\n  File \"G:\\Users\\Philipp\\Anaconda3\\lib\\site-packages\\IPython\\core\\interactiveshell.py\", line 2881, in _run_cell\n    return runner(coro)\n  File \"G:\\Users\\Philipp\\Anaconda3\\lib\\site-packages\\IPython\\core\\async_helpers.py\", line 68, in _pseudo_sync_runner\n    coro.send(None)\n  File \"G:\\Users\\Philipp\\Anaconda3\\lib\\site-packages\\IPython\\core\\interactiveshell.py\", line 3058, in run_cell_async\n    interactivity=interactivity, compiler=compiler, result=result)\n  File \"G:\\Users\\Philipp\\Anaconda3\\lib\\site-packages\\IPython\\core\\interactiveshell.py\", line 3249, in run_ast_nodes\n    if (await self.run_code(code, result,  async_=asy)):\n  File \"G:\\Users\\Philipp\\Anaconda3\\lib\\site-packages\\IPython\\core\\interactiveshell.py\", line 3326, in run_code\n    exec(code_obj, self.user_global_ns, self.user_ns)\n  File \"<ipython-input-8-a680721f2b7d>\", line 1, in <module>\n    cdn256.build_model(input_path=input_path, train_datasets=[], mode=\"predict\")\n  File \"C:\\Users\\phiph\\Documents\\GitHub\\Deconvolution\\scaden.py\", line 229, in build_model\n    next_element = iter.get_next()\n  File \"G:\\Users\\Philipp\\Anaconda3\\lib\\site-packages\\tensorflow\\python\\data\\ops\\iterator_ops.py\", line 426, in get_next\n    output_shapes=self._structure._flat_shapes, name=name)\n  File \"G:\\Users\\Philipp\\Anaconda3\\lib\\site-packages\\tensorflow\\python\\ops\\gen_dataset_ops.py\", line 1974, in iterator_get_next\n    output_shapes=output_shapes, name=name)\n  File \"G:\\Users\\Philipp\\Anaconda3\\lib\\site-packages\\tensorflow\\python\\framework\\op_def_library.py\", line 788, in _apply_op_helper\n    op_def=op_def)\n  File \"G:\\Users\\Philipp\\Anaconda3\\lib\\site-packages\\tensorflow\\python\\util\\deprecation.py\", line 507, in new_func\n    return func(*args, **kwargs)\n  File \"G:\\Users\\Philipp\\Anaconda3\\lib\\site-packages\\tensorflow\\python\\framework\\ops.py\", line 3616, in create_op\n    op_def=op_def)\n  File \"G:\\Users\\Philipp\\Anaconda3\\lib\\site-packages\\tensorflow\\python\\framework\\ops.py\", line 2005, in __init__\n    self._traceback = tf_stack.extract_stack()\n"
     ]
    }
   ],
   "source": [
    "\n",
    "gradients_1 = cdn256.sess.run(grad)\n",
    "#grad_value = sess.run(grad)\n",
    "print(gradients_1)"
   ]
  },
  {
   "cell_type": "code",
   "execution_count": 24,
   "metadata": {},
   "outputs": [
    {
     "ename": "NameError",
     "evalue": "name 'predictions' is not defined",
     "output_type": "error",
     "traceback": [
      "\u001b[1;31m---------------------------------------------------------------------------\u001b[0m",
      "\u001b[1;31mNameError\u001b[0m                                 Traceback (most recent call last)",
      "\u001b[1;32m<ipython-input-24-a1cf36b1f2b8>\u001b[0m in \u001b[0;36m<module>\u001b[1;34m\u001b[0m\n\u001b[1;32m----> 1\u001b[1;33m \u001b[0mprint\u001b[0m\u001b[1;33m(\u001b[0m\u001b[0mpredictions\u001b[0m\u001b[1;33m[\u001b[0m\u001b[1;36m0\u001b[0m\u001b[1;33m]\u001b[0m\u001b[1;33m)\u001b[0m\u001b[1;33m\u001b[0m\u001b[1;33m\u001b[0m\u001b[0m\n\u001b[0m",
      "\u001b[1;31mNameError\u001b[0m: name 'predictions' is not defined"
     ]
    }
   ],
   "source": [
    "print(predictions[0])"
   ]
  },
  {
   "cell_type": "code",
   "execution_count": 13,
   "metadata": {},
   "outputs": [
    {
     "ename": "AttributeError",
     "evalue": "'Scaden' object has no attribute 'logits'",
     "output_type": "error",
     "traceback": [
      "\u001b[1;31m---------------------------------------------------------------------------\u001b[0m",
      "\u001b[1;31mAttributeError\u001b[0m                            Traceback (most recent call last)",
      "\u001b[1;32m<ipython-input-13-239d2a39ce56>\u001b[0m in \u001b[0;36m<module>\u001b[1;34m\u001b[0m\n\u001b[1;32m----> 1\u001b[1;33m \u001b[0mprint\u001b[0m\u001b[1;33m(\u001b[0m\u001b[0mcdn256\u001b[0m\u001b[1;33m.\u001b[0m\u001b[0msess\u001b[0m\u001b[1;33m.\u001b[0m\u001b[0mrun\u001b[0m\u001b[1;33m(\u001b[0m\u001b[1;33m[\u001b[0m\u001b[0mcdn256\u001b[0m\u001b[1;33m.\u001b[0m\u001b[0mlogits\u001b[0m\u001b[1;33m]\u001b[0m\u001b[1;33m,\u001b[0m \u001b[0mfeed_dict\u001b[0m\u001b[1;33m=\u001b[0m\u001b[1;33m{\u001b[0m\u001b[0mcdn256\u001b[0m\u001b[1;33m.\u001b[0m\u001b[0mtraining_mode\u001b[0m\u001b[1;33m:\u001b[0m \u001b[1;32mFalse\u001b[0m\u001b[1;33m}\u001b[0m\u001b[1;33m)\u001b[0m\u001b[1;33m[\u001b[0m\u001b[1;36m0\u001b[0m\u001b[1;33m]\u001b[0m\u001b[1;33m)\u001b[0m\u001b[1;33m\u001b[0m\u001b[1;33m\u001b[0m\u001b[0m\n\u001b[0m",
      "\u001b[1;31mAttributeError\u001b[0m: 'Scaden' object has no attribute 'logits'"
     ]
    }
   ],
   "source": [
    "print(cdn256.sess.run([cdn256.logits], feed_dict={cdn256.training_mode: False})[0])"
   ]
  },
  {
   "cell_type": "code",
   "execution_count": 15,
   "metadata": {},
   "outputs": [],
   "source": [
    "vars = tf.trainable_variables()"
   ]
  },
  {
   "cell_type": "code",
   "execution_count": 16,
   "metadata": {},
   "outputs": [
    {
     "name": "stdout",
     "output_type": "stream",
     "text": [
      "[<tf.Variable 'scaden_model/dense1/kernel:0' shape=(13666, 256) dtype=float32_ref>, <tf.Variable 'scaden_model/dense1/bias:0' shape=(256,) dtype=float32_ref>, <tf.Variable 'scaden_model/dense2/kernel:0' shape=(256, 128) dtype=float32_ref>, <tf.Variable 'scaden_model/dense2/bias:0' shape=(128,) dtype=float32_ref>, <tf.Variable 'scaden_model/dense3/kernel:0' shape=(128, 64) dtype=float32_ref>, <tf.Variable 'scaden_model/dense3/bias:0' shape=(64,) dtype=float32_ref>, <tf.Variable 'scaden_model/dense4/kernel:0' shape=(64, 32) dtype=float32_ref>, <tf.Variable 'scaden_model/dense4/bias:0' shape=(32,) dtype=float32_ref>, <tf.Variable 'scaden_model/logits_layer/kernel:0' shape=(128, 4) dtype=float32_ref>, <tf.Variable 'scaden_model/logits_layer/bias:0' shape=(4,) dtype=float32_ref>]\n"
     ]
    }
   ],
   "source": [
    "print(vars)"
   ]
  },
  {
   "cell_type": "code",
   "execution_count": 17,
   "metadata": {},
   "outputs": [
    {
     "name": "stdout",
     "output_type": "stream",
     "text": [
      "256\n"
     ]
    }
   ],
   "source": [
    "print(cdn256.hidden_units[0])"
   ]
  },
  {
   "cell_type": "code",
   "execution_count": 18,
   "metadata": {},
   "outputs": [
    {
     "name": "stdout",
     "output_type": "stream",
     "text": [
      "var: scaden_model/dense1/kernel:0, value: [[-0.01409381  0.0085345  -0.01883606 ...  0.01996894 -0.00869169\n",
      "  -0.01807134]\n",
      " [-0.01891022 -0.01470575  0.00752606 ...  0.00017679 -0.00467857\n",
      "   0.01090852]\n",
      " [-0.01455856 -0.02029939 -0.00736335 ...  0.01053352 -0.00727587\n",
      "   0.01614457]\n",
      " ...\n",
      " [ 0.00434237 -0.01611394  0.00323494 ...  0.01486165 -0.01953583\n",
      "  -0.00941132]\n",
      " [-0.01881727 -0.00571192 -0.01679746 ...  0.0001938   0.01609571\n",
      "  -0.00803054]\n",
      " [ 0.00885105  0.01521046  0.01344115 ...  0.01848564  0.00126359\n",
      "   0.00776987]]\n",
      "var: scaden_model/dense1/bias:0, value: [0. 0. 0. 0. 0. 0. 0. 0. 0. 0. 0. 0. 0. 0. 0. 0. 0. 0. 0. 0. 0. 0. 0. 0.\n",
      " 0. 0. 0. 0. 0. 0. 0. 0. 0. 0. 0. 0. 0. 0. 0. 0. 0. 0. 0. 0. 0. 0. 0. 0.\n",
      " 0. 0. 0. 0. 0. 0. 0. 0. 0. 0. 0. 0. 0. 0. 0. 0. 0. 0. 0. 0. 0. 0. 0. 0.\n",
      " 0. 0. 0. 0. 0. 0. 0. 0. 0. 0. 0. 0. 0. 0. 0. 0. 0. 0. 0. 0. 0. 0. 0. 0.\n",
      " 0. 0. 0. 0. 0. 0. 0. 0. 0. 0. 0. 0. 0. 0. 0. 0. 0. 0. 0. 0. 0. 0. 0. 0.\n",
      " 0. 0. 0. 0. 0. 0. 0. 0. 0. 0. 0. 0. 0. 0. 0. 0. 0. 0. 0. 0. 0. 0. 0. 0.\n",
      " 0. 0. 0. 0. 0. 0. 0. 0. 0. 0. 0. 0. 0. 0. 0. 0. 0. 0. 0. 0. 0. 0. 0. 0.\n",
      " 0. 0. 0. 0. 0. 0. 0. 0. 0. 0. 0. 0. 0. 0. 0. 0. 0. 0. 0. 0. 0. 0. 0. 0.\n",
      " 0. 0. 0. 0. 0. 0. 0. 0. 0. 0. 0. 0. 0. 0. 0. 0. 0. 0. 0. 0. 0. 0. 0. 0.\n",
      " 0. 0. 0. 0. 0. 0. 0. 0. 0. 0. 0. 0. 0. 0. 0. 0. 0. 0. 0. 0. 0. 0. 0. 0.\n",
      " 0. 0. 0. 0. 0. 0. 0. 0. 0. 0. 0. 0. 0. 0. 0. 0.]\n",
      "var: scaden_model/dense2/kernel:0, value: [[-0.04615641  0.01531696  0.04390183 ...  0.11895338  0.02168971\n",
      "  -0.0880298 ]\n",
      " [-0.07965702  0.09993744  0.05478701 ... -0.05952695 -0.06139785\n",
      "  -0.0887132 ]\n",
      " [-0.12203875  0.06592783 -0.02918544 ...  0.05128527  0.05215496\n",
      "  -0.06167334]\n",
      " ...\n",
      " [ 0.05475172  0.02034009  0.08587828 ... -0.07325235 -0.0363861\n",
      "  -0.12435642]\n",
      " [-0.1001583  -0.08228153  0.11288545 ...  0.04351914 -0.12000182\n",
      "   0.02856535]\n",
      " [-0.08342209 -0.03817287  0.03189257 ... -0.01767075  0.06183514\n",
      "  -0.11955133]]\n",
      "var: scaden_model/dense2/bias:0, value: [0. 0. 0. 0. 0. 0. 0. 0. 0. 0. 0. 0. 0. 0. 0. 0. 0. 0. 0. 0. 0. 0. 0. 0.\n",
      " 0. 0. 0. 0. 0. 0. 0. 0. 0. 0. 0. 0. 0. 0. 0. 0. 0. 0. 0. 0. 0. 0. 0. 0.\n",
      " 0. 0. 0. 0. 0. 0. 0. 0. 0. 0. 0. 0. 0. 0. 0. 0. 0. 0. 0. 0. 0. 0. 0. 0.\n",
      " 0. 0. 0. 0. 0. 0. 0. 0. 0. 0. 0. 0. 0. 0. 0. 0. 0. 0. 0. 0. 0. 0. 0. 0.\n",
      " 0. 0. 0. 0. 0. 0. 0. 0. 0. 0. 0. 0. 0. 0. 0. 0. 0. 0. 0. 0. 0. 0. 0. 0.\n",
      " 0. 0. 0. 0. 0. 0. 0. 0.]\n",
      "var: scaden_model/dense3/kernel:0, value: [[-0.04054391  0.00809282 -0.03532609 ...  0.01345964  0.05794741\n",
      "  -0.14036092]\n",
      " [-0.11403769 -0.09273748  0.06555858 ... -0.08194254 -0.13259524\n",
      "   0.10217391]\n",
      " [-0.02534112 -0.01518647  0.12840475 ...  0.02095284 -0.16298515\n",
      "   0.05879852]\n",
      " ...\n",
      " [-0.05316816 -0.11866656 -0.1095636  ... -0.15299773  0.03512046\n",
      "  -0.15514667]\n",
      " [ 0.10947968  0.0508125  -0.05973321 ... -0.00304714 -0.16979532\n",
      "   0.16758071]\n",
      " [-0.08619127  0.17509647  0.14847572 ...  0.02834691  0.09027307\n",
      "  -0.10816799]]\n",
      "var: scaden_model/dense3/bias:0, value: [0. 0. 0. 0. 0. 0. 0. 0. 0. 0. 0. 0. 0. 0. 0. 0. 0. 0. 0. 0. 0. 0. 0. 0.\n",
      " 0. 0. 0. 0. 0. 0. 0. 0. 0. 0. 0. 0. 0. 0. 0. 0. 0. 0. 0. 0. 0. 0. 0. 0.\n",
      " 0. 0. 0. 0. 0. 0. 0. 0. 0. 0. 0. 0. 0. 0. 0. 0.]\n",
      "var: scaden_model/dense4/kernel:0, value: [[ 0.14544904  0.13026744  0.08028191 ... -0.12334269 -0.08680588\n",
      "   0.02634305]\n",
      " [ 0.05333692 -0.1808142   0.14833999 ...  0.0908004  -0.21529204\n",
      "  -0.19475228]\n",
      " [-0.23305297  0.04607826  0.18550211 ...  0.13554746  0.04614776\n",
      "  -0.21105081]\n",
      " ...\n",
      " [-0.02917695 -0.1350165   0.03502655 ... -0.16965306 -0.06436747\n",
      "  -0.1829992 ]\n",
      " [-0.20661074  0.05778307  0.06874973 ...  0.23682123 -0.11541784\n",
      "  -0.01954114]\n",
      " [ 0.2402668   0.14731938 -0.13099635 ...  0.01916736 -0.1502074\n",
      "  -0.11571521]]\n",
      "var: scaden_model/dense4/bias:0, value: [0. 0. 0. 0. 0. 0. 0. 0. 0. 0. 0. 0. 0. 0. 0. 0. 0. 0. 0. 0. 0. 0. 0. 0.\n",
      " 0. 0. 0. 0. 0. 0. 0. 0.]\n",
      "var: scaden_model/logits_layer/kernel:0, value: [[ 0.00063102  0.05856273 -0.10774101  0.13307875]\n",
      " [ 0.15956897 -0.11128438  0.08197385 -0.10288822]\n",
      " [-0.12133718  0.10621932  0.1298013   0.18963984]\n",
      " [-0.17121156  0.05433393 -0.12058077  0.20514533]\n",
      " [ 0.15628725  0.15556136  0.18084729  0.00746408]\n",
      " [ 0.16321534 -0.02516028  0.11014888 -0.01028678]\n",
      " [-0.13685971  0.13944364  0.11959353  0.14966527]\n",
      " [-0.08232525  0.10357577  0.16735211  0.19751441]\n",
      " [ 0.15371567 -0.02959225 -0.13034245 -0.04512253]\n",
      " [-0.02953312 -0.05884691 -0.00888216 -0.02124238]\n",
      " [-0.01585923  0.1522915  -0.06259799  0.04056868]\n",
      " [-0.06237946 -0.07807136  0.04900029  0.19372034]\n",
      " [ 0.10805199  0.11839238  0.19049725  0.12843192]\n",
      " [ 0.16200617  0.06008074 -0.20253865  0.11924753]\n",
      " [ 0.1859611   0.11942837  0.08277392  0.18231604]\n",
      " [ 0.18236479  0.0146741   0.12611616 -0.03008962]\n",
      " [-0.16556597  0.17885247  0.03424866  0.18004549]\n",
      " [ 0.02902974 -0.03252718 -0.03893833  0.12449828]\n",
      " [-0.16272715 -0.18808791 -0.02020466  0.08198315]\n",
      " [ 0.18606219  0.16303635  0.19150212 -0.0987029 ]\n",
      " [ 0.07561129  0.05470154  0.04204476 -0.08394055]\n",
      " [ 0.09878856 -0.14058837  0.15351221 -0.16884944]\n",
      " [-0.19161202 -0.11212203  0.05751207  0.16577339]\n",
      " [ 0.08992529  0.00169648  0.08340865 -0.12807824]\n",
      " [ 0.094758   -0.14232576  0.00564438  0.13705662]\n",
      " [ 0.03714466 -0.18809386 -0.17394632 -0.15634008]\n",
      " [-0.11158037  0.20546877 -0.04850946 -0.06918883]\n",
      " [ 0.13879839  0.05613783  0.08215857  0.02041216]\n",
      " [-0.03075042  0.02542841  0.04891351 -0.02140515]\n",
      " [ 0.09877315  0.06875834 -0.1100097  -0.09371175]\n",
      " [-0.14962804  0.13670829 -0.2066117   0.00242536]\n",
      " [ 0.14901838  0.20142293  0.19612786 -0.12134003]\n",
      " [ 0.08355281  0.07755136  0.17023498  0.17047343]\n",
      " [ 0.05337235  0.02149791 -0.08733094  0.12711778]\n",
      " [-0.00565459  0.15730947  0.07428738  0.11459506]\n",
      " [-0.17866191  0.18295038  0.14060184 -0.19891527]\n",
      " [-0.11312025 -0.02955966  0.07805666 -0.12979801]\n",
      " [-0.18373322  0.0828391  -0.11132764 -0.090219  ]\n",
      " [ 0.08563089 -0.09094588  0.1602011   0.18269968]\n",
      " [-0.07213637 -0.06980288  0.14680856 -0.11343047]\n",
      " [-0.11538375  0.04414409 -0.16310585  0.20069376]\n",
      " [ 0.19491848 -0.18619679  0.06022301  0.1035499 ]\n",
      " [ 0.13268211 -0.17824362  0.16705003 -0.02787349]\n",
      " [-0.17315264  0.02387252  0.06698334  0.03805992]\n",
      " [ 0.17618862 -0.01395881  0.03429818  0.11773297]\n",
      " [-0.17779036  0.03050806 -0.12362265 -0.07352564]\n",
      " [ 0.1612646   0.111518    0.0750182  -0.0945133 ]\n",
      " [ 0.04280886  0.02408724  0.13458812  0.17694393]\n",
      " [ 0.00656055  0.08187062  0.09468848  0.06694761]\n",
      " [-0.11746295 -0.14023148 -0.03438407 -0.20629223]\n",
      " [-0.07573007  0.0471276  -0.16863799  0.20206496]\n",
      " [ 0.11795554  0.16265196 -0.06747867 -0.15729499]\n",
      " [ 0.16138464 -0.12565508 -0.01872599 -0.06362629]\n",
      " [ 0.12995717  0.1666426   0.07314807  0.02020076]\n",
      " [ 0.04346773 -0.20206156 -0.01333266  0.12301227]\n",
      " [-0.1506739   0.0072331  -0.1454967  -0.05624233]\n",
      " [-0.21308503  0.20106721  0.18436119 -0.07496487]\n",
      " [-0.04675472  0.14532658 -0.03193925 -0.11292699]\n",
      " [ 0.07331622 -0.16951828  0.03023952  0.17398348]\n",
      " [ 0.17327973 -0.12259586  0.15940443 -0.10329675]\n",
      " [ 0.10300121 -0.17333898 -0.03514293 -0.21031524]\n",
      " [-0.17952447 -0.07940836  0.05897695  0.19936767]\n",
      " [-0.17370191 -0.02774972  0.05460653 -0.10516423]\n",
      " [ 0.08802387  0.01664151 -0.16951665 -0.11944022]\n",
      " [ 0.00983484  0.19781524  0.0003545  -0.12821294]\n",
      " [-0.18193242 -0.04987377 -0.06697337  0.0191732 ]\n",
      " [-0.04760507 -0.16997504  0.20734087  0.04913214]\n",
      " [-0.17862713 -0.01757559 -0.20777836  0.09083685]\n",
      " [ 0.19568455  0.11131406  0.0680913  -0.00430997]\n",
      " [-0.0245464   0.01366393  0.11562145 -0.20263472]\n",
      " [-0.13132477  0.19202894 -0.12778199  0.09971219]\n",
      " [-0.07592674 -0.15068802  0.13811585 -0.1243996 ]\n",
      " [-0.14414933 -0.01126623  0.01273826 -0.17144878]\n",
      " [-0.01370744  0.14977753  0.20019656 -0.05627497]\n",
      " [ 0.00882502  0.01482512 -0.00459197  0.11116421]\n",
      " [-0.02753003 -0.090436   -0.14302209 -0.13027093]\n",
      " [ 0.04563645 -0.11571629 -0.14659289 -0.18908842]\n",
      " [-0.1173253   0.02071603  0.02551377  0.06731969]\n",
      " [ 0.13008562 -0.12263698 -0.07136227 -0.16695821]\n",
      " [-0.20909631 -0.02330291  0.10845321  0.1988987 ]\n",
      " [ 0.10520816  0.07763374  0.12776786  0.17728749]\n",
      " [-0.0496677   0.14634985  0.11438727 -0.0138512 ]\n",
      " [-0.09306061  0.16207519 -0.0486065   0.02142049]\n",
      " [ 0.14628118 -0.1425392  -0.20321359 -0.14113332]\n",
      " [ 0.08645338 -0.10385335  0.1848546  -0.08433867]\n",
      " [ 0.17824295  0.12522104  0.05433211 -0.01745577]\n",
      " [-0.01579019 -0.20818888 -0.092424   -0.10703807]\n",
      " [-0.20557307  0.18826187  0.1810843  -0.03624836]\n",
      " [ 0.19280723  0.08879724 -0.09269401  0.15893501]\n",
      " [-0.01678246  0.20577654 -0.19818091  0.17432928]\n",
      " [-0.10788486  0.13595319  0.06867895  0.17387363]\n",
      " [ 0.17556193 -0.18905385 -0.01293172  0.0325961 ]\n",
      " [ 0.07842025 -0.13468057  0.07290366  0.07779351]\n",
      " [ 0.19721177 -0.09728476 -0.08075894  0.18477663]\n",
      " [ 0.1414738  -0.15474078  0.20732948  0.17276713]\n",
      " [-0.19046609 -0.14480317 -0.04267238 -0.06564312]\n",
      " [-0.01972376 -0.19837143  0.16113925  0.05125627]\n",
      " [-0.11428799 -0.08904521  0.00512899 -0.16645819]\n",
      " [-0.02700123  0.10525307 -0.06966969 -0.17236558]\n",
      " [-0.13155341  0.06326437  0.13985834 -0.14569917]\n",
      " [ 0.11296394  0.01803042  0.11605564  0.03511529]\n",
      " [ 0.17226127 -0.14529583 -0.08919841  0.06456795]\n",
      " [-0.14278573 -0.18059629 -0.02894597 -0.16233215]\n",
      " [-0.18802081 -0.14033884  0.19527853  0.14779863]\n",
      " [ 0.14233187  0.15489802  0.09133226  0.00242692]\n",
      " [-0.18384652  0.20858586 -0.0412697  -0.06918436]\n",
      " [ 0.07852873  0.03828555 -0.15007684 -0.11552949]\n",
      " [ 0.02978341 -0.07009165  0.06299824  0.17217109]\n",
      " [ 0.01715933 -0.16083878 -0.10455111 -0.20403858]\n",
      " [-0.09830637  0.13843718 -0.18915942  0.02993239]\n",
      " [ 0.12829286  0.2120648  -0.15331858 -0.05582236]\n",
      " [ 0.10573658 -0.07981567  0.20617393  0.05194178]\n",
      " [-0.16651213 -0.12145033  0.19012699  0.18761915]\n",
      " [ 0.12849769  0.20500258  0.06095335  0.15115339]\n",
      " [ 0.06700301 -0.09081209  0.02445246  0.18731833]\n",
      " [-0.16264704 -0.16773212  0.13161507 -0.18975762]\n",
      " [-0.17665836 -0.01239561 -0.02485962 -0.202294  ]\n",
      " [-0.16296595 -0.09245317 -0.17293753 -0.05488789]\n",
      " [-0.06265461 -0.09550726  0.19278002 -0.1730529 ]\n",
      " [ 0.04476342  0.13627109 -0.12081164 -0.00566049]\n",
      " [ 0.04388079 -0.09482597 -0.11582848 -0.08231315]\n",
      " [-0.1324886  -0.13923351  0.16711244  0.1763066 ]\n",
      " [-0.05901979  0.02115805 -0.10822914  0.13799018]\n",
      " [ 0.05204603 -0.14711201  0.02021575  0.09638134]\n",
      " [ 0.0211765   0.16397578  0.04629552  0.10429782]\n",
      " [-0.05519363  0.20219931 -0.00662389  0.08902046]\n",
      " [ 0.04824182 -0.210587   -0.17212921  0.08143991]\n"
     ]
    },
    {
     "name": "stdout",
     "output_type": "stream",
     "text": [
      " [ 0.13457143  0.13330907 -0.1794284   0.06373966]]\n",
      "var: scaden_model/logits_layer/bias:0, value: [0. 0. 0. 0.]\n"
     ]
    }
   ],
   "source": [
    "vars_vals = sess.run(vars)\n",
    "for var, val in zip(vars, vars_vals):\n",
    "    print(\"var: {}, value: {}\".format(var.name, val))"
   ]
  },
  {
   "cell_type": "code",
   "execution_count": 26,
   "metadata": {},
   "outputs": [],
   "source": [
    "weights_novi=vars_vals[0]"
   ]
  },
  {
   "cell_type": "code",
   "execution_count": 27,
   "metadata": {},
   "outputs": [
    {
     "data": {
      "text/plain": [
       "(13590, 256)"
      ]
     },
     "execution_count": 27,
     "metadata": {},
     "output_type": "execute_result"
    }
   ],
   "source": [
    "vars_vals[0].shape"
   ]
  },
  {
   "cell_type": "code",
   "execution_count": 19,
   "metadata": {},
   "outputs": [
    {
     "ename": "NameError",
     "evalue": "name 'a' is not defined",
     "output_type": "error",
     "traceback": [
      "\u001b[1;31m---------------------------------------------------------------------------\u001b[0m",
      "\u001b[1;31mNameError\u001b[0m                                 Traceback (most recent call last)",
      "\u001b[1;32m<ipython-input-19-3fd1012675b5>\u001b[0m in \u001b[0;36m<module>\u001b[1;34m\u001b[0m\n\u001b[0;32m      1\u001b[0m q=pd.DataFrame(data=vars_vals[0],\n\u001b[1;32m----> 2\u001b[1;33m               \u001b[0mindex\u001b[0m\u001b[1;33m=\u001b[0m\u001b[0ma\u001b[0m\u001b[1;33m[\u001b[0m\u001b[1;36m0\u001b[0m\u001b[1;33m]\u001b[0m\u001b[1;33m,\u001b[0m\u001b[1;33m\u001b[0m\u001b[1;33m\u001b[0m\u001b[0m\n\u001b[0m\u001b[0;32m      3\u001b[0m               columns=range(256))\n",
      "\u001b[1;31mNameError\u001b[0m: name 'a' is not defined"
     ]
    }
   ],
   "source": [
    "q=pd.DataFrame(data=vars_vals[0],\n",
    "              index=a[0],\n",
    "              columns=range(256))"
   ]
  },
  {
   "cell_type": "code",
   "execution_count": 66,
   "metadata": {},
   "outputs": [
    {
     "ename": "NameError",
     "evalue": "name 'b' is not defined",
     "output_type": "error",
     "traceback": [
      "\u001b[1;31m---------------------------------------------------------------------------\u001b[0m",
      "\u001b[1;31mNameError\u001b[0m                                 Traceback (most recent call last)",
      "\u001b[1;32m<ipython-input-66-a47b6480fa58>\u001b[0m in \u001b[0;36m<module>\u001b[1;34m\u001b[0m\n\u001b[1;32m----> 1\u001b[1;33m \u001b[0mb\u001b[0m\u001b[1;33m.\u001b[0m\u001b[0msum\u001b[0m\u001b[1;33m(\u001b[0m\u001b[0maxis\u001b[0m\u001b[1;33m=\u001b[0m\u001b[1;36m1\u001b[0m\u001b[1;33m)\u001b[0m\u001b[1;33m.\u001b[0m\u001b[0mwhere\u001b[0m\u001b[1;33m(\u001b[0m\u001b[1;33m)\u001b[0m\u001b[1;33m[\u001b[0m\u001b[0mb\u001b[0m\u001b[1;33m.\u001b[0m\u001b[0msum\u001b[0m\u001b[1;33m(\u001b[0m\u001b[0maxis\u001b[0m\u001b[1;33m=\u001b[0m\u001b[1;36m1\u001b[0m\u001b[1;33m)\u001b[0m\u001b[1;33m==\u001b[0m\u001b[0mb\u001b[0m\u001b[1;33m.\u001b[0m\u001b[0msum\u001b[0m\u001b[1;33m(\u001b[0m\u001b[0maxis\u001b[0m\u001b[1;33m=\u001b[0m\u001b[1;36m1\u001b[0m\u001b[1;33m)\u001b[0m\u001b[1;33m.\u001b[0m\u001b[0mmax\u001b[0m\u001b[1;33m(\u001b[0m\u001b[1;33m)\u001b[0m\u001b[1;33m]\u001b[0m\u001b[1;33m.\u001b[0m\u001b[0mtolist\u001b[0m\u001b[1;33m(\u001b[0m\u001b[1;33m)\u001b[0m\u001b[1;33m\u001b[0m\u001b[1;33m\u001b[0m\u001b[0m\n\u001b[0m",
      "\u001b[1;31mNameError\u001b[0m: name 'b' is not defined"
     ]
    }
   ],
   "source": [
    "b.sum(axis=1).where()[b.sum(axis=1)==b.sum(axis=1).max()].tolist()"
   ]
  },
  {
   "cell_type": "code",
   "execution_count": 73,
   "metadata": {},
   "outputs": [
    {
     "data": {
      "text/plain": [
       "1.459437"
      ]
     },
     "execution_count": 73,
     "metadata": {},
     "output_type": "execute_result"
    }
   ],
   "source": [
    "b[666]"
   ]
  },
  {
   "cell_type": "code",
   "execution_count": 74,
   "metadata": {},
   "outputs": [
    {
     "data": {
      "text/plain": [
       "index    IKZF2\n",
       "Name: 666, dtype: object"
      ]
     },
     "execution_count": 74,
     "metadata": {},
     "output_type": "execute_result"
    }
   ],
   "source": [
    "a.iloc[666]"
   ]
  },
  {
   "cell_type": "code",
   "execution_count": 67,
   "metadata": {},
   "outputs": [
    {
     "data": {
      "text/html": [
       "<div>\n",
       "<style scoped>\n",
       "    .dataframe tbody tr th:only-of-type {\n",
       "        vertical-align: middle;\n",
       "    }\n",
       "\n",
       "    .dataframe tbody tr th {\n",
       "        vertical-align: top;\n",
       "    }\n",
       "\n",
       "    .dataframe thead th {\n",
       "        text-align: right;\n",
       "    }\n",
       "</style>\n",
       "<table border=\"1\" class=\"dataframe\">\n",
       "  <thead>\n",
       "    <tr style=\"text-align: right;\">\n",
       "      <th></th>\n",
       "      <th>0</th>\n",
       "      <th>1</th>\n",
       "      <th>2</th>\n",
       "      <th>3</th>\n",
       "      <th>4</th>\n",
       "      <th>5</th>\n",
       "      <th>6</th>\n",
       "      <th>7</th>\n",
       "      <th>8</th>\n",
       "      <th>9</th>\n",
       "      <th>...</th>\n",
       "      <th>246</th>\n",
       "      <th>247</th>\n",
       "      <th>248</th>\n",
       "      <th>249</th>\n",
       "      <th>250</th>\n",
       "      <th>251</th>\n",
       "      <th>252</th>\n",
       "      <th>253</th>\n",
       "      <th>254</th>\n",
       "      <th>255</th>\n",
       "    </tr>\n",
       "    <tr>\n",
       "      <th>0</th>\n",
       "      <th></th>\n",
       "      <th></th>\n",
       "      <th></th>\n",
       "      <th></th>\n",
       "      <th></th>\n",
       "      <th></th>\n",
       "      <th></th>\n",
       "      <th></th>\n",
       "      <th></th>\n",
       "      <th></th>\n",
       "      <th></th>\n",
       "      <th></th>\n",
       "      <th></th>\n",
       "      <th></th>\n",
       "      <th></th>\n",
       "      <th></th>\n",
       "      <th></th>\n",
       "      <th></th>\n",
       "      <th></th>\n",
       "      <th></th>\n",
       "      <th></th>\n",
       "    </tr>\n",
       "  </thead>\n",
       "  <tbody>\n",
       "    <tr>\n",
       "      <td>UQCC3</td>\n",
       "      <td>0.003004</td>\n",
       "      <td>-0.009128</td>\n",
       "      <td>-0.011743</td>\n",
       "      <td>0.016669</td>\n",
       "      <td>-0.005469</td>\n",
       "      <td>-0.016875</td>\n",
       "      <td>0.015548</td>\n",
       "      <td>0.011554</td>\n",
       "      <td>0.019443</td>\n",
       "      <td>-0.012846</td>\n",
       "      <td>...</td>\n",
       "      <td>-0.003751</td>\n",
       "      <td>-0.009231</td>\n",
       "      <td>0.015008</td>\n",
       "      <td>-0.014316</td>\n",
       "      <td>-0.005065</td>\n",
       "      <td>0.018433</td>\n",
       "      <td>0.017622</td>\n",
       "      <td>-0.011830</td>\n",
       "      <td>0.010316</td>\n",
       "      <td>-0.002110</td>\n",
       "    </tr>\n",
       "    <tr>\n",
       "      <td>NAA38</td>\n",
       "      <td>0.009799</td>\n",
       "      <td>-0.016704</td>\n",
       "      <td>-0.018141</td>\n",
       "      <td>-0.002587</td>\n",
       "      <td>0.017123</td>\n",
       "      <td>-0.010549</td>\n",
       "      <td>-0.009996</td>\n",
       "      <td>0.015131</td>\n",
       "      <td>0.002356</td>\n",
       "      <td>-0.015980</td>\n",
       "      <td>...</td>\n",
       "      <td>0.011099</td>\n",
       "      <td>-0.007759</td>\n",
       "      <td>0.000920</td>\n",
       "      <td>0.007529</td>\n",
       "      <td>-0.000059</td>\n",
       "      <td>0.006594</td>\n",
       "      <td>0.000313</td>\n",
       "      <td>0.006558</td>\n",
       "      <td>-0.005280</td>\n",
       "      <td>-0.000884</td>\n",
       "    </tr>\n",
       "    <tr>\n",
       "      <td>TNK2</td>\n",
       "      <td>0.015220</td>\n",
       "      <td>-0.012547</td>\n",
       "      <td>0.015745</td>\n",
       "      <td>0.006494</td>\n",
       "      <td>0.005662</td>\n",
       "      <td>-0.016681</td>\n",
       "      <td>-0.010874</td>\n",
       "      <td>-0.005781</td>\n",
       "      <td>0.015197</td>\n",
       "      <td>-0.001343</td>\n",
       "      <td>...</td>\n",
       "      <td>-0.019524</td>\n",
       "      <td>-0.008125</td>\n",
       "      <td>-0.008588</td>\n",
       "      <td>0.004839</td>\n",
       "      <td>0.012574</td>\n",
       "      <td>0.001872</td>\n",
       "      <td>-0.008947</td>\n",
       "      <td>0.020141</td>\n",
       "      <td>0.020848</td>\n",
       "      <td>-0.005083</td>\n",
       "    </tr>\n",
       "    <tr>\n",
       "      <td>MSC</td>\n",
       "      <td>0.006322</td>\n",
       "      <td>0.016474</td>\n",
       "      <td>-0.005029</td>\n",
       "      <td>0.008595</td>\n",
       "      <td>-0.000970</td>\n",
       "      <td>0.010525</td>\n",
       "      <td>0.017002</td>\n",
       "      <td>-0.006086</td>\n",
       "      <td>-0.020241</td>\n",
       "      <td>0.015867</td>\n",
       "      <td>...</td>\n",
       "      <td>-0.006443</td>\n",
       "      <td>0.015284</td>\n",
       "      <td>0.012162</td>\n",
       "      <td>-0.020462</td>\n",
       "      <td>-0.007542</td>\n",
       "      <td>0.009109</td>\n",
       "      <td>0.015186</td>\n",
       "      <td>-0.001694</td>\n",
       "      <td>0.001875</td>\n",
       "      <td>-0.019777</td>\n",
       "    </tr>\n",
       "    <tr>\n",
       "      <td>FBXO9</td>\n",
       "      <td>0.011441</td>\n",
       "      <td>-0.017947</td>\n",
       "      <td>-0.014329</td>\n",
       "      <td>0.008282</td>\n",
       "      <td>0.004443</td>\n",
       "      <td>-0.015668</td>\n",
       "      <td>0.013170</td>\n",
       "      <td>0.019915</td>\n",
       "      <td>0.015043</td>\n",
       "      <td>-0.003729</td>\n",
       "      <td>...</td>\n",
       "      <td>0.015359</td>\n",
       "      <td>0.005286</td>\n",
       "      <td>-0.012498</td>\n",
       "      <td>-0.013641</td>\n",
       "      <td>0.014868</td>\n",
       "      <td>0.016332</td>\n",
       "      <td>-0.016401</td>\n",
       "      <td>-0.010195</td>\n",
       "      <td>-0.020968</td>\n",
       "      <td>-0.017891</td>\n",
       "    </tr>\n",
       "    <tr>\n",
       "      <td>...</td>\n",
       "      <td>...</td>\n",
       "      <td>...</td>\n",
       "      <td>...</td>\n",
       "      <td>...</td>\n",
       "      <td>...</td>\n",
       "      <td>...</td>\n",
       "      <td>...</td>\n",
       "      <td>...</td>\n",
       "      <td>...</td>\n",
       "      <td>...</td>\n",
       "      <td>...</td>\n",
       "      <td>...</td>\n",
       "      <td>...</td>\n",
       "      <td>...</td>\n",
       "      <td>...</td>\n",
       "      <td>...</td>\n",
       "      <td>...</td>\n",
       "      <td>...</td>\n",
       "      <td>...</td>\n",
       "      <td>...</td>\n",
       "      <td>...</td>\n",
       "    </tr>\n",
       "    <tr>\n",
       "      <td>TDRD7</td>\n",
       "      <td>0.015819</td>\n",
       "      <td>0.011692</td>\n",
       "      <td>0.011567</td>\n",
       "      <td>-0.017662</td>\n",
       "      <td>-0.020358</td>\n",
       "      <td>-0.009957</td>\n",
       "      <td>0.013137</td>\n",
       "      <td>-0.019151</td>\n",
       "      <td>0.004803</td>\n",
       "      <td>-0.020755</td>\n",
       "      <td>...</td>\n",
       "      <td>-0.010557</td>\n",
       "      <td>0.004144</td>\n",
       "      <td>-0.005033</td>\n",
       "      <td>-0.002848</td>\n",
       "      <td>0.008344</td>\n",
       "      <td>0.004866</td>\n",
       "      <td>0.016590</td>\n",
       "      <td>-0.013828</td>\n",
       "      <td>0.014949</td>\n",
       "      <td>0.000141</td>\n",
       "    </tr>\n",
       "    <tr>\n",
       "      <td>CENPE</td>\n",
       "      <td>0.017942</td>\n",
       "      <td>0.004074</td>\n",
       "      <td>0.012789</td>\n",
       "      <td>-0.006435</td>\n",
       "      <td>-0.019221</td>\n",
       "      <td>0.010770</td>\n",
       "      <td>0.007911</td>\n",
       "      <td>-0.013943</td>\n",
       "      <td>0.020158</td>\n",
       "      <td>-0.014893</td>\n",
       "      <td>...</td>\n",
       "      <td>-0.014903</td>\n",
       "      <td>0.008820</td>\n",
       "      <td>0.009648</td>\n",
       "      <td>-0.003371</td>\n",
       "      <td>0.011204</td>\n",
       "      <td>-0.016072</td>\n",
       "      <td>-0.006433</td>\n",
       "      <td>0.006245</td>\n",
       "      <td>-0.004391</td>\n",
       "      <td>0.001967</td>\n",
       "    </tr>\n",
       "    <tr>\n",
       "      <td>IFIT5</td>\n",
       "      <td>0.011025</td>\n",
       "      <td>0.019561</td>\n",
       "      <td>-0.000025</td>\n",
       "      <td>0.016364</td>\n",
       "      <td>0.012904</td>\n",
       "      <td>0.002972</td>\n",
       "      <td>-0.016392</td>\n",
       "      <td>0.008522</td>\n",
       "      <td>-0.005901</td>\n",
       "      <td>0.000815</td>\n",
       "      <td>...</td>\n",
       "      <td>0.000258</td>\n",
       "      <td>-0.020015</td>\n",
       "      <td>-0.011908</td>\n",
       "      <td>-0.012406</td>\n",
       "      <td>-0.018305</td>\n",
       "      <td>-0.011713</td>\n",
       "      <td>0.011648</td>\n",
       "      <td>-0.004326</td>\n",
       "      <td>-0.011922</td>\n",
       "      <td>-0.015937</td>\n",
       "    </tr>\n",
       "    <tr>\n",
       "      <td>FMR1-AS1</td>\n",
       "      <td>-0.011367</td>\n",
       "      <td>-0.020375</td>\n",
       "      <td>-0.012315</td>\n",
       "      <td>-0.001467</td>\n",
       "      <td>0.009398</td>\n",
       "      <td>0.004109</td>\n",
       "      <td>0.018792</td>\n",
       "      <td>-0.004977</td>\n",
       "      <td>0.003927</td>\n",
       "      <td>0.020553</td>\n",
       "      <td>...</td>\n",
       "      <td>-0.000847</td>\n",
       "      <td>-0.019013</td>\n",
       "      <td>-0.016276</td>\n",
       "      <td>0.012136</td>\n",
       "      <td>-0.019719</td>\n",
       "      <td>0.016874</td>\n",
       "      <td>0.019559</td>\n",
       "      <td>-0.000333</td>\n",
       "      <td>-0.003267</td>\n",
       "      <td>0.014100</td>\n",
       "    </tr>\n",
       "    <tr>\n",
       "      <td>TRIM8</td>\n",
       "      <td>0.016680</td>\n",
       "      <td>-0.004439</td>\n",
       "      <td>-0.004769</td>\n",
       "      <td>0.012164</td>\n",
       "      <td>-0.015585</td>\n",
       "      <td>-0.017973</td>\n",
       "      <td>-0.003124</td>\n",
       "      <td>-0.018697</td>\n",
       "      <td>0.018649</td>\n",
       "      <td>0.004618</td>\n",
       "      <td>...</td>\n",
       "      <td>-0.017407</td>\n",
       "      <td>0.019203</td>\n",
       "      <td>0.017755</td>\n",
       "      <td>0.002721</td>\n",
       "      <td>-0.020097</td>\n",
       "      <td>-0.020314</td>\n",
       "      <td>0.006422</td>\n",
       "      <td>-0.016161</td>\n",
       "      <td>0.015034</td>\n",
       "      <td>-0.010309</td>\n",
       "    </tr>\n",
       "  </tbody>\n",
       "</table>\n",
       "<p>13590 rows × 256 columns</p>\n",
       "</div>"
      ],
      "text/plain": [
       "               0         1         2         3         4         5    \\\n",
       "0                                                                      \n",
       "UQCC3     0.003004 -0.009128 -0.011743  0.016669 -0.005469 -0.016875   \n",
       "NAA38     0.009799 -0.016704 -0.018141 -0.002587  0.017123 -0.010549   \n",
       "TNK2      0.015220 -0.012547  0.015745  0.006494  0.005662 -0.016681   \n",
       "MSC       0.006322  0.016474 -0.005029  0.008595 -0.000970  0.010525   \n",
       "FBXO9     0.011441 -0.017947 -0.014329  0.008282  0.004443 -0.015668   \n",
       "...            ...       ...       ...       ...       ...       ...   \n",
       "TDRD7     0.015819  0.011692  0.011567 -0.017662 -0.020358 -0.009957   \n",
       "CENPE     0.017942  0.004074  0.012789 -0.006435 -0.019221  0.010770   \n",
       "IFIT5     0.011025  0.019561 -0.000025  0.016364  0.012904  0.002972   \n",
       "FMR1-AS1 -0.011367 -0.020375 -0.012315 -0.001467  0.009398  0.004109   \n",
       "TRIM8     0.016680 -0.004439 -0.004769  0.012164 -0.015585 -0.017973   \n",
       "\n",
       "               6         7         8         9    ...       246       247  \\\n",
       "0                                                 ...                       \n",
       "UQCC3     0.015548  0.011554  0.019443 -0.012846  ... -0.003751 -0.009231   \n",
       "NAA38    -0.009996  0.015131  0.002356 -0.015980  ...  0.011099 -0.007759   \n",
       "TNK2     -0.010874 -0.005781  0.015197 -0.001343  ... -0.019524 -0.008125   \n",
       "MSC       0.017002 -0.006086 -0.020241  0.015867  ... -0.006443  0.015284   \n",
       "FBXO9     0.013170  0.019915  0.015043 -0.003729  ...  0.015359  0.005286   \n",
       "...            ...       ...       ...       ...  ...       ...       ...   \n",
       "TDRD7     0.013137 -0.019151  0.004803 -0.020755  ... -0.010557  0.004144   \n",
       "CENPE     0.007911 -0.013943  0.020158 -0.014893  ... -0.014903  0.008820   \n",
       "IFIT5    -0.016392  0.008522 -0.005901  0.000815  ...  0.000258 -0.020015   \n",
       "FMR1-AS1  0.018792 -0.004977  0.003927  0.020553  ... -0.000847 -0.019013   \n",
       "TRIM8    -0.003124 -0.018697  0.018649  0.004618  ... -0.017407  0.019203   \n",
       "\n",
       "               248       249       250       251       252       253  \\\n",
       "0                                                                      \n",
       "UQCC3     0.015008 -0.014316 -0.005065  0.018433  0.017622 -0.011830   \n",
       "NAA38     0.000920  0.007529 -0.000059  0.006594  0.000313  0.006558   \n",
       "TNK2     -0.008588  0.004839  0.012574  0.001872 -0.008947  0.020141   \n",
       "MSC       0.012162 -0.020462 -0.007542  0.009109  0.015186 -0.001694   \n",
       "FBXO9    -0.012498 -0.013641  0.014868  0.016332 -0.016401 -0.010195   \n",
       "...            ...       ...       ...       ...       ...       ...   \n",
       "TDRD7    -0.005033 -0.002848  0.008344  0.004866  0.016590 -0.013828   \n",
       "CENPE     0.009648 -0.003371  0.011204 -0.016072 -0.006433  0.006245   \n",
       "IFIT5    -0.011908 -0.012406 -0.018305 -0.011713  0.011648 -0.004326   \n",
       "FMR1-AS1 -0.016276  0.012136 -0.019719  0.016874  0.019559 -0.000333   \n",
       "TRIM8     0.017755  0.002721 -0.020097 -0.020314  0.006422 -0.016161   \n",
       "\n",
       "               254       255  \n",
       "0                             \n",
       "UQCC3     0.010316 -0.002110  \n",
       "NAA38    -0.005280 -0.000884  \n",
       "TNK2      0.020848 -0.005083  \n",
       "MSC       0.001875 -0.019777  \n",
       "FBXO9    -0.020968 -0.017891  \n",
       "...            ...       ...  \n",
       "TDRD7     0.014949  0.000141  \n",
       "CENPE    -0.004391  0.001967  \n",
       "IFIT5    -0.011922 -0.015937  \n",
       "FMR1-AS1 -0.003267  0.014100  \n",
       "TRIM8     0.015034 -0.010309  \n",
       "\n",
       "[13590 rows x 256 columns]"
      ]
     },
     "execution_count": 67,
     "metadata": {},
     "output_type": "execute_result"
    }
   ],
   "source": [
    "q"
   ]
  },
  {
   "cell_type": "code",
   "execution_count": 29,
   "metadata": {},
   "outputs": [],
   "source": [
    "q.to_csv(\"Nov2pbmc_layer.txt\",sep='\\t')"
   ]
  },
  {
   "cell_type": "code",
   "execution_count": 38,
   "metadata": {},
   "outputs": [
    {
     "name": "stdout",
     "output_type": "stream",
     "text": [
      "                    CYFZ        FY2H        FLWA         453W         684C  \\\n",
      "DDX11L1          3.01149     2.54756     1.86471      2.01926      1.05433   \n",
      "WASH7P           2.62153     4.85206     2.78854      3.83599      2.34941   \n",
      "MIR6859-1        0.00000     0.00000     0.00000      0.00000      2.81535   \n",
      "MIR1302-2HG      0.00000     0.00000     0.00000      0.00000      0.00000   \n",
      "MIR1302-2        0.00000     0.00000     0.00000      0.00000      0.00000   \n",
      "...                  ...         ...         ...          ...          ...   \n",
      "MT-ND6        3884.25000  2448.88000  5318.41000   4250.74000   3121.68000   \n",
      "MT-TE          267.15300   109.33500   403.88000    244.90100    446.72200   \n",
      "MT-CYB       10230.10000  9982.01000  9087.38000  12203.20000  11202.10000   \n",
      "MT-TT          584.28700   728.63900   953.24600    814.33600    757.10500   \n",
      "MT-TP          441.77800   207.51400   425.04700    456.52200    478.60900   \n",
      "\n",
      "                    CZJE        DZQV        925L         9JD4         G4YW  \\\n",
      "DDX11L1          2.65111     2.10965     3.83105     7.432370     3.871090   \n",
      "WASH7P           2.78231     2.06720     3.21687     0.343774     0.783651   \n",
      "MIR6859-1        0.00000     0.00000     0.00000     0.000000     0.000000   \n",
      "MIR1302-2HG      0.00000     0.00000     0.00000     0.000000     0.000000   \n",
      "MIR1302-2        0.00000     0.00000     0.00000     0.000000     0.000000   \n",
      "...                  ...         ...         ...          ...          ...   \n",
      "MT-ND6        1908.16000  1383.85000  1430.99000  1592.380000  1680.540000   \n",
      "MT-TE           53.93770    34.73110    45.29760    84.994800    46.819600   \n",
      "MT-CYB       11396.10000  5818.22000  8039.44000  7337.590000  6738.950000   \n",
      "MT-TT          967.66500   370.61800   388.90400   291.154000   446.691000   \n",
      "MT-TP          454.50100   233.69800   367.56800   193.218000   285.334000   \n",
      "\n",
      "                   4DUY         36TS         CR3L  \n",
      "DDX11L1         5.86248     6.943370      1.62892  \n",
      "WASH7P          0.00000     0.589092      3.02095  \n",
      "MIR6859-1       1.85684     0.000000      0.00000  \n",
      "MIR1302-2HG     0.00000     0.000000      0.00000  \n",
      "MIR1302-2       0.00000     0.000000      0.00000  \n",
      "...                 ...          ...          ...  \n",
      "MT-ND6       1602.80000  1610.320000   2711.40000  \n",
      "MT-TE          86.59750    58.633600     75.06230  \n",
      "MT-CYB       8321.56000  8824.890000  14048.90000  \n",
      "MT-TT         458.36500   302.121000    742.35400  \n",
      "MT-TP         311.94900   250.695000    452.13600  \n",
      "\n",
      "[21590 rows x 13 columns]\n"
     ]
    }
   ],
   "source": [
    "data = pd.read_table(\"Monaco_test.txt\", sep=\"\\t\", index_col=0)\n",
    "print(data)"
   ]
  },
  {
   "cell_type": "code",
   "execution_count": 37,
   "metadata": {},
   "outputs": [
    {
     "name": "stdout",
     "output_type": "stream",
     "text": [
      "['GMPR2', 'BMERB1', 'AASDHPPT', 'SRBD1', 'RPL7', 'CDK5RAP2', 'MGAT5', 'C17orf80', 'FBRS', 'PIP4P1', 'TMPPE', 'HSPA5', 'MCL1', 'MESD', 'NNT-AS1', 'TRBV15', 'PTPRA', 'ZNF34', 'KLC3', 'SMG1P7', 'ARMCX7P', 'DDX28', 'FAAH2', 'GCC1', 'NUP214', 'RUFY1', 'SLIRP', 'WWC2', 'TRAV19', 'ZMYM4', 'NDUFA12', 'USP6NL', 'USP32P2', 'PPA1', 'FAM53B', 'LRRCC1', 'CROCCP2', 'EZH1', 'PDIA4', 'SLC39A6', 'CCDC146', 'DAXX', 'ARMCX6', 'CARD11', 'GEMIN7', 'DIP2A', 'TIMM10', 'TMOD4', 'VPS13B', 'OSER1', 'PIGU', 'NRDE2', 'SCAMP3', 'TSSC2', 'PAX8-AS1', 'VMA21', 'BCL9', 'PTOV1', 'SRM', 'TTYH2', 'EPM2AIP1', 'YTHDF3', 'PRPF6', 'DDX12P', 'PRPF38B', 'FMO5', 'S100P', 'FPR1', 'ARL13B', 'TVP23C-CDRT4', 'TAS2R4', 'TNFRSF13C', 'LMO7', 'KIF3C', 'FAM199X', 'ABHD5', 'ATG9B', 'EIF4G1', 'RN7SKP23', 'STK39', 'TMEM11', 'URB2', 'SPRYD3', 'PBX4', 'MT-TS1', 'LGR6', 'FGD1', 'SLC9A3R2', 'KIAA1143', 'LRRK1', 'EXOC7', 'CDCA2', 'TMEM168', 'FAM122B', 'GMFG', 'CNIH3', 'STMN3', 'C1GALT1', 'FAM215B', 'GALC', 'IL18', 'RNF157-AS1', 'LINC01970', 'NOP14', 'TFAP2E', 'TOR4A', 'ZNF749', 'PVALB', 'SNAPC1', 'TPRN', 'THAP7', 'ZNF155', 'TRIM68', 'FUCA1', 'DNAJB14', 'LINC01949', 'BMS1P1', 'GNL1', 'KIAA1324L', 'RPA1', 'EGFL8', 'RAC1', 'NFYA', 'MORC3', 'LY6G6F', 'FBXO41', 'GGA1', 'GLUD1P3', 'RASGRP2', 'SPHK1', 'MSANTD1', 'TAGLN', 'DTX2P1', 'GEMIN6', 'NSDHL', 'MTRES1', 'CENPP', 'PRUNE1', 'ZBTB41', 'DLG5', 'MBD2', 'ZNF579', 'YES1P1', 'RAPGEF6', 'PDIK1L', 'FXR2', 'VCPIP1', 'SDS', 'IGHA2', 'ANO9', 'MRPS6', 'SUPT4H1', 'CDK2', 'LRRC37BP1', 'PIK3CD', 'PRRT1', 'TMEM42', 'EWSR1', 'PDLIM1', 'PEX10', 'LPP-AS2', 'GCSAML', 'ATP5ME', 'NRBP1', 'SFMBT2', 'FIGNL1', 'KLC1', 'C5orf63', 'CPNE5', 'PXMP4', 'AZIN2', 'MS4A4A', 'LINC00346', 'SRP19', 'BPTF', 'HNRNPH1', 'MCCC1', 'UBE4A', 'APPBP2', 'PHACTR4', 'POU2F2', 'COPS4', 'ZNF142', 'ISY1', 'TAPBP', 'TMBIM4', 'POLR2L', 'NCAPG', 'ADGRA2', 'TMEM161B-AS1', 'DCTN2', 'PLXNB2', 'SLC1A3', 'RPL12P4', 'CHD2', 'MRTO4', 'POLI', 'EIF3L', 'PRSS23', 'ZNF628', 'CARMIL2', 'SCYL2', 'SLC25A30', 'BPNT1', 'CCDC125', 'RSRC2', 'LIX1L', 'SMARCC1', 'FASTKD1', 'NAA25', 'PPIAP89', 'C4orf46', 'TTLL7', 'ANO5', 'ANXA4', 'IER5L', 'BTNL9', 'SEC22C', 'SENP5', 'RAB44', 'RCC1', 'GMPPB', 'FBXL5', 'SLAIN2', 'OAZ2', 'ERVK13-1', 'ZNF430', 'KIAA1324', 'LONP2', 'APOBEC3G', 'RMDN1', 'TRAV16', 'SCML4', 'LIMS1', 'F2RL1', 'EVA1B', 'FGFR1OP', 'ARID4B', 'CCDC92', 'CTDSPL2', 'NUDT2', 'PTGIR', 'TRPS1', 'RUSC1-AS1', 'UGP2', 'GCNT2', 'ZNF418', 'CASK', 'IL12RB2', 'SMAD7', 'ARAP1', 'PLCXD1', 'BCL11A', 'EIF5A', 'KPNA5', 'GOLGA8R', 'FOXRED1', 'AP5Z1', 'SAMM50', 'APOBEC3D', 'CTRC', 'ZSCAN20', 'HTATSF1P2', 'DTD2', 'POP4', 'DGCR2', 'AGPAT2', 'PRR12', 'HMGN3', 'C10orf88', 'IGKV1-8', 'KRT5', 'RUBCNL', 'IGKV3D-15', 'OMA1', 'EFCAB12', 'GZMB', 'AQP11', 'DKK3', 'ZNF606', 'CNDP2', 'ARHGEF1', 'ATRAID', 'NPIPB10P', 'OLA1P3', 'RHOQ', 'MT-TS2', 'TSPAN6', 'SEC22A', 'HACD1', 'RNA5-8SN4', 'DDX24', 'RPL13', 'SMU1', 'FAM229A', 'E2F1', 'SCGB3A2', 'SDHAF3', 'OSBPL7', 'BCAR3', 'ZNF610', 'EMD', 'LYSMD1', 'IL10RA', 'LIMD1', 'OIP5-AS1', 'SEMA5A', 'AIDA', 'OTUD6B', 'RIPOR1', 'REEP5', 'DRICH1', 'FLG-AS1', 'HNRNPA2B1', 'TMEM69', 'HLCS', 'HSPE1P18', 'NBR2', 'HSP90AB1', 'ACSL3', 'HNRNPA1P54', 'FUT8', 'IGHV3-49', 'KDM8', 'RGPD8', 'MOSPD2', 'REL', 'INTS5', 'KCTD1', 'ORMDL3', 'CHMP4A', 'NFATC1', 'PDGFB', 'RSRC1', 'RETREG1', 'LY75-CD302', 'HNRNPLL', 'PTGES', 'TP63', 'SEPTIN2', 'ZNF844', 'RASGRP4', 'SLC44A5', 'NHLRC2', 'ZNRD1ASP', 'CD244', 'ZNF358', 'CD151', 'SORBS3', 'FSTL3', 'TOX', 'DYNC1LI1', 'GCDH', 'NCK1-DT', 'MAZ', 'TMEM158', 'NME1-NME2', 'GOSR1', 'MME', 'RBM12', 'CA5A', 'ITGA2', 'DISC1', 'ZNF185', 'MAGOHB', 'ELOB', 'SRP9', 'ACSM2A', 'ATAD5', 'ECI1', 'POLD3', 'HHLA1', 'TEFM', 'CHST13', 'ABCD2', 'KAT6B', 'MREG', 'TRADD', 'B3GLCT', 'C12orf66', 'LINC00624', 'RNF212', 'NKIRAS2', 'PIF1', 'ENG', 'RTN1', 'E2F4', 'MSH5-SAPCD1', 'ICAM4', 'PKMYT1', 'LYL1', 'PTPN22', 'GABARAP', 'RPS13', 'PRR5', 'SSBP1', 'TMEM41B', 'CYB5R1', 'ZDHHC5', 'TGFBRAP1', 'NUCKS1', 'OSTCP1', 'TAPT1-AS1', 'NKAIN3-IT1', 'TTLL7-IT1', 'TLCD5', 'SERPINF2', 'NBEAL1', 'PTP4A2', 'HCN3', 'LXN', 'PRKDC', 'SYPL1', 'AATBC', 'GCA', 'SORBS1', 'DPP4', 'CELF1', 'NAP1L3', 'UCP2', 'KIR3DL2', 'PTP4A2P2', 'SOX4', 'CANT1', 'RBM4', 'LRRC8A', 'RER1', 'LMNA', 'MZF1', 'NIPBL', 'PPP4R2', 'TMEM140', 'APBA1', 'IGHV3-20', 'NPM3', 'SOCS2-AS1', 'CSRP2', 'DLAT', 'EID2', 'ASB14', 'METRN', 'CNIH1', 'TMEM120A', 'PLIN5', 'CCDC138', 'IRF7', 'GP6', 'RPSA', 'SAT2', 'PANK4', 'GABRP', 'PHETA2', 'SCART1', 'SMURF1', 'FBXL15', 'STAP1', 'TUB', 'ZNF746', 'ZNF672', 'FBXW9', 'GBE1', 'RAB40C', 'PARD6B', 'DRAM2', 'LINC00467', 'RGMA', 'SH3TC1', 'VAV2', 'MAEA', 'HIBCH', 'ITGB2-AS1', 'LRRC36', 'SQSTM1', 'NMB', 'CTDSPL', 'HRK', 'RALGAPA2', 'SNED1', 'GLB1', 'DMD', 'NRG1', 'PERP', 'SRSF6', 'C8orf31', 'DGKD', 'CFAP20', 'ATP1B3', 'CAPN3', 'BCL10', 'CC2D2A', 'FANCB', 'NKTR', 'JAG1', 'LTBP3', 'TAS2R5', 'ZNF230', 'PICK1', 'HGS', 'ZFP90', 'PLEKHJ1', 'TRAF3', 'C1orf131', 'ITPR2', 'SPTY2D1', 'AP3B1', 'GSTZ1', 'TUBB4A', 'CRBN', 'C3orf14', 'TGIF1', 'SLA2', 'RPP25L', 'RBM23', 'ARHGAP12', 'ARHGAP4', 'DNM3', 'SPTLC3', 'DERL1', 'LMAN1', 'POLR2J3', 'RNF139', 'GRIN3A', 'TYK2', 'HMG20A', 'TARS', 'TM2D2', 'GGNBP2', 'IFT122', 'DNAJC3', 'SPIN2A', 'CDH24', 'HAX1', 'CHMP3', 'ATF1', 'ESD', 'SAMHD1', 'SKP1', 'TNFRSF10B', 'VCP', 'MCM3', 'ZNF701', 'PDE9A', 'GTF2B', 'ZNF292', 'MYADM', 'NCAPG2', 'ABHD3', 'AFTPH', 'APBB1', 'BACE1-AS', 'RPS15', 'HAUS6P1', 'RN7SL1', 'ZBTB46', 'ZNF786', 'LFNG', 'PCBD2', 'PTBP2', 'GGTA1P', 'SNHG21', 'KANSL2', 'MAST4', 'TCL6', 'AOPEP', 'FCGR1B', 'ADSS', 'QKI', 'RHOG', 'KLF16', 'STRBP', 'GOLGA1', 'P2RX5-TAX1BP3', 'PDE7A', 'TMTC4', 'RN7SL834P', 'CYBRD1', 'IL12A', 'SPIN2B', 'KIZ-AS1', 'ZCCHC14', 'EPN1', 'ZNF876P', 'UBALD1', 'INTU', 'ERMP1', 'DPF2', 'VPS33A', 'ENPP1', 'IFNG-AS1', 'MRPL55', 'LZTS1', 'TGFB3', 'GPHN', 'IL2RG', 'XKR6', 'NEMP1', 'MAPKAPK5-AS1', 'CBWD5', 'RAB3IP', 'SLC28A2', 'SUPT7L', 'TRIM52', 'GFI1B', 'P2RX1', 'B4GALT4', 'URGCP', 'C16orf72', 'FKBP9', 'SRCAP', 'IGKV4-1', 'THOC3', 'TTC16', 'DNAJC27-AS1', 'HAUS7', 'MEGF6', 'HSD17B11', 'IDUA', 'SMG7', 'BARD1', 'SUZ12P1', 'PAWR', 'ITPKC', 'LINC02361', 'ZBP1', 'DCTN3', 'NT5E', 'LINC00877', 'CCDC97', 'OAS1', 'CHMP5', 'FKBP2', 'C1orf162', 'PHC1P1', 'OGDH', 'LINC00943', 'SCN1B', 'MKNK1', 'CSF3R', 'CACYBP', 'TTBK2', 'ZNF367', 'CHAMP1', 'STK32B', 'THUMPD3', 'SEC14L6', 'DCAF16', 'ARFIP1', 'LTK', 'CMTR1', 'ZNF174', 'PMM1', 'TMEM126B', 'ABLIM1', 'FAM20C', 'KNDC1', 'CD27', 'LIPN', 'ZNF660', 'LACTB2-AS1', 'BCLAF1', 'SOCS2', 'CYP1A2', 'ZNF345', 'TFPI', 'POLR3B', 'ZNF546', 'FBXO40', 'ARMC6', 'ATP10A', 'PIP5K1A', 'GOLGA8J', 'SLC38A5', 'TMED1', 'DISP1', 'CATSPERG', 'C19orf84', 'ATP1A3', 'ROCK1', 'TDRD7', 'LMAN2L', 'TOB2', 'DOK6', 'C19orf33', 'IL7R', 'TMTC1', 'KCNJ2', 'CBFA2T2', 'ZNF780A', 'EHMT2', 'PSPC1', 'MYL9', 'C2CD2', 'ADCY9', 'FNTB', 'GNRHR2P1', 'GVQW3', 'ARSB', 'DHX16', 'CDK5R1', 'HSD17B7P2', 'MFSD3', 'ATXN7L2', 'CD320', 'RANBP17', 'COX6C', 'DBH-AS1', 'GALK1', 'FURIN', 'AGAP14P', 'TMEM107', 'ZNF107', 'CCDC73', 'HSD17B10', 'GATAD1', 'ATP7A', 'FAM153A', 'WNT5B', 'TCEANC2', 'ESR2', 'LAPTM4A', 'SLC27A1', 'TIMM13', 'NTSR1', 'DPEP2', 'NT5DC2', 'UQCRHL', 'DCK', 'SMOX', 'SP100', 'USP49', 'PMP22', 'C19orf71', 'BTBD3', 'RAD50', 'SPDYE10P', 'JUP', 'DDX23', 'CRNKL1', 'ZNF81', 'TMEM94', 'GRK2', 'CAMKK1', 'MRPS12', 'GMEB2', 'MDFIC', 'PLEKHG4', 'POLR2K', 'SLC24A1', 'SSBP4', 'ANKS6', 'CCNL1', 'NEXMIF', 'PIK3R2', 'LINGO3', 'NRAV', 'NLK', 'ANKRD49', 'FOXD2-AS1', 'TMED6', 'ZNF658', 'ALMS1-IT1', 'HEIH', 'STK32C', 'LRP11', 'LARP1', 'P4HA2', 'COL4A3', 'POLR2J', 'PIAS1', 'APOBEC3C', 'ORM2', 'MARCO', 'SMG1', 'FANCF', 'TRIM2', 'POMZP3', 'ACD', 'CAB39', 'RBM14', 'CBY1', 'PARM1', 'EEF1AKMT2', 'LINC02328', 'CUTALP', 'SPDYE1', 'CLEC1A', 'PCYOX1L', 'DNASE1L3', 'SEL1L3', 'BSDC1', 'R3HDM4', 'IGKV3D-20', 'RO60', 'SAMD12', 'GUSBP1', 'ATP5F1D', 'KCNV1', 'PLD4', 'HMG20B', 'ARFGAP2', 'MBNL3', 'GSN', 'KLHL26', 'ZNF555', 'ZNF431', 'PIBF1', 'ALG12', 'APOOL', 'SARM1', 'SNX17', 'SUCLG1', 'MAGED1', 'CXCL16', 'ARHGAP11A', 'SMIM27', 'CCNB1', 'EIF2B2', 'PATL2', 'CTNNA1', 'MYCL', 'SIGLEC7', 'DCAF17', 'SERPINE2', 'PTRH1', 'SLC25A23', 'EMC6', 'RTN3', 'ATP5MG', 'ZNF75D', 'PIGBOS1', 'PHYHD1', 'ACTR1B', 'SERPINI1', 'DYNLL1', 'NBPF10', 'NUP62', 'LZTS3', 'ZIK1', 'RAB30', 'TACC3', 'WHAMMP3', 'RBM8B', 'PFDN5', 'IGHV3-7', 'GPR137', 'ACAT2', 'ATP5PO', 'CRTC1', 'RSF1', 'SATB1-AS1', 'POLA2', 'GLMP', 'CHPF', 'VIT', 'PTGS2', 'SNRPB2', 'FNDC10', 'NDUFB2', 'APP', 'HOMER1', 'FKBP7', 'N4BP2', 'NPIPA2', 'RDH14', 'ZNF319', 'P2RY6', 'A2MP1', 'PGPEP1', 'LINC02273', 'TBC1D20', 'TMEM45A', 'ZNF575', 'CEBPD', 'TBXAS1', 'DOHH', 'FAM110A', 'TRMT2B', 'TTC39B', 'MICOS13', 'TIPARP', 'L1CAM', 'DUXAP8', 'PFN1P6', 'NUTM2B', 'FASLG', 'LRRC59', 'TGFB1', 'SCML2', 'CDIP1', 'RNASE4', 'DAPK3', 'ZDHHC15', 'FAM83F', 'KRCC1', 'B3GNT5', 'UPF3A', 'TSPAN15', 'RORC', 'ECT2', 'ATP5IF1', 'CACNA1A', 'AHSA1', 'SIRT1', 'PWWP2A', 'ZNF582', 'RNF20', 'FSIP2', 'HMGB1P5', 'RECQL4', 'SLFN13', 'AREL1', 'RNASE6', 'AKTIP', 'SARNP', 'ATP8B2', 'SLC8A1', 'F8A1', 'LINC01504', 'STK17B', 'MMP14', 'PNRC2', 'LINC00310', 'OLIG1', 'PLEKHG2', 'MUTYH', 'EIF4EBP2', 'UBE2E2', 'ZNF106', 'FBXO38', 'RPL11', 'RPF1', 'ZNF276', 'ARG1', 'COL8A2', 'PSMA2', 'SURF2', 'SLC35E1', 'MTERF3', 'RPS7', 'CCDC96', 'RRP7BP', 'PLEKHO1', 'ZNF709', 'LY6E', 'NUPR1', 'PID1', 'SORT1', 'DLEU2', 'ENSA', 'HPS3', 'ARSD', 'CES2', 'PFDN6', 'SNX8', 'MAPKBP1', 'MYOF', 'CARD9', 'HARBI1', 'TMX4', 'YWHAE', 'MST1L', 'CLCC1', 'SHE', 'TBP', 'COX6A1', 'SYNGR1', 'ERBB2', 'CLBA1', 'SPATA2', 'TRAPPC2L', 'AMFR', 'LINC01184', 'PPIL4', 'PRLR', 'DHRS7', 'TMPO-AS1', 'TWF2', 'MYLK4', 'SLC35A3', 'ZNF66', 'CCT6A', 'SUV39H1', 'LINC00649', 'AHCYL1', 'UBR7', 'TBCCD1', 'ZNF407', 'ME3', 'TRAM2', 'SLC16A6P1', 'EML6', 'ILF2', 'MFSD6', 'STK33', 'PDPK1', 'TMEM9', 'AIFM2', 'HLA-K', 'FHL2', 'LRRC41', 'MGST3', 'PPBP', 'ANP32E', 'TCAF1', 'ARHGAP26', 'TNFRSF19', 'RPL13P5', 'ITGA9-AS1', 'GCH1', 'RASAL2-AS1', 'RNASEH2A', 'VWF', 'C22orf15', 'PDE2A', 'C3orf35', 'SPATA24', 'COQ4', 'CNNM3', 'ARL6IP4', 'ATF2', 'SLC2A1', 'ZMYND19', 'MVB12B', 'VRK2', 'ZFAND5', 'ANTKMT', 'METAP2', 'IFI44L', 'PXK', 'FAM135A', 'GTF2IP4', 'SMIM13', 'SLC37A1', 'GPX4', 'PFKFB4', 'TMEM203', 'TESMIN', 'SLFNL1', 'WDR89', 'ZNF16', 'ZNF780B', 'SEC63P1', 'TRIT1', 'UBBP4', 'CDHR1', 'RABEP2', 'AMBRA1', 'RNF213', 'CLCN7', 'RBFOX3', 'ARF4', 'BBC3', 'PBX2', 'ADRM1', 'CLEC2B', 'FAM76A', 'ANKRD6', 'CDKN3', 'LINC00173', 'TSPAN18', 'MRPL15', 'TUBGCP5', 'PTRHD1', 'KCNN4', 'L3HYPDH', 'MANEAL', 'PCDHB16', 'ZNF692', 'FRA10AC1', 'GTSF1', 'TFIP11', 'CCL5', 'ADM5', 'NELFA', 'TPM4', 'CEACAM4', 'FES', 'ZNF836', 'RNF141', 'TNNC2', 'NEK5', 'SFXN5', 'PREB', 'RPS6KA5', 'SH3BGRL', 'HID1', 'C2CD5', 'ABL2', 'TRABD2A', 'NPL', 'RAPH1', 'ZBTB22', 'DFFA', 'PCF11', 'SP140', 'SAT1', 'LIN37', 'SH3GL1P3', 'SIRT6', 'FAM201A', 'ACOT1', 'SLC38A10', 'RPS10', 'MAP7', 'SNX30', 'CD164', 'RNLS', 'POP5', 'MRS2', 'SNTB2', 'ARV1', 'PFDN4', 'TMEM183A', 'SURF6', 'A1BG', 'ISCU', 'LINC02285', 'PSEN2', 'BDP1', 'KPNB1', 'PPP1R2B', 'COQ8A', 'ZSCAN12', 'ATP10B', 'NXF1', 'AFMID', 'APRT', 'HLA-F-AS1', 'PPP2R5C', 'MRPL35', 'SLC35F2', 'COPS2', 'ILK', 'DNAJC14', 'ZEB1-AS1', 'MS4A4E', 'KCMF1', 'TCF25', 'ADCK2', 'BCAT2', 'BEX2', 'GCNT1', 'PBX2P1', 'PF4', 'AMER1', 'WDR6', 'KRI1', 'CSNK2A1', 'IGHV4-39', 'TLR9', 'KDELR1', 'RFFL', 'LINC02469', 'PPP2R2B', 'TSC22D2', 'MATN1-AS1', 'BLOC1S5', 'GTSE1', 'EEF1A1P5', 'TOP2B', 'AVPR2', 'CFAP74', 'KLRC4-KLRK1', 'CASP7', 'KCTD3', 'NBPF2P', 'DDX11L1', 'BRI3BP', 'RPL10A', 'TSPAN33', 'NFKBID', 'TIMM23B', 'PSMB8', 'HMGB1', 'CYP4F29P', 'LIPG', 'PTMA', 'TMEM241', 'TTC14', 'PYGB', 'RTCA', 'PUS7L', 'KANSL1', 'PON2', 'COX8A', 'CYP1B1-AS1', 'TCN2', 'TLR1', 'RPRD1B', 'NDUFA4', 'PCP2', 'RPS6KA2', 'SEL1L', 'ALS2', 'MRPS18B', 'AIMP1', 'PRR29', 'SNORD104', 'BEX3', 'DHRS9', 'VAMP7', 'GDAP1', 'LETM1', 'TUG1', 'SOCS7', 'TRBV11-2', 'FAM117A', 'DHX29', 'CCDC84-DT', 'HIPK3', 'HSPA7', 'TRIM7', 'STAG3L5P-PVRIG2P-PILRB', 'SLC29A2', 'LINC02728', 'DIP2C', 'NUTM2G', 'ATRN', 'AAMP', 'DESI2', 'SMCHD1', 'DOCK5', 'CCL22', 'HSD3B7', 'SH2D3C', 'BCL11B', 'TMSB15B', 'DNAJA1', 'HECA', 'MTFP1', 'POU6F1', 'MT-TQ', 'SHLD2', 'LAMP5', 'SECTM1', 'TGM2', 'SMG1P3', 'VPS52', 'CALR', 'UQCR11', 'TGOLN2', 'MRPL57', 'TRIM44', 'CD69', 'DBF4B', 'DGKA', 'PTPN18', 'ZNF767P', 'HMGA1', 'TCOF1', 'HTR7P1', 'ITGA10', 'BCR', 'CTDSP1', 'JTB', 'UHRF1BP1L', 'EIF2D', 'BTBD6', 'CLIP4', 'FRMD4A', 'ANXA2P2', 'CFAP73', 'CLK3', 'CTSK', 'LILRA4', 'GPKOW', 'LRRC46', 'NICN1', 'PLAC9', 'C4orf50', 'RASA4CP', 'NORAD', 'CCDC188', 'AIFM1', 'AHSA2P', 'DNAJB1', 'USF2', 'TADA3', 'SPAG9', 'GREB1', 'NUBP1', 'CLTCL1', 'FLT1', 'HIF1AN', 'PRDM5', 'PSMB6', 'TRIM16L', 'CCNG1', 'MEF2C', 'RBM47', 'CEP19', 'ZMYM5', 'AGAP12P', 'FAH', 'HDGFL3', 'BHLHE40', 'MSR1', 'NEB', 'CCS', 'ZNF581', 'MICAL2', 'USP20', 'SEC24C', 'CRIPT', 'LINC01270', 'SETD4', 'EIF3J-DT', 'LGALS9B', 'LINC02785', 'PHF7', 'CHCHD7', 'TAL1', 'ZBTB33', 'AAR2', 'FOPNL', 'GAL3ST4', 'CYTOR', 'PLEKHO2', 'PRKAR2B', 'CYBC1', 'APTR', 'RALBP1', 'PODNL1', 'THOC5', 'TTC39A', 'CSPG4P12', 'YTHDC1', 'CNNM2', 'FCRL1', 'ITGB3', 'ETFB', 'EIF1', 'WDR91', 'CFL1P1', 'KIF5B', 'LENG8', 'ARHGEF11', 'CD1E', 'ZNF829', 'ATP6V0E2-AS1', 'DPP9', 'GRIN2C', 'PRELID1', 'HSD17B8', 'FAM189B', 'IGFL4', 'RTL8A', 'MIGA1', 'QRSL1', 'F2RL3', 'RAD52', 'TRIB3', 'RHOH', 'IGKV1-16', 'UHRF2', 'SIGMAR1', 'SYCE1L', 'FGD2', 'PRKCD', 'C21orf58', 'MGAT4A', 'MIR155HG', 'SNHG16', 'IFITM3', 'RMC1', 'DDX31', 'TARBP2', 'CIAO2B', 'CHRNA7', 'RDH5', 'SV2A', 'FBXO36', 'GAS2L3', 'ARHGAP18', 'EFEMP2', 'FBXW12', 'MBOAT2', 'PIGY', 'CNIH4', 'EEF1B2', 'PSMG3', 'LINC02449', 'ACOT13', 'TSPYL1', 'ZSCAN25', 'ESR1', 'LILRA1', 'HOXA1', 'BST1', 'MLLT10', 'TBC1D12', 'HSBP1', 'NAMPTP1', 'THAP5', 'ECHDC3', 'PARP6', 'AJM1', 'RNF112', 'CLCF1', 'CWC15', 'ZNF337', 'MTG2', 'PNOC', 'PARP12', 'SFXN3', 'PROM2', 'GPR161', 'KLHDC8B', 'ZBTB42', 'CEMP1', 'CIB1', 'SLC16A13', 'PZP', 'PAXIP1-AS1', 'WNT10A', 'ATG2A', 'CDC16', 'MID1IP1', 'HGD', 'CYBA', 'YTHDF2', 'UIMC1', 'NIBAN2', 'TSSK4', 'EIF2B3', 'ZC3H15', 'RPGRIP1', 'ZSWIM3', 'AP5M1', 'CELSR3', 'TXNDC15', 'RNF10', 'STX6', 'CKS1B', 'CLDN12', 'GNAO1', 'TTC7A', 'ZNF470', 'C10orf143', 'ID3', 'CLEC16A', 'SNX4', 'LCK', 'TRMT61A', 'ZNF652', 'P3H2', 'ALG14', 'NSRP1', 'PUS1', 'DDX47', 'LMBR1', 'RYBP', 'SBF2', 'SIRT3', 'TECPR2', 'L2HGDH', 'C1orf159', 'MTHFSD', 'PGD', 'SNAP23', 'ERVH48-1', 'GSDME', 'SOCS4', 'SH2B2', 'WNT10B', 'CLIP3', 'CFAP161', 'CXorf40B', 'HCST', 'ADAMTS4', 'LINC01691', 'TCAF2P1', 'RGCC', 'TMEM121B', 'AXIN2', 'CD2AP', 'ZNF613', 'MAPK12', 'CSNK1G3', 'LIMD2', 'LINC00707', 'PRKD3', 'TMEM164', 'MLXIP', 'TRIP6', 'FAM71F2', 'PTPRN2', 'ALAD', 'CDC5L', 'HPS5', 'ZDHHC18', 'HELB', 'CD160', 'ZNF626', 'NUDT21', 'EBNA1BP2', 'ANKRD10-IT1', 'RAB4B', 'S100A10', 'FAM86DP', 'KIAA0355', 'SDR42E1', 'SYNGAP1', 'CCNT2-AS1', 'ALDH1A1', 'RRP9', 'MYO19', 'ZC3HAV1', 'ZFP91', 'TRBV2', 'SLC43A1', 'ADAM28', 'MYO1B', 'EP400P1', 'DBR1', 'CDK1', 'MXD1', 'SHISA9', 'ASGR2', 'SSH1', 'ZDHHC4', 'MIPOL1', 'FGD4', 'ABHD4', 'PPIAP40', 'ANOS1', 'NFKBIE', 'SEPTIN7P2', 'NELFB', 'LZTFL1', 'SIVA1', 'TMEM201', 'DUSP10', 'CERK', 'HIST2H2BC', 'MSTO1', 'REV3L', 'EFTUD2', 'INF2', 'PTOV1-AS1', 'SLC43A3', 'PSME3', 'BTBD19', 'CCRL2', 'ITGA6', 'NUBPL', 'CD52', 'TBC1D9B', 'CKMT2-AS1', 'C9orf147', 'COPS7A', 'DECR2', 'HIST1H2BN', 'BOP1', 'GTF2IRD1', 'TLR6', 'NRBF2', 'HSPA4', 'SEMA3C', 'ERVK3-1', 'FBXO22', 'KDM5D', 'RIOK2', 'DNM1P46', 'ALDH5A1', 'RFK', 'MSI2', 'CAPN7', 'UBTD2', 'HGSNAT', 'ANKZF1', 'CUL4A', 'LINC02812', 'E2F8', 'PRR22', 'CASTOR3', 'IGKV3-20', 'HERC4', 'CRYBG2', 'ENO2', 'CHORDC1', 'BTN2A1', 'ASTE1', 'XYLT2', 'B9D1', 'TIGIT', 'ZNF37A', 'NACC2', 'ALPK1', 'GRB2', 'EIF3J', 'NFYC-AS1', 'RNF14', 'PACSIN2', 'THNSL1', 'KLHL14', 'MAGI2-AS3', 'SAP18', 'FEZ2', 'PES1', 'TYROBP', 'COL6A4P2', 'POLN', 'BLM', 'PTMS', 'PPAN-P2RY11', 'GLYCTK', 'FKBP11', 'SLC2A8', 'MARF1', 'PLPP2', 'INPP5E', 'STT3A', 'POLE4', 'CP', 'RPL17-C18orf32', 'LAMP2', 'POMGNT2', 'RELB', 'XPC', 'LINC00211', 'MCTS1', 'ANKRD23', 'SETD9', 'ATP11B', 'STX10', 'C1orf35', 'ZBTB20-AS1', 'LINC02656', 'MAPK14', 'MTCH2', 'CUX1', 'RABGGTA', 'PEAK1', 'RNASE3', 'XRCC6', 'SLC9A8', 'ZNF354C', 'DNAJC19P5', 'TRIM41', 'ASH1L', 'RGL4', 'INPP1', 'ENTPD3-AS1', 'SLC25A46', 'SRSF4', 'GTF3C5', 'CD93', 'ZNF134', 'EBAG9', 'COIL', 'BAHCC1', 'COPA', 'TCAP', 'SUB1', 'MTLN', 'TMEM115', 'EFCAB13', 'HSPA14', 'MRPS31P5', 'JUND', 'MTRF1L', 'ERG28', 'IRF5', 'HNRNPL', 'SRPK3', 'RANBP10', 'RHNO1', 'EBF1', 'SNHG17', 'UBE2D2', 'GPA33', 'MEF2D', 'GEMIN2', 'NUP54', 'RAD17', 'USP53', 'NUP98', 'TRAF2', 'GPR141', 'LINC01560', 'TMEM255B', 'GRAPL', 'PRKXP1', 'AAMDC', 'ABCA9', 'PRR14', 'NEDD9', 'IGKV3-15', 'IL15', 'MRFAP1', 'NECAP1', 'PPIL2', 'PSME4', 'FOXL2NB', 'CCR5', 'OR2A7', 'ALAS1', 'HTN1', 'RNFT2', 'TENT4B', 'TPRA1', 'ALMS1', 'LINC01134', 'ACTR3', 'NPHP1', 'C2orf68', 'RPP14', 'YIF1A', 'BNIP3P11', 'KIF4A', 'SPTSSB', 'IKZF5', 'AKIP1', 'ZNF333', 'SIGLEC9', 'STXBP2', 'FXYD5', 'ENPP4', 'MTPAP', 'RTEL1', 'SRSF7', 'MDM4', 'RINT1', 'KANK3', 'CCDC144CP', 'ALG10B', 'HTRA2', 'MROH6', 'NAPSA', 'RAP2C', 'AKNA', 'PDGFA', 'ZNF670', 'ZNF532', 'LIG1', 'SLC25A6', 'YARS2', 'IRAK2', 'AARS', 'CCDC200', 'BCDIN3D-AS1', 'CABP5', 'FBXO6', 'NOC2L', 'DUSP16', 'NKAPD1', 'PIANP', 'TECTA', 'PDE8A', 'GHITM', 'WDR36', 'CCDC141', 'EBF4', 'CXorf21', 'SLF2', 'ZNF808', 'WASH9P', 'IGHV3-43', 'SLC9A4', 'LINC02210', 'ZNF266', 'CROCC', 'ARFIP2', 'GATD3A', 'DNASE1L1', 'RPLP1', 'C1orf115', 'M1AP', 'RREB1', 'TMEM14B', 'ZCCHC2', 'HSPD1', 'ELL3', 'SNRPN', 'CLEC12A-AS1', 'KIF11', 'NCKAP1', 'VMP1', 'GINS4', 'IPO7', 'MAT2A', 'ANKRD24', 'POLR3G', 'ADNP-AS1', 'SLC6A4', 'GPATCH1', 'LZTR1', 'SPCS2', 'AHCTF1', 'IDH2', 'RNF181', 'TIMM21', 'NAA50', 'ATXN3', 'CTNNBL1', 'RBPMS2', 'LINC01857', 'MIF4GD', 'GUSB', 'TOP3A', 'ELN', 'RNF4', 'ZNF410', 'GALE', 'LOXL2', 'GPAT2P1', 'LRRC7', 'ARHGEF39', 'PROCA1', 'RHEBL1', 'HPF1', 'SRGAP2C', 'STX18', 'ARPP19', 'GNE', 'BICRA', 'PSMD11', 'SNRNP70', 'ZNF169', 'FKRP', 'GINS2', 'LIG4', 'IGKV2-30', 'SLC24A4', 'LARP7', 'NBPF26', 'CDC6', 'ZFAND1', 'TMLHE', 'PINK1', 'FAM13A-AS1', 'WSB2', 'ZBED6', 'RPS3AP6', 'FGF11', 'NR6A1', 'ATN1', 'PQBP1', 'ZNF510', 'SIGLEC5', 'TREML2', 'LINC00954', 'LEPROT', 'SAE1', 'TRBV13', 'YBX1', 'BCORP1', 'GPC2', 'TRDMT1', 'TSEN15', 'PSIP1', 'RPL37A', 'EIF3E', 'CAMSAP2', 'TLE4', 'CCNJL', 'FAM216A', 'RNF26', 'ZNF101', 'NUP107', 'UBE2Q2P1', 'FFAR4', 'TRAPPC6B', 'ISOC1', 'ZFP62', 'TCEA1', 'STKLD1', 'GCFC2', 'LPP', 'LINC01684', 'PPID', 'KAT5', 'ANK3', 'HIKESHI', 'PLA2G12A', 'PRAMENP', 'SLC23A1', 'TTC41P', 'FDX1', 'UBTD1', 'SLC17A9', 'LINC02701', 'MRPL40', 'THUMPD3-AS1', 'PLK3', 'PPP1R12A', 'EXOSC3', 'ELP5', 'CCDC69', 'LYG1', 'ANKAR', 'ELF4', 'MT-TC', 'SRC', 'DYRK4', 'IGKJ2', 'DMWD', 'SLX1B-SULT1A4', 'UBXN10', 'TAMM41', 'SYK', 'GVINP1', 'OLR1', 'IKZF4', 'MFSD14C', 'ZNF519', 'NCAPD2', 'STARD4', 'BPGM', 'HNRNPU', 'IFFO1', 'KPNA2', 'USP5', 'FANCC', 'PPCDC', 'TFG', 'TMPO', 'MRPL3', 'SUCLA2', 'TMA7', 'FER1L4', 'ATG10', 'ATP6V1C2', 'TARBP1', 'KDM1A', 'DHTKD1', 'EFCAB2', 'FAM3C', 'MBTPS2', 'PHF14', 'ATP6V1H', 'PRDX1', 'RSPH9', 'BAZ2A', 'TRBV7-6', 'YEATS2', 'FGFBP2', 'GALNT10', 'GK-AS1', 'LINC02325', 'ZNF300', 'ZNF665', 'ZNF585B', 'FYN', 'UTP4', 'CTSZ', 'DENR', 'TFDP2', 'LINC01537', 'PUSL1', 'FAHD2B', 'ZNF514', 'FBXO31', 'MISP3', 'KIF23', 'FGGY', 'FTH1', 'CBFA2T3', 'PIGB', 'STARD8', 'HEBP2', 'ALOX12-AS1', 'C2orf69', 'KCTD12', 'POLG2', 'APBA3', 'CENPJ', 'SORD2P', 'GID4', 'N4BP3', 'SVIL-AS1', 'C17orf49', 'UNC45B', 'FGF23', 'SH3BGRL3', 'ZNF792', 'KCNQ1OT1', 'ATXN7L3', 'DTL', 'TIFA', 'RABL2A', 'UTP11', 'SSX2IP', 'FMNL2', 'CXCL10', 'MON1A', 'PAXX', 'NBPF13P', 'GNAI2', 'FTSJ1', 'SGSM3', 'VPS37B', 'DIAPH3', 'ACRBP', 'PEG10', 'HYPK', 'METTL3', 'SLC46A1', 'CNOT7', 'C2orf74', 'SDHAF4', 'C11orf95', 'BROX', 'NCOA7', 'TRNAU1AP', 'BCL7B', 'NOMO1', 'TEKT4P2', 'CHKA', 'SURF4', 'ZFX', 'STK10', 'RAB36', 'ZNF788P', 'HSPA8', 'SLC19A1', 'CD248', 'MIR647', 'ABHD11', 'FAM198B-AS1', 'CDC25B', 'TIMM22', 'ZNF772', 'PAQR3', 'CHD8', 'SETD1A', 'CREBL2', 'MED21', 'TENM4', 'IGKV3D-11', 'CNKSR1', 'RFC5', 'WDR27', 'IGFBP4', 'ZNF268', 'CARMIL3', 'STK19', 'PABPC1', 'TBCB', 'TLR4', 'UBQLN4', 'YTHDC2', 'NCMAP', 'UHRF1', 'ANAPC1P1', 'MAP3K14', 'TFEC', 'PARP8', 'HDAC2', 'NOL10', 'VMAC', 'CD84', 'GTF3A', 'GALNT4', 'NUDT19', 'CALHM6', 'KDM3B', 'SLC19A2', 'KCTD6', 'CDK5RAP3', 'KYAT1', 'MTFR1L', 'PRDM15', 'HEATR5A', 'PLSCR1', 'POLA1', 'MARK4', 'SUSD2', 'FADS2', 'UTRN', 'ZNF841', 'GAS6', 'KRIT1', 'PKD2L2', 'TRAV23DV6', 'CSE1L', 'SERPINI2', 'EFHC1', 'SPOCK2', 'CICP13', 'LINC00939', 'CLEC10A', 'FUT11', 'TRABD', 'MTMR14', 'PTCRA', 'LINC00960', 'ORC5', 'CDS2', 'DUSP1', 'NIT2', 'OTUD5', 'KLHDC7B', 'FAM230C', 'GOLIM4', 'UNC119', 'LUZP1', 'RTL10', 'TSEN54', 'MTX3', 'GPR171', 'TDRKH', 'CD99', 'KIF6', 'ANKHD1', 'MIR210HG', 'PCDHGA8', 'PTPN12', 'XCR1', 'MAPKAPK5', 'CD4', 'LRRC37B', 'PFDN1', 'SGK3', 'ZFP2', 'DHRS4', 'MAD1L1', 'HIVEP1', 'SRGAP1', 'E2F2', 'FADS1', 'LSG1', 'PRKAR2A', 'SSB', 'CDKN2A', 'MIR762HG', 'PAFAH1B2', 'PELI2', 'ST8SIA5', 'AGER', 'CHMP4B', 'DNAJC1', 'SLC35C1', 'TET2', 'SMIM4', 'IGKV1-17', 'CRY2', 'OSCAR', 'NET1', 'SVIL2P', 'PAIP1P1', 'ZNF30', 'ADAP2', 'SHOX', 'MANBAL', 'BAIAP3', 'ACIN1', 'LRRC4', 'TMEM212', 'CITED2', 'LINC02444', 'SESTD1', 'DAD1', 'SSBP3', 'TAX1BP3', 'LRRC25', 'ZNF763', 'TBC1D17', 'PLXNA1', 'PRDX3', 'E2F6', 'TRMT2A', 'MAP3K4', 'USP43', 'RAP2B', 'APOBEC3F', 'CEP55', 'HMGCL', 'COX15', 'OSTF1', 'LRCH3', 'VARS', 'ARID4A', 'FLVCR1-DT', 'SERPINA10', 'TFCP2', 'NFE2L1', 'PHRF1', 'SDK2', 'NKG7', 'SEPTIN3', 'LINC01781', 'PRRG1', 'ANKRD9', 'ZNF69', 'MOB3C', 'NARS2', 'TRBV30', 'TUBA1A', 'CEP350', 'GCNA', 'ACAT1', 'OPN3', 'LRRC34', 'CHCHD4', 'MYO9A', 'CASC15', 'NECAB3', 'HAT1', 'TXNDC17', 'GNG2', 'SDHC', 'SHLD3', 'ZNF865', 'RNF39', 'SCFD1', 'TUBA1B', 'TSPOAP1', 'PAPOLA', 'VSIG4', 'PET100', 'ABI2', 'KTN1', 'ZSCAN32', 'ARIH2OS', 'AK6', 'ZNF208', 'RP9', 'MRPL48', 'DCAF15', 'PLPP5', 'EXOC6', 'AKR7A2', 'ELL2', 'PAQR7', 'BTRC', 'BRD2', 'RENBP', 'UPK3BL1', 'NCKIPSD', 'TMEM159', 'HMGN5', 'DLG3', 'PLBD2', 'SYNE4', 'CFAP221', 'DNMT3B', 'RUFY2', 'CDA', 'TLCD2', 'KIF21B', 'USP14', 'RCHY1', 'MIR194-2HG', 'CCR6', 'ASGR1', 'SREBF2', 'FKBP1A', 'LAMTOR5-AS1', 'CDH23', 'CHN2', 'PRDM8', 'UNC13C', 'ZC3HAV1L', 'SH2D3A', 'ZMYND10', 'FBXO28', 'USP34', 'ELOVL6', 'IL18BP', 'DUSP2', 'ZNF682', 'MAS1', 'UBQLN2', 'GOSR2', 'LRRC1', 'CBR1', 'KIF16B', 'TPGS1', 'AEBP1', 'ETFA', 'ZNF879', 'CCDC85C', 'UBE2M', 'NFS1', 'MED25', 'KPTN', 'STX12', 'TNNT1', 'BORCS7', 'PSMD7', 'ZNF446', 'AP4M1', 'CEP63', 'MICAL1', 'RFX3-AS1', 'ZC2HC1A', 'ANXA7', 'MS4A6E', 'PROSER1', 'RCOR1', 'COX10', 'SYNPO', 'CENPT', 'HMCES', 'UCHL3', 'MYL6', 'DEC1', 'MRPL53', 'OXNAD1', 'GOLGA8T', 'ETAA1', 'EIF3EP1', 'MYH9', 'PSMC3', 'P2RY13', 'PPM1B', 'PSMD5', 'CCR4', 'PDZD8', 'RTL6', 'TUBA1C', 'ZFP1', 'PPWD1', 'KCNH2', 'MRPL36', 'GOLGA7', 'FBXL18', 'RPL32P29', 'ZBTB47', 'NPRL2', 'RHPN1', 'GLDC', 'ANKRD40', 'IGKJ5', 'PHOSPHO1', 'STRIP2', 'SPTLC2', 'TTC28', 'IFI27L2', 'TNFRSF18', 'ATG4A', 'WDR66', 'B3GALT2', 'ZNHIT6', 'VPS39', 'SELL', 'HSD17B13', 'DHX32', 'TRAPPC6A', 'PC', 'ABHD2', 'FZD4', 'NDUFS3', 'CHST2', 'OSBPL2', 'ELOA', 'RPL22P1', 'DFFB', 'NRIP3', 'CCDC57', 'EDEM2', 'PF4V1', 'FAM24B', 'SPINT1', 'TRIM46', 'CRADD', 'CRYZL2P-SEC16B', 'MED22', 'LRRC40', 'CRYZL1', 'MRPL19', 'EIF2B5', 'FSD1L', 'PHF19', 'SLTM', 'DDX19B', 'ZNF846', 'BTBD10', 'OST4', 'RNF213-AS1', 'GPRASP2', 'FSTL1', 'ABCB9', 'ABT1', 'SND1', 'ETF1', 'SEPTIN6', 'TMCC3', 'LYNX1', 'CEP57L1', 'EPS8', 'SAP30L', 'NSA2', 'ARL4C', 'NEK9', 'RXRA', 'ZNF625', 'ZNF528-AS1', 'LINC00663', 'PRRT2', 'TPP2', 'SIRPA', 'FBXW4', 'NADSYN1', 'TYW1B', 'EXOSC7', 'TTC5', 'DCP2', 'LINC00957', 'CCND1', 'DPY19L2P1', 'CCDC28B', 'PIK3C2A', 'TOB1', 'CCL4', 'PLCB1', 'SLC25A26', 'ZNF253', 'TACO1', 'PHIP', 'MTA2', 'TRIM65', 'LEPROTL1', 'SPIB', 'LINC01963', 'ABCB1', 'DNAJB9', 'GPRC5D-AS1', 'TPI1', 'NCOA2', 'YBEY', 'KMT2E', 'OTULINL', 'PPIA', 'SLC16A5', 'CRLF1', 'ZNF667-AS1', 'FCHO1', 'RNF157', 'REC8', 'CDK5', 'PCBP3', 'FIP1L1', 'COX18', 'MCUR1', 'THEM5', 'TCEA1P2', 'FAM92A', 'TENM1', 'USP54', 'ATG101', 'CCDC59', 'TLR3', 'SCAT8', 'LOXHD1', 'CFAP70', 'TMEM161B', 'MCAM', 'MARCH3', 'ATP1A1-AS1', 'TST', 'MRC1', 'TXN', 'MRPS18C', 'TECPR1', 'PNKP', 'HPS4', 'SATB1', 'WASF2', 'CDCA4', 'CAPRIN2', 'EIF4A1', 'ASNS', 'TRAV8-6', 'LMLN', 'AMACR', 'MT-ND4', 'LINC01871', 'MRPL16', 'FNDC3B', 'MS4A3', 'OBSL1', 'PLGRKT', 'SLC5A9', 'TYMS', 'EEF1AKNMT', 'ARMC1', 'USP46', 'KIF18B', 'NEK3', 'KIF1BP', 'BCAS1', 'STOM', 'LRRC42', 'MZT2A', 'CLIP2', 'CPSF6', 'AZIN1', 'TCEAL3', 'APBB1IP', 'DEDD2', 'SEMA4C', 'DARS-AS1', 'LINC00511', 'COMMD4', 'PEAR1', 'STARD5', 'PMEL', 'TINCR', 'ZXDC', 'BET1P1', 'DLSTP1', 'SNAPC4', 'PWAR5', 'TBC1D22B', 'XKR9', 'SPIN1', 'ZC3H12A', 'COL8A1', 'PJA1', 'CDC42EP4', 'RALB', 'BCORL1', 'CYP2E1', 'KRT73-AS1', 'PPP1R3F', 'TUSC2', 'FAIM', 'IGKV3-11', 'TRMT6', 'BRCC3', 'ABCC10', 'PANK2', 'RASEF', 'HDAC4', 'L3MBTL4', 'CDKN1B', 'HPCAL1', 'ANKRD13C', 'APBB3', 'RBBP5', 'TRBV7-3', 'NDC80', 'AKAP17A', 'RPS10P3', 'TMEM67', 'RBM45', 'POC1B', 'TMEM230', 'CLEC18C', 'VPS35', 'NATD1', 'RBMS1P1', 'LINC00853', 'THAP3', 'MMS22L', 'FCSK', 'LRR1', 'ZNF586', 'JMJD7', 'PRKACA', 'CATIP', 'ZNF761', 'FYCO1', 'CCDC82', 'ENDOV', 'CAMKK2', 'SELENOW', 'SAMD3', 'ZNF232', 'TAZ', 'ARFGAP3', 'TRIM4', 'OCLN', 'NCAPH2', 'SUSD3', 'CRLF3', 'ARL15', 'TGFA', 'TSEN2', 'GLG1', 'ADSSL1', 'BHLHE40-AS1', 'TTC13', 'UBQLN1', 'LYRM2', 'KIAA0040', 'ZFAND6', 'CCDC153', 'ZNF540', 'NOP56', 'PRUNE2', 'SDCCAG8', 'GTF2E1', 'GSTO2', 'OTOF', 'KCNMB3', 'SAP30', 'CLDN15', 'CLU', 'JRKL', 'PCLAF', 'ZNF436-AS1', 'KPNA4', 'TUFM', 'CISH', 'POLR2I', 'PRPF31', 'HIST1H4H', 'ZNF226', 'SMUG1', 'YIF1B', 'SNX29', 'IRAK1BP1', 'MAN1C1', 'DDX42', 'SERPINB1', 'DNAL1', 'WDR11', 'EFHC2', 'SUDS3', 'VAPB', 'VCAN-AS1', 'IDSP1', 'DNAH1', 'GARS-DT', 'IL15RA', 'ZNF25', 'CXCL5', 'CATSPER1', 'HMGN4', 'RCN3', 'IFIT2', 'MDM2', 'TBXA2R', 'GAPT', 'RPLP0P2', 'DAGLB', 'GNAI3', 'GPR174', 'JAK3', 'NKIRAS1', 'UBE2Q1', 'PNPLA3', 'ERFL', 'PTGDS', 'CTTN', 'LINC01562', 'KIR2DS4', 'TMEM185A', 'MTF2', 'SLC35A4', 'IGKC', 'POLD4', 'H2BFS', 'KLHL22', 'SNHG6', 'CIAPIN1', 'CIB2', 'PTEN', 'NOP9', 'C20orf197', 'PRPF3', 'PSMD8', 'TRBJ2-1', 'PLCD1', 'TRIM6', 'AKAP10', 'ECHS1', 'RNF114', 'USP38', 'SARDH', 'EVA1C', 'NFYB', 'IMPAD1', 'PRMT1', 'CARNS1', 'ANKRD46', 'NSUN2', 'RASGRP3', 'FAM156A', 'SPSB3', 'ZCCHC4', 'NEDD8', 'ITGA7', 'RCOR3', 'FAM98A', 'NFKBIA', 'IGHV1-3', 'FAM30A', 'MAP3K7CL', 'SRSF2', 'ZNF350-AS1', 'CENPF', 'PECAM1', 'PRORP', 'RIN1', 'ACAD8', 'C2CD3', 'BMP1', 'NDFIP2', 'NOL11', 'CACTIN-AS1', 'PIGK', 'RNF166', 'IGLV7-46', 'CCZ1', 'OAS3', 'ZNF557', 'CGAS', 'FAM111A-DT', 'ZNF668', 'TMEM175', 'NECTIN3', 'DNM1P41', 'NLRC3', 'SNRPG', 'ZNF853', 'CCDC32', 'CIR1', 'MBD3', 'ITGA1', 'IMP3', 'APCDD1', 'LANCL1', 'MRPS30-DT', 'IGKV1-6', 'SLC9A6', 'TRAPPC9', 'GZMK', 'EBLN2', 'MAP3K21', 'BRWD1', 'CCNT1', 'TSN', 'MAX', 'SDHB', 'TCF3', 'LINC01695', 'ACO2', 'FAM227B', 'DPH6', 'PIK3C2B', 'RNF216P1', 'AUP1', 'BTBD7', 'GIMAP6', 'ZNF830', 'ZBTB7B', 'EPB41L3', 'CCDC167', 'PAXIP1-AS2', 'POLR2G', 'SLC27A3', 'G6PD', 'EIF4EBP1', 'LGALS8', 'CMTM3', 'DCTN5', 'MYC', 'ATXN7L1', 'CRHBP', 'ST3GAL4', 'U2AF1L5', 'NRROS', 'KIR3DL1', 'LRRC56', 'SGSM2', 'ZMIZ2', 'SNRPE', 'LYN', 'CYP46A1', 'SELENOP', 'BTD', 'GALNT7', 'GZF1', 'YPEL1', 'MIGA2', 'CLEC1B', 'ARF6', 'HUWE1', 'KALRN', 'CCDC66', 'BRWD3', 'ELP1', 'MAGI3', 'ALS2CL', 'GPN1', 'GRB14', 'CEBPA-DT', 'SEZ6L', 'STRCP1', 'PRR7', 'CNOT6', 'PTPN11', 'FBXL2', 'NDUFC1', 'PTX3', 'MIB1', 'MIRLET7BHG', 'CSDE1', 'GRN', 'H1FX', 'STYXL1', 'PPRC1', 'SPOPL', 'NFAT5', 'AHCY', 'MTR', 'PCNP', 'ZNRF1', 'SUSD6', 'GALNT3', 'DDT', 'HSBP1L1', 'IRF2BP1', 'SUCLG2', 'RNU6-415P', 'TLR2', 'MRM1', 'RPL14', 'BCAT1', 'DNMBP', 'USP21', 'SNHG9', 'TAF1B', 'RASA2', 'ZBTB9', 'LRRC37A16P', 'AGPS', 'PCBP1', 'ZNF236', 'WFDC3', 'ZNF800', 'ZC3H3', 'EIF1AD', 'ZNF71', 'TUBG2', 'TMEM267', 'CREB3L4', 'FAM83H', 'HNRNPA0', 'LINC00539', 'TFE3', 'TBC1D7', 'POR', 'C1RL', 'EPCAM-DT', 'SLITRK5', 'MCU', 'TANK', 'LIMA1', 'TLCD4-RWDD3', 'SNORD94', 'SNAI3-AS1', 'LRRC27', 'STIL', 'SRP14-AS1', 'MSTO2P', 'USPL1', 'ZBED2', 'ERCC1', 'ATP6V1G1', 'NDRG2', 'RAPGEFL1', 'PIK3CG', 'KIF27', 'MLC1', 'CNOT2', 'DDX41', 'TMEM254', 'CACNA1H', 'ZFYVE26', 'EDRF1-DT', 'LPCAT2', 'LMBR1L', 'MAP2K1', 'DCP1B', 'GBF1', 'PJA2', 'ATP11A', 'BIN3', 'INTS6-AS1', 'MTREX', 'MRPL51', 'RHOT1', 'ZNF469', 'SEMA6B', 'KRT8P33', 'MAGEH1', 'STARD7-AS1', 'DERA', 'NAP1L1', 'PRICKLE1', 'SHPK', 'PELI1', 'ATL1', 'LCAT', 'NPIPB11', 'ASNSD1', 'BAG3', 'AGO2', 'MFSD13A', 'NODAL', 'SRP54-AS1', 'TMEM222', 'AK5', 'TRGC1', 'RPH3AL', 'DPH7', 'CIC', 'ERF', 'OAF', 'FAM122A', 'RAB3A', 'SELENOS', 'NAALAD2', 'PSMD9', 'SPATA17', 'CHD1L', 'BIRC5', 'NUTM2A', 'RIC8B', 'RALGPS1', 'SLC45A3', 'KPNA3', 'ATPSCKMT', 'GPRC5A', 'DGCR6L', 'ISYNA1', 'PRCP', 'CTSB', 'HSF2', 'RAD23B', 'SLC25A27', 'SNORA73B', 'INPP5K', 'AFF1', 'MTOR', 'TRMT11', 'ELMO2', 'TBC1D31', 'ADIPOR2', 'EXT1', 'LCN12', 'FADD', 'PRPF40B', 'PLCXD2', 'SPIRE2', 'RAB32', 'M6PR', 'PHLDB2', 'GDAP2', 'GNB1', 'ETFBKMT', 'MCRIP1', 'IL13RA1', 'MPHOSPH8', 'ANKRD34A', 'AXL', 'CD37', 'AURKB', 'CYP1B1', 'AKAP6', 'LRPAP1', 'ILKAP', 'NUDT18', 'VPS13D', 'CDIPT', 'RBMX', 'PRAF2', 'MTHFD1L', 'CMTM6', 'SNX5', 'WRN', 'BUB1B', 'SLC38A11', 'PHF10', 'ZNF143', 'BBX', 'CHRNA5', 'CD36', 'ACPP', 'ERI1', 'MAGEF1', 'PKIB', 'PPP1R3B', 'PRSS53', 'RNF19B', 'LINC01145', 'SF3B3', 'TJP2', 'POFUT2', 'MYH3', 'RNF13', 'AIRE', 'AP2M1', 'ALDH3B1', 'SEC14L1', 'GTPBP10', 'ZNF580', 'LINC00115', 'SLC25A42', 'SZRD1', 'ZC3H7B', 'HNRNPCP1', 'CLTB', 'SLC35B2', 'LARGE2', 'GLUL', 'CSRP1', 'USP1', 'VPS35L', 'TRAV8-1', 'WTAP', 'PTRH2', 'DUSP8', 'STK4', 'CARD6', 'CMIP', 'B4GALNT3', 'STX17', 'PAK4', 'EXD3', 'EIF2S2', 'RAB1A', 'ZNF467', 'SEH1L', 'METTL16', 'SLC5A10', 'NEURL1', 'ATP9B', 'JAZF1', 'B4GALT2', 'RNF38', 'GPR89A', 'FBXO48', 'HSCB', 'PHBP9', 'CMTM2', 'VTA1', 'PPP1R12B', 'CD5', 'DUSP23', 'GPAM', 'PARP1', 'TFRC', 'CCSER2', 'CAMSAP1', 'NBPF20', 'PAXBP1', 'RFX3', 'AIF1', 'KCNK13', 'EIF4A3', 'B4GAT1', 'CERS2', 'HLA-DOA', 'MT-CO2', 'TESPA1', 'FAM241A', 'KIAA2026', 'NRP1', 'GCNT3', 'LINC01091', 'CHAD', 'SEC11A', 'RFTN1', 'MPV17L', 'CD81', 'RCAN1', 'MELTF', 'LINC01579', 'SOX12', 'ZNF223', 'KDM4A-AS1', 'ZNF512B', 'IRAK4', 'CAMLG', 'MCPH1', 'LAMTOR3', 'N4BP2L1', 'ZG16B', 'C17orf100', 'APH1B', 'TRAV12-2', 'ATRIP', 'HIP1R', 'MDK', 'ZSWIM8', 'PIAS2', 'EPAS1', 'SCARNA9', 'TRIM56', 'ISCA2', 'SLX4IP', 'SNX18', 'HAUS1', 'DPYD', 'GTF2H1', 'PYCARD', 'DIS3', 'DNM2', 'SLC16A1-AS1', 'LGALS9', 'PLAU', 'EIF2A', 'TGM1', 'GMPPA', 'ZC3H10', 'PHF3', 'MTHFR', 'TAF8', 'DSP', 'TMEM120B', 'ZNF805', 'INPPL1', 'IDH1', 'MYCBP2', 'SLC38A7', 'RAB6A', 'UNC5CL', 'EDF1', 'ZBTB3', 'RPL21', 'DDX60L', 'WIPI2', 'FBXO15', 'WDR1', 'RB1CC1', 'GOPC', 'LDHAP2', 'PDPK2P', 'CRCP', 'TNFRSF14-AS1', 'GTF2IP13', 'LINC01624', 'RGPD4-AS1', 'WRNIP1', 'DOT1L', 'AANAT', 'NAPG', 'ASPRV1', 'DEPDC7', 'KHDC1', 'ZC3H13', 'SDC3', 'C2orf76', 'DLGAP4-AS1', 'MST1P2', 'IL1RN', 'RNF122', 'MOB4', 'PA2G4', 'MPHOSPH9', 'RAB22A', 'CCNI', 'TSTA3', 'FBXL3', 'SOCS6', 'BCDIN3D', 'ZMYND8', 'CCDC169', 'CXorf65', 'SP140L', 'PAXBP1-AS1', 'STEAP3', 'PIK3CB', 'IGHA1', 'RFX7', 'SPATA5', 'CMAS', 'SPR', 'CREBZF', 'IQSEC1', 'MIA3', 'ZNF680', 'DLC1', 'NFKBIZ', 'LINC00623', 'PCSK6', 'SETMAR', 'KATNBL1', 'TXK', 'SPIN3', 'RCN1P2', 'MAP3K20', 'EDC4', 'TUBGCP2', 'CALCOCO1', 'CAPN12', 'ANAPC1', 'CNOT9', 'KCNJ1', 'EIF2AK2', 'LY75', 'TTLL5', 'C1orf21', 'GIMAP5', 'MCM7', 'OR7D2', 'TRPC1', 'AQP10', 'CMAHP', 'PILRB', 'STAG2', 'RP9P', 'SIMC1', 'KLHL18', 'PPP6C', 'LINC01311', 'SNF8', 'RNH1', 'HOXB2', 'HIC2', 'QPCT', 'HNRNPF', 'WDR77', 'CCDC9', 'CCT3', 'LILRB2', 'COG4', 'RGS10', 'ARMH1', 'LINC00635', 'FUNDC1', 'BAIAP2L2', 'MHENCR', 'LINC02345', 'EFNB1', 'SEC24B-AS1', 'TMEM167A', 'PPP6R3', 'LINC00278', 'UBXN2A', 'MPPE1', 'DLX6', 'DNAJB11', 'ECE1', 'MORF4L2', 'SBNO2', 'TEF', 'CNKSR3', 'GSAP', 'NACC1', 'MSL3P1', 'STAT5A', 'MRPL18', 'GNB5', 'THUMPD2', 'MERTK', 'XPNPEP2', 'P2RX5', 'NINL', 'KRTAP5-AS1', 'ZMYND15', 'MRPL9', 'MEF2B', 'PIN4', 'SRF', 'ACBD6', 'API5', 'EFCAB14', 'CWC25', 'CD1A', 'LINC01278', 'AAK1', 'SH2B3', 'ZBTB17', 'GXYLT1', 'TLR7', 'VIRMA', 'RCVRN', 'MGLL', 'BICDL1', 'H2AFJ', 'OSBPL1A', 'ADGRD1', 'ZNF561-AS1', 'FAM193B', 'UTP14C', 'EIF3C', 'HLA-DQB2', 'LENG1', 'CYTH4', 'UBE2A', 'SYTL2', 'MED23', 'SOD2', 'TANC2', 'DDX39B', 'FAM49A', 'CASZ1', 'COPRS', 'RAD51-AS1', 'TCP1', 'CDC42BPG', 'GLIPR2', 'ZNF45', 'DDO', 'ZNF567', 'PPME1', 'BEX4', 'C3orf62', 'CNIH2', 'NDUFS8', 'SCAP', 'YAE1', 'TICAM1', 'PTPRM', 'ZBTB37', 'FAM83G', 'MBTD1', 'LINC02042', 'MAST3', 'TMEM81', 'NDUFAF7', 'TXNDC12', 'MRPL21', 'ZNF445', 'CLPP', 'C17orf75', 'PIK3R6', 'PYROXD1', 'UNC93B1', 'TSC22D3', 'CLIC3', 'GTF2IRD2', 'KANSL1L', 'LINC01004', 'OBSCN', 'SLFN12', 'ELP6', 'FAM102A', 'ARMH3', 'MAN2B1', 'ACER1', 'CPTP', 'ZNF398', 'SUMO1P3', 'TP73-AS1', 'SNX3', 'KIAA1841', 'SKA1', 'KCNQ5', 'NABP2', 'LAMTOR1', 'SMIM10L1', 'KIF9', 'ADK', 'FBXW7', 'EDAR', 'EDRF1-AS1', 'ACTA2', 'TMEM30A', 'CDK11A', 'P2RY8', 'ANKRD36C', 'RIN3', 'TXNRD3', 'PDGFRB', 'LRRC75B', 'ZNF717', 'MAD2L1BP', 'MRPS23', 'PLAGL1', 'DYNC1H1', 'SHLD2P1', 'ZDHHC13', 'C11orf71', 'NDUFC2', 'VPS72', 'RSBN1L', 'TMX1', 'ZNF135', 'RPL35A', 'ARHGAP44', 'NEO1', 'ANAPC15', 'NIBAN3', 'UBC', 'MASTL', 'RIPK2', 'ZFP69B', 'NRAS', 'CES4A', 'KDM6B', 'ITGB8', 'RNF43', 'ZC3H8', 'PANO1', 'PARD6A', 'TIPRL', 'ZNF587B', 'GLT1D1', 'RPPH1', 'DONSON', 'UCK1', 'HOXA9', 'FOSL2', 'IRF9', 'NDRG1', 'CSF2RA', 'PIWIL2', 'CALCRL', 'DDHD2', 'TMEM150B', 'INTS11', 'SLC41A2', 'ZNF79', 'CHD6', 'ZC3H11A', 'NAA60', 'MAPK7', 'METTL26', 'SMARCB1', 'HNRNPD', 'TMEM169', 'NME2', 'LPIN2', 'IL20RB', 'MAPKAPK3', 'PSD', 'TBPL1', 'GABRR2', 'N4BP1', 'NEU3', 'FAM192A', 'STX3', 'XKR8', 'ETFDH', 'RETREG2', 'SNX33', 'TMEM208', 'TLDC2', 'LIPC', 'MBNL2', 'TIMM9', 'FMNL1', 'EIF3K', 'TRAV8-5', 'COL9A2', 'PHTF1', 'PLAA', 'SRGAP2', 'CD300LF', 'SS18', 'NHEJ1', 'MRPS33', 'FAM111A', 'CS', 'NAPA', 'PRSS21', 'SMYD4', 'MRPL47', 'PPP1R26', 'SNORD62B', 'GALNS', 'HAAO', 'KLHL24', 'RAB3GAP1', 'ADCY3', 'HAR1A', 'LAIR2', 'PCMTD2', 'PPP1CC', 'GPR89B', 'RNASEK', 'LINC00893', 'NAA80', 'FKBP14', 'WDR26', 'RPS26', 'CFH', 'SNORD83A', 'ZNF572', 'UQCRFS1P1', 'ZNF284', 'TTC4', 'UBE2F', 'ATP13A4', 'HDAC1', 'SLC35E2A', 'WDR13', 'RHOBTB1', 'ZNF629', 'CAPNS1', 'KIZ', 'SMIM12', 'NDST1', 'PLEKHH2', 'HLA-DRA', 'LTA', 'TNFSF12', 'PHF6', 'DCAF6', 'CATSPER2', 'EXTL3-AS1', 'FAM86C2P', 'TRBV14', 'FLYWCH1', 'IWS1', 'ARL3', 'LPGAT1', 'RAB9A', 'GPD2', 'SERPINE1', 'MAP3K11', 'SLFN5', 'UBA6', 'CDC42SE1', 'TMEM184A', 'MT1F', 'FAM78A', 'CTSD', 'LANCL2', 'UQCC2', 'WDR34', 'NEK11', 'C2', 'ICOS', 'COMMD7', 'GOLGA8Q', 'IMMT', 'LCOR', 'ZNF204P', 'IPMK', 'RAB8B', 'HPCAL4', 'AP1M1', 'HEG1', 'ADNP2', 'IFT57', 'ENTPD5', 'ADAM8', 'SEC14L2', 'IFT43', 'GAB2', 'DNAJC25', 'TTLL3', 'ABHD12', 'C18orf21', 'MFSD10', 'RPL41', 'STAG3L5P', 'HCAR2', 'PWWP2B', 'SIN3A', 'QRICH2', 'FAM172A', 'SON', 'MRPL45P2', 'ITPRIPL2', 'RHEX', 'SFPQ', 'ZFAND3', 'TULP3', 'WASH6P', 'DDHD1', 'MVB12A', 'KIAA0232', 'MTHFD2', 'MRPL34', 'GOLGA5', 'ADGRB2', 'TBC1D10A', 'CSNK1A1', 'DSTYK', 'RAB28', 'LDB1', 'PPP3CA', 'WHAMM', 'WWC3', 'KIF5A', 'MTMR3', 'AK4', 'NRGN', 'SNRNP35', 'STRIP1', 'TSC1', 'TAFA1', 'IFT20', 'INO80', 'PMS2', 'TTLL4', 'MPRIP', 'NME9', 'RUNX2', 'BBS1', 'DTWD2', 'FBXO10', 'GANC', 'STX1B', 'FAM177A1', 'NAPRT', 'ATP6V1C1', 'PSPN', 'REPS2', 'DNAJC18', 'MAL', 'PNPO', 'CIAO3', 'SAMD9', 'LINC02603', 'DNAI2', 'ATP5MD', 'LGALS3', 'SAFB2', 'MED4', 'PHF20', 'SLC39A13', 'THAP6', 'ACP7', 'CHCHD3', 'AGGF1', 'DLEC1', 'DSN1', 'SMARCAL1', 'MCM8', 'NEPRO', 'FAM174B', 'PABPC4', 'SPECC1L', 'ERCC6', 'GATC', 'GZMM', 'MAFF', 'MTHFS', 'TRBV28', 'TACC1', 'LINC02739', 'MICU2', 'PSMD1', 'SMIM7', 'G3BP2', 'SNTA1', 'GOLGA6L5P', 'YOD1', 'XCL2', 'MUSTN1', 'EPHX1', 'DYNLL2', 'AGO3', 'CD82', 'CHST11', 'UBAP2L', 'PDHA1', 'SLC46A2', 'ATG9A', 'KIF1B', 'AVEN', 'CCNF', 'VASP', 'LINC01722', 'FBP1', 'C1orf112', 'CUZD1', 'NPIPB13', 'IRGM', 'DEXI', 'RAB10', 'DDX6', 'HOXA10', 'EIF2AK4', 'CELF6', 'MDM1', 'METTL23', 'OAZ3', 'VSIG10L', 'ZFPM1', 'PLEKHF1', 'PRR14L', 'IQCK', 'SLC39A11', 'AKAP8', 'MT-RNR1', 'LOXL1-AS1', 'PRKCE', 'AK2', 'TSSC4', 'ELK4', 'C21orf62-AS1', 'RUVBL1', 'ZNF589', 'PRSS30P', 'ZNF83', 'TMEM45B', 'HIRIP3', 'CELF2-AS1', 'PCYT1A', 'NMT1', 'POC1A', 'RHOB', 'TLK1', 'NPEPL1', 'PISD', 'WDR31', 'PTPRE', 'GAS8', 'ZFYVE21', 'CA6', 'RPL17', 'RBM44', 'TRIM23', 'FCAR', 'PKM', 'BMI1', 'RGL1', 'FAR2P1', 'RNF113A', 'PNO1', 'SGTB', 'SMIM19', 'ZNF180', 'NUDT14', 'CALHM2', 'JMJD6', 'NDUFB3', 'LGALS3BP', 'ZNF503', 'TMEM99', 'ZNF41', 'C19orf54', 'CEP192', 'NGRN', 'OTUD4', 'CCDC170', 'TIPIN', 'B3GNT9', 'NIPSNAP3B', 'TNR', 'GTF2H4', 'ZNF362', 'ANKRD61', 'BDH1', 'IFI16', 'MINDY1', 'POGLUT1', 'MZF1-AS1', 'STK38L', 'DIS3L', 'CAPS', 'MPHOSPH6', 'HTATSF1', 'TRIR', 'BCL2L12', 'FBXL17', 'KLF3', 'TBC1D22A', 'ZNF815P', 'RECQL', 'AP2S1', 'KRT8P46', 'LRRC8B', 'PHB2', 'ZNF691', 'KRTCAP2', 'BORCS7-ASMT', 'NUAK1', 'SLC2A3P1', 'GALNT2', 'SGO2', 'COMMD8', 'MICOS10', 'DDX58', 'LINC02284', 'CARD19', 'ABHD17B', 'PRAL', 'NSMF', 'MUC1', 'PSMD13', 'MSH5', 'PIP4P2', 'MYO5C', 'ZHX1-C8orf76', 'NBPF3', 'MAGED2', 'TMEM62', 'ZNF324B', 'COPS6', 'CCDC24', 'RFT1', 'FASTKD5', 'HCFC1R1', 'ALKBH5', 'LSMEM1', 'ZNF43', 'FXYD7', 'CMPK1', 'RAD23A', 'SURF1', 'TMEM245', 'EMC3', 'CDC42BPB', 'IKBKB', 'STARD3NL', 'NDC1', 'SCYL3', 'DBP', 'ELOVL7', 'GAPDH', 'SF3A1', 'SCN3A', 'NREP', 'PHYH', 'CELSR1', 'TMEM135', 'SLC39A14', 'ME2', 'PITPNA-AS1', 'FAM72D', 'SYNJ2BP-COX16', 'SNRK', 'TRAK1', 'CREB1', 'CNOT11', 'RPS23P8', 'CAB39L', 'ENPP5', 'CACNB1', 'AGAP2', 'MKKS', 'STAT1', 'TMEM127', 'PRIMPOL', 'GFM2', 'SREK1', 'INTS1', 'CDC42BPA', 'TRA2B', 'TXLNGY', 'SUCLG2P2', 'HEATR3', 'ANAPC7', 'SH3PXD2A', 'ABHD14A', 'EIF4A2', 'KNOP1', 'CACNB4', 'CBX1', 'RAB3B', 'TRBV6-5', 'TSGA10', 'ATP6AP1', 'DOK2', 'ZFP37', 'IMPA1', 'YWHAB', 'DANT2', 'TMEM43', 'ROR1-AS1', 'LINC02225', 'PCBP2', 'ERN1', 'MATR3', 'LSM4', 'TMEM63B', 'CPT1A', 'EHD4', 'CDAN1', 'DHODH', 'SREK1IP1', 'GSK3B', 'ZNF433-AS1', 'CEP72', 'LDLRAD2', 'DSTNP1', 'TMEM64', 'CCDC58', 'UVSSA', 'SEC24A', 'FAM238A', 'GRWD1', 'FCGR1A', 'DCLRE1A', 'RLF', 'SNHG10', 'CASD1', 'MFSD1', 'FAS', 'PDCD4-AS1', 'C1orf50', 'CIART', 'RNF138', 'ICAM1', 'NADK', 'CYTH1', 'TES', 'HENMT1', 'LINC02362', 'SOCS3', 'HS1BP3', 'FAN1', 'RELL2', 'ATP2A2', 'FAM151B', 'SMARCD2', 'KDM1B', 'PFN2', 'ZKSCAN8', 'DIAPH1', 'DLK2', 'RPS11', 'SRA1', 'ADAMTS5', 'CCDC93', 'SETDB1', 'TUBGCP3', 'ARL16', 'CLCN2', 'TOR1B', 'MGME1', 'RAB3D', 'TIE1', 'RPL32P3', 'ZNF714', 'WTIP', 'EIF1B', 'LETMD1', 'DMPK', 'SPOCD1', 'B3GAT3', 'CDK8', 'GPRC5C', 'ZNF22', 'GORAB', 'NUP210', 'ALOX5', 'TMED2-DT', 'CICP16', 'AKR1E2', 'FAAP100', 'TAF11', 'STAG3L3', 'LINC00342', 'MED8', 'RAB5A', 'RFX5', 'FAM157A', 'CHCHD5', 'PLCG1', 'ZSCAN22', 'LY86', 'RPL34', 'GARNL3', 'ARL17B', 'ST3GAL2', 'COL13A1', 'MARVELD1', 'MTX1', 'SULT1A2', 'SGCD', 'LINC02649', 'RAB33B', 'CYB5A', 'RTN4IP1', 'COX5A', 'ILF3', 'AGAP9', 'ACAA2', 'C12orf73', 'PNMA5', 'SLC4A8', 'TAF12', 'SEC22B', 'NEU1', 'PSMC1', 'MT-TT', 'PTGES2', 'FAM118A', 'MAP4K1', 'ADGRB1', 'RABL2B', 'BIRC6', 'SEC62', 'DET1', 'ZSCAN9', 'ABL1', 'DFFBP1', 'C5', 'ZDHHC6', 'CHRNA10', 'ARHGAP32', 'EFCAB8', 'PJVK', 'INKA2', 'ZNF302', 'CIRBP', 'EFR3B', 'ENTPD1-AS1', 'ZDHHC20', 'PTPN1', 'ZNF669', 'SLC38A9', 'GPR15', 'MKNK1-AS1', 'ARID3A', 'STT3B', 'ZFAS1', 'WNT16', 'ANKRD20A5P', 'TBC1D10C', 'MED29', 'NEIL2', 'TRBV19', 'NOTCH2NLA', 'STRA6LP', 'MPND', 'RFPL2', 'BLMH', 'GINS1', 'GOLPH3L', 'HMGB3P32', 'TICRR', 'STK36', 'TSR3', 'PPP4R3B', 'WDFY3', 'COQ8B', 'MAGEE1', 'LRMP', 'DAPP1', 'UTP23', 'C8orf34-AS1', 'LINC01160', 'TAF1A', 'PHF8', 'SNX18P3', 'VIL1', 'COA3', 'GAS2L1', 'ITFG2', 'TMCO1', 'ZNF473', 'NCBP2AS2', 'MNAT1', 'TBC1D29P', 'FBXO17', 'NFIA', 'ZNF595', 'SNHG20', 'MIF-AS1', 'CHST15', 'MGRN1', 'CD44-AS1', 'ZNF529-AS1', 'GORASP1', 'TRIM17', 'SCAMP5', 'IFT81', 'INAFM2', 'MRPL52', 'MTMR1', 'GCNT4', 'CUBN', 'GSR', 'MSANTD3', 'DDB1', 'RALGPS2', 'ANKRA2', 'GRAMD2B', 'ARPC5', 'MYO3B', 'FAM13A', 'CCR7', 'TCP11L1', 'HIST1H2BH', 'SYNGR3', 'MED26', 'MTPN', 'EXT2', 'ZNF684', 'ATF7', 'CRYL1', 'TPCN2', 'KCNE1', 'FARS2', 'CNBP', 'PDZK1', 'SLC25A33', 'CDC7', 'BTN2A3P', 'HELQ', 'TMEM248', 'ZNF140', 'TREM1', 'CXCL8', 'PPIAP53', 'NCR3LG1', 'SPON1', 'TOMM22', 'UBAC1', 'NF2', 'SFMBT1', 'CENPK', 'PTK7', 'MRM3', 'EID1', 'IL3RA', 'ZNF785', 'LTA4H', 'ZNF84', 'SLC35B4', 'RPS10P5', 'STK25', 'SEPTIN5', 'CICP17', 'GDI2', 'PCCB', 'POMP', 'SMYD3', 'TRAV26-2', 'TIPARP-AS1', 'PARP14', 'WWP1', 'FBXO32', 'SOWAHD', 'TRIM27', 'PGM1', 'SEPSECS', 'TRBC1', 'ZADH2', 'XXYLT1', 'ZNF75A', 'CD83', 'ZW10', 'HADHA', 'COQ6', 'SCUBE3', 'NMT2', 'FAM47E', 'GPBP1L1', 'CLEC12B', 'RAB27A', 'VEGFB', 'ANGPTL6', 'FLOT1', 'MAPK8', 'RPL29', 'LTB4R2', 'SLC25A28', 'MEMO1P1', 'PKD1P1', 'CHST7', 'PTCSC3', 'DNHD1', 'EIF5A2', 'LINC01239', 'DCUN1D4', 'DHX38', 'ICOSLG', 'SART3', 'BBS4', 'YES1', 'AFG3L2', 'ZNF404', 'ZNF653', 'DDIT4', 'PLPPR2', 'SLC6A20', 'ZNF624', 'HECTD1', 'RALGAPA1', 'STIM2', 'TOPBP1', 'C8orf76', 'AKT2', 'TAOK3', 'RPL39L', 'FSD1', 'SOX13', 'CSF1R', 'MYLK3', 'PAQR4', 'SLC25A10', 'MDN1', 'HLA-DRB6', 'PAM16', 'SMARCD3', 'NUTM2B-AS1', 'RTRAF', 'DTX3L', 'NIT1', 'PRDX5', 'SLC35F6', 'MTIF3', 'AOC2', 'CACUL1', 'KDM4A', 'ITGB2', 'LPCAT3', 'SPRED2', 'DBH', 'ZNF239', 'TKFC', 'AUH', 'TRAP1', 'IL5RA', 'ANKMY2', 'FBXO8', 'MYB', 'SDC4', 'TPRG1', 'ZNF20', 'ZNF664', 'TNKS1BP1', 'ZNF74', 'CMBL', 'CCT5', 'HDHD5', 'TNFAIP8L2', 'RUBCN', 'MPHOSPH10', 'LRRC8C', 'STOML1', 'TCF7L2', 'C22orf46', 'DCAF1', 'HMGCR', 'STXBP5', 'REX1BD', 'XPO7', 'ZNF224', 'NUDT16P1', 'F8', 'TTYH3', 'LINC02705', 'KIAA2013', 'LIN52', 'NINJ1', 'B3GAT2', 'KCNA3', 'LINC01772', 'BATF3', 'LRWD1', 'SPATA33', 'EZR', 'NAAA', 'PARP3', 'GMIP', 'TSHZ2', 'TRGV4', 'IL2RA', 'NUMBL', 'SLK', 'ETFRF1', 'NAT9', 'ACAD9', 'RAB21', 'DALRD3', 'MANF', 'TP53I11', 'EIF3FP3', 'LRCH4', 'ZNF177', 'LILRB5', 'CLECL1', 'PLPBP', 'GPR68', 'MFN2', 'USP30', 'NPFFR1', 'SASH1', 'RTEL1-TNFRSF6B', 'MIEN1', 'MFSD8', 'MFAP3L', 'PPIH', 'SARS', 'DDX50P1', 'GATA1', 'WDR61', 'FAM114A2', 'PCDH12', 'C19orf53', 'GK', 'ARHGEF9', 'CDC27', 'HEATR1', 'OSBP2', 'RAB20', 'SMIM5', 'TACC2', 'IFNAR1', 'ITGB3BP', 'COMMD10', 'FLII', 'NMRK1', 'ZCRB1', 'FAM174A', 'MTG1', 'TSC2', 'SAMD14', 'PLOD1', 'BEND4', 'SLC36A4', 'CAMK1', 'SYNCRIP', 'TRAV12-1', 'UBL5', 'CTDNEP1', 'GPR65', 'DDIT4-AS1', 'SPRYD7', 'COL4A4', 'SBNO1-AS1', 'BCRP2', 'NDE1', 'ARMCX4', 'RDH16', 'GUCD1', 'GUSBP3', 'RYR3', 'CAVIN2', 'ARMC8', 'CDK10', 'TRBV6-1', 'TRANK1', 'XPOT', 'CLPTM1L', 'AP5S1', 'LMO2', 'FBRSL1', 'PIGCP1', 'ADAM17', 'TVP23C', 'USF1', 'ST13P6', 'RXYLT1', 'TAX1BP1', 'FNBP1L', 'GSTM3', 'TP53I13', 'ARMCX5', 'FN3K', 'ABHD17AP1', 'PTPRC', 'TOMM5', 'DUSP18', 'ANAPC5', 'KAT7', 'BRIP1', 'GNG7', 'KIF28P', 'AK1', 'LATS2', 'ACTR3B', 'SYNJ1', 'ABHD10', 'TMEM177', 'TRAF5', 'CCNDBP1', 'GPSM3', 'ARIH1', 'OTUD7A', 'NDUFB11', 'SPECC1', 'VNN3', 'CORO7', 'PVRIG', 'ATP6V0B', 'BORA', 'AMOTL1', 'LINC00899', 'PTGR2', 'MED28', 'TAF3', 'PGF', 'SRRM5', 'DIXDC1', 'RAPGEF2', 'AP5B1', 'CLIP1', 'RCL1', 'KLRC3', 'MRC2', 'PRAM1', 'SEC23IP', 'IL9R', 'ERMN', 'ZNF493', 'PDE11A', 'PSKH1', 'ZCCHC9', 'APPL1', 'CD247', 'GTF2F1', 'ANKRD44', 'TUBGCP4', 'RNF215', 'TNFSF15', 'GNA15', 'MRPS11', 'MYL5', 'MRPS31P4', 'ASPHD2', 'LINC00923', 'NR1H2', 'MPZL1', 'COX11', 'CCDC137', 'EIF5AL1', 'RAB30-DT', 'CCP110', 'ARGLU1', 'PCTP', 'SASH3', 'ZNF850', 'AKIRIN1', 'RAD51C', 'ADGRF1', 'NAXE', 'PDE8B', 'LBH', 'STK26', 'LSM2', 'GZMH', 'VDR', 'ZEB2', 'HNMT', 'PPAT', 'RNF217-AS1', 'VPS13C', 'ARPC3', 'NDUFA11', 'SLC16A10', 'UTP14A', 'DGCR5', 'FOXK2', 'ALDH3A2', 'C1orf56', 'SLC25A5', 'SNRNP25', 'TIGD2', 'ICA1L', 'MCCC1-AS1', 'KIF5C', 'AGAP6', 'SAR1B', 'P3H2-AS1', 'USP42', 'KIF19', 'PGLS', 'TMEM91', 'TSEN34', 'LHFPL5', 'RPRD2', 'NTHL1', 'ACTB', 'SIDT2', 'ARL17A', 'SCAMP4', 'MIIP', 'ACP1', 'BUB1B-PAK6', 'EMC10', 'SPATS2L', 'TBC1D1', 'RPL19', 'DPP8', 'NLRP2', 'ZNF471', 'CLUH', 'CLUHP3', 'CSNK1G2', 'FRRS1', 'KYAT3', 'FAAHP1', 'LSM10', 'BBS2', 'EPS8L2', 'DDX55', 'TLCD3A', 'RFESD', 'CCND2', 'SLC1A4', 'GLRX3', 'ELOA-AS1', 'ZNF449', 'GLTP', 'IGHV4-4', 'SKIV2L', 'SHISA5', 'VPS26B', 'IL7', 'NEDD1', 'NUGGC', 'CLINT1', 'AUTS2', 'DRAP1', 'ZNF674-AS1', 'CCL3', 'ARID2', 'ZNF114-AS1', 'MIRLET7D', 'SIGLEC17P', 'SLC4A3', 'DENND11', 'INSL3', 'POLR3C', 'NUTM2E', 'ARPC2', 'NRADDP', 'CLYBL', 'EEF1D', 'HEXIM2', 'ATOX1', 'SLC12A3', 'CHIC2', 'AKR1C2', 'SAYSD1', 'MSH2', 'TRIM14', 'ZNF460', 'ARHGAP10', 'PDE6C', 'CCDC183-AS1', 'PMS2P3', 'MT-TV', 'MAML2', 'MAP2K5', 'DNMT3A', 'GRSF1', 'SIRPB1', 'TRIM52-AS1', 'LRRC37A', 'COL9A3', 'FBXW11', 'DUTP6', 'PCSK7', 'COQ3', 'SCAF11', 'GMDS', 'CCNC', 'ASPM', 'ABHD17AP6', 'GTF2IRD2B', 'GTF2H2', 'NAV1', 'TNFSF8', 'IDI2-AS1', 'CUL7', 'NAGS', 'PRX', 'SLC39A1', 'PER3', 'C14orf132', 'STAT3', 'GEMIN4', 'HIST2H2BE', 'LYAR', 'ELAVL1', 'SMTNL1', 'ALDOA', 'PFN1P2', 'LINC02021', 'ZMIZ1', 'AQR', 'IL16', 'USP31', 'ADAT2', 'AP3B2', 'BRD8', 'LSAMP', 'CTU1', 'LINC00092', 'SAP25', 'SYCP3', 'TRAV26-1', 'TRAV20', 'DNAJC5', 'GDPGP1', 'KIAA1328', 'FIG4', 'GGPS1', 'TASOR2', 'TOM1L2', 'ATXN1L', 'LANCL3', 'ATPAF2', 'PUM3', 'IFT80', 'DUS1L', 'BACH1-IT1', 'RNY4P10', 'CPSF2', 'FAM243A', 'NPHP4', 'GSPT1', 'NRIR', 'C1orf74', 'EIF4E', 'MRPL11', 'ASB13', 'ZNF517', 'ZC3H14', 'ZNF775', 'KLF4', 'STON2', 'ANXA3', 'GAPVD1', 'MRPS2', 'CCSAP', 'SCAND1', 'ZNF213', 'SNRPF', 'ZNF611', 'MEF2A', 'USB1', 'DTWD1', 'C12orf29', 'RAB15', 'CCDC50', 'SPI1', 'SLC22A5', 'VAMP2', 'PGA3', 'BSG', 'SLC44A2', 'KCNIP4', 'HAUS2', 'LINC00670', 'SAC3D1', 'TP53', 'PIGP', 'C5orf34', 'ZNF627', 'UBN1', 'CYP27A1', 'SMG1P1', 'RIC1', 'SLC25A15', 'SNHG12', 'ABRACL', 'APEX2', 'LMBRD2', 'TMEM176A', 'U2AF1', 'ARL6IP5', 'MST1', 'PGBD2', 'CHRM3-AS2', 'UPF1', 'EVC2', 'NDFIP1', 'BNIPL', 'DNAJB2', 'FLT3', 'TFDP1', 'OR7E38P', 'PRRG4', 'SNRPB', 'SYNE3', 'MIAT', 'TMPRSS5', 'ZBTB8A', 'ZNF687', 'ZNF721', 'BTBD11', 'UFM1', 'IKZF3', 'PDE6A', 'SSTR3', 'RGL2', 'SLC39A8', 'MRVI1', 'NXNL2', 'ACOT11', 'CNPY4', 'CNTNAP2', 'VPS54', 'VWA8', 'ATP2B1', 'FGF7', 'DPY19L1', 'NRSN2', 'RMI1', 'ZNF571-AS1', 'POLR2C', 'SBSPON', 'NUMB', 'CDHR5', 'THAP9', 'SHMT2', 'TRIM62', 'OXER1', 'YPEL3', 'CACNA2D3', 'KLHL15', 'PIGQ', 'SENP7', 'ARMCX2', 'ACOT4', 'UBL4A', 'TCEANC', 'ARHGEF25', 'RNF44', 'NONO', 'KIF14', 'PSMD2', 'MKRN1', 'MOK', 'TNF', 'GRM2', 'GCN1', 'VASH1-AS1', 'ZNF630', 'NFKB1', 'LRRC47', 'TRGC2', 'CTNS', 'ZNF862', 'DNAJC10', 'MAMLD1', 'ZNF211', 'HIST2H2AA4', 'ADAMTSL3', 'ZNF414', 'TRIM24', 'FBXL12', 'CROCC2', 'FOXO4', 'HELZ2', 'TMEM255A', 'PSME2', 'ERLIN2', 'EXOSC6', 'DSC1', 'LY96', 'C1QB', 'OARD1', 'RAB11FIP5', 'ZNF598', 'C6orf163', 'HSDL1', 'NBPF8', 'DYRK1A', 'SCD5', 'SH3BP5L', 'TBC1D23', 'DDX11L10', 'HFE', 'SLMAP', 'AMZ2', 'BET1', 'MR1', 'DTX1', 'TRBJ2-3', 'KLRD1', 'SELENOO', 'FZD6', 'ITIH5', 'ACOT2', 'CHD4', 'ASB2', 'MIA2', 'NIN', 'NPM1P25', 'RBM27', 'RPL37', 'CENPL', 'PGRMC1', 'ZNF506', 'CFLAR', 'EPS15L1', 'RGPD2', 'STBD1', 'ENTR1', 'TBL3', 'LINC02086', 'PTGES3', 'SLC25A44', 'HNRNPA1P21', 'WDR3', 'PSENEN', 'NAA30', 'FAM76B', 'SET', 'CCDC121', 'PKD2', 'UBE3D', 'SNX29P2', 'MMP19', 'FMN1', 'ZFYVE9', 'MIS12', 'SFXN1', 'PRPF4', 'CLEC6A', 'FRMPD3', 'IGLL5', 'BCYRN1', 'ITGB7', 'NECTIN2', 'PRDM7', 'FBXL4', 'SERPINB8', 'PDLIM1P4', 'HIST2H4A', 'SMS', 'SECISBP2L', 'ZBTB6', 'MPEG1', 'THEM4', 'RPL7P1', 'FAM124B', 'SSRP1', 'TBX19', 'UGGT2', 'NEK7', 'DGCR8', 'SMCR8', 'LINC01347', 'HLA-DPA1', 'PLOD3', 'MRPS9', 'RSPH4A', 'CPNE1', 'CCDC71', 'PTPRZ1', 'NAGPA', 'TMEM44', 'PLEKHH1', 'LRP3', 'LINC02762', 'MIDN', 'LINC01637', 'FZD5', 'ERMARD', 'GNPNAT1', 'SKAP1-AS1', 'SPC25', 'TREML4', 'ANKRD18A', 'PLXNA4', 'ADGRE1', 'CAMK4', 'CPNE3', 'LINC00852', 'PRMT3', 'SCAND2P', 'MRPL24', 'USE1', 'HNF1A-AS1', 'ZNF85', 'PLA2G15', 'SLC66A3', 'OR2A1-AS1', 'RPL28', 'ZNF551', 'RCN1', 'ANXA1', 'POLR1B', 'MIR4435-2HG', 'OCIAD2', 'LDHA', 'MYO1A', 'NUFIP1', 'PRR7-AS1', 'CCDC86', 'TNFSF14', 'EVI5', 'ZSCAN21', 'ARRDC2', 'TLR5', 'DPRXP4', 'LINC00402', 'COG5', 'LDLR', 'NIP7', 'EPHA1-AS1', 'IFIT1', 'BTK', 'VENTX', 'AP1G1', 'C20orf194', 'ZBTB26', 'LEF1', 'ALKBH4', 'AKAP13', 'RAB11FIP2', 'UBASH3B', 'COTL1', 'ZDHHC21', 'CPT1C', 'PNPLA6', 'FIRRE', 'LSM14B', 'PKN3', 'DLX6-AS1', 'TRAF3IP1', 'PRPS2', 'RBM19', 'SAMD1', 'PPARA', 'SPON2', 'UCA1', 'OSBPL3', 'RASA3', 'DAZAP2', 'LINC01719', 'KCNAB2', 'THADA', 'ULK3', 'RNF220', 'TNPO2', 'DBF4', 'RILPL2', 'SLC7A7', 'ABLIM3', 'ZBTB4', 'CAMK2D', 'ZNF343', 'LMF1', 'COQ7', 'CENPQ', 'MAP3K3', 'STAT4', 'NUDCD3', 'CHEK1', 'NT5C3A', 'KIR2DL3', 'NUDT6', 'FOXD2', 'ENKD1', 'NBEAL2', 'SENP1', 'SMC2-AS1', 'JMJD8', 'COG3', 'GALNT16', 'SMIM26', 'WDR4', 'ZSWIM5', 'GOLGA4', 'CCDC144NL-AS1', 'CREB5', 'TANGO6', 'CCDC112', 'TARS2', 'SGMS2', 'FBXO3', 'RC3H2', 'ZBED6CL', 'PBLD', 'RPL12', 'THSD1', 'C19orf57', 'AHNAK', 'VASH1', 'TRAPPC13', 'TVP23B', 'FAM160B1', 'RGP1', 'RPP25', 'CXXC5', 'SNHG3', 'SEPTIN11', 'SLC25A17', 'FGFR1OP2', 'ZDHHC20-IT1', 'NDUFA7', 'SCOC', 'MS4A7', 'THBD', 'DOCK2', 'C1D', 'C5orf30', 'UBE2F-SCLY', 'C14orf93', 'MS4A14', 'POFUT1', 'WDR78', 'REEP4', 'SLC38A1', 'ZNF395', 'CD59', 'CFAP45', 'TMX3', 'MC1R', 'ATP6V0E2', 'JAML', 'AASDH', 'NIPSNAP2', 'MIR17HG', 'ERCC8', 'MAP4K5', 'SERINC2', 'AAGAB', 'ZRSR2P1', 'RFPL3S', 'PSMG1', 'TDP2', 'IGHV3-11', 'AFG3L1P', 'CLEC4D', 'NEMP2', 'MMP24OS', 'SLC25A16', 'SNX12', 'FAM131B', 'MTMR9LP', 'NRBP2', 'DLEU2L', 'KIF2A', 'PGAM5', 'PNRC1', 'PRKACB', 'RNASEH2B', 'ATP5PD', 'INCENP', 'RAD9A', 'ARHGAP22', 'HLX', 'SLC12A9', 'TMEM14C', 'VEGFA', 'WDR75', 'LRIG2-DT', 'CENPBD1', 'FEN1', 'ACAD11', 'CDK14', 'C1orf216', 'F13A1', 'ZBTB38', 'PPP3R1', 'GPR153', 'STX7', 'FTH1P8', 'TMEM273', 'GEMIN5', 'TDRD9', 'UBXN4', 'GNAQ', 'C1S', 'ELF1', 'RWDD2B', 'TRIM38', 'HOMER3', 'TRAF1', 'ZNF702P', 'NOD2', 'HARS', 'QSER1', 'AK9', 'NCEH1', 'EXOC3', 'RBM28', 'DENND6B', 'LRTOMT', 'RPL7P9', 'SLC37A2', 'TMEM189', 'ZNF678', 'BBS5', 'C11orf74', 'STXBP3', 'NUTM2A-AS1', 'TSG101', 'MPI', 'HAPLN3', 'PPIAP22', 'RPS15A', 'ZNF175', 'C1GALT1C1', 'FUNDC2', 'RAPGEF1', 'OGT', 'GIMAP3P', 'TTC9C', 'ZNF697', 'ALOX12P2', 'CEP104', 'CNNM3-DT', 'ARHGAP27P1-BPTFP1-KPNA2P3', 'NFAM1', 'RN7SL351P', 'GPRIN1', 'APC2', 'SLC12A7', 'UBE2K', 'MT-ATP8', 'NCOA4', 'BTF3L4', 'SMG6', 'ABCB4', 'CD2BP2', 'KCNC3', 'LDHAL6A', 'ZNF639', 'PACS1', 'EPRS', 'MAN2A1', 'C2orf92', 'ST20-AS1', 'SART1', 'BDH2', 'RPGRIP1L', 'ARL4A', 'WASH4P', 'RAB23', 'CASP10', 'MCOLN2', 'FAM217B', 'AIFM3', 'FHIT', 'PTPN14', 'USP44', 'BACH2', 'PATJ', 'C12orf45', 'PHC3', 'GTDC1', 'FYTTD1', 'ZFAT', 'ARHGAP33', 'STAC3', 'TMEM109', 'ZMAT4', 'EIF1AX', 'CKLF-CMTM1', 'C5orf56', 'CRYZL2P', 'SNU13', 'LINC01094', 'GLB1L2', 'ZWILCH', 'ASMTL-AS1', 'SNX11', 'VIM-AS1', 'CASP4', 'ETS1', 'CD209', 'VIPR2', 'PTGES3P1', 'DVL3', 'IGLV3-1', 'RNF135', 'EXOC6B', 'XRCC5', 'LLPH', 'NEK10', 'OBSCN-AS1', 'PPP1R10', 'DIPK1B', 'RNASEK-C17orf49', 'NPHP3-ACAD11', 'NELFE', 'BGLAP', 'VDAC2', 'FAM47E-STBD1', 'UXS1', 'VDAC3', 'IFNG', 'ACYP2', 'INAFM1', 'NMD3', 'JAM2', 'ATP6V1A', 'RARA-AS1', 'RAB24', 'SLC35E4', 'C11orf1', 'CRTAM', 'GRB10', 'UTS2B', 'SAMSN1', 'IL24', 'CEP290', 'AMT', 'NECTIN1', 'SDCBP2-AS1', 'ZNF396', 'TMEM209', 'METAP1', 'DUSP14', 'THBS2', 'GALNT8', 'PARP9', 'THOC2', 'HYLS1', 'AMZ1', 'ANKRD13B', 'TGFBR2', 'CIP2A', 'CLOCK', 'RPA3', 'GADL1', 'ADCY7', 'PRSS16', 'KIAA1549', 'NAALADL1', 'TENT5A', 'GFPT1', 'IGKV2D-28', 'HLA-F', 'SLC35C2', 'SLC6A8', 'HPGD', 'DNAJC30', 'LINC01205', 'CHCHD10', 'KEAP1', 'MIR573', 'TBC1D25', 'HEATR5B', 'DNAJB6', 'DNAJC27', 'PWP2', 'SNHG29', 'NNT', 'LINC01291', 'CCDC107', 'MMAB', 'MT-TP', 'PNMA3', 'CENPO', 'ADPRH', 'BCL7C', 'IFI44', 'NBPF12', 'SLC13A5', 'KPNA1', 'PXMP2', 'GALM', 'DPH3', 'PPIL3', 'MINPP1', 'MRPL44', 'CLN8', 'HNRNPA1P49', 'HSD11B1L', 'RTCB', 'RN7SL4P', 'RNASE1', 'INO80B-WBP1', 'LINC01730', 'PAK1', 'SSR3', 'TBC1D8', 'ZNF644', 'ARHGAP35', 'BOLA3', 'MARS2', 'PXN-AS1', 'MOSPD3', 'ABHD1', 'RSAD1', 'ZNF773', 'CRY1', 'PPP1R13B', 'FANCG', 'LMTK2', 'CNEP1R1', 'NFE2', 'BMP6', 'ARIH2', 'CUL1', 'LENG9', 'CGGBP1', 'PLEK', 'CDKN2AIP', 'PPP1R15B', 'JAZF1-AS1', 'LRRC20', 'ZNF322', 'KLRK1', 'TMEM243', 'MRPS26', 'ERC1', 'MASP2', 'DHRS7B', 'CALM2P2', 'PLTP', 'SLC12A2', 'MRPS18A', 'RPS16', 'APOM', 'MSL2', 'HNRNPH2', 'IFIH1', 'EDA', 'RPL6', 'CHST14', 'MCEMP1', 'ZNF621', 'AIP', 'POLR3GL', 'ZNF257', 'SEC61G', 'MRPL28', 'TRIO', 'ACSM2B', 'MIOS', 'LINC02207', 'COMMD3-BMI1', 'LIPE', 'NRIP1', 'CNTRL', 'AATF', 'MOV10', 'CCT7', 'ISM1', 'HMBOX1', 'PPIP5K2', 'FOS', 'CHI3L2', 'JRK', 'EMC9', 'GIMAP8', 'MYO7A', 'DNAH10OS', 'LINC01422', 'FMO4', 'TERF1', 'FCGR2A', 'EXOC8', 'CTDP1', 'EPSTI1', 'TIAF1', 'DSEL', 'CDCP1', 'MAP3K5', 'GGT7', 'WDR5B', 'SLC31A2', 'DHRS4-AS1', 'SYNE2', 'PPTC7', 'PPEF2', 'CD226', 'CCDC88B', 'TUBB6', 'CDH12P1', 'RGS9', 'PRDM2', 'C12orf60', 'CCDC40', 'TTC34', 'DUSP3', 'INPP5F', 'MBOAT4', 'STYX', 'UBR4', 'COX7C', 'TNRC18', 'CLMP', 'RBX1', 'UBA7', 'FAM104B', 'RAD9B', 'RAB11FIP1', 'POLL', 'IFNGR2', 'TIMM17B', 'L3MBTL2', 'PROS1', 'ITGA4', 'ZNF263', 'GTF2A1', 'MED18', 'SPATA20', 'COMMD1', 'GTPBP1', 'SIRT2', 'LRRC45', 'RTP4', 'ZBTB11', 'ACO1', 'GTF3C4', 'USP32', 'NANOG', 'ROM1', 'TEX261', 'CDK9', 'C11orf21', 'SMG1P2', 'CLASRP', 'DENND1A', 'ZNF608', 'ANKRD54', 'GP1BA', 'ATL3', 'CZIB', 'CYP4F22', 'PDLIM5', 'SLC22A20P', 'HSPA13', 'PPP2R5B', 'CD101', 'HERC3', 'SLAMF7', 'IGSF10', 'FBXL14', 'NOCT', 'ASCC2', 'TMEM128', 'ANKRD39', 'COPG2', 'TMEM229B', 'TRAPPC12', 'METTL18', 'MCMBP', 'PBXIP1', 'GLB1L', 'LINC00937', 'WDR33', 'ABTB2', 'PGAM1P8', 'ZNF562', 'BZW1', 'LINC00824', 'LMOD3', 'CLASP1', 'SLC26A11', 'SLC7A5', 'MYH10', 'CCT6B', 'MOB3A', 'RIPK3', 'AP2A1', 'MT-TY', 'NEGR1', 'CCDC114', 'NFATC2', 'KLRC1', 'TESK1', 'RPL4P1', 'SLC18B1', 'YAF2', 'NPR2', 'TMEM104', 'PPFIA1', 'CD53', 'RRNAD1', 'ST3GAL3', 'ZNF875', 'ZBTB16', 'CTIF', 'EEF1A1P13', 'CERCAM', 'APOLD1', 'MALL', 'HK2', 'B3GNT7', 'LINGO2', 'PCDHGB6', 'LINC01259', 'SLC14A2', 'TOMM6', 'BRD4', 'MKRN3', 'SNIP1', 'BET1L', 'TMOD2', 'EHBP1L1', 'APOA2', 'SPHK2', 'SUPT6H', 'RNF103', 'ITSN1', 'P3H4', 'DMAC2L', 'ACADM', 'WFS1', 'KBTBD6', 'NAP1L4', 'SLAIN1', 'CREG1', 'FILIP1L', 'MRAS', 'VPREB3', 'PLEKHB2', 'TNK2', 'MAB21L3', 'CEP250', 'CD79A', 'LTBR', 'SCAF4', 'SMIM30', 'JADE3', 'S100PBP', 'HNRNPUL1', 'GGA2', 'DPPA4', 'PCDH1', 'LINC00526', 'CHAF1A', 'BUB3', 'RCAN3', 'LINC00987', 'LNPK', 'LOXL3', 'MPP2', 'RFC1', 'PHKA2', 'TAB1', 'RDH13', 'SMIM11B', 'GPR108', 'NIPA2', 'TRIM37', 'SLC27A2', 'CD44', 'QSOX1', 'UHRF1BP1', 'IPO11', 'SLC50A1', 'BHLHB9', 'APOL3', 'NCF4', 'PDSS2', 'DNAJC4', 'MFAP1', 'SPATA7', 'CDV3', 'KCNJ14', 'ZNF10', 'ARHGEF2', 'MLH1', 'ZGLP1', 'RNF207', 'FAM153B', 'BMS1P4', 'MIR222HG', 'IQCM', 'PLEKHG3', 'TMEM86B', 'BMS1', 'CD46', 'SCRG1', 'RBL1', 'ATP13A3', 'YPEL5', 'COX6B1', 'DHX40', 'SMNDC1', 'PKIG', 'FIZ1', 'SLC15A2', 'HAUS8', 'DMAC1', 'VPS53', 'ATR', 'C12orf43', 'TOLLIP', 'LINC00662', 'MKLN1-AS', 'MXD4', 'PTPA', 'GPLD1', 'BBS10', 'LINC00513', 'DHRS11', 'NCF2', 'ZMAT3', 'ATAD2', 'FAM66C', 'LLGL2', 'TRMT1L', 'ZNF33B', 'B3GALT4', 'CLDN11', 'KRT23', 'RIOX1', 'EIF4BP7', 'NENF', 'TINF2', 'MYH11', 'WASH7P', 'YPEL4', 'CDK19', 'BEX5', 'GDF11', 'ZNF461', 'EIF3F', 'CHMP1A', 'GEMIN7-AS1', 'NAGK', 'CYHR1', 'ASXL1', 'HEXA', 'RHBDD1', 'AFF3', 'KCP', 'ATP5MF-PTCD1', 'RPUSD4', 'CMKLR1', 'POLG', 'HIST1H4I', 'GRAP2', 'SPEG', 'RAB39B', 'CEL', 'CBX8', 'LGALS4', 'ZNF131', 'LCN2', 'RPL10', 'SMC2', 'CACFD1', 'COL5A3', 'HIP1', 'MEFV', 'MOB3B', 'LST1', 'COL24A1', 'TGFBR3', 'RPS6KA1', 'PKIA', 'DUSP28', 'HDAC10', 'ZNF57', 'SMPDL3A', 'EAF1-AS1', 'MRPL23-AS1', 'PARS2', 'NFATC2IP', 'POU5F2', 'DACH1', 'MYO6', 'BMP8B', 'GHRLOS', 'HJURP', 'HOTAIRM1', 'POLR1C', 'RPL22', 'CCT2', 'CD34', 'HNRNPA1P48', 'METTL25', 'INTS2', 'HERC2P9', 'GOLGA6L9', 'HIBADH', 'LCMT2', 'SLC30A5', 'IP6K2', 'SLC36A2', 'STK31', 'ZNF768', 'FAHD2CP', 'PCGF6', 'ZSCAN5A', 'ANKDD1A', 'ITGAL', 'B4GALT7', 'REEP6', 'DHCR24', 'PCNX2', 'PDE4D', 'CCDC126', 'COLGALT2', 'PPM1H', 'PAQR8', 'LIAS', 'PTCH1', 'SHPRH', 'CPAMD8', 'MXD3', 'IGLV3-19', 'MEAK7', 'ATP5MC2P3', 'BTF3L4P2', 'LINC00653', 'LINC01410', 'NXPE3', 'TUFT1', 'PIK3R1', 'NT5M', 'DNA2', 'RETSAT', 'RWDD1', 'ZNHIT3', 'ZRSR2', 'ARHGEF10L', 'KNTC1', 'SNAP47', 'FAM53C', 'VWDE', 'CENPE', 'KANSL1-AS1', 'NAXD', 'RBM10', 'SSH2', 'PRKCH', 'GTF2E2', 'LINC02617', 'ZNF132', 'CCNI2', 'KSR1', 'IGFBP3', 'STAT5B', 'VMO1', 'PHTF2', 'TRPM8', 'SH3D19', 'TAF1D', 'CUL4B', 'NAT1', 'HCG11', 'TNFRSF21', 'MYZAP', 'TRIM35', 'ZC3H7A', 'SAMD4B', 'COA8', 'TWF1', 'TARSL2', 'TMEM219', 'TMCC1', 'XPR1', 'GAPLINC', 'UPF2', 'PPARD', 'RAD51', 'IRS2', 'GIMAP2', 'WDR86', 'CD300LB', 'BMPR2', 'EFNA4', 'BNIP2', 'LILRA5', 'PPP1R15A', 'PMFBP1', 'RCCD1', 'SQOR', 'SNX19', 'KCTD21', 'CISD2', 'GPCPD1', 'PAFAH2', 'FGL2', 'RILP', 'TSC22D1', 'C1orf43', 'DNAAF4', 'ERAP2', 'LINC01215', 'LINC02397', 'ARL14EP', 'CLHC1', 'ELAC2', 'FRS2', 'TNNI2', 'TRBV29-1', 'RPAP3', 'TTC33', 'CCR9', 'APOL2', 'FKBP8', 'ARL6', 'LGALS2', 'SLC25A1', 'U2AF1L4', 'RUNX1', 'AKT3', 'UCKL1', 'EPHA2', 'RNF25', 'DMXL2', 'TBC1D10B', 'CRYBB2P1', 'HLA-B', 'ABITRAM', 'KLK1', 'PFAS', 'ALKBH2', 'BYSL', 'DAAM1', 'CD1C', 'CHP2', 'SHOC2', 'RAE1', 'SMARCA5', 'POLH', 'WASL', 'MT-TE', 'PRKAR1B', 'MED1', 'PTPN9', 'RNA5-8SN1', 'SMCO4', 'ASCL2', 'NTN5', 'RPS29', 'RTN4', 'LRRC70', 'DCUN1D1', 'PITPNB', 'GRK5', 'TRIM66', 'KLHL8', 'ZDHHC3', 'GFM1', 'CENPS', 'HACE1', 'SMAD5', 'SPTAN1', 'ZFR', 'PITPNM1', 'LINC01238', 'TBC1D3P5', 'ZNF655', 'ZNF468', 'PDGFC', 'STK40', 'TOMM40', 'KBTBD7', 'UBL7', 'LRP6', 'TCTN3', 'DCAF8', 'PTPRS', 'EFHD2', 'KMT5A', 'MSL3', 'DGKQ', 'PTDSS2', 'STS', 'ZDHHC14', 'TOMM7', 'NDUFA13', 'GOLM1', 'SREBF2-AS1', 'PSMB8-AS1', 'CREB3L2', 'DPH5', 'C3AR1', 'AMMECR1L', 'C11orf54', 'IL10RB-DT', 'CCHCR1', 'CHRM5', 'SGMS1', 'ADCK1', 'FAM43A', 'SELENON', 'TMEM185AP1', 'KIF3B', 'BICD2', 'HTATIP2', 'TAB3', 'RNF144A', 'ZSCAN16', 'BCCIP', 'KCNN3', 'ZNF622', 'S1PR4', 'TNFAIP2', 'ALCAM', 'FEM1C', 'NPIPB4', 'KIAA0319L', 'MCF2L2', 'C4orf3', 'TMEM156', 'CCDC51', 'SFR1', 'APLF', 'PRNP', 'PFKFB2', 'TRPV3', 'C8orf82', 'NAP1L2', 'MEPCE', 'RGS17', 'IRS1', 'BTBD9', 'RNF216', 'PDK1', 'SOX8', 'CDR2', 'FAM161B', 'NPHP3', 'NYNRIN', 'SPAG4', 'ANAPC2', 'ADCY2', 'CMTR2', 'GSDMA', 'TRMT61B', 'FAM72A', 'STAG3L2', 'CTAGE4', 'PI4K2A', 'AMDHD2', 'CRYBG1', 'CYB5B', 'WASF1', 'HIVEP3', 'CALML4', 'APOL1', 'SRP72', 'PODXL2', 'IFT22', 'KLHDC2', 'MINK1', 'CBR3', 'IRF4', 'MT-CO3', 'ZNF813', 'GPR75', 'ZNF235', 'ZNF219', 'ETS2', 'CLEC17A', 'DARS2', 'NUDT13', 'IER3', 'REXO2', 'PLSCR3', 'FTH1P23', 'RUSC1', 'RAB2B', 'NCOA1', 'CDC40', 'PAPSS2', 'LYRM7', 'VEPH1', 'ZBTB48', 'LINC02019', 'SLX4', 'BMS1P2', 'SLC7A6', 'PANX1', 'TNFRSF9', 'EMILIN1', 'FAM8A1', 'LEAP2', 'ERVK9-11', 'SIRPG', 'SOD1', 'ITGB1BP1', 'AGK', 'ABCC3', 'ARL4D', 'ERLIN1', 'TAOK2', 'CSPP1', 'SEPTIN1', 'IGHV4-59', 'PLEKHA1', 'BLVRA', 'KDM5A', 'FLAD1', 'LRP5L', 'CCT4', 'PAX6', 'TRERF1', 'PWP1', 'DPY19L4', 'ALG13', 'SLC12A8', 'POLK', 'GNMT', 'CLEC11A', 'VPS11', 'FAM161A', 'HIST1H2BG', 'GHRL', 'NPAT', 'FCER1G', 'RBBP7', 'TANGO2', 'MAU2', 'ZNF192P1', 'KIF18A', 'TSSK6', 'CNN2', 'HYAL2', 'PARL', 'MARCH6', 'HMMR', 'TNFRSF1A', 'PTPDC1', 'C12orf75', 'SCLY', 'XYLT1', 'UQCR10', 'ZNF320', 'GPR19', 'TAC4', 'LAGE3', 'PRSS27', 'CD3G', 'TTLL12', 'CTAGE7P', 'DNAJC2', 'PYCR2', 'EDEM1', 'NDUFV2P1', 'SCPEP1', 'UBE2J2', 'ZNF708', 'ACP5', 'EXOSC1', 'GHDC', 'MMP23B', 'KAT8', 'FUT4', 'KRT17P8', 'PDIA6', 'DIAPH2', 'TMEM106C', 'LINC02614', 'CDNF', 'IGLV2-18', 'NCOA3', 'ARMCX3', 'MED30', 'CYP2D7', 'DOCK11', 'REXO5', 'RNF130', 'ZNF683', 'RPS28', 'ZNF37BP', 'ACTR8', 'STK16', 'BNIP3L', 'EPB41L5', 'GIGYF2', 'CBX6', 'AP1AR', 'ODF2', 'DNASE2', 'TLE3', 'ZBTB32', 'NME3', 'WDR83OS', 'TSPAN14', 'HIST1H2AG', 'SLC35B1', 'KCTD17', 'MEF2C-AS1', 'EID3', 'MTCO1P12', 'PRIM1', 'LDLRAD3', 'HCCS', 'CSTF2', 'TPK1', 'FAM149B1', 'FAM126A', 'FNIP2', 'INSR', 'SAG', 'CLIC2', 'DYNLRB1', 'PRPF8', 'CXCL9', 'PDZD4', 'CD3E', 'PEX12', 'ALPK2', 'ALDH6A1', 'KIAA0408', 'NOP16', 'BOK', 'PDE4B', 'RFTN2', 'TFB2M', 'TRIQK', 'FAM223A', 'SH3RF1', 'VTI1B', 'DNAJC24', 'FNBP1', 'ZNF200', 'GTPBP3', 'PODN', 'CHPT1', 'RIT1', 'NOTCH1', 'SLC8B1', 'SPAG8', 'CNP', 'MAP7D1', 'TPD52', 'RAD21-AS1', 'ZNF594', 'SFXN4', 'PHKG1', 'GON4L', 'RASSF3', 'RAB5IF', 'AIM2', 'PCED1B', 'STMP1', 'COMTD1', 'ERVK-28', 'MRPS10', 'E2F5', 'RAB33A', 'ZNF860', 'ARID5A', 'DCTN1', 'NDUFB7', 'TMEM14A', 'MT-ND5', 'LDLRAP1', 'TRAV35', 'UBXN11', 'ZACN', 'VPS50', 'CTBS', 'NPIPA3', 'B3GNT4', 'RINL', 'ABLIM2', 'MALAT1', 'SULT1A4', 'ATAD1', 'NIPA1', 'PCNA', 'TRAV14DV4', 'TRIM22', 'LRMDA', 'LCMT1', 'PRRG3', 'NBR1', 'RUFY4', 'MPZL3', 'SLC26A1', 'BAG1', 'BORCS6', 'KCTD20', 'ZNF32', 'C16orf87', 'RAD51AP1', 'CPA3', 'CLK4', 'SLC7A11', 'HRH2', 'KLHL32', 'TTC37', 'PGAP2', 'TTF1', 'POT1', 'PLB1', 'RPS4XP16', 'SPIN4', 'TRIM5', 'LRRC37A2', 'CCDC115', 'RITA1', 'ERMAP', 'DNAJC6', 'KLRA1P', 'RPS9', 'SMPD3', 'ZNF19', 'TIMM44', 'ZNF550', 'TELO2', 'DLL1', 'RRP15', 'SSU72', 'KAT6A', 'PCNX1', 'GCHFR', 'CILP', 'SNHG15', 'LEXM', 'ARFRP1', 'SMIM8', 'FUT7', 'SNHG30', 'P4HA1', 'COPS8', 'SNHG1', 'ANPEP', 'TNIP2', 'ZNF891', 'RNPS1', 'SRRM1', 'CCDC127', 'SPAG16', 'NOP58', 'RBM25', 'TRAPPC5', 'CAND2', 'ATP6V0C', 'ROCK1P1', 'MEGF8', 'NDUFAB1', 'ARFGAP1', 'AGBL5', 'AGAP4', 'SCAF1', 'S100B', 'DXO', 'PDCD6IPP2', 'RFX1', 'THAP1', 'SRGAP2D', 'MAPRE1', 'PCGF1', 'SINHCAF', 'TPX2', 'SPATA1', 'PINK1-AS', 'C11orf45', 'ZNF765', 'UBE2I', 'IGLV1-44', 'FTL', 'FXYD6', 'CEPT1', 'RBM15', 'SLC25A12', 'SYS1', 'CEP70', 'GGACT', 'ZNF274', 'HDGF', 'MAML1', 'EPM2A', 'PITRM1-AS1', 'TPH1', 'PRICKLE3', 'RPL7A', 'MTSS1', 'CCDC17', 'APIP', 'C8orf37', 'SARAF', 'CBX5', 'GLO1', 'SERPINA1', 'MFN1', 'PHACTR2', 'ST8SIA4', 'POLR1E', 'TMEM184B', 'AP1B1', 'INO80E', 'RPS6', 'CTR9', 'ALG1', 'ZNF141', 'IDE', 'POLR2H', 'FICD', 'QRICH1', 'KDM4C', 'FBH1', 'CDK6', 'CRYBG3', 'MAN1B1-DT', 'GTPBP8', 'CD38', 'PCM1', 'PPP2R5D', 'MORC2-AS1', 'NUCB2', 'CDC37L1', 'NUP133', 'SSH3', 'HEATR9', 'MAP3K2', 'CEP57', 'TPM2', 'AMIGO2', 'MED14', 'METTL6', 'SPINT2', 'LINC00458', 'MECR', 'DOCK7', 'ZNF26', 'C2orf88', 'ADA2', 'ZNF397', 'BFAR', 'WDR35', 'CCNE2', 'MAP2K7', 'F2R', 'TXNDC11', 'BRICD5', 'CNTNAP1', 'ZNF133', 'JARID2', 'HERC6', 'ST6GALNAC3', 'TRMT12', 'LHPP', 'RFWD3', 'SLC14A1', 'LINC00671', 'BSPRY', 'OPTN', 'TK1', 'ARRB2', 'GMEB1', 'EHMT1', 'ZDHHC1', 'PPP2CB', 'LINC01355', 'JDP2', 'METTL21A', 'GSTA4', 'UHMK1', 'FAHD1', 'SACS', 'USP47', 'GIMAP7', 'IPO5P1', 'RPS6KA3', 'ZZEF1', 'PIGW', 'WDR17', 'ACADSB', 'OGFOD2', 'SEPTIN8', 'DEK', 'BIVM', 'SCGB2B2', 'HTD2', 'ABHD6', 'LYRM1', 'MLYCD', 'VSIG10', 'LYPD3', 'PYGL', 'RPS2P46', 'FAT4', 'TMEM154', 'IGHV3-73', 'GPR84', 'ZNF789', 'AGMAT', 'CASP8', 'ADAMTS13', 'TMEM170B', 'SWAP70', 'ZNF354A', 'IDH3A', 'KLHDC4', 'IL6ST', 'CHMP2A', 'BLOC1S4', 'CSTF2T', 'IFIT3', 'CYP4F3', 'CCNYL2', 'GRIK1', 'ZCCHC17', 'FAM220A', 'ZDHHC8', 'RTF2', 'HOXB-AS1', 'TMEM216', 'BCL2L15', 'FGD3', 'G3BP1', 'NFKB2', 'CLEC4G', 'SNAPC5', 'MARCKS', 'FBXO27', 'OGG1', 'SRSF9', 'TMEM117', 'FAM210B', 'LSS', 'DENND1C', 'SUMF2', 'CSRNP1', 'HDX', 'TYW1', 'PPIAP9', 'ZNF318', 'ZNF181', 'CLEC4F', 'ZNRD2', 'VNN2', 'KRT72', 'CRYGS', 'TCERG1', 'INTS6', 'PRR13', 'RN7SL2', 'ACER2', 'STRN3', 'EDC3', 'MLANA', 'FCMR', 'FADS3', 'DLX4', 'R3HCC1L', 'RABGAP1L-IT1', 'C11orf72', 'ZNF337-AS1', 'HPSE', 'ID2', 'TSC22D4', 'SLC30A9', 'SKA2', 'LRFN3', 'MOSMO', 'ZNF778', 'PARPBP', 'ACTR2', 'HHEX', 'SEPTIN7-AS1', 'PSPHP1', 'SERTAD1', 'FAM234B', 'TRBV5-1', 'ASAP3', 'COA6', 'RTTN', 'VPS28', 'SCARF2', 'HCG25', 'CCDC186', 'LINC01089', 'C11orf65', 'TTC9', 'NSUN5P2', 'HSD17B1', 'RTKN2', 'POP7', 'SRGAP3', 'LONRF3', 'PELI3', 'NID2', 'CAMK2G', 'YTHDF1', 'LINC00221', 'CCNT2', 'TCHP', 'TPST1', 'ATG13', 'POLR3A', 'CA13', 'IDO2', 'WDR45', 'GDI2P2', 'VHL', 'FOXN3', 'PAIP1', 'SHCBP1', 'GABARAPL2', 'RARS2', 'CLEC2D', 'MEAF6', 'ZBTB5', 'ATP6V1E2', 'TMEM147-AS1', 'GRHPR', 'CTDSP2', 'NAT10', 'TRIB1', 'CAVIN1', 'CCDC6', 'CKAP2', 'IDI1', 'PIK3CD-AS2', 'SELENOK', 'SNRPA1', 'GLS', 'CALM1', 'CGRRF1', 'LPAR5', 'FRY', 'KDM4B', 'TMF1', 'ACY3', 'SNAPIN', 'STK11', 'PAIP2B', 'SMAP2', 'TRAV21', 'ANXA8L1', 'CD163', 'DGCR11', 'USP10', 'FUT2', 'ERGIC1', 'RB1', 'GGCT', 'IGHV3-33', 'GUK1', 'FCGR3B', 'ITGAE', 'UBR1', 'ATP2C1', 'ACKR3', 'VIPAS39', 'PCDHB1', 'PRPF40A', 'TMEM170A', 'PHGDH', 'TMEM200A', 'ABI1', 'MAN1A1', 'TP53I3', 'TRMT9B', 'CNN3', 'HNRNPA1P16', 'NCAPD3', 'MTMR12', 'WHAMMP2', 'UBE2B', 'LINC01531', 'ARL5A', 'PRDX6', 'RARA', 'USP32P1', 'ZNF670-ZNF695', 'EPN2', 'HERPUD1', 'ELP2', 'IFRD1', 'GBP3', 'SMAD4', 'ZNF667', 'CYB561D2', 'TRIM11', 'TIMM8A', 'VAMP3', 'BRCA2', 'S100A9', 'SPPL3', 'NEAT1', 'HELLS', 'CCL4L2', 'SCNN1D', 'A2ML1', 'ABHD12B', 'SNTB1', 'AMZ2P1', 'ARPIN', 'VPS33B', 'NUDT22', 'SMC4', 'KLC2', 'GPR157', 'STARD9', 'KLRG1', 'TPRXL', 'HNRNPA1L2', 'ZFC3H1', 'PCDHGC3', 'GSKIP', 'SOCS1', 'THNSL2', 'ZNF578', 'SENP3', 'ATE1', 'PPP1R8', 'AGAP1', 'DTX4', 'COPS5', 'GPR155', 'RHOF', 'SF3A3', 'C1RL-AS1', 'ZYX', 'ZNF365', 'SGPP2', 'AHCYL2', 'BCL2L2-PABPN1', 'TRAV41', 'POMT2', 'DHRSX', 'HKDC1', 'SLC3A1', 'C1DP1', 'SDCBP', 'ATF7IP2', 'LSM3', 'MECP2', 'HAUS1P1', 'IMPG2', 'TRBV3-1', 'MGAT2', 'PMF1-BGLAP', 'WNT2B', 'RPGR', 'CASP9', 'OR6R2P', 'ST3GAL5', 'TMLHE-AS1', 'TCP11L2', 'FEM1B', 'CBLL1', 'BTN3A2', 'FAM156B', 'ZNF781', 'GGH', 'NME8', 'TECR', 'MGAT3', 'TMEM50B', 'GBA', 'CDC20', 'ARL8A', 'TSPO', 'SEC24D', 'RRN3P1', 'MT-CO1', 'RSAD2', 'SPRYD4', 'PLAC8', 'MIEF1', 'RPS12', 'PPFIA4', 'LCP2', 'TNFRSF10A-AS1', 'ATP6V0A2', 'CDK13', 'ATP9A', 'GLCCI1', 'KLRC2', 'MTBP', 'ARHGEF10', 'ATP5PB', 'SIGLEC22P', 'SEMA4D', 'SUMF1', 'SCN8A', 'PYGO1', 'BIN1', 'U2SURP', 'ANAPC13', 'OCIAD1', 'CCDC90B', 'COX7A2', 'C11orf24', 'SMG8', 'LYPLA1', 'UTP20', 'RPP21', 'DIABLO', 'GLCE', 'ZNF207', 'CDK4', 'ZNF658B', 'SPATA6', 'MAPRE2', 'LINC02384', 'LIX1-AS1', 'IFI27L1', 'VPS16', 'NCALD', 'ATG4B', 'ABCC1', 'NCR1', 'PROB1', 'C12orf49', 'ATP2A3', 'BAG6', 'ERP27', 'ITM2C', 'CERS6-AS1', 'ADAM20P1', 'REST', 'PRPS1', 'PGM5P2', 'ZWINT', 'IGLV5-45', 'AK3', 'LINC00324', 'ZNF542P', 'FXYD2', 'H2AFY2', 'SMARCD1', 'ZNF623', 'LINC02693', 'DMAC2', 'BTAF1', 'NCK2', 'TMEM116', 'HM13', 'TTC27', 'B4GALT6', 'RRAGD', 'MYEF2', 'PPM1J', 'HCG4B', 'GDPD1', 'ZNF451-AS1', 'PNPLA7', 'RASD1', 'SIKE1', 'LRATD2', 'PEX13', 'NOC3L', 'PPP5D1', 'PSMB9', 'FCHSD2', 'KDM3A', 'SCRN3', 'SYAP1', 'ZNF823', 'AMPD3', 'MMP28', 'ELF3-AS1', 'RASSF6', 'EIF3G', 'EIF3B', 'TIMM23', 'ZDHHC12', 'LAX1', 'ABHD17A', 'ARHGAP1', 'GJC1', 'MPG', 'HERC5', 'TAF2', 'TEN1-CDK3', 'TMEM223', 'RNF31', 'SMARCC2', 'ZBTB7C', 'PEX7', 'VPS18', 'FMR1', 'PRKAA1', 'PIGF', 'POLE3', 'MTFR2', 'GBP2', 'C15orf40', 'CCDC134', 'LDHD', 'GSG1', 'FAAP24', 'GPAA1', 'SOS1', 'COCH', 'DHFR2', 'PRKCB', 'PTPN7', 'NAMPT', 'TRPV1', 'LEMD3', 'RRP1B', 'ODF3B', 'CACNA1I', 'ZNF491', 'MICU3', 'SNX10', 'ARMCX1', 'DLG1', 'TWISTNB', 'JHY', 'HSPB11', 'IRF2BP2', 'ISCA1', 'SLC15A3', 'C15orf41', 'EEF1G', 'IFNAR2', 'C9orf40', 'SNRPD2', 'TMEM256', 'NEK8', 'TTLL11', 'RUSC2', 'C4B', 'SLC9A7', 'MOCS2', 'FAM221A', 'FMR1-IT1', 'FZR1', 'RHD', 'TBC1D30', 'ZFAND4', 'TOPORS', 'ZNF774', 'EGR3', 'GAS5', 'IGLV3-21', 'UTP3', 'PUM2', 'ANKS1A', 'DERL2', 'PRDM10', 'TCEA3', 'HP', 'MARCH7', 'TP53BP2', 'NOP2', 'FAM98B', 'HIC1', 'SPTLC1', 'DR1', 'FGFRL1', 'IBTK', 'CDKL3', 'NUP155', 'PPP1R21', 'ACBD7', 'UFL1', 'UACA', 'LUZP6', 'PAN3', 'RGS2', 'SLC25A32', 'FGFBP3', 'ATP11C', 'TMEM33', 'NIFK', 'PHKB', 'VTI1A', 'HACD4', 'ARL6IP6', 'RNPS1P1', 'DDX11', 'TM9SF2', 'ZNF331', 'RAB43', 'RSL1D1', 'CEP95', 'C18orf32', 'GLIPR1L2', 'XPNPEP1', 'ZNF736', 'CD40LG', 'IFT27', 'ECH1', 'MIATNB', 'ARHGAP42', 'TRAV1-1', 'ATP5MC3', 'GMFB', 'TMEM186', 'RABEP1', 'MAP4K3', 'VCPKMT', 'MCM6', 'ZKSCAN4', 'CNOT1', 'MGST1', 'YEATS2-AS1', 'PPP4C', 'CA5BP1', 'NOA1', 'TYW5', 'OPN1SW', 'DST', 'TPM1', 'NGDN', 'PPIE', 'ARHGEF18', 'NT5C2', 'MT-TN', 'ERCC6L', 'SPIDR', 'RBPMS', 'ZDHHC2', 'COMMD6', 'FCHO2', 'ZC4H2', 'MYO10', 'TAB2', 'TNFRSF4', 'KIAA1958', 'CXCR3', 'FAM133B', 'RBAK', 'ARHGEF12', 'KATNAL2', 'GRAMD1A', 'GTF3C1', 'MON2', 'ARMT1', 'BCAS4', 'AMPD2', 'GPNMB', 'TRMT10A', 'SERHL2', 'SETD7', 'UMPS', 'N4BP2L2', 'PPFIBP2', 'STAMBPL1', 'RBM18', 'COLEC12', 'HAMP', 'IL11RA', 'RNASEH1', 'TEDC1', 'ZNF217', 'EDARADD', 'PMS1', 'SPCS3', 'PSMG3-AS1', 'SH3BP1', 'GRAP', 'CPEB4', 'IGLV1-40', 'NUP35', 'KIAA1586', 'MRPS31', 'INTS4P1', 'ZSCAN26', 'MIEF2', 'SLC51A', 'CXCR1', 'IFT172', 'EIF3D', 'B3GNTL1', 'STK11IP', 'TPTEP1', 'WASHC4', 'ZNF845', 'SNHG11', 'MED13', 'ZNF764', 'DCST2', 'GEMIN8', 'LBHD1', 'SAMD10', 'BAX', 'SIAE', 'SLC25A25', 'YWHAH', 'ERH', 'UCKL1-AS1', 'AGA', 'GNRH1', 'DIPK1A', 'XIAP', 'GIPC1', 'KCNJ15', 'USP51', 'FAM210A', 'POGZ', 'ACSM3', 'TTYH1', 'PRR34-AS1', 'NAF1', 'FKBP3', 'ZNF384', 'CD300LD', 'TNFAIP1', 'LEF1-AS1', 'IPPK', 'GAN', 'MDC1', 'SLC16A3', 'TUBB1', 'CFD', 'DGLUCY', 'UTP25', 'TUBE1', 'RPAIN', 'CDK2AP1', 'AP3M1', 'FCGR2B', 'CNTROB', 'SMG1P6', 'VAMP8', 'ASPH', 'SIT1', 'ZNF296', 'THBS4', 'TP53INP2', 'PRCC', 'ABCE1', 'SNCA', 'SNHG7', 'IMPDH2', 'RBMS2', 'EIF4G2', 'PSMD3', 'CICP27', 'FAM86EP', 'SUN2', 'CD96', 'CRLS1', 'CBR3-AS1', 'OPA1', 'HLA-DQA2', 'HNRNPK', 'HAUS3', 'NSMCE4A', 'MYEOV', 'PTPN23', 'TRIM8', 'ZNF528', 'SIK2', 'SLC22A15', 'SNX14', 'TTC24', 'ZNF329', 'FAXDC2', 'ZXDA', 'ADAM32', 'ACTR1A', 'JUNB', 'PI4K2B', 'PLIN2', 'POLR3D', 'CCER2', 'RICTOR', 'RNF170', 'COMMD9', 'WDR48', 'LINC01287', 'ZC3HC1', 'RMND5A', 'HTRA4', 'ITGA5', 'SRFBP1', 'MARCH9', 'TRBV7-4', 'ANKRD37', 'CHRAC1', 'PCBD1', 'LYPLA2', 'TTC21B', 'RTN2', 'NMNAT1', 'CDH12P2', 'AIG1', 'CELF2', 'LRSAM1', 'TMEM234', 'PMS2P6', 'GNAZ', 'NR1D2', 'DNAJC19', 'LINC01569', 'INVS', 'NRM', 'ZIM2-AS1', 'DMAP1', 'EIF3M', 'SHKBP1', 'ZNF287', 'WDR5', 'CENPC', 'TMPRSS6', 'KIAA1671', 'UQCRC1', 'LDOC1', 'LPCAT1', 'ZCCHC7', 'MT-TA', 'AHNAK2', 'SCAMP1', 'NLRP6', 'SLC4A5', 'SLC35E3', 'SPATA41', 'RRP8', 'CAPN10', 'RANBP6', 'ZNF382', 'BTN2A2', 'MNDA', 'ANKK1', 'TAP1', 'SERPINB9P1', 'RDH10', 'COLCA1', 'USP28', 'CC2D1A', 'LSM12', 'DNAJC9', 'ADARB1', 'HSPBP1', 'TRAV38-1', 'BFSP1', 'ASF1A', 'OAT', 'AACS', 'TMEM237', 'ZNF518A', 'AKR1B15', 'KMO', 'KIAA2012', 'RCC1L', 'LINC02446', 'KLHL7', 'TMTC3', 'ODC1', 'CLTA', 'HLTF', 'KLHDC3', 'GNAL', 'RMND5B', 'HCG27', 'TM7SF2', 'GRIP1', 'TNFRSF10A', 'GPR107', 'UAP1L1', 'CRIM1', 'IGSF6', 'ITGA2B', 'LINC01001', 'IPO9', 'LCORL', 'IRF2BPL', 'ASH1L-AS1', 'MTFMT', 'SLC35F3', 'TERF2', 'CLUAP1', 'EPHA1', 'GANAB', 'SPSB1', 'ZNF317', 'BPHL', 'ASTN2', 'FAM169A', 'NUP50-DT', 'PCYT2', 'GRTP1', 'MTMR11', 'NOL3', 'LNPEP', 'ANP32A', 'COA6-AS1', 'NRG4', 'RDX', 'SERP1', 'WASH3P', 'UBL7-AS1', 'COL11A2', 'STX1A', 'ALOX15B', 'SIGLEC12', 'TTN-AS1', 'CMC4', 'WDR86-AS1', 'RMDN2', 'TCTEX1D2', 'ANXA2R', 'CCNB1IP1', 'CENPU', 'HIST1H2BK', 'C3orf18', 'HS2ST1', 'MANEA', 'APOO', 'TCF7', 'TNKS2', 'DPEP3', 'EZH2', 'ENAH', 'RBM43', 'CDH26', 'TBC1D8B', 'SLAMF8', 'TRAV8-2', 'NOLC1', 'ASB8', 'IGHJ3', 'PTPN13', 'POGK', 'SWI5', 'WARS2', 'PPIAP46', 'WAS', 'KATNAL1', 'POLR2B', 'LY9', 'CDKN2D', 'MED16', 'SEC63', 'ZMAT5', 'AFF2', 'CUTA', 'IFITM10', 'TRAV36DV7', 'RPL22L1', 'BPI', 'UBE2V1', 'TMEM242', 'ZNF649', 'RPLP0P6', 'ERCC4', 'NBAS', 'C22orf39', 'HSPA6', 'NDUFA5', 'RAD18', 'SDF2L1', 'C1QA', 'ATP13A1', 'DNAJC3-DT', 'SNHG26', 'STAU2', 'NLE1', 'ZNF286B', 'RRP36', 'SRI', 'TMEM106A', 'CNBD1', 'LRRC14', 'RNF111', 'SPAG7', 'ZMYM1', 'LRIF1', 'CDKN2B-AS1', 'PROSER2', 'SERF1B', 'ADD3', 'LINC02615', 'RCE1', 'RNF165', 'ADH5', 'STAM', 'ABO', 'HOPX', 'IFI6', 'BACH1', 'MKI67', 'ARHGAP15', 'PCSK5', 'C14orf119', 'METTL2A', 'PDZD11', 'PLXNA3', 'LINC01881', 'C10orf25', 'FAM91A1', 'MRFAP1L1', 'NASP', 'LARS', 'SLC35A1', 'ST8SIA6', 'SYT2', 'CSPG4P10', 'ITIH2', 'CXCR4', 'JAKMIP1', 'LARP1B', 'MEA1', 'SGF29', 'MAPK3', 'GRIPAP1', 'GIPC3', 'ZNF229', 'USP25', 'VPS26A', 'CCR2', 'EIF4B', 'OGFRL1', 'PRRC2B', 'NEDD4', 'CUEDC1', 'PPP2R3B', 'UPB1', 'CINP', 'CASTOR2', 'ZNF335', 'SEC14L5', 'SLC8A1-AS1', 'DTX3', 'PM20D1', 'KIF13A', 'TMEM63A', 'DYM', 'NCKAP1L', 'PPIAL4C', 'ABHD14B', 'ITK', 'PIKFYVE', 'DPF3', 'PKN1', 'SRGAP2B', 'ITIH4', 'SCIMP', 'PSMC2', 'ESF1', 'COQ2', 'NDUFV2-AS1', 'BRSK1', 'CYB5R4', 'FECH', 'CMC1', 'ARMC12', 'LINC01801', 'PRKAB1', 'FCRLA', 'TMEM182', 'SLC25A51', 'HSPA4L', 'POMGNT1', 'HDHD2', 'NCOA5', 'KBTBD4', 'WDR11-AS1', 'CRKL', 'ORAI2', 'IQGAP1', 'ORC2', 'KLHL42', 'STAG3', 'LRRC58', 'MRE11', 'CMTM7', 'KIAA0556', 'CCT6P3', 'SNPH', 'TEX35', 'ZSWIM7', 'CA14', 'ARHGAP31', 'CYP4V2', 'EPOR', 'MSH3', 'SNHG28', 'SUPT3H', 'TATDN3', 'TMEM143', 'ZNF225', 'NT5DC1', 'EIF4EBP3', 'FAM106A', 'NDST2', 'MTHFD1', 'NLRP12', 'RBBP4', 'EPHB6', 'ADIRF-AS1', 'CYP2R1', 'CCDC136', 'ALKBH8', 'USP24', 'ALDH9A1', 'MRGBP', 'GIPR', 'ANKS1B', 'GTPBP6', 'OSGIN1', 'CD19', 'LIN9', 'INKA2-AS1', 'MKS1', 'SGPL1', 'AP2A2', 'DOP1A', 'ESCO2', 'PDCL3P4', 'ADPRHL2', 'CD24', 'DCBLD2', 'RAB13', 'ZFP82', 'UNC45A', 'UBXN1', 'EEA1', 'FBXO11', 'CRTC3', 'FBXO24', 'CNBD2', 'MAFB', 'S100A1', 'ZNF281', 'SNRNP200', 'MMP25-AS1', 'TLN1', 'STX4', 'ACP6', 'IMPACT', 'ARG2', 'ORM1', 'HADHB', 'ESCO1', 'SCARNA12', 'SNAP29', 'SPAG5', 'RMND1', 'SPN', 'FH', 'TRIM26', 'SERINC1', 'ANKRD11', 'AXIN1', 'TREX1', 'MEI1', 'PTP4A1', 'PSMB5', 'CXorf38', 'VPS9D1-AS1', 'MYCBP', 'TMBIM6', 'PSMD10P1', 'LSM6', 'ZNF14', 'CD58', 'HAVCR2', 'UBXN2B', 'MYH7B', 'SF1', 'WAKMAR2', 'PIGH', 'KIFC2', 'LINC00863', 'FANCI', 'PARP15', 'STAP2', 'ABCC4', 'TUBB2A', 'NEK1', 'CMTM8', 'WBP1L', 'EIF4EP1', 'FBXW8', 'SESN3', 'ATP6AP2', 'TMED8', 'SEPHS1', 'PAFAH1B1', 'SH3D21', 'FUT10', 'TRAF3IP3', 'TRBV4-2', 'TRIP10', 'IKBKG', 'FAM3A', 'ZFHX2-AS1', 'FAM50A', 'WDSUB1', 'MYRF', 'TESK2', 'AVL9', 'TRMT10C', 'ZNF485', 'SNRNP40', 'ELK3', 'SFTPB', 'VPS51', 'ARAP1-AS1', 'POLR2F', 'PTGER2', 'B9D2', 'GAB1', 'ULK4', 'IL31RA', 'PRKRA', 'CCNB2', 'IGLJ3', 'RACK1', 'ATM', 'MPV17', 'SNRNP48', 'CHM', 'PARK7', 'ATF7IP', 'NVL', 'OSTC', 'NPIPB14P', 'IGKV1D-33', 'SCAF8', 'PHYKPL', 'VCL', 'AARSD1', 'AGAP5', 'PPP1R13L', 'RBP7', 'PDCD10', 'ZNF570', 'NXT2', 'CASKIN2', 'ABCB7', 'RNF214', 'ZNF70', 'PYHIN1', 'ZNF136', 'FRMD8', 'ROBO1', 'TIMP1', 'IL17RC', 'PPM1G', 'RASSF4', 'DENND5A', 'ST3GAL1', 'ING3', 'CCND3', 'RPL23AP82', 'DTNB', 'METAP1D', 'BTF3', 'COMMD5', 'CWC27', 'ACACA', 'ITIH3', 'TIMM29', 'GNLY', 'WDR43', 'UQCRQ', 'TMEM181', 'ASB16', 'SLC25A19', 'ARHGEF17', 'ZNF524', 'ARPIN-AP3S2', 'SLC30A6', 'ACTA2-AS1', 'JMJD1C', 'LILRB3', 'DENND5B', 'MOCS3', 'HABP4', 'PTTG1IP', 'CASP1P2', 'CD9', 'CD27-AS1', 'ARHGEF19', 'EPHB1', 'FHL1', 'KCNQ1', 'MRPL41', 'PNPT1', 'ZFYVE28', 'CEBPB-AS1', 'SLC31A1', 'WSB1', 'GSTO1', 'CDK17', 'ARNT', 'DNPH1', 'ZDHHC17', 'CCDC88C', 'SCAMP2', 'CD48', 'LINC01359', 'TMEM250', 'CDC42EP2', 'TAF9B', 'RPS8', 'SPOUT1', 'CFB', 'OSGEPL1', 'RPL27', 'MIPEP', 'SUGT1', 'SLC25A14', 'PRKX', 'COPS7B', 'SLC37A4', 'SNORD63B', 'ATXN2', 'DOK3', 'ABR', 'WDHD1', 'KDM2B', 'SLC9B2', 'HLA-DQA1', 'MAP3K6', 'TNIP3', 'UNC50', 'KCNRG', 'PMPCA', 'TRAPPC8', 'ME1', 'MIR663AHG', 'IMP4', 'LINC01126', 'TRGV2', 'UBAP2', 'USF3', 'SUOX', 'UTP18', 'TRPM4', 'REXO1', 'HMGB2', 'MED31', 'ARCN1', 'CADM4', 'ST8SIA1', 'ZNF711', 'SCLT1', 'DNAAF5', 'FN3KRP', 'RASSF2', 'KCTD19', 'RORA-AS1', 'TMEM39B', 'NUP37', 'ZNF251', 'CCNY', 'INTS10', 'IQSEC3', 'MTUS1', 'PITRM1', 'RBMXL1', 'RPL3', 'SNHG22', 'ATP5F1B', 'TRIM33', 'SF3B4', 'S1PR1', 'ZNF346', 'STARD3', 'CNOT4', 'MUC20P1', 'HCP5', 'SLC25A34', 'GFER', 'SBK1', 'PRR4', 'FPGS', 'VPS4A', 'TIRAP', 'PDCL3', 'HILPDA', 'CORIN', 'TBCEL', 'SRSF3', 'EMBP1', 'KDELR2', 'PDS5A', 'DTYMK', 'MDS2', 'MPO', 'FCHSD1', 'LIM2', 'MINDY2', 'A1BG-AS1', 'CHMP1B-AS1', 'TMC3', 'ITPRIPL1', 'ZNF571', 'KHSRP', 'GPALPP1', 'CMTM1', 'PPP1R14B', 'PURB', 'ACSL5', 'ICAM3', 'RASGEF1A', 'C15orf39', 'BOLA2-SMG1P6', 'FBLN7', 'CLN5', 'BAIAP2L1', 'NAB1', 'SLC52A2', 'ADAMTS6', 'APAF1', 'MORN2', 'GLI4', 'IAH1', 'PSMA7', 'TKTL1', 'CD300C', 'ZNF592', 'ATP23', 'TRAV39', 'LINC00622', 'TMED10', 'ALG8', 'CNOT6L', 'KLLN', 'NBPF9', 'C1QL3', 'CHST10', 'PPM1A', 'BAZ1A', 'ATG2B', 'TRAPPC1', 'UBA3', 'UBE2FP1', 'PGM3', 'PDZD7', 'TMEM119', 'KRAS', 'WBP1', 'CDH1', 'CARS2', 'CSGALNACT2', 'MFSD2B', 'DOCK9', 'CACHD1', 'MRPL43', 'B3GALT6', 'ASLP1', 'PADI4', 'DLG4', 'PDCL', 'PSTPIP1', 'SNAPC2', 'NABP1', 'COMMD3', 'GASK1B', 'FPR3', 'ANXA2', 'CAPRIN1', 'RFNG', 'MED9', 'C21orf91', 'GCLM', 'PIWIL4', 'SLC30A1', 'DDX3X', 'LYRM9', 'CCDC120', 'LTO1', 'MAP2K6', 'PSAP', 'MFSD5', 'TMEM161A', 'VEZF1', 'SERGEF', 'LINC00641', 'SS18L1', 'DTNA', 'TRPM7', 'TRAM1', 'TMEM138', 'CSNK1D', 'ACVRL1', 'TEX9', 'HOOK2', 'TRBV5-6', 'SLC7A6OS', 'SNRPD3', 'RCBTB1', 'IFRD2', 'GUF1', 'OLFM1', 'SMIM20', 'SYNM', 'KIFAP3', 'ALDH18A1', 'INPP5D', 'ORAI1', 'DUOX1', 'EIF2B4', 'LRP1', 'RASGEF1B', 'PICALM', 'ZMYM6', 'ACTN1', 'RCAN2', 'TRMT112', 'QDPR', 'SH3KBP1', 'VAV3', 'ARHGAP24', 'NEFL', 'RNF115', 'UQCRC2', 'EIF4HP2', 'UQCRFS1', 'FOXK1', 'FADS6', 'SRPK1', 'TPT1', 'CRABP2', 'TMED7-TICAM2', 'ZC3H6', 'H1F0', 'CTRL', 'ZNF35', 'COASY', 'CAPZA1', 'MEN1', 'RAB5B', 'SGCE', 'FAM157B', 'DNTTIP2', 'MRPS22', 'BTBD1', 'PAK2', 'R3HCC1', 'CHIC1', 'AGBL3', 'CCL3L1', 'LRRFIP2', 'DNPEP', 'GNPAT', 'GRASP', 'LINC00189', 'CLPTM1', 'BLZF1', 'PIN1', 'TRIM47', 'MAP2K4', 'CD8B', 'PFKM', 'SLC25A3', 'KCTD10', 'PRXL2C', 'SLC2A4RG', 'VAMP4', 'ARHGAP17', 'PCOLCE', 'EPG5', 'APEH', 'ICMT', 'RBBP6', 'USP40', 'ZNF275', 'NAPEPLD', 'RPS6KB1', 'NPTXR', 'IFT88', 'LDB2', 'PSMB7', 'TPH2', 'KRT17P2', 'PTGES3L', 'MFSD4A', 'NINJ2', 'DOCK4', 'COL18A1', 'ERCC6L2', 'FAM49B', 'GSK3A', 'HPS1', 'LINC00865', 'EIF1AY', 'MFSD12', 'PEX5', 'SLC48A1', 'SNX27', 'TRIM58', 'DCXR', 'ARPC4-TTLL3', 'CEACAM3', 'RNF2', 'RSPH10B', 'RGS3', 'MYO15B', 'PTK6', 'TBC1D2B', 'GSTK1', 'EXOSC10', 'TFAM', 'HEXIM1', 'IGLV3-27', 'TRGV9', 'WIZ', 'CA5B', 'MPZ', 'MPZL2', 'MPIG6B', 'ANKIB1', 'HPRT1', 'ZNF607', 'GGNBP1', 'KAT14', 'DNAJC13', 'MAPK8IP1', 'WLS', 'CCDC142', 'HSP90B1', 'PPP1R18', 'KIAA0825', 'GLIPR1', 'MTND2P28', 'FCRL2', 'NDUFB8', 'ARVCF', 'LPIN1', 'FUS', 'MRPL17', 'ZNF32-AS2', 'PPIF', 'GATA3', 'LRFN1', 'CADM1', 'MACO1', 'FAM102B', 'WNK1', 'GAREM2', 'ZNF770', 'SH3PXD2B', 'NDUFA6-DT', 'MEX3C', 'POLD2', 'MAP4K2', 'MRPS27', 'FLVCR1', 'HDHD3', 'MT-ND1', 'LRRC69', 'AP3S1', 'ZNF554', 'VLDLR', 'PPP4R1', 'TTC7B', 'ABRAXAS1', 'RCN2', 'NSMCE3', 'TMEM220', 'IL17RA', 'PNPLA8', 'CHKB', 'C12orf76', 'MMAA', 'SLC1A5', 'ORMDL2', 'TCF12', 'TTC30A', 'PITPNC1', 'FTO', 'LHX4', 'NSUN5P1', 'EARS2', 'GOLPH3', 'TIAL1', 'CD74', 'DHX30', 'EYS', 'MSL1', 'GET4', 'C1orf198', 'OLMALINC', 'ZNF890P', 'DESI1', 'TRAM2-AS1', 'SIM2', 'LDAH', 'RNF34', 'CYP2D6', 'PPP6R1', 'ERO1B', 'SLC1A7', 'TP53TG5', 'CCDC15', 'TAF6', 'NHS', 'LINC01252', 'NEK4', 'RPP40', 'SLC40A1', 'CSNK2B', 'TSPAN2', 'HSPA1B', 'GNB2', 'CCT8P1', 'CHN1', 'EPDR1', 'LIX1L-AS1', 'NPDC1', 'SEMA4F', 'ZNF341', 'CDYL', 'LIMS2', 'NPIPA7', 'GNPTG', 'PUS3', 'EIF2AK1', 'ILVBL', 'OAZ1', 'B3GALNT2', 'DDX43', 'EIF2AK3', 'ICAM5', 'GFOD1', 'SLC9A9', 'HERPUD2', 'PEX11B', 'NDUFAF2', 'TRGV10', 'DYRK1B', 'CCDC157', 'ZC3H12B', 'S100A8', 'GM2A', 'GNG4', 'PLXNC1', 'TRBC2', 'SERTAD3', 'TRIM34', 'ZNF782', 'FAM50B', 'FUBP1', 'KRT10', 'EFCAB10', 'ACOT8', 'TAS1R3', 'SNORA33', 'CMC2', 'GIT2', 'TMEM205', 'GALR1', 'SNRPD1', 'SP4', 'BEST1', 'TRAV8-4', 'RELT', 'FAM226B', 'ZNF718', 'IL18RAP', 'ATP2B4', 'RPS3A', 'IL6R', 'SUGT1P4-STRA6LP', 'CYFIP2', 'MAN2A2', 'KIAA0895L', 'SLC25A20', 'ARHGEF28', 'ZNF324', 'ZNF415', 'MIER3', 'PRRC2C', 'RAB40B', 'ATXN1', 'FUZ', 'CYP4F35P', 'C9orf106', 'NDUFB6', 'ANKRD34B', 'MPLKIP', 'IGHV3-21', 'SS18L2', 'TTF2', 'ASB6', 'ITGA3', 'RAB14', 'CCDC13', 'MAP3K7', 'REM2', 'CLP1', 'DUT', 'RAB11A', 'CCDC180', 'FAM225A', 'RPUSD3', 'TRPC4AP', 'FAM222B', 'TIMM8B', 'ANKRD50', 'EPPK1', 'PDXDC1', 'MRPS15', 'ABCC2', 'MAP4K3-DT', 'RPL38', 'TRIM21', 'PPCS', 'ZFP69', 'RSRP1', 'FLT3LG', 'ZFP64', 'BTBD2', 'CAV2', 'LILRA6', 'PTPRK', 'AURKA', 'NSL1', 'AVIL', 'EML1', 'EPPIN', 'LIMD1-AS1', 'SYNJ2', 'DCLRE1B', 'SNX25', 'SLC41A1', 'TMCO3', 'TRAPPC2', 'TEX26-AS1', 'ZNF706', 'IL27', 'COP1', 'RNF169', 'ASCC3', 'CPVL', 'FAM95B1', 'DHX57', 'DNMBP-AS1', 'ANKH', 'USP22', 'WDR97', 'MCF2L', 'TRBV24-1', 'ZNF121', 'SDCBP2', 'PFKFB3', 'DHPS', 'YRDC', 'SH3YL1', 'B4GALT5', 'MSRB3', 'PDCD6', 'PRDM4', 'RASAL2', 'CEP85', 'QSOX2', 'SPOCK1', 'COX14', 'STK3', 'SRRM2', 'ATP6V1FNB', 'SSBP2', 'TRGV7', 'OAS2', 'CIPC', 'KCNT1', 'RMI2', 'LPAR2', 'QARS', 'NUDC', 'SRPRB', 'LRRC39', 'SYNRG', 'EXTL3', 'NHLH1', 'SESN1', 'SF3B1', 'CPSF1', 'UNC93B8', 'ESYT1', 'YIPF3', 'KLHDC1', 'MBD6', 'ZNF710', 'ULK1', 'CCDC14', 'AP4B1', 'RABGAP1L', 'HSF5', 'TCL1A', 'MCOLN1', 'BCKDHB', 'KL', 'PANK3', 'SLCO3A1', 'DROSHA', 'ZNF17', 'SDF2', 'C8orf49', 'DSE', 'SLC2A6', 'INCA1', 'MAN1B1', 'CEP120', 'HDGFL2', 'ABCD4', 'SLC35D1', 'CD99P1', 'TRAV22', 'MAPK1', 'MDH1', 'UBLCP1', 'BCL2A1', 'PTDSS1', 'FFAR2', 'C18orf25', 'THAP4', 'GPR55', 'CLDN7', 'LINC00907', 'ANTXR2', 'YIPF5', 'CKB', 'TM2D1', 'UBTF', 'EPB41L4A-AS1', 'MIR590', 'FTX', 'FCGBP', 'PLK4', 'ELMSAN1', 'ORC3', 'BRPF3', 'ROGDI', 'FRMD3', 'ADA', 'KLHL2', 'ZNF737', 'LRRN2', 'TRIM16', 'RRP1', 'TBC1D2', 'MLEC', 'TMEM258', 'PMF1', 'ZNF883', 'DCAKD', 'ZFP30', 'GSTM4', 'HORMAD1', 'ZNF28', 'TCAF2', 'IL10RB', 'SMAD1', 'IQGAP2', 'TIMMDC1', 'RGS17P1', 'RIOK1', 'DENND2C', 'SETD2', 'NSG1', 'FRG1JP', 'KLHL20', 'PHLPP2', 'GID8', 'TGM4', 'PECR', 'RIPK1', 'IL32', 'C20orf96', 'DPM3', 'CMPK2', 'FOXN2', 'NCBP1', 'PPT2-EGFL8', 'PRPSAP1', 'TMEM38A', 'ZNF195', 'FBF1', 'CPT1B', 'EIF3A', 'SNX2', 'HLA-E', 'URB1-AS1', 'KCNJ5', 'LINC02324', 'XPA', 'LINC02604', 'LINC01521', 'PCAT18', 'TDG', 'KLF5', 'FBXO2', 'HRAS', 'MRPL58', 'PORCN', 'CYB5R2', 'LUCAT1', 'PDE5A', 'CEBPZ', 'SHISAL2A', 'PDCD2L', 'PLCG2', 'PYCARD-AS1', 'MTAP', 'STMN1', 'C19orf38', 'OSTM1', 'RADX', 'MFSD14B', 'HNRNPUL2', 'PRTFDC1', 'PDXP', 'DBNDD1', 'CEBPG', 'FBXW4P1', 'CDK12', 'SAAL1', 'MTFR1', 'LENG8-AS1', 'SPA17', 'C5orf66', 'CRELD2', 'HSDL2', 'MYSM1', 'SVBP', 'IGF1R', 'UBE3C', 'CCDC22', 'FZD3', 'IDH3G', 'C10orf105', 'SSBP3-AS1', 'FAM171B', 'ANAPC16', 'BCLAF3', 'PIK3CA', 'IGLV3-25', 'HECTD3', 'IGHV4-61', 'JCHAIN', 'C2CD2L', 'CDKN2C', 'DENND4B', 'NETO2', 'SLFN11', 'COG2', 'UBXN6', 'DDX60', 'STXBP1', 'ZNF233', 'MAIP1', 'WARS2-AS1', 'DPYSL2', 'GAPDHP42', 'LINC02018', 'GLA', 'OGFOD3', 'TMEM101', 'YPEL2', 'RAB2A', 'CHID1', 'GNPDA2', 'PRR3', 'PI4KB', 'GLB1L3', 'PAPSS1', 'ZNF791', 'EDN1', 'LONP1', 'CIRBP-AS1', 'NUDT4', 'DACT3', 'PGP', 'EAF2', 'PLA2G4C', 'RRM2B', 'LINC01088', 'TGIF2-RAB5IF', 'CLCN4', 'TRGV5', 'C2orf15', 'C1orf122', 'RSPH3', 'JPT2', 'MCM5', 'DCANP1', 'SNRNP27', 'ATP2C2-AS1', 'SRPRA', 'SLC9A1', 'ATG3', 'TREX2', 'ENPP2', 'LARP4B', 'PEX26', 'SLU7', 'TMEM204', 'CES1', 'PAN3-AS1', 'DZIP3', 'EAF1', 'PHC1', 'ZMAT1', 'GNGT2', 'FMNL3', 'EPB41L2', 'TCFL5', 'IL18R1', 'ACAP3', 'AHR', 'BOD1', 'RHOXF1-AS1', 'CD8A', 'MGAT1', 'RPL9', 'ERAP1', 'MAPKAPK2', 'SWSAP1', 'ZNF497', 'ESPL1', 'SIK3', 'SLC47A1', 'MTND4P12', 'RPL7AP64', 'DDR1', 'PRG2', 'NR2F6', 'PRR29-AS1', 'DUXAP9', 'SMAD9', 'DENND4C', 'LINC02033', 'DYRK2', 'IGHV3-74', 'SIGLEC6', 'GTF2H2B', 'ZC3H12C', 'NDUFS1', 'SLC38A2', 'HCG18', 'PTGR1', 'ITPKB', 'BLK', 'PARP4', 'DYNC1LI2', 'UBR2', 'TBC1D3L', 'JOSD1', 'LINC00426', 'FAM184A', 'MMUT', 'ARAP3', 'SLC39A10', 'COPZ2', 'VXN', 'PRR34', 'CEP126', 'TMEM8B', 'TIGD7', 'MT-TF', 'ZNF394', 'ARMCX5-GPRASP2', 'CFAP410', 'SNN', 'CFLAR-AS1', 'CCDC102A', 'LAPTM4B', 'SFXN2', 'IL17RB', 'HOOK1', 'SIN3B', 'TRAPPC3', 'ST3GAL6', 'TRNP1', 'KIR3DX1', 'CBFB', 'LAMC1', 'SBNO1', 'GPRASP1', 'ERP44', 'LINC00674', 'ADGRG3', 'BCL2L2', 'LINC01761', 'RWDD3', 'ING1', 'KIF13B', 'TSIX', 'TVP23A', 'RGS18', 'CSNK1G2-AS1', 'LINC02724', 'FERMT3', 'IFI35', 'NPC1', 'PIK3IP1-AS1', 'PSPH', 'APPL2', 'CYP2S1', 'NFIX', 'C15orf54', 'PPP5C', 'SLC35B3', 'FAM207A', 'ABCC6', 'SMDT1', 'DIP2A-IT1', 'C17orf67', 'FAM86B1', 'IQCC', 'SPINDOC', 'CARD14', 'NOB1', 'SLX1A', 'FAHD2A', 'LSP1P4', 'PPP2R1A', 'TTLL1', 'PEX16', 'MSN', 'WDR81', 'DUSP6', 'NDUFS6', 'ZNF227', 'ERRFI1', 'HTN3', 'TRAV25', 'RNF167', 'PSTPIP2', 'AP4B1-AS1', 'XAF1', 'ST6GALNAC1', 'C17orf53', 'TMEM39A', 'ASH2L', 'NALT1', 'GKAP1', 'CDKN2AIPNL', 'ALG11', 'EMB', 'PPP1R32', 'METTL17', 'CAMK2N1', 'BAG2', 'ENO3', 'ZNF18', 'CHPF2', 'SLCO4C1', 'UBE2J1', 'PDCD6IP', 'TTC39C', 'RC3H1', 'GIMAP1', 'PSMC4', 'CALCOCO2', 'HDAC9', 'CSF2RB', 'PPIL1', 'HYDIN', 'MLKL', 'TAGAP', 'LINC00482', 'ZDHHC16', 'ZNF385A', 'LRIT3', 'FOXP3', 'ASB1', 'C4BPB', 'GPATCH11', 'MT-TM', 'STK38', 'CATSPERB', 'APOBEC3B', 'BOLA2B', 'ENDOG', 'ACCS', 'GPSM2', 'EVI2B', 'MBOAT1', 'PDE7B', 'SLC25A13', 'SLC25A22', 'TCF23', 'CIAO2A', 'CCSER1', 'USP11', 'SETDB2', 'WDR83', 'RAB3GAP2', 'SLC35E2B', 'TOM1', 'HADH', 'MED20', 'ANKRD17', 'BOLA2', 'MICE', 'SPAST', 'MORF4L1', 'NAV3', 'S100A13', 'PACRGL', 'ACVR1C', 'LRRC37A17P', 'KLHL29', 'HBS1L', 'CLIC5', 'SLX1B', 'ALDH1B1', 'ITSN2', 'COMT', 'ZNF254', 'B4GALT1', 'CLDN5', 'DMRTC1B', 'QPRT', 'WASF3', 'ZNF197', 'POU5F1', 'SLC12A4', 'PKP4', 'GOLGA8N', 'PTP4A3', 'EXD2', 'USP30-AS1', 'STIM1', 'ATP8B1', 'C12orf42', 'HTRA1', 'SALL2', 'CNOT8', 'FBXO9', 'CPSF4', 'ACOXL', 'KLHL7-DT', 'TTC31', 'RPL35', 'NR3C1', 'WDFY1', 'CDADC1', 'PRAP1', 'DPM2', 'MARK2', 'NIPAL3', 'TRIP11', 'TRAPPC11', 'C12orf50', 'PANX2', 'GNPDA1', 'SLC66A1', 'SRP14', 'SLC33A1', 'DNMT1', 'RBM34', 'LPXN', 'ONECUT3', 'ZNF831', 'ZNF12', 'OTUB2', 'PTAFR', 'ATP5F1A', 'ZCCHC10', 'YJU2', 'DYNC1I2', 'TAGLN2', 'C12orf4', 'EXOC4', 'IL27RA', 'OBI1', 'PLEKHA4', 'PDRG1', 'SIAH2', 'B3GNT10', 'PLG', 'TMEM236', 'MCOLN3', 'ZNF267', 'DDA1', 'ACSL1', 'SGSM1', 'NUAK2', 'EPHB2', 'PPP1R2', 'PLCE1', 'LINC01678', 'GRHL1', 'FUBP3', 'MACC1', 'MARCH2', 'CARNMT1', 'PROCR', 'GPM6B', 'TSPYL4', 'RPS6KC1', 'GATAD2B', 'GBP5', 'CAPZA2', 'GOT2', 'ENC1', 'CHCHD1', 'IGF2R', 'ARRB1', 'AKR1C1', 'ANKRD12', 'C6orf62', 'DCTPP1', 'DPM1', 'PABPN1', 'TRAF4', 'PHPT1', 'RUNDC1', 'ERVW-1', 'FARP1', 'PPP4R3A', 'NCOA6', 'UBE2E1', 'HSPBAP1', 'ARMC2', 'TNS1', 'SLC25A39', 'CDK20', 'KLHL36', 'MS4A1', 'NOMO2', 'LYSMD4', 'ARFGEF1', 'MSMO1', 'ADGRG6', 'PET117', 'RNGTT', 'CCDC124', 'GON7', 'PRIM2', 'CPLANE1', 'GADD45B', 'PFKL', 'STYK1', 'FAM126B', 'CCDC84', 'MALSU1', 'EHD3', 'HMGN2', 'CORO1B', 'MTRF1', 'LTBP4', 'PPIP5K1', 'RHEB', 'SHTN1', 'FAM72B', 'SNX6', 'NRP2', 'POP1', 'CASP17P', 'LINC00547', 'TMSB10', 'S100Z', 'ETV3', 'SLC22A18', 'TATDN2P2', 'SNHG32', 'ACSL4', 'EIF3H', 'PAQR5', 'TMUB2', 'FCF1', 'ADAMTS10', 'ZFYVE27', 'RPS14', 'RETREG3', 'PUS7', 'PPT2', 'YWHAG', 'TAF1C', 'ADSL', 'ZNF544', 'OSER1-DT', 'KCNK10', 'DIPK2A', 'LRP2BP', 'RAB11B-AS1', 'C9orf78', 'MT-ND6', 'TRAC', 'FAM131A', 'WNT7A', 'CRIP3', 'EXO1', 'SDAD1P1', 'DOCK3', 'GNAI1', 'GOLGA8B', 'CACNB2', 'EMSY', 'UQCC3', 'GDI1', 'HDAC11', 'FDXR', 'SLC46A3', 'ALDH1L2', 'PRDX3P1', 'ZNF700', 'COL19A1', 'NSUN5', 'RBIS', 'EXTL2', 'ZNF577', 'TCF20', 'PSD4', 'RAP1B', 'JMJD7-PLA2G4B', 'CISD3', 'IL12RB1', 'CCDC152', 'TMBIM1', 'ETV7', 'FAAP20', 'ZNF526', 'NDUFV1', 'CNTLN', 'ZRANB2-AS1', 'ZNF568', 'BMF', 'RET', 'CAND1', 'CBWD6', 'SCFD2', 'EIF2AK3-DT', 'PGM5', 'PIGA', 'UBE3B', 'VAC14', 'DENND2A', 'TAF10', 'ACAP1', 'LINC00205', 'ATP5MPL', 'NECAP2', 'THAP11', 'FKTN', 'BICRAL', 'DDX17', 'ERICH6-AS1', 'LPAR6', 'LSM8', 'TSPAN31', 'XRCC1', 'SUMO3', 'YWHAZ', 'ISG20L2', 'ARFGEF2', 'POLR1A', 'ATP6V0D1', 'KHK', 'SAPCD1', 'CAMKMT', 'NCDN', 'ARHGAP45', 'NTAN1', 'RELA', 'LYSMD2', 'TRDV1', 'GPAT2', 'PURA', 'CD70', 'IL21R-AS1', 'NIF3L1', 'PRC1', 'RANGAP1', 'SRSF8', 'HMOX1', 'CASP8AP2', 'FAM120B', 'SLC11A1', 'NFE2L2', 'IGKV3OR2-268', 'PARP2', 'CYTH3', 'TAF5', 'DGUOK-AS1', 'CHTF18', 'SLC39A3', 'PLIN4', 'KDM5B', 'ZDHHC24', 'FAM227A', 'KMT5B', 'ZNF804A', 'POLR3H', 'TCEAL4', 'PREP', 'CDKAL1', 'LINC01506', 'MT-TL2', 'EEF2K', 'UBIAD1', 'C11orf68', 'WAPL', 'EAPP', 'MAST2', 'ZNF438', 'BCL2', 'MCAT', 'CCDC88A', 'PTPN6', 'FAM204A', 'BBS9', 'ASF1B', 'MPL', 'TXNDC5', 'PNPLA2', 'MED7', 'MPDU1', 'L3MBTL4-AS1', 'USP33', 'PP2D1', 'HDAC5', 'C1orf147', 'CEACAM19', 'ZNF93', 'OXTR', 'PTPRO', 'LPCAT4', 'GYG1', 'USP27X', 'CD200', 'PSMD6-AS2', 'PTPN3', 'OASL', 'TTC32', 'SLC35A5', 'CCR1', 'RBM48', 'SETBP1', 'IK', 'PRKAG1', 'ANTXRLP1', 'CD63', 'ZNF202', 'RNMT', 'TPP1', 'ETV6', 'JUN', 'RNF6', 'TMCO6', 'ADCY4', 'KMT2D', 'TMEM134', 'LIMK2', 'ZAP70', 'CRAT', 'ECPAS', 'LSM1', 'TTTY14', 'ASRGL1', 'GNAS', 'SF3B5', 'CAPZB', 'NUP58', 'TBC1D3D', 'IGHV1-69D', 'SELENOT', 'DENND10', 'ZCWPW1', 'LINC02432', 'PRMT5', 'ZNF787', 'TOP3B', 'CCDC189', 'MT-RNR2', 'MUL1', 'MAML3', 'HDDC2', 'CPEB2', 'FANCA', 'SAMD9L', 'NELFCD', 'PROK2', 'TSPAN17', 'PKD1L2', 'CASP2', 'MMGT1', 'FDFT1', 'HCAR3', 'ZBTB43', 'CHURC1', 'RGPD1', 'C11orf80', 'MDH2', 'TMOD3', 'PDK4', 'TAFA2', 'RNASE2', 'CTCF', 'PINLYP', 'TNFSF9', 'ZNHIT2', 'CD163L1', 'LBX2-AS1', 'MPP1', 'NOC4L', 'SULT1A1', 'OXSR1', 'LZTS2', 'OTUD6B-AS1', 'CASP6', 'ARMC7', 'NOL9', 'SLC2A5', 'RIF1', 'HNRNPA3', 'GRK3', 'TMEM44-AS1', 'CPQ', 'FAM136A', 'TNFSF13B', 'SNAI3', 'INO80B', 'NDUFA2', 'NHSL2', 'FAM162A', 'COPG1', 'TPD52L1', 'AMOT', 'HYKK', 'MVD', 'RNPC3', 'STX16-NPEPL1', 'FLCN', 'LY86-AS1', 'RFPL1S', 'SLC12A6', 'ARPC5L', 'LINC00909', 'SLC35G2', 'OXSM', 'CALM2', 'NUDT17', 'RPS23', 'MMRN1', 'P2RY14', 'SEPTIN4', 'SIRPB2', 'RNASEH2C', 'CTBP1-DT', 'SLA', 'SPPL2A', 'TEX14', 'DBI', 'CALM3', 'ZNRD1', 'CFL2', 'ALG9', 'CATSPERE', 'SRSF1', 'RPS18', 'LMNTD2', 'FAM214A', 'LCMT1-AS2', 'SCRIB', 'EPC2', 'CEP97', 'RBM6', 'ASL', 'GALK2', 'GPX3', 'SVIP', 'HINFP', 'APLP2', 'AATK', 'HCLS1', 'IGFLR1', 'FCGRT', 'CLASP2', 'ZYG11B', 'UPK3A', 'FNBP1P1', 'LMAN2', 'MITF', 'SKIL', 'SRD5A1', 'TRBV21-1', 'ADAM19', 'DOP1B', 'NDUFS4', 'SLC26A8', 'L3MBTL3', 'ASAP2', 'PNISR', 'RPS2', 'PLEKHA8', 'CRK', 'TTC22', 'TDRD3', 'INO80D', 'TFAP4', 'U2AF2', 'ZNF835', 'IGLV1-47', 'HBP1', 'PSTK', 'CRISPLD2', 'DCP1A', 'THEMIS2', 'ZNF416', 'SPDYE3', 'PLEKHA8P1', 'UGDH-AS1', 'SEMA6A-AS1', 'USP8', 'FCRLB', 'CEP128', 'SPEF2', 'NBN', 'DCAF10', 'DEDD', 'ESAM', 'PDZD2', 'ZNF615', 'TTC8', 'UCK2', 'FOCAD', 'RAB37', 'PHOSPHO2', 'S100A6', 'PLEKHB1', 'SERPINB6', 'SNORD89', 'TBCD', 'ADAM15', 'RPL24', 'TTL', 'KIAA1522', 'NPIPB15', 'SH3BP5-AS1', 'LINC01480', 'MYO15A', 'SCNM1', 'DIDO1', 'JAGN1', 'TMC6', 'CASP1', 'SCO1', 'C4orf36', 'INTS13', 'CCNJ', 'RNF19A', 'EBP', 'PPP1R7', 'MFSD11', 'SCAPER', 'SMAP1', 'AP4E1', 'IGHV3-13', 'RNF146', 'P3H3', 'GNG10', 'HERC2P3', 'IRF6', 'TSNARE1', 'TBRG4', 'SYNJ2BP', 'ETNK2', 'STXBP5-AS1', 'PRDX2', 'RPS10-NUDT3', 'TPM3P9', 'KIR2DL4', 'TMEM8A', 'HSPA12B', 'CCDC28A', 'MT-ND4L', 'HDC', 'PDGFD', 'CX3CR1', 'C14orf28', 'ZNF408', 'WASH2P', 'RBM12B', 'SHISA4', 'CST3', 'PYCR3', 'CD33', 'ITGB5', 'APOBR', 'HTR7', 'ARAP2', 'SEC14L1P1', 'WDR18', 'BRPF1', 'BATF', 'MX2', 'TUBB4B', 'ULK2', 'ZNF23', 'CYP3A5', 'RBBP8', 'HIST4H4', 'DLGAP4', 'GREM2', 'UBE2L6', 'ERCC5', 'GTF2H5', 'PDE4C', 'TRBV18', 'ZNF599', 'GET1', 'PLGLB1', 'CLPB', 'HECW2', 'SLC25A45', 'ZNF501', 'ZSWIM4', 'IGKV2D-30', 'FRG1BP', 'UBALD2', 'SCD', 'THEM6', 'PHEX', 'RRP7A', 'ARGFXP2', 'SLC25A29', 'RABEPK', 'MAP1S', 'ARL2', 'LIPA', 'SMIM11A', 'EFL1', 'HNRNPUL2-BSCL2', 'IGHV2-5', 'SPX', 'RAD54B', 'CHAF1B', 'RETN', 'TDRD6', 'LAMTOR4', 'IGKV2-24', 'SNW1', 'AP3M2', 'ZNF502', 'EML4', 'DEF8', 'CPLANE2', 'AGO1', 'FBXO45', 'HUS1', 'NIM1K', 'IGHV3-53', 'PPP2R3C', 'MBD4', 'EEF1A1', 'SEC23B', 'TPM3', 'ACTG1P3', 'GCSAM', 'MED6', 'ST7L', 'RN7SL608P', 'TNFRSF8', 'CLPX', 'ZNF383', 'PRKCZ-AS1', 'DDX46', 'HSPG2', 'SLC4A7', 'TRA2A', 'ZNF117', 'FGR', 'CDC45', 'C16orf54', 'FASTKD2', 'SRD5A3', 'BRMS1L', 'STN1', 'ABCA6', 'POU5F1P3', 'CHD1', 'MICB', 'STAB1', 'TOMM34', 'PNP', 'PNMA1', 'EPC1', 'NCL', 'XRCC2', 'ESRP2', 'N6AMT1', 'NOXA1', 'RBP5', 'TPPP', 'XPO6', 'SLC39A7', 'PDE3B', 'NAA16', 'KRT18', 'WASH8P', 'TSPAN4', 'SAPCD2', 'SHC1', 'DHRS4L2', 'SMIM3', 'PTK2', 'CREM', 'CDC14A', 'PLEC', 'TRIM45', 'MT-TL1', 'ENO1', 'ATAD3A', 'AVPI1', 'DCAF5', 'MCTP2', 'GPR137B', 'CEBPB', 'SMPD2', 'TMEM18', 'MVP', 'HEMGN', 'FANCE', 'MRTFA', 'EEPD1', 'DYNC2LI1', 'NCAM1', 'ACADVL', 'GPD1L', 'ABCA2', 'BAK1', 'CPNE8', 'PRXL2B', 'ALDH8A1', 'ELMO3', 'RANBP2', 'RYK', 'SELENOH', 'ADPGK', 'SEM1', 'SMN2', 'ADGRL1', 'LRG1', 'WDR47', 'ZNF713', 'POU2F1', 'PCDHGA6', 'MYL12B', 'KIAA0586', 'BCOR', 'SUSD4', 'ABHD17C', 'SKP2', 'ABI3', 'SDHD', 'TMEM144', 'B3GNT8', 'KIF1C', 'MOB2', 'MT-TK', 'CETP', 'NUP188', 'PPP1CB', 'TIGD3', 'PHKG2', 'ZNF816', 'TMED5', 'ZDHHC11', 'NAPSB', 'C5orf58', 'BCL7A', 'TTC30B', 'POLQ', 'MIR4477B', 'IZUMO4', 'ATP6V0A1', 'ANO10', 'AMN1', 'ANXA9', 'PDCD7', 'CEMIP2', 'DICER1-AS1', 'TIGD5', 'DMTN', 'PSMB3', 'TNFRSF14', 'ZNF148', 'REPS1', 'PHLDA1', 'LRIG1', 'WDR19', 'ZNF790', 'CDC123', 'UBE2S', 'TPPP3', 'MAN2B2', 'ZNF347', 'CITED4', 'KCTD5', 'XRRA1', 'BOLA3-AS1', 'INSIG2', 'IFNLR1', 'LINC01237', 'C5orf15', 'RAD21', 'RAB35', 'SH3GL1', 'TMED3', 'TMEM160', 'ATP2A1', 'MYO5A', 'ZNF559-ZNF177', 'DUBR', 'TBC1D15', 'UBE2FP3', 'SASS6', 'GTF2A2', 'FBXO30', 'LINC00847', 'ADGB', 'SLC39A4', 'AKAP7', 'MCM10', 'MMACHC', 'PLA2G4B', 'HYAL3', 'RIMBP3B', 'CFAP54', 'OTUD1', 'TMIGD3', 'VASH2', 'ZNF222', 'TRAK2', 'NUDT4P2', 'SHROOM1', 'EPHB3', 'SNUPN', 'GGT1', 'BRIX1', 'BECN1', 'KBTBD2', 'SLC3A2', 'WDR54', 'ACSS2', 'FZD1', 'HACD2', 'TNFSF13', 'RBM42', 'TBC1D16', 'ZNF507', 'PHC2', 'ORMDL1', 'OTUD7B', 'LAMA2', 'NBPF19', 'ZNF436', 'LITAF', 'PXN', 'PTBP1', 'SLC30A7', 'ZNF316', 'TRRAP', 'IMPA2', 'YIPF6', 'BST2', 'TAF13', 'CHAC2', 'LSP1', 'RASAL3', 'HHAT', 'PPM1N', 'METTL5', 'GLYAT', 'KIT', 'HMGXB3', 'INTS9', 'NHP2', 'IGIP', 'DUSP4', 'KIAA0513', 'PSME1', 'CALD1', 'SLC22A23', 'PACC1', 'ARL1', 'STRN4', 'CPPED1', 'TAS2R14', 'BACE1', 'LIN7B', 'CCDC25', 'C9orf85', 'KCNAB1', 'RIPOR3', 'NOM1', 'SAP30L-AS1', 'KCTD11', 'ARNTL2', 'DUSP12', 'TMPRSS4', 'FBLN1', 'ANGEL2', 'AMN', 'PDE6B', 'TADA2A', 'UBE3A', 'UBE2D4', 'CDKN1C', 'ZP3', 'MT-TW', 'RBM3', 'ROCK2', 'TMEM173', 'THEMIS', 'POT1-AS1', 'ARHGAP19', 'NDUFS5', 'NBEA', 'TET1', 'CD68', 'CR1', 'ZDHHC11B', 'SAFB', 'C2orf27A', 'POTEC', 'TRAPPC4', 'ZNF426', 'IGLV4-69', 'NOP10', 'FAM160B2', 'TEX21P', 'CLSTN3', 'CSTF1', 'NDRG3', 'SPDL1', 'LINC01146', 'OPHN1', 'SCAI', 'SLC1A6', 'GNA13', 'RPTOR', 'TM7SF3', 'TNNT3', 'NDUFB10', 'NR1D1', 'TNFRSF13B', 'GHR', 'ZNF777', 'HOMEZ', 'PBX3', 'LINC00926', 'CECR7', 'KMT2B', 'RPL14P1', 'RPL15', 'GUCY1A1', 'CACNA2D2', 'EIPR1', 'NAA20', 'UNC5B', 'PIAS4', 'RAD51D', 'LINC01619', 'LGALS1', 'YIPF4', 'PCYOX1', 'PTK2B', 'HIF1A', 'WDFY2', 'RELCH', 'CTH', 'TXLNG', 'LRRC74B', 'CUL9', 'CA11', 'MTERF4', 'EPB42', 'EFNA5', 'BCRP3', 'LRRC37A4P', 'LACTB2', 'CKS2', 'CNR2', 'ATRX', 'BEND2', 'COL27A1', 'DYNAP', 'IGLV6-57', 'HIST1H2AC', 'MCM2', 'FGFR2', 'PEMT', 'ZNF429', 'STRADB', 'KATNB1', 'CABIN1', 'TMEM102', 'RAP1A', 'RXFP2', 'PPM1L', 'TXNDC16', 'UNC119B', 'PIP4K2A', 'BRF2', 'ERP29', 'MMADHC', 'APH1A', 'LZIC', 'MAN1A2', 'DDX51', 'DNAJC15', 'IQANK1', 'GIGYF1', 'ZNF699', 'CAPN15', 'LSR', 'MT-TI', 'CPT2', 'IGLV9-49', 'RAD1', 'MT-CYB', 'RPL7L1', 'JAKMIP3', 'LLGL1', 'METTL22', 'B3GNT2', 'IARS2', 'RABGEF1', 'SLC17A5', 'MFSD4B', 'KCTD7', 'SWT1', 'HGF', 'HIST3H2A', 'SLC22A4', 'PHF5A', 'PADI6', 'NDUFA10', 'CARS', 'ACSF3', 'ASAH1', 'CPSF7', 'JADE1', 'PRPF19', 'SKI', 'BACE2', 'KLHL6', 'PLP2', 'GOLGA7B', 'HEMK1', 'RAP2C-AS1', 'HINT1', 'FPGT-TNNI3K', 'PCK2', 'ZMYM3', 'NPAP1', 'MUC20', 'LINC02422', 'MAP3K14-AS1', 'FAR2', 'TATDN1', 'FAM234A', 'WHRN', 'ANKFY1', 'DOLPP1', 'BICD1', 'NEIL1', 'CD55', 'TET3', 'SYNPO2', 'BRAF', 'SIGIRR', 'ZNF439', 'ZNF576', 'RPL39', 'ZNF513', 'ATG12', 'TRNT1', 'LIMK1', 'MRTFA-AS1', 'DPY19L2', 'PRELP', 'SELPLG', 'SHF', 'CCDC174', 'KATNA1', 'PHETA1', 'COPS3', 'FCN1', 'FAM120A', 'CHRNE', 'HSD17B2', 'C4orf19', 'CDCA5', 'PILRA', 'NBDY', 'GLULP5', 'GPX1', 'CYP2U1', 'ATP8A2', 'SRP68', 'RABIF', 'RPA2', 'MAP7D3', 'RASSF5', 'CEP295', 'XAB2', 'USP19', 'BAZ2B', 'C6orf120', 'TOMM20P2', 'ASAH2', 'GINM1', 'ZNF280B', 'MAP1A', 'MAP6D1', 'PAN2', 'TSKU', 'CLDND2', 'SERBP1', 'FLI1', 'IFIT5', 'VBP1', 'DAPK2', 'RIMS3', 'DOC2B', 'CCDC43', 'CIDEB', 'ISG15', 'SNX16', 'TMEM41A', 'MRPL54', 'RGS12', 'KCND1', 'TMEM165', 'PIEZO1', 'C8orf58', 'B2M', 'MANBA', 'AKR1C3', 'ADGRE4P', 'HES6', 'NUSAP1', 'C20orf203', 'IRF3', 'NELL2', 'YARS', 'PGAP1', 'BID', 'METTL7B', 'FBXO7', 'USP32P3', 'TMEM19', 'MAFG', 'UEVLD', 'PDHX', 'DNM1P47', 'ADAP1', 'DDTL', 'DDX11L2', 'MIR9-3HG', 'PADI2', 'TNRC6C-AS1', 'ATP6V1D', 'NUP160', 'LINC00106', 'KLF8', 'SLC7A8', 'ZNF91', 'MYO1F', 'PDIA5', 'SELP', 'MAP3K12', 'BAG4', 'KCTD13', 'REXO4', 'SLC4A4', 'YWHAQP5', 'MTDH', 'ARHGEF3', 'ZNF350', 'IKBIP', 'WBP11', 'PLD3', 'DNAJB4', 'CHRNB1', 'CEBPE', 'C5AR1', 'PSMC6', 'SNRPA', 'FITM2', 'LEO1', 'PIGL', 'POLB', 'RBM33', 'ZNF654', 'INTS7', 'RN7SL806P', 'RRP12', 'KIAA0100', 'ZNF552', 'INPP4B', 'C19orf48', 'MUC20-OT1', 'PSMF1', 'ARID3B', 'ZNF440', 'ANKRD10', 'GRINA', 'STX2', 'CWF19L2', 'ELOVL5', 'LNX2', 'YY2', 'ARHGAP5', 'GOLGA8A', 'CEP76', 'PIK3AP1', 'MT-ND2', 'ILRUN', 'SRGN', 'PRKCQ-AS1', 'KLRC4', 'PTCH2', 'FAM167A', 'RXRB', 'CCZ1B', 'MKLN1', 'CHFR', 'STIMATE', 'ZNF616', 'ARHGAP30', 'CCM2', 'C1QTNF3', 'SLC22A17', 'FCRL6', 'AQP9', 'PPDPF', 'RNF11', 'XRN2', 'PTPN2', 'STAM2', 'TRBV10-3', 'GADD45GIP1', 'CHP1', 'IQSEC2', 'ZFP28', 'FAM86B3P', 'ZNF707', 'MIS18BP1', 'TPMT', 'ZNF77', 'AZI2', 'BCS1L', 'RPL26', 'VPS45', 'SETD6', 'LYSMD3', 'THRAP3', 'ITGA11', 'LINC02723', 'L3MBTL1', 'P2RY1', 'PDP2', 'HEATR6', 'MOAP1', 'KDM5C', 'KIF20A', 'TAF9', 'AKT1', 'ARRDC1-AS1', 'ZNF821', 'LINC00920', 'NOG', 'CWF19L1', 'DGCR9', 'RPH3A', 'CUX2', 'MTMR7', 'WDR49', 'CDHR2', 'NFIL3', 'PNPLA4', 'RARS', 'SP1', 'SLC37A3', 'MINDY3', 'CARD8-AS1', 'SRD5A3-AS1', 'CNPY3', 'PTCD1', 'TFCP2L1', 'PRDX4', 'ABCB6', 'LINC02390', 'TSNAX', 'DTX2', 'TRAPPC12-AS1', 'CARF', 'LINC01515', 'KCNH8', 'NUP88', 'SPRY3', 'PGM2L1', 'HS3ST3B1', 'SMG1P5', 'ABCF2', 'MYL6B', 'TP53RK', 'CYB561', 'BAIAP2', 'HAUS5', 'MED17', 'MXRA8', 'PLCL2', 'MRPL45', 'PLXND1', 'DZANK1', 'MRPL46', 'NSUN4', 'PTGFRN', 'MRPS21', 'SCCPDH', 'DHRS13', 'CAMTA1', 'POLDIP2', 'RNF168', 'CENPM', 'HNRNPM', 'ZNF487', 'ZNF620', 'SLC25A38', 'ANAPC11', 'DDRGK1', 'TNFRSF10C', 'EME2', 'COPDA1', 'AP3D1', 'MIS18A', 'RERE-AS1', 'BTN3A3', 'NADK2', 'DSC2', 'IGLV1-51', 'NANS', 'ROMO1', 'SLITRK4', 'GSS', 'ADTRP', 'CLSTN1', 'WIPF1', 'AGFG1', 'IGHV1-18', 'CD300E', 'FOXO1', 'F5', 'FAR1', 'UROD', 'AZU1', 'C20orf27', 'TBC1D19', 'BAP1', 'RAB6B', 'CYBB', 'LINC00672', 'ZNF420', 'HS6ST1', 'TEX22', 'VGLL4', 'ZBED1', 'CAMTA2', 'MORN3', 'THOC1', 'SEMA6A', 'LINC00894', 'RFXANK', 'ZNF511', 'ZSCAN30', 'PDSS1', 'HP1BP3', 'PTGER4', 'C17orf58', 'PAAF1', 'CNPY2', 'ASAP1', 'SMAD2', 'CLMN', 'DPP3', 'RALGAPB', 'FRAT1', 'PRMT6', 'ZBTB34', 'TRIM73', 'PDXK', 'NHSL1', 'SMARCA4', 'QTRT2', 'TAS2R20', 'CDC26', 'ELOF1', 'BANF1', 'BBS12', 'ABAT', 'UGDH', 'SHLD1', 'PEX2', 'HIGD1A', 'RBM22', 'RPS3', 'GRPEL1', 'TPT1-AS1', 'C3', 'DDX10', 'POLR2D', 'RING1', 'CCDC30', 'RPAP1', 'SRSF11', 'BCAP31', 'CKLF', 'ISY1-RAB43', 'GATAD2A', 'TRIP12', 'SEMA6C', 'PTER', 'ZNF799', 'FBXO33', 'ZKSCAN2', 'MIF', 'ODR4', 'TSSK3', 'SLC35F5', 'RPL7P23', 'ANP32B', 'ADAMTS2', 'ZNF366', 'PTCD3', 'COL6A3', 'PCYT1B', 'OSBP', 'SPRTN', 'BEND5', 'PLEKHD1', 'BLOC1S1', 'CTSF', 'PGGT1B', 'TCAIM', 'NUCB1', 'KIR2DL1', 'ISOC2', 'ZHX1', 'ATF3', 'HLA-H', 'ING5', 'KPNA2P3', 'NCF1C', 'CDHR3', 'VEZT', 'ARHGDIB', 'CXCR5', 'NOL7', 'PCDH9', 'YDJC', 'ZER1', 'FKBPL', 'GOLGA2P10', 'ACYP1', 'LINC02295', 'NUDT3', 'PREX1', 'ZNF527', 'RTP5', 'TLE2', 'DUS2', 'ATP5MC2', 'CORO1C', 'TRAF3IP2', 'KIN', 'STPG1', 'ALDH4A1', 'STOML2', 'ZNF2', 'PANK1', 'PROSER3', 'IRAK3', 'TRBV12-4', 'ZBTB21', 'MEIOC', 'S100A11', 'MIR497HG', 'CHCHD6', 'RAC2', 'GAA', 'TMEM266', 'CHRFAM7A', 'NAA40', 'BRD9', 'MAD2L1', 'PRKRIP1', 'SLC41A3', 'SNHG8', 'TMEM147', 'TRMO', 'PREPL', 'WBP2NL', 'ZNF525', 'PAM', 'NDUFA9', 'MN1', 'PPP1R3D', 'ROBO3', 'DAB2', 'C16orf91', 'FEM1A', 'AKAP11', 'LGI2', 'PPOX', 'CTSC', 'H2AFZ', 'PLCB2', 'ZNF565', 'VIPR1-AS1', 'HIST1H2BC', 'PLEKHG5', 'MTERF1', 'RWDD2A', 'SEC13', 'ULK4P3', 'R3HDM2', 'FLOT2', 'GNPTAB', 'LRPPRC', 'GNS', 'TIMM50', 'RPLP2', 'SIK1B', 'SRSF5', 'TMEM213', 'TJP3', 'GYS1', 'BUD23', 'ASB16-AS1', 'COLGALT1', 'RNF144A-AS1', 'ZNF561', 'NISCH', 'RARG', 'NDUFA1', 'NKAP', 'FAF1', 'CTSL', 'SORD', 'ASXL2', 'ANKRD13D', 'IKZF2', 'NUMA1', 'BBS7', 'WRAP73', 'ANO6', 'PLA2G4A', 'WDR25', 'ZBTB8B', 'SFSWAP', 'LRRFIP1P1', 'GPAT3', 'TRIB2', 'NOP14-AS1', 'ARHGAP21', 'SH2D1A', 'SLC25A37', 'ULK4P2', 'JAKMIP2', 'GUCY2C', 'LGMN', 'TUBA8', 'SPDYE6', 'TYMP', 'RASSF1', 'ZNF184', 'GNL3', 'TXNL4A', 'NSD2', 'OPLAH', 'E2F3P1', 'RAB7A', 'RPL10P16', 'FARP2', 'CYB561D1', 'CCT8', 'DICER1', 'RPS7P3', 'SUGP1', 'SNORA66', 'RNF123', 'SF3B2', 'SEMA3F-AS1', 'GTF2H3', 'GNA11', 'TSHZ1', 'UBE2V2', 'MED12', 'POLR2E', 'SP110', 'CYB5D1', 'ANAPC10', 'MFAP3', 'ATP5MC1', 'MLLT1', 'TNS3', 'GPN2', 'TXNL1', 'TCEA2', 'FBXL19-AS1', 'LRFN4', 'ABCA5', 'UBR5', 'PXYLP1', 'HHLA3', 'LUC7L', 'MLLT6', 'SMPD4P1', 'PPP2R3A', 'ANKRD18EP', 'PVT1', 'NUTF2', 'PLCG1-AS1', 'TPGS2', 'OSM', 'TRIM69', 'C1orf61', 'LGALS9C', 'DVL1', 'LRRC43', 'SEMA4A', 'SLC9A5', 'WASHC1', 'HOOK3', 'ZNF205', 'SNHG19', 'IL9RP3', 'THTPA', 'IDS', 'TDP1', 'TFEB', 'PPP1R12C', 'TMEM59', 'CHSY1', 'SLC10A7', 'MRPL50', 'SEMA4B', 'DLGAP1-AS1', 'PIGC', 'TMEM51', 'CDC42EP1', 'LINC01534', 'LINC02073', 'LSM14A', 'ABCC9', 'RAB8A', 'NAP1L5', 'LINC01128', 'C4A', 'FARSB', 'NXT1', 'ZBTB40', 'DZIP1L', 'HINT2', 'RTL8C', 'AGPAT5', 'INPP4A', 'DDX21', 'COX17', 'KDM6A', 'ANG', 'PAXIP1', 'TOE1', 'SMIM29', 'PFKP', 'RPL36A', 'PLS1', 'THAP7-AS1', 'MT2A', 'ECI2', 'MFNG', 'DDB2', 'MIR600HG', 'FNDC3A', 'ENTPD1', 'PLAGL2', 'FLVCR2', 'CLTC', 'ANKRD20A19P', 'ARL11', 'SERPING1', 'SGO1', 'WDR76', 'MBD5', 'CCDC61', 'LY6G5C', 'CCT6P1', 'LASP1', 'HAUS6P3', 'ACY1', 'PCGF5', 'PPP6R2', 'C6orf226', 'MRPS17', 'AGTRAP', 'SH2D2A', 'CTPS1', 'RAB12', 'CMTM4', 'FBXO5', 'ZBED3', 'CD22', 'ZBTB18', 'PEX14', 'DDAH2', 'ZNF500', 'C15orf61', 'TAOK1', 'RNF7', 'CRAMP1', 'RIMKLBP2', 'PIGM', 'MRPL22', 'ZNF548', 'ACTN4', 'IGHD', 'C15orf62', 'KRT73', 'CCNA2', 'SH2B1', 'IREB2', 'LINC00630', 'DANCR', 'MS4A2', 'RHOBTB3', 'KLRB1', 'LINC00276', 'FANCM', 'SPG7', 'POC1B-AS1', 'NCF1', 'PAK1IP1', 'ACAA1', 'ISG20', 'RBMX2', 'LINC02084', 'RGPD5', 'TOX4', 'ZNF385C', 'DAZAP1', 'RNASEH1-AS1', 'CCDC12', 'SLC29A4', 'MOGAT3', 'TNRC6B', 'CCNG2', 'DUSP22', 'G6PC3', 'SLC25A53', 'COMMD2', 'TMEM60', 'SEMA3G', 'ZNF703', 'OTULIN', 'POLE', 'THOP1', 'NMRAL1', 'CARD17', 'AGBL2', 'FKBP15', 'VSIG1', 'TMEM199', 'INIP', 'MTMR10', 'CCDC144B', 'HELZ', 'MZB1', 'PI4KA', 'ZBTB8OS', 'FAM168A', 'CLNS1A', 'IVD', 'ZNF282', 'CC2D1B', 'SNORD14A', 'SULF2', 'C5orf51', 'TERF2IP', 'CCDC65', 'WDR82', 'CDK18', 'LDHB', 'OXA1L', 'DNAH8', 'IGFBP7', 'MAPRE3', 'PPFIBP1', 'TMC4', 'PPP1R3E', 'TEP1', 'VANGL1', 'MAP3K10', 'H3F3B', 'SH3GLB2', 'CSTB', 'SCNN1A', 'LINC00304', 'LCN10', 'PTS', 'TADA2B', 'MRPS14', 'RPS19BP1', 'PTTG1', 'ZNF256', 'TSR2', 'CCR3', 'FAM13B', 'AKR7L', 'MCC', 'TMEM70', 'LY6G5B', 'DHX15', 'AMPH', 'CAAP1', 'C9orf16', 'TRPV4', 'RASGRF2', 'FXN', 'NEK2', 'AURKAIP1', 'SENP6', 'SULT1B1', 'CDC34', 'RIOK3', 'EDRF1', 'ZBTB46-AS1', 'NUP42', 'RELL1', 'PDZK1P1', 'TGFBI', 'SNX24', 'CCNQ', 'PYGM', 'RBM41', 'POU2AF1', 'BLOC1S6', 'APOBEC3A', 'PRG4', 'LINC02817', 'APOL4', 'ZNF710-AS1', 'NDUFA3', 'TSPYL2', 'RAI1', 'NLRP1', 'BABAM1', 'MAPK1IP1L', 'TNFAIP8L1', 'MORN1', 'MAP10', 'HDAC8', 'ATMIN', 'CYTH2', 'FASTKD3', 'IL2RB', 'ZNF547', 'GGA3', 'WASHC2C', 'VSIG2', 'PAQR6', 'SYTL4', 'GOLGA2', 'MFF', 'KDM2A', 'RBM26-AS1', 'CECR2', 'MKRN2', 'MSRB2', 'LRRK2', 'TTC23', 'COX16', 'TMEM40', 'P2RY2', 'DOK4', 'CDC42EP3', 'MSC', 'ZNF44', 'SLC25A11', 'TECRL', 'NR4A1', 'MBNL1', 'ODC1-DT', 'SMPD1', 'LINC01550', 'TMED7', 'ZNF182', 'HACL1', 'NARS', 'KHDC4', 'FERP1', 'GBGT1', 'CENPN', 'TMED4', 'AGFG2', 'TTC12', 'BBIP1', 'GCLC', 'DECR1', 'ELMO1', 'EML5', 'CBX4', 'HIRA', 'POMT1', 'GRAMD4', 'LINC00888', 'CASP5', 'VARS2', 'PRKN', 'SERF2', 'FAM110B', 'SELENOI', 'KDSR', 'ANO8', 'ZNF213-AS1', 'RAB31', 'B3GAT1', 'SLC10A3', 'DPAGT1', 'FASN', 'AP1S2', 'LINC01138', 'NPEPPS', 'SLC2A9', 'PBDC1', 'ADI1', 'ABCD3', 'MRPL10', 'CELSR2', 'TEX30', 'RNA5-8SN2', 'CLEC12A', 'GLOD4', 'KLF11', 'EMP3', 'OMG', 'LINC00243', 'CCDC77', 'FAM171A1', 'HERC2', 'KCNH3', 'SH2D6', 'TRMT5', 'RAMP2-AS1', 'HK1', 'PIGZ', 'PHLDB1', 'TMEM68', 'CIITA', 'RPL12P16', 'TRAPPC10', 'FRK', 'LRRC8C-DT', 'LARGE1', 'MAGOH2P', 'C1orf52', 'MITD1', 'MTURN', 'PODXL', 'SOAT1', 'TOMM70', 'RIOX2', 'ABRAXAS2', 'RPS6KB2', 'H2AFY', 'SLC25A5-AS1', 'EPS8L1', 'USP37', 'XPO4', 'CD180', 'NPM1', 'FGF7P6', 'ANKRD26', 'TESC', 'SLC29A1', 'ZNF486', 'SLC30A2', 'ITGAV', 'UQCRB', 'NCBP2', 'PGBD4', 'BCAP29', 'DDX49', 'TNFAIP8', 'ACAP2', 'MFSD9', 'CCDC9B', 'RPUSD1', 'SIGLEC20P', 'FHOD1', 'THAP9-AS1', 'ZBTB12', 'PRMT7', 'RANGRF', 'HAGHL', 'SGPP1', 'TFB1M', 'IGLV2-23', 'ATG16L1', 'MRPS34', 'SYP', 'G2E3', 'CBX7', 'SESN2', 'ANGEL1', 'ENHO', 'GALNT11', 'NFKBIL1', 'R3HDM1', 'SIGLEC16', 'DCTN4', 'IGHG2', 'KIF2C', 'OSBPL11', 'LINC00680', 'RBKS', 'TRBJ2-2', 'IGHG1', 'CIT', 'TRGV3', 'CHCHD2', 'ARID1A', 'ITPA', 'MBTPS1', 'ATG4C', 'GIT1', 'KLHL17', 'PRKCI', 'UTP6', 'KCNMB4', 'VWA7', 'SEC22B4P', 'CRX', 'GRAMD1C', 'LCMT1-AS1', 'FIBP', 'LINC00900', 'LINS1', 'DNLZ', 'ECE2', 'KANSL3', 'SCP2', 'C12orf57', 'LINC02177', 'ZEB1', 'ESYT2', 'ZNF76', 'ITLN1', 'CD14', 'WDR73', 'CD3D', 'ERBIN', 'ICAM2', 'NARF', 'SEC24B', 'PSAT1', 'CHMP2B', 'SAMD4A', 'ACSL6', 'PNN', 'PGAP3', 'NUP85', 'FCER2', 'MAK', 'PARVG', 'PSD3', 'URB1', 'HNRNPC', 'ZFP36', 'OSMR', 'QPCTL', 'CEBPZOS', 'FN1', 'TRAV3', 'PRKG2', 'PEX11A', 'PSMA3', 'AHDC1', 'MAP4', 'TEX10', 'LINC00504', 'GSTP1', 'ATG5', 'FBXO4', 'YEATS4', 'SLAMF6', 'BCAS3', 'SP3', 'KANK1', 'ZNF596', 'LTN1', 'MIR4453HG', 'TNFSF4', 'LINC01016', 'SLC9A3R1', 'LSM11', 'STAT2', 'NR2C2AP', 'LINC00652', 'SYNGR2', 'NACA', 'STX5', 'TXN2', 'CLSPN', 'LINC002481', 'NOL4L', 'MARCH1', 'VPS25', 'GPT', 'ZNF248', 'SPTSSA', 'MARS', 'CBWD3', 'NLRC4', 'SIGLEC15', 'IKZF1', 'NPIPB9', 'RGS19', 'OR7E7P', 'TREML3P', 'MPC1', 'CHD9', 'ATG16L2', 'DMKN', 'DNAJB5', 'MLF1', 'PTPN4', 'RMRP', 'OSGIN2', 'STAG3L1', 'XKR7', 'FAM228B', 'NPIPB12', 'TNFSF12-TNFSF13', 'ZNF583', 'TEPSIN', 'ADCY10P1', 'PFN1', 'RPL23AP7', 'KTN1-AS1', 'RRM2', 'RPL23', 'CLN3', 'DUSP8P5', 'GOLGA8S', 'PARP10', 'ARRDC1', 'IL4I1', 'KIF15', 'SMARCA2', 'SLC36A1', 'NUDT4B', 'DUSP19', 'XKR4', 'DMTF1', 'KMT2C', 'RNA5-8SN5', 'EID2B', 'SLC2A1-AS1', 'ZNFX1', 'AKR1B1', 'BUD31', 'CHTF8', 'TIMELESS', 'SLC9B1', 'TMEM25', 'MRPL13', 'C20orf204', 'ANKRD19P', 'PIP5K1B', 'TM9SF1', 'DPP9-AS1', 'PSMG2', 'NEFH', 'PCNX4', 'ZNF483', 'ALG10', 'CRACR2A', 'FGD5-AS1', 'SLC20A2', 'MEST', 'IFITM1', 'SMYD5', 'AKR1A1', 'ATP6V1F', 'CKAP2L', 'SCARB1', 'KLHL21', 'DLST', 'MICA', 'FAM20B', 'SZT2', 'HIST1H2BD', 'NUDCD2', 'TMEM179B', 'NAGLU', 'SEC23A', 'PDZK1IP1', 'CACNA1C', 'HK3', 'NFATC3', 'DEGS1', 'TYSND1', 'DGAT2', 'TOR1A', 'RPS21', 'PSMG4', 'SAV1', 'TMEM176B', 'MRPS36', 'ASB4', 'TRBV7-9', 'MPP6', 'RPL26L1', 'TOR3A', 'ZNF419', 'SPG11', 'NDUFB5', 'FCRL3', 'IGHV2-70', 'FER', 'ICK', 'SEPTIN14', 'FAM157C', 'EFCAB11', 'SPATS2', 'RAB1B', 'GPRIN3', 'RBPJ', 'MYCBPAP', 'S100A4', 'TBL2', 'SNAPC3', 'TF', 'ZNF480', 'SIRT5', 'ABCB8', 'YME1L1', 'NDUFB9', 'TNFRSF1B', 'ATAD3C', 'FOXP4', 'FHAD1', 'RHOT2', 'SCRN1', 'C3orf52', 'ADM', 'TRIM28', 'LIPT1', 'HAL', 'MROH1', 'P2RX4', 'SLC25A43', 'ST14', 'KCNE4', 'MARCH5', 'POGLUT3', 'BABAM2', 'ASS1P1', 'RALY', 'STX16', 'FTOP1', 'UGGT1', 'COX5B', 'MICAL3', 'CLEC9A', 'DMXL1', 'LHFPL2', 'HOXC4', 'KCNK6', 'POLDIP3', 'NPIPP1', 'TMC8', 'POLR3F', 'GMPS', 'TPR', 'TRPM2', 'CYP4A22-AS1', 'PCCA-DT', 'IL1R2', 'TOP1MT', 'SLC2A11', 'HOXB4', 'MAK16', 'PLPP1', 'ZNF137P', 'P2RY11', 'IL21R', 'RPS2P5', 'CD2', 'ZNF234', 'NUDT5', 'HDDC3', 'RAD54L2', 'MAGED4', 'CDC42', 'SCARB2', 'CHDH', 'EPHX2', 'CBWD2', 'DHX9', 'UNC13B', 'TPST2', 'PAICS', 'CD274', 'ADORA2B', 'AMD1', 'SPRY2', 'PLEKHA5', 'ZNF3', 'ZNF585A', 'TMEM87A', 'IRGQ', 'USP45', 'WDR12', 'CTU2', 'RCSD1', 'ZKSCAN1', 'SNX9', 'SLC6A16', 'C4orf33', 'MAP11', 'DDOST', 'ZPR1', 'PDAP1', 'TBK1', 'INE1', 'RPL27A', 'ZNF433', 'COQ10A', 'INTS6L', 'LUC7L3', 'TMCC1-AS1', 'LPL', 'CCDC171', 'PRELID3B', 'ICE2', 'MARCH8', 'LINC00884', 'MALT1', 'SCYL1', 'ZNF484', 'FAM214B', 'BATF2', 'METTL8', 'PSMD12', 'FMR1-AS1', 'HCK', 'XRCC3', 'ZNF24', 'GGCX', 'AGTPBP1', 'WRAP53', 'SLC25A25-AS1', 'TMEM131L', 'GDPD3', 'ZNF286A', 'TMEM191A', 'WIPI1', 'PLAUR', 'SDSL', 'CD300A', 'EFCAB7', 'ACBD3', 'NT5C', 'NOMO3', 'COBLL1', 'TOMM20', 'ABCC5', 'C17orf77', 'ERO1A', 'FLNB-AS1', 'GATB', 'ANLN', 'NSUN3', 'IGF1', 'GADD45A', 'FRRS1L', 'PABPC1L', 'TPD52L2', 'TRBV5-4', 'CDCA7L', 'LRP8', 'UPK3B', 'RIN2', 'VPS36', 'TIFAB', 'COA4', 'GABARAPL1', 'AAAS', 'BLOC1S3', 'SLC35D2', 'GPR135', 'TADA1', 'TREML1', 'MCM3AP-AS1', 'PLXNA2', 'RRN3P3', 'PRKAG2', 'COQ5', 'MBIP', 'CPED1', 'MFHAS1', 'RGS6', 'CMTM5', 'RLIM', 'GPATCH2L', 'ZNF558', 'MAP2K2', 'ACVR2B', 'DNM1', 'PUDP', 'LINC00996', 'NKD1', 'MATK', 'SPECC1L-ADORA2A', 'BNIP1', 'KLHL11', 'SMARCE1', 'ZNF646', 'MAPK9', 'LAMA4', 'XRCC4', 'HLA-DMA', 'TNRC6C', 'PKD1', 'SLC7A14', 'LSM7', 'DCAF7', 'PPIG', 'ZSWIM8-AS1', 'KAT2A', 'ATP1B1', 'ACE', 'ICE1', 'KLF2', 'AFAP1L2', 'TRAV1-2', 'SENCR', 'CXorf40A', 'EXOC1', 'ALDOC', 'KIFC3', 'IGHV3-64', 'TSPAN32', 'TLE5', 'KIF9-AS1', 'FAM241B', 'HUNK', 'FLRT2', 'ATOH8', 'MMD', 'DNAJC25-GNG10', 'RAP1GAP2', 'SAMD8', 'CTC1', 'SBF2-AS1', 'SUGP2', 'IP6K1', 'SMYD2', 'NBPF14', 'TTC39C-AS1', 'ZNF33A', 'TXLNA', 'TMEM259', 'HMGN1', 'LTV1', 'EEF2', 'MOB1B', 'RAPSN', 'CHML', 'GBP1', 'TMPRSS13', 'SYTL1', 'CALB1', 'XK', 'KLHDC10', 'FOXRED2', 'CYP51A1', 'TSHZ3', 'AGAP7P', 'ATP1A4', 'PMS2P1', 'SNURF', 'LPAR1', 'UBE2N', 'MIER1', 'STAU1', 'MIR3142HG', 'CPOX', 'TROAP', 'DHCR7', 'TMEM106B', 'C16orf86', 'ALG2', 'GDPD5', 'SLC27A4', 'LINC01934', 'UST', 'SORCS2', 'MSANTD2', 'POLR1D', 'CASTOR1', 'EML2', 'HNRNPCP2', 'ARHGEF26-AS1', 'LRCH1', 'CNNM4', 'WARS2-IT1', 'LY6G6E', 'MID2', 'CFAP44', 'JAM3', 'COX10-AS1', 'SULT1A3', 'REV1', 'CD8B2', 'SARS2', 'RPS27A', 'FIS1', 'C17orf97', 'PARP16', 'PYGO2', 'C1orf54', 'DIMT1', 'SHARPIN', 'USP48', 'AGO4', 'ZNF518B', 'ATP8A1', 'PGBD1', 'LINC02256', 'C7orf31', 'ACTR3C', 'NTNG2', 'WAC', 'SH3BP2', 'SLC38A6', 'UTP15', 'BCL3', 'FCGR1CP', 'NEDD4L', 'LINC00989', 'COG7', 'VRK1', 'AKT1S1', 'EXOSC9', 'GLYR1', 'CXCR6', 'AP3S2', 'CHEK2', 'TOX2', 'TRO', 'TBC1D27P', 'HIPK2', 'TMEM218', 'TTC17', 'COL7A1', 'HAGH', 'ACTR5', 'PEAK3', 'NPLOC4', 'TP53INP1', 'PLAAT4', 'PIGG', 'KIF22', 'TKT', 'SOS2', 'FMC1-LUC7L2', 'SAP30BP', 'USP3', 'CHERP', 'ZNF417', 'ZNF662', 'URM1', 'DHRS3', 'FKBP1B', 'MRPS18AP1', 'GOLGA3', 'GPR18', 'PCED1B-AS1', 'ARHGAP8', 'IGKV1-12', 'SPARC', 'EIF4H', 'IFFO2', 'ZNF573', 'CISD1', 'SBDS', 'IGKV1-5', 'TMEM141', 'FASTK', 'MUC12', 'ALKBH3', 'INPP5B', 'HLA-DMB', 'UBXN7', 'USP39', 'SNORD59A', 'CAT', 'ASB3', 'ZNF330', 'FDXACB1', 'GORASP2', 'VIPR1', 'PPP3CC', 'WFDC21P', 'MRPS24', 'VAT1', 'ZNF569', 'PPARGC1B', 'ALKBH7', 'IGLV2-14', 'GPR160', 'CD47', 'KRBA2', 'THAP2', 'CAPN2', 'GLRX5', 'GCSH', 'HVCN1', 'PIGN', 'CDC14B', 'ZNF600', 'ZNF839', 'UBQLNL', 'ADCK5', 'MSX2P1', 'COPB1', 'TNK2-AS1', 'AGRN', 'PRODH', 'TBC1D14', 'IGHV1-24', 'TAF5L', 'BANK1', 'ERICH1', 'MBD1', 'ZBTB44', 'ARL10', 'UFSP2', 'MTIF2', 'EMP2', 'DCUN1D2', 'LINC02648', 'ANGPT2', 'MCM9', 'PLAAT3', 'CD86', 'MYO1C', 'RNPEPL1', 'SMC1A', 'SLC2A3', 'NOTCH3', 'ETNK1', 'MRPL39', 'ARNTL', 'CYP4F12', 'SSNA1', 'TCF7L1', 'GUSBP4', 'UQCC1', 'SPEN', 'TTC28-AS1', 'ZBTB10', 'DEPDC1B', 'RPARP-AS1', 'ZNF100', 'UBL3', 'GMDS-DT', 'RFC2', 'EHD2', 'CSKMT', 'SFTPD', 'CFAP157', 'MAP9', 'NFYC', 'HLA-L', 'MRPL42', 'DOCK10', 'PRXL2A', 'TMEM191C', 'WBP2', 'CNOT10', 'MIR4458HG', 'DTX2P1-UPK3BP1-PMS2P11', 'CARD16', 'CCAR2', 'MYLK', 'CCDC34', 'CD72', 'CLEC5A', 'POLR2J4', 'SORL1', 'ZNF793', 'ARHGAP6', 'MGAT4B', 'TEC', 'VKORC1', 'TIGD1', 'ING4', 'IFI30', 'ENDOD1', 'PLK1', 'TLR10', 'TBL1XR1', 'TSTD2', 'NFXL1', 'IVNS1ABP', 'SGTA', 'RBSN', 'ABHD16A', 'C16orf70', 'PLEKHA6', 'ZNF80', 'UGT8', 'DDIAS', 'CEACAM21', 'HERC2P8', 'ICA1', 'TCAF1P1', 'TRAV24', 'SEC61A2', 'HSD17B7', 'ZNF609', 'TIAM1', 'CDK3', 'ACTG1', 'DLGAP1-AS2', 'RAP1GDS1', 'AFDN', 'SEC61B', 'ADGRE3', 'C19orf44', 'ASIC3', 'LINC02803', 'PSMC5', 'PIH1D1', 'PPP1R16B', 'CACNA1C-AS2', 'COX19', 'ECD', 'CFAP36', 'HERC1', 'LINC01547', 'PDHB', 'BEAN1', 'RBM17', 'ATP8B4', 'CKAP4', 'NR3C2', 'ARL5B', 'PLD1', 'BEND3', 'TXNRD2', 'LINC01814', 'AP1G2', 'PEF1', 'LINC02352', 'MYO7B', 'LAT', 'KCNK7', 'LYPD2', 'MARCKSL1', 'CACNB3', 'SP2-AS1', 'ECSIT', 'PGAM1', 'TUBAP2', 'CYYR1-AS1', 'FAM89B', 'CORO1A', 'NME4', 'TRIAP1', 'ATP5MF', 'TSPAN3', 'PPP1R37', 'MGA', 'ZDHHC9', 'COX20', 'ADARB2', 'DNAAF2', 'PRKD2', 'KIF3A', 'DENND2D', 'RPL10P19', 'PDE1B', 'AKAP12', 'FBXW2', 'LINC02754', 'PNKD', 'ZNF189', 'KCTD2', 'HEXB', 'RHOBTB2', 'RPUSD2', 'ATP5PF', 'RNASET2', 'NLRP3', 'UBOX5', 'PTPRVP', 'ENKUR', 'LYRM4', 'RBMS1', 'RHBDF2', 'CD302', 'SNORA3B', 'TMEM87B', 'SHMT1', 'BCL2L11', 'SPATC1L', 'ZNF48', 'CEP135', 'PRR5L', 'KLHL23', 'MCFD2', 'ATP6V0E1', 'PELP1', 'DCAF4L1', 'SIAH1', 'ST13P4', 'NDUFS7', 'PAFAH1B3', 'LARS2', 'BZW2', 'HSPE1-MOB4', 'PTPRJ', 'ACVR1', 'NAPB', 'NSD3', 'TBCC', 'LINC00507', 'ZNF273', 'PMAIP1', 'ANKRD36B', 'TATDN2', 'ZBTB25', 'PGRMC2', 'CDC20B', 'ACVR2A', 'DNAJC21', 'ANXA5', 'RNF32', 'VKORC1L1', 'EHD1', 'LINC00528', 'CLNK', 'LAIR1', 'NAPA-AS1', 'SPRED1', 'PPIB', 'KCNK17', 'BIVM-ERCC5', 'LINC01578', 'ATP1A1', 'MED13L', 'RPL5', 'ZNF671', 'PRRT3', 'CCDC159', 'LRIG2', 'GCC2', 'CXCR2P1', 'RUNDC3A-AS1', 'ACAD10', 'MALINC1', 'OTUB1', 'TENT5C', 'MRPL49', 'SLC9A3-AS1', 'GUSBP9', 'CNPPD1', 'BOLA1', 'TRUB2', 'GZMA', 'MAPK11', 'PIM2', 'PLEKHG6', 'NDUFAF3', 'MOB1A', 'EP400', 'LINC02280', 'SLIT1', 'PAF1', 'TRAV29DV5', 'CXorf56', 'ARMC5', 'RAD51B', 'TMEM123', 'GPBP1', 'CARMIL1', 'TGDS', 'ZBED4', 'METRNL', 'FBN1', 'MINAR1', 'BSN', 'STEAP4', 'C6orf136', 'PIGT', 'PEX19', 'IGLV3-9', 'ZNF740', 'VAMP1', 'KCTD18', 'TRAV13-1', 'CYP2T1P', 'IL1RAP', 'WDR44', 'RNF8', 'LINC-PINT', 'PDE3A', 'SETD5', 'NUDT16L1', 'IQCE', 'RAG1', 'CEBPA', 'CLDND1', 'DDR1-DT', 'NPIPA5', 'TTI1', 'NTPCR', 'MSANTD4', 'APBA2', 'GPSM1', 'NDUFAF8', 'NOTCH4', 'RNFT1', 'SKAP1', 'ELMOD2', 'FRG1HP', 'ZDBF2', 'IGLC3', 'ARSA', 'MIR4537', 'UCHL5', 'CYP20A1', 'ZNHIT1', 'FPR2', 'LINC01694', 'ASPSCR1', 'CCDC71L', 'ZGRF1', 'MRPL20', 'NUP43', 'PER2', 'CDCA8', 'DGCR6', 'LINC00476', 'DLGAP5', 'IFT74', 'NCR3', 'EXOSC5', 'PCAT1', 'C22orf34', 'UBE2D1', 'EIF4G3', 'ZNF618', 'PRKCQ', 'EEF1A1P11', 'ETHE1', 'PIPOX', 'RBM8A', 'SH3GL1P1', 'ZGPAT', 'TRAF7', 'PRAG1', 'CTNNAL1', 'CEP162', 'CDK7', 'P3H1', 'HMGXB4', 'LMNB1', 'NNAT', 'CEP112', 'DNAH14', 'NAGA', 'C19orf12', 'MRPS28', 'TMEM231', 'PIP5K1C', 'MTA1', 'SH3BP5', 'COPS9', 'PHF2', 'SIPA1', 'CSK', 'VWA5A', 'DOC2A', 'ZFPL1', 'NONOP2', 'UBXN8', 'EXOC2', 'KLF3-AS1', 'ZC3H12D', 'CUEDC2', 'ECHDC1', 'PARD3', 'CFP', 'RPL18A', 'ZKSCAN7', 'MORC4', 'HERC2P2', 'WDPCP', 'CTTNBP2NL', 'INKA1', 'TTC3', 'DDI2', 'RPP30', 'KLRF1', 'ENOSF1', 'TIMM17A', 'LINC01011', 'TCTA', 'PEX6', 'SIPA1L2', 'SPAG1', 'HEXD-IT1', 'LAMA5', 'AURKC', 'PDE6G', 'CSTA', 'TGS1', 'GRK4', 'SYT15', 'SERPINH1', 'TSPAN10', 'ARPC1A', 'RFLNB', 'TUBG1', 'EIF4ENIF1', 'ZNF747', 'DCAF12', 'SEPHS2', 'LIPE-AS1', 'NCLN', 'NFIC', 'SNX1', 'ZBTB45', 'NUDT12', 'TAP2', 'MICU1', 'NQO2', 'H2AFX', 'SCAMP1-AS1', 'PGBD5', 'ERV3-1', 'SRRT', 'CASP3', 'GARS', 'SUV39H2', 'PFDN2', 'TOP2A', 'KLF12', 'MORC2', 'NCF1B', 'STAT6', 'UXT', 'DPY19L1P1', 'APC', 'ACBD4', 'TMEM53', 'POMK', 'ANKRD28', 'DPY19L2P2', 'FAM107B', 'ALDH7A1', 'GRK6', 'IL1B', 'NCOR1', 'FAM153CP', 'MAF1', 'FBXO34', 'FUT1', 'PAOX', 'MEIS1', 'TNFRSF10D', 'CLIC1', 'FAM89A', 'GABPB1', 'TFR2', 'MROH7', 'TOR2A', 'TRMT13', 'CCAR1', 'MOGS', 'CEACAMP3', 'ARID5B', 'ASAH2B', 'BIRC3', 'SLC27A5', 'VAMP5', 'HARS2', 'SEC31A', 'TXNRD1', 'MTRR', 'RRAGC', 'KLHL9', 'TMEM185B', 'DPY30', 'CCDC102B', 'C22orf23', 'UNC13D', 'SEPTIN7', 'TRAV2', 'LMO4', 'HMGB3', 'GNA12', 'MGMT', 'PPP1R9B', 'SUCO', 'UBAP1L', 'SLC23A2', 'PARD6G', 'MRPS5', 'DCHS1', 'LRRC37A15P', 'EML3', 'TRAV6', 'NPC2', 'ARL2BP', 'DHRS1', 'BTLA', 'RN7SL785P', 'WFDC1', 'MSH6', 'TCTN1', 'DNTTIP1', 'RALGDS', 'MRPS16', 'SENP2', 'SERTAD2', 'IBA57', 'KIAA1257', 'AP1S3', 'LINC02591', 'MAD2L2', 'MYBL1', 'SERPINB2', 'XPO5', 'PSMD10', 'RBM4B', 'KCND3', 'MZT1', 'TGFBR1', 'GNL3L', 'MYL12A', 'ST6GALNAC4', 'ALDH2', 'HSF4', 'PMEPA1', 'BTN3A1', 'FCGR2C', 'CERS5', 'CCDC150', 'ELAC1', 'ITGAX', 'DUSP11', 'RNF145', 'UBFD1', 'MOSPD1', 'DBNL', 'KIAA0930', 'MSRA', 'SBDSP1', 'LINC00892', 'KCNIP2', 'CENPI', 'POC5', 'TOMM40L', 'MAFK', 'CYB561A3', 'ACOX3', 'ILF3-DT', 'SVIL', 'TTPAL', 'C1orf174', 'CHMP6', 'ARHGAP25', 'BMP8A', 'RPS4X', 'GTPBP4', 'PROX2', 'MLLT11', 'NCAPH', 'SDHAF2', 'NDUFB4', 'VDAC1', 'ESRG', 'DLEU1', 'ANKEF1', 'MAFIP', 'SMTN', 'THAP12', 'SMIM25', 'CAHM', 'UPP1', 'NIFK-AS1', 'IL23A', 'ACTR10', 'FCER1A', 'TMEM262', 'CEP83', 'NEURL4', 'ZUP1', 'DDX3Y', 'CENPX', 'GAS7', 'ELOC', 'CR2', 'GLE1', 'POLRMT', 'ATP5F1E', 'FKBP4', 'DYNLT1', 'BIN2', 'KDM7A', 'TBL1X', 'KYNU', 'TCF19', 'MAPK13', 'LINC00963', 'TRIM3', 'ARHGEF5', 'MED10', 'CDK11B', 'GET3', 'COA1', 'APOL6', 'MATN2', 'PSMB10', 'CCL28', 'SLC28A3', 'UPF3B', 'MVK', 'RPE', 'DDX27', 'EI24', 'BAG5', 'DYNC2H1', 'NUDT1', 'CDK16', 'PAX8', 'CD109', 'LINC00665', 'SLC30A4', 'RASA4B', 'TRBJ2-7', 'WDR24', 'ACOX1', 'YY1', 'AEN', 'IFNGR1', 'MRPL30', 'MAP1LC3A', 'PEA15', 'VSIR', 'RANBP3', 'SRSF10', 'GPR63', 'MTATP6P1', 'BUB1', 'PNPLA1', 'AP4S1', 'PTPRCAP', 'ADAM23', 'CBL', 'RNFT1-DT', 'EOMES', 'USP36', 'CTPS2', 'TENT2', 'TPTEP2', 'ODF2L', 'ATPAF1', 'HNRNPAB', 'JADE2', 'SGCB', 'RRBP1', 'DCAF11', 'CAPN1', 'TONSL', 'DCAF4', 'DGKG', 'GP9', 'UNK', 'DHX35', 'PIP4K2C', 'COL6A2', 'LRRFIP1', 'PSMD4', 'C11orf49', 'CYTIP', 'PDP1', 'PSMD14', 'FLNA', 'SUMO1', 'TM4SF19', 'CPM', 'TIAM2', 'CEP152', 'CYP2B7P', 'IQCH-AS1', 'MIB2', 'SSR2', 'BIRC2', 'YJEFN3', 'RPL8', 'C1QBP', 'EGLN3', 'HCN2', 'TNPO1', 'PML', 'IRF1', 'COX7A2L', 'ARHGAP29', 'BMP2K', 'CACNA1F', 'NDOR1', 'ADORA2A-AS1', 'PKN2', 'HLA-DQB1', 'FDX2', 'SETD1B', 'UNKL', 'LTBP2', 'LAMTOR5', 'RAF1', 'LIME1', 'NOTCH2', 'PCNT', 'ZSWIM6', 'SETX', 'TCF4', 'HIVEP2', 'TTC1', 'TRMT1', 'MFSD14A', 'TMEM126A', 'RRM1', 'PTGDR2', 'SGSH', 'MICALL2', 'CAPN10-DT', 'SPRN', 'COA7', 'GLS2', 'LINC01609', 'SERAC1', 'PRPF18', 'RRAGB', 'UNC80', 'ABCA10', 'CUTC', 'METTL2B', 'TMEM268', 'NDUFV3', 'FCRL5', 'TTC38', 'SLC11A2', 'MLST8', 'TNFRSF12A', 'ZKSCAN3', 'LAMB1', 'OSGEP', 'IFITM2', 'ZSWIM9', 'DPP7', 'MACROD1', 'PIK3C3', 'TRAV10', 'ABTB1', 'GUCA1B', 'CTLA4', 'RTKN', 'SPACA9', 'CEP164', 'RBM7', 'CDKN2B', 'TM9SF4', 'FAM83D', 'ST13', 'PDCD5', 'SHFL', 'LINC00654', 'IER5', 'ALDH16A1', 'FTH1P22', 'PPAN', 'DOCK8-AS1', 'PPP2R1B', 'SACM1L', 'ZCCHC3', 'DNAJA2', 'TM4SF19-AS1', 'CCDC18-AS1', 'CACNG8', 'TRBV20-1', 'C9orf139', 'TRIM36', 'ELP4', 'GPR162', 'IPO4', 'PLD2', 'PLRG1', 'MRPS25', 'SIGLEC10', 'HLA-C', 'MAP3K9', 'ARSK', 'ADAM9', 'RPL4', 'TNFSF10', 'NAT8B', 'WDCP', 'TBRG1', 'PKP2', 'ZNF880', 'ZNF512', 'APOBEC3B-AS1', 'BASP1', 'BCKDK', 'INSIG1', 'MARC1', 'NPTN', 'BORCS8', 'RGMB', 'COA5', 'PSMA4', 'ATF4', 'ENY2', 'SNHG25', 'ABCA3', 'CA2', 'DENND3', 'LINC02043', 'H1FX-AS1', 'TSPOAP1-AS1', 'LMF2', 'DHRS12', 'CTCFL', 'ST6GALNAC6', 'LINC00638', 'EEF1AKMT3', 'BPTFP1', 'GTF2F2', 'NME6', 'RNF217', 'LAMTOR2', 'TNFRSF25', 'ATP6V1E1', 'GPM6A', 'LINC01951', 'RBM39', 'PGGHG', 'IPO13', 'DKC1', 'LINC00968', 'VPS4B', 'CYLD', 'RCC2', 'BRD3', 'DCLRE1C', 'TRAT1', 'ATG14', 'NSMCE2', 'OFD1', 'DOC2GP', 'SNX20', 'TTK', 'EIF5', 'SLC15A4', 'PBRM1', 'TRIM59', 'RRAGA', 'RPL13AP5', 'ZNF441', 'ACSF2', 'SIRT7', 'TRAV12-3', 'GATM', 'RPS28P7', 'UBE2Z', 'DELE1', 'SEPTIN9', 'DACT1', 'LRRC32', 'MRM2', 'BLVRB', 'PATZ1', 'RNF126', 'TUT7', 'EXO5', 'FAM219A', 'ANKRD36BP2', 'RPAP2', 'LINC01588', 'SF3B6', 'LAG3', 'SFT2D2', 'PLGLB2', 'RAB38', 'TRIP4', 'ADM2', 'ELL', 'BTG2', 'FDPS', 'IPO5', 'HMGB1P6', 'EEF1E1', 'KIFC1', 'PI4KAP1', 'TSTD1', 'SLC20A1', 'IGBP1', 'ZNF566', 'FAF2', 'COPB2', 'THOC6', 'RPS3AP26', 'YWHAQ', 'ITGB1', 'CAPG', 'KMT2A', 'TMCO1-AS1', 'FLYWCH2', 'TMEM86A', 'MTMR9', 'ATXN7', 'EGLN1', 'IGHV2-26', 'LINC01482', 'MT1E', 'PGM2', 'HINT3', 'CYB5R3', 'HIST2H2BD', 'CCDC106', 'MTSS2', 'SENP8', 'ADAT1', 'SPATA6L', 'PCID2', 'ERGIC3', 'ZFP41', 'RHBDD3', 'HSF1', 'DGUOK', 'PRPF4B', 'PITPNA', 'RASA1', 'RBM14-RBM4', 'IGLV3-10', 'CST7', 'ZNF543', 'PPP2R5A', 'ZBTB24', 'NUDT15', 'PLEKHM3', 'RIC3', 'USP15', 'PRDM1', 'DUS3L', 'MIR122HG', 'RPL32', 'ZCCHC18', 'MNT', 'RIPOR2', 'DNAAF1', 'PCMT1', 'GTF3C3', 'UNG', 'PPP2CA', 'YLPM1', 'PLD6', 'ATP7B', 'UBE2G2', 'KRBOX4', 'RECK', 'SPC24', 'ZMAT2', 'HEBP1', 'NCBP3', 'NOL12', 'POLR2A', 'CBWD1', 'FHL3', 'ADCY6', 'GTF3C6', 'ZNF564', 'CFAP298', 'RRN3', 'UTY', 'CABP4', 'FLACC1', 'FAM86C1', 'LINC00910', 'CEP170P1', 'SDAD1', 'TTC19', 'RPF2', 'ARRDC3', 'NAE1', 'RBFOX2', 'ING2', 'RNF149', 'LCP1', 'ZDHHC7', 'COQ9', 'ZNF124', 'FAM168B', 'CDON', 'MEGF9', 'P2RX7', 'PIK3R3', 'KAT2B', 'LEMD2', 'CIZ1', 'TEAD2', 'HECTD4', 'TMCO4', 'RAB27B', 'ARRDC4', 'INTS4', 'PUF60', 'LRRC3', 'PLCB3', 'AQP3', 'SIGLEC11', 'PI16', 'TBC1D9', 'ST7', 'IGHV1OR15-1', 'USP3-AS1', 'VRK3', 'GTF2I', 'ARHGAP27', 'NSMCE1', 'MYBPC3', 'NSMAF', 'PCNX3', 'PTCD2', 'IGKV1-9', 'NDEL1', 'TRAV17', 'UBE2D3', 'ZXDB', 'TRIM39', 'HLA-A', 'BEGAIN', 'F11R', 'NAA15', 'RILPL1', 'TCEAL1', 'ITM2B', 'CD6', 'MCM4', 'DLEU7', 'ZNF549', 'GALNT1', 'GAMT', 'ITGA6-AS1', 'GPR132', 'KIF20B', 'CRB2', 'RTF1', 'ZFAND2B', 'LAP3', 'MZT2B', 'NMUR1', 'NRCAM', 'SLC16A7', 'SNHG5', 'CABLES2', 'ASCC1', 'KLKB1', 'NSMCE1-DT', 'GREM1', 'ATP2B1-AS1', 'ALYREF', 'APOBEC3H', 'ANGPT1', 'SPAG16-DT', 'FNIP1', 'ARMC10', 'NDUFA6', 'CDKL5', 'TUBD1', 'MAMDC4', 'STMND1', 'ZNF614', 'PARVB', 'AP1S1', 'SCARF1', 'CEP131', 'SLC26A2', 'ATP5F1C', 'METTL9', 'CSAD', 'OS9', 'PDLIM7', 'VPS37A', 'WDYHV1', 'CTNNBIP1', 'ADGRG1', 'PALD1', 'FBXO21', 'STAG1', 'ZNF280D', 'NPTX1', 'GPR146', 'RAVER2', 'BRAP', 'DGKH', 'KIAA0753', 'MLH3', 'SIL1', 'TMSB4X', 'RAB11FIP3', 'TBC1D4', 'SLC45A4', 'SPTBN5', 'SPIRE1', 'DIP2B', 'SYT17', 'ANKRD55', 'CICP4', 'KIDINS220', 'ST6GAL1', 'TSPAN13', 'OR2A9P', 'SLC2A13', 'ZNF827', 'DAP3', 'TRAIP', 'GPER1', 'GDE1', 'MUS81', 'GLRX2', 'MMP17', 'HLA-DQB1-AS1', 'ENAM', 'LINC02503', 'DUSP7', 'PCED1A', 'IGF2BP2', 'ALOX12', 'DTNBP1', 'NPIPA9', 'CYFIP1', 'PRKCZ', 'IGLC1', 'MORF4L2-AS1', 'PRR11', 'GNB1L', 'XPO1', 'ADAMTSL4', 'ARSG', 'THBS3', 'MANSC1', 'MTHFD2L', 'PSMA3-AS1', 'GFRA2', 'ZNF593', 'C6orf47', 'HAS3', 'DRAM1', 'RDH11', 'PPP3CB', 'BRD7P2', 'ARID1B', 'HEXD', 'PDIA3', 'CTSW', 'ZNF432', 'CERT1', 'IL17RE', 'ITM2A', 'SSPN', 'GBP4', 'DNASE1', 'DENND4A', 'DENND1B', 'STRC', 'EFCAB5', 'GRAMD4P3', 'MT-TH', 'RNF139-AS1', 'METTL7A', 'PRPSAP2', 'MYDGF', 'GYPC', 'CUL5', 'CSTF3', 'ALG3', 'CWC22', 'LECT2', 'POLE2', 'TMEM38B', 'ARHGEF6', 'ATP6V1G2-DDX39B', 'ZC3H4', 'DCUN1D3', 'ACSBG1', 'ATF6', 'GYPE', 'LINC00685', 'LINC01873', 'MMP11', 'PIGV', 'PEPD', 'PLXDC2', 'UBR3', 'RBBP9', 'LINC02610', 'RSKR', 'MMP24', 'RN7SL145P', 'SPG21', 'NLN', 'WDR74', 'PRKAG2-AS1', 'CARMN', 'ZNF724', 'MDGA1', 'GUSBP2', 'OLFML2B', 'IFT52', 'TMED9', 'IDO1', 'ABCD1', 'RBM5', 'ACACB', 'NEMF', 'UPRT', 'CPN2', 'ZSWIM1', 'TTC3P1', 'ANAPC4', 'CCNE1', 'MEMO1', 'IMPDH1', 'POC1B-GALNT4', 'SUCNR1', 'STX18-AS1', 'JPH4', 'MCRIP2', 'RPP38', 'OTUD3', 'GATD3B', 'ADGRF3', 'SYT11', 'ARMC3', 'SDHAP1', 'CLEC4A', 'RPS19', 'NUDCD1', 'GBA2', 'ALOX15P1', 'RPS5', 'PTAR1', 'BUD13', 'MTMR4', 'MGAT4C', 'SP2', 'ITGB1BP2', 'ZBTB7A', 'MYD88', 'PAIP2', 'UBE2Q2', 'ZNF516', 'TENT4A', 'NTMT1', 'VPS8', 'MXI1', 'TRMU', 'ECT2L', 'KBTBD11', 'SLC25A4', 'APMAP', 'ADD1', 'NOS1', 'TGIF2', 'AGL', 'CDPF1', 'CIDECP1', 'FAM122C', 'UBE2G1', 'ZNF321P', 'FGD6', 'ERAL1', 'DCPS', 'ADAM10', 'RNF227', 'MON1B', 'SYCE2', 'ERI3', 'KRT8P12', 'MRPL14', 'YWHAZP3', 'UCP3', 'GNB4', 'ADNP', 'TRAPPC3L', 'PRMT2', 'TMEM80', 'YBX3', 'SIGLEC14', 'GABPA', 'NDUFS2', 'PASK', 'PDPR', 'CCDC7', 'SPTBN1', 'HDAC3', 'MYO1E', 'KMT5C', 'NME7', 'MICALL1', 'ZNF625-ZNF20', 'RESF1', 'TRBV9', 'RIC8A', 'CTNND1', 'NEXN', 'FGFR1', 'PYURF', 'FAM120C', 'LINC01776', 'PSMA5', 'CERS6', 'ZNF530', 'TASOR', 'TBCA', 'NSF', 'THUMPD1', 'IGHGP', 'SERINC3', 'C2orf42', 'NUTM2D', 'ITCH', 'UROS', 'NPIPA1', 'IGHV3-15', 'NAA35', 'CMSS1', 'ZNF720', 'ZNF696', 'UBB', 'ZNF252P-AS1', 'NSFL1C', 'TLR8', 'PITPNM3', 'RANBP1', 'DNAJB13', 'SLC43A2', 'PSMA1', 'ITPR1', 'MT-ATP6', 'ZNF726', 'MAGT1', 'BRD7', 'GPS1', 'TMEM263', 'TMEM63C', 'IGHV4-34', 'MTCH1', 'CBR4', 'ITPRID2', 'KLF13', 'LINC02193', 'SNX22', 'HECW2-AS1', 'TRIM13', 'DOCK6', 'FAU', 'RPS24', 'TRAF3IP2-AS1', 'MIA', 'KXD1', 'UBA5', 'TSPAN5', 'HSPA9', 'NUP93', 'RORA', 'LINC01006', 'CREB3', 'ALG5', 'LINC02833', 'SGK1', 'FUCA2', 'RPN1', 'HIGD2A', 'TSPY26P', 'GOLT1B', 'IER3IP1', 'MAP4K4', 'PXDC1', 'TSR1', 'GLUD2', 'ZNF559', 'CCNH', 'POLR3E', 'SNHG31', 'NBPF15', 'CDT1', 'PBX1', 'SRPK2', 'MRPL1', 'CEP41', 'WDR45B', 'SOCS5', 'HGH1', 'IRF8', 'TP53TG1', 'DDX39A', 'HECTD2', 'NUP153', 'ZNF675', 'AGAP3', 'IQCB1', 'STK17A', 'SLC24A3', 'TMEM71', 'BRD3OS', 'DAG1', 'TNIK', 'C1QTNF3-AMACR', 'GBP1P1', 'FAM118B', 'KIAA1109', 'ZNF584', 'METTL21EP', 'NDUFAF4', 'ATF5', 'DEPDC5', 'HIST1H1C', 'MBOAT7', 'SCML1', 'HIPK1', 'ORC1', 'RAP2A', 'SIRPG-AS1', 'MKNK2', 'FOXO3', 'OSBPL5', 'PEX1', 'UBASH3A', 'FAM117B', 'CYREN', 'SLC29A3', 'SFTPD-AS1', 'ESS2', 'WDR37', 'ZFHX3', 'ZKSCAN2-DT', 'OR7E140P', 'WAC-AS1', 'PMS2CL', 'SCAT2', 'OGFOD1', 'ANKRD27', 'PGK1', 'ADRB2', 'CD28', 'ENTPD4', 'LRP5', 'NPIPB5', 'ITIH1', 'DCTD', 'CD99L2', 'RGS14', 'WWP2', 'DPH2', 'RPS6KA4', 'RPL23AP64', 'CNKSR2', 'KLF7', 'SPSB2', 'THRA', 'NUS1', 'VSTM1', 'RNF144B', 'NPAS2', 'TP53BP1', 'ATL2', 'ABCF1', 'IQCG', 'ZNF252P', 'PINX1', 'SMURF2', 'IL4R', 'MYLIP', 'ZNF556', 'SDR39U1', 'BAD', 'KLHL25', 'IGHMBP2', 'AEBP2', 'TNXB', 'FAM110C', 'AKAP8L', 'CCDC122', 'EIF4E3', 'ATXN7L3B', 'EPB41', 'SPATA13', 'ZC3H18', 'CCPG1', 'DBNDD2', 'PARG', 'KIAA1614', 'TTC26', 'HPS6', 'ZCCHC24', 'SPAG5-AS1', 'LRRC6', 'SBF1', 'CASQ1', 'FBXW5', 'RRAS', 'SPICE1', 'BLNK', 'CTBP1', 'TNIP1', 'RACGAP1', 'ARRDC5', 'NF1', 'TMPRSS3', 'IL1R1', 'CCDC149', 'PTOV1-AS2', 'CSNK1E', 'SEC31B', 'ACAP2-IT1', 'CD7', 'DOK1', 'NPIPB2', 'ZNF783', 'NIPSNAP3A', 'SUPT20H', 'SLC9A7P1', 'GPR82', 'ARHGEF7', 'PLA2G6', 'DHDDS', 'SLC6A12', 'C19orf47', 'RPN2', 'LINC02611', 'CCR8', 'LMBRD1', 'SHLD2P3', 'ADD2', 'EMC7', 'NRF1', 'PYM1', 'IPP', 'CACNA2D4', 'PPP1CA', 'ANKRD16', 'GLMN', 'UBAC2', 'TRAFD1', 'LAT2', 'MT1X', 'MAP2K3', 'PALLD', 'REEP3', 'ATP6V1B2', 'NCKAP5L', 'NGLY1', 'PRPF38A', 'HAUS4', 'CHKB-CPT1B', 'LINC00880', 'LGALS12', 'TAF15', 'NR1H3', 'WASHC5', 'HMGB1P3', 'CCDC47', 'ADGRG2', 'HYI', 'TRMT44', 'PDCD1', 'LILRB1', 'LRRC57', 'OVGP1', 'DOCK1', 'PRORSD1P', 'PRPS1P2', 'SUPT5H', 'TMEM214', 'GAK', 'MRPL37', 'HAVCR1', 'LINC02263', 'CNTF', 'TMEM192', 'TJP1', 'JMY', 'TPRG1L', 'ATAT1', 'GPATCH2', 'RAB29', 'STAG3L4', 'MMS19', 'THYN1', 'ZBTB2', 'DPH1', 'RABL6', 'HDAC6', 'LILRB4', 'FBXO25', 'XPNPEP3', 'PTPRF', 'AKAP1', 'FOXP1', 'PDIA3P1', 'MYO5B', 'POLR3K', 'GOLGA8H', 'ENGASE', 'KMT2E-AS1', 'MT-ND3', 'NR4A3', 'QTRT1', 'UBE2T', 'SEC16B', 'PTPMT1', 'OR7E94P', 'KLC4', 'VPS9D1', 'NPIPB3', 'RNASEL', 'CPD', 'HEATR4', 'HIST2H2BF', 'ANKS3', 'RPS17', 'ACOT7', 'LIG3', 'LTB4R', 'SMN1', 'SRP54', 'DNAH2', 'KANK2', 'TSPAN9', 'GMCL1', 'CREBRF', 'ACTL6A', 'GIMAP4', 'SRXN1', 'RMDN3', 'ZNF605', 'SLC39A12-AS1', 'SPOP', 'SSPO', 'BNC2', 'ZHX2', 'PPA2', 'SNX32', 'CICP26', 'ABCB10', 'ZNF784', 'CERNA1', 'EIF2S1', 'PM20D2', 'MBLAC2', 'SH3RF3', 'GSDMB', 'RPS27', 'TTN', 'BHLHE41', 'CETN3', 'ZFP14', 'ZNF90', 'CLCN6', 'ELP3', 'MTF1', 'CTSH', 'FBXO44', 'MIER2', 'ERGIC2', 'GCOM1', 'B4GALT3', 'KIAA1191', 'KIF26B', 'CCDC191', 'MGAM', 'SMG5', 'TBCK', 'FAM184B', 'IGHV3-30', 'NUFIP2', 'CD200R1', 'NOD1', 'DRG1', 'LYPLAL1', 'PLCL1', 'AGPAT1', 'CEP44', 'REPIN1', 'C18orf54', 'SSTR2', 'XCL1', 'SCN3B', 'OSBPL9', 'LINC01297', 'TAF4', 'RUVBL2', 'EEF2KMT', 'FGF9', 'LINC01137', 'TM9SF3', 'NSD1', 'SMKR1', 'FNBP4', 'OCRL', 'USP35', 'ASPDH', 'PER1', 'COLQ', 'INTS3', 'ARHGEF4', 'LINC02631', 'RPL7AP10', 'ZFAND2A', 'NBPF25P', 'ADAMTSL4-AS1', 'TDRP', 'IARS', 'MYORG', 'CCBE1', 'IRAK1', 'DGAT1', 'HSPB1', 'EXOG', 'SPATA2L', 'DDIT3', 'RAB11FIP1P1', 'DDX56', 'GPATCH4', 'CHTOP', 'FAM160A2', 'GPATCH3', 'TRAV8-3', 'MYOM1', 'PI4KAP2', 'SUPT16H', 'BTG1', 'SMC3', 'MPV17L2', 'SMC5', 'CFAP69', 'TBX21', 'TMEM9B-AS1', 'SLC35G1', 'SF3A2', 'ZRANB1', 'MYBBP1A', 'ATXN2L', 'PPM1D', 'ATP6AP1L', 'TRBV6-6', 'SNORA75', 'ARF1', 'TNFRSF17', 'OPRL1', 'A2M-AS1', 'HMOX2', 'UBAP1', 'EP300', 'MRPL32', 'EMC1', 'S1PR5', 'ABCF3', 'CTNNB1', 'CYCS', 'CLCN5', 'TMEM198B', 'MED11', 'TEX2', 'ZBTB49', 'AFG1L', 'CYSLTR1', 'MRPL20-AS1', 'RPL18', 'ATAD2B', 'SPNS1', 'TRBV27', 'CDCA3', 'RNF41', 'RPL30', 'FAM219B', 'SPART', 'FAM209B', 'MCPH1-AS1', 'LINC01891', 'HSPA1L', 'PPT1', 'GPR27', 'GNL2', 'RPIA', 'SLC66A2', 'FANCL', 'FTCDNL1', 'PPM1M', 'SMIM15', 'RAB4A', 'HNRNPA1P70', 'RSU1', 'MBP', 'ZFYVE16', 'MCM3AP', 'FAM3C2', 'PSMB2', 'RPL23A', 'THBS1', 'BAHD1', 'PMPCB', 'TOGARAM1', 'MACF1', 'YY1AP1', 'ATP10D', 'CARHSP1', 'SUPV3L1', 'TMEM251', 'IFT46', 'CLK1', 'TFPT', 'GTF2IP7', 'RALA', 'SOAT2', 'ZMYND11', 'GOLGB1', 'OXR1', 'TIA1', 'SPDYA', 'BLCAP', 'PLEKHA7', 'AKAP5', 'GABBR1', 'TSBP1-AS1', 'EXOSC2', 'ZFY', 'BCL2L1', 'LINC00265', 'OLFML2A', 'IRF2', 'NIBAN1', 'TAF7', 'ATP6V1G2', 'ANKRD52', 'PHLPP1', 'DPY19L3', 'RECQL5', 'ACP2', 'PPP4R1L', 'PLEKHN1', 'GTF3C2-AS1', 'TLE1', 'TUT4', 'GRPEL2', 'CERS4', 'STK24', 'THAP8', 'ZNF92', 'TSC22D1-AS1', 'TMEM184C', 'ADO', 'ZNF7', 'PLEKHM2', 'NMNAT3', 'FOXJ3', 'VPS13A', 'STXBP4', 'EVL', 'KRR1', 'PDE12', 'TEX264', 'NT5C3B', 'UBN2', 'LRRC28', 'BMT2', 'RBCK1', 'FBLN2', 'CDC37', 'UBE2H', 'GSTM2', 'DHX33', 'GUCY1B1', 'ANKRD42', 'KCTD15', 'GMPR', 'TRIP13', 'ZNF766', 'ITPRIP', 'SMPD4', 'TRIM32', 'H3F3A', 'KCNAB3', 'POLM', 'PTGS1', 'RSBN1', 'SNORD62A', 'EPB41L4A', 'PLCH2', 'OSBPL6', 'PCMTD1', 'ZNF677', 'LEPR', 'LILRA2', 'MAGOH', 'PTBP3', 'NRIP2', 'DEAF1', 'SLC49A3', 'CENPW', 'IGLC2', 'PARP11', 'PSRC1', 'PCGF3', 'TBKBP1', 'OXCT1', 'RPL36', 'FRYL', 'TLK2', 'ABHD18', 'ZNF451', 'TXLNB', 'PLEKHG1', 'KLHL3', 'RASSF7', 'GAS6-AS1', 'MAF', 'JOSD2', 'LRRC61', 'CSGALNACT1', 'ACOT9', 'DHX37', 'CASC3', 'ADGRE2', 'EXOSC8', 'STX8', 'SLC35A2', 'ZFP42', 'CASS4', 'GPR85', 'RASGRP1', 'DEPP1', 'PHACTR1', 'RNF40', 'SERPINB9', 'IGHV3-23', 'LRRC29', 'NEURL1B', 'DDX20', 'COPZ1', 'CDK5RAP1', 'GSTCD', 'LINC02012', 'MSRB1', 'LIN7A', 'DERL3', 'ARL8B', 'OSBPL10', 'MCF2', 'SLC13A4', 'EIF4E2', 'LINC00299', 'KCTD21-AS1', 'MRNIP', 'CTSS', 'MLF2', 'MPP3', 'SEC11C', 'WDR41', 'ERCC3', 'LINC00565', 'MT-TG', 'SCMH1', 'SLC49A4', 'ASS1P12', 'MTMR8', 'MTMR6', 'ABHD8', 'DHX34', 'ZNF385D', 'C9orf64', 'IGSF9B', 'LRP10', 'EYA3', 'OCEL1', 'SYF2', 'TPCN1', 'MAPT', 'DDX11L9', 'OVCA2', 'PSMC1P1', 'SRRM2-AS1', 'BORCS5', 'ZBTB39', 'MAP1LC3B', 'BCAS2', 'AMD1P4', 'SUN1', 'PLXNB1', 'DUSP5', 'VAPA', 'IMPDH1P10', 'ITGA9', 'PSMB1', 'ZNF563', 'EXPH5', 'FKBP5', 'LPAR3', 'MTO1', 'SYCP2L', 'CCDC39', 'TASP1', 'UGCG', 'RASA4', 'BCO2', 'OCM', 'C12orf65', 'TNRC6A', 'FAM193A', 'NR4A2', 'CASC4', 'ACVR1B', 'PTPRB', 'DNAJA3', 'BTG3', 'SOWAHC', 'PDK2', 'GNG5', 'SPDYE5', 'RAB34', 'SC5D', 'RNF24', 'ACSS1', 'CRYZ', 'GIN1', 'FAM200A', 'LTBP1', 'TSPYL5', 'FCF1P2', 'BRCA1', 'PRPF39', 'WASHC2A', 'APEX1', 'ZNF496', 'NUP50', 'CRTC2', 'BAZ1B', 'SLC16A4', 'F8A3', 'PHAX', 'TYW3', 'RBM11', 'CHMP1B', 'PWWP3A', 'DARS', 'PIGO', 'TULP4', 'FKBP1C', 'TYRO3', 'ADGRA3', 'ADGRD2', 'HOXB3', 'KRBA1', 'CAST', 'CHD7', 'IFI27', 'LRRC75A', 'PIGX', 'TBC1D24', 'MTCP1', 'RPL13A', 'GP5', 'LAMP1', 'NRDC', 'TXNIP', 'RNA5SP383', 'VPS37C', 'CAP1', 'MBNL1-AS1', 'SORCS3', 'EEFSEC', 'CD40', 'CTSA', 'RPS10P7', 'ZMPSTE24', 'C7orf26', 'EEF1A1P9', 'FAM200B', 'ANKRD36', 'BCL2L13', 'SPATA5L1', 'C1orf109', 'MPST', 'XBP1', 'TARDBP', 'DOLK', 'ADHFE1', 'AASS', 'SEC16A', 'SH2D1B', 'PACSIN1', 'PIGS', 'DNAJC16', 'MED27', 'PSMB4', 'RAN', 'CDRT4', 'DYSF', 'LRRN3', 'ZBTB14', 'HLA-DRB1', 'SELENOF', 'ZKSCAN5', 'CACTIN', 'AARS2', 'HSD17B4', 'ENTPD6', 'SEPTIN10', 'PVR', 'AGPAT3', 'EVC', 'LINC01806', 'PHB', 'PLVAP', 'FNTA', 'RHBDL1', 'TRIM60P18', 'TMEM97', 'AMY2B', 'CDC73', 'GALT', 'DGKZ', 'PLIN3', 'CYB5RL', 'LINC00562', 'NDUFA8', 'NFKBIB', 'ABCA7', 'GOLGA2P5', 'MED19', 'EMC3-AS1', 'FOXJ2', 'C11orf98', 'TNS2', 'WEE2-AS1', 'ANXA6', 'ZSCAN16-AS1', 'SPDYE2', 'UMAD1', 'TCEAL8', 'MUC6', 'PPP1R9A', 'IQCN', 'TRBV12-3', 'ZNF264', 'PITPNM2', 'CACNA1C-AS1', 'NFX1', 'METTL14', 'ZNF146', 'EME1', 'RNF121', 'IGKV2D-29', 'FBLN5', 'ZNF587', 'BEND3P1', 'ARL6IP1', 'JMJD4', 'POM121', 'TRBJ2-2P', 'CNTD1', 'CCDC130', 'PDS5B', 'H6PD', 'HSP90AA1', 'NANP', 'PLEKHF2', 'THOC7', 'LINC02080', 'WWTR1', 'CCDC183', 'ESRRA', 'C1orf127', 'CLEC4E', 'BRMS1', 'C5AR2', 'PUS10', 'STIMATE-MUSTN1', 'TC2N', 'FMC1', 'ZBTB1', 'ELOCP19', 'NLRX1', 'FITM1', 'OLA1', 'C1orf220', 'LNX1', 'PPP1R17', 'MAPK6', 'TMOD1', 'HHLA2', 'RBM15B', 'LIN7C', 'ARHGDIA', 'SLC16A6', 'TBC1D5', 'TMEM254-AS1', 'DDX19A', 'MRPL12', 'FRS3', 'APTX', 'EDEM3', 'TAF6L', 'PHF13', 'JAK2', 'PPP1R11', 'RNF187', 'LINC02078', 'SLC44A1', 'SYMPK', 'WDR46', 'USP9X', 'RRAS2', 'LINC01003', 'TBC1D13', 'SQLE', 'HOMER2', 'MS4A6A', 'ANXA11', 'HSPH1', 'DNAH10', 'GLUD1', 'LACC1', 'PRRC2A', 'KARS', 'CFL1', 'LIPT2', 'MORN4', 'FLT4', 'STRADA', 'ZNRF2', 'FAT2', 'SLC6A6', 'NSUN6', 'SLAMF1', 'ZNF283', 'TOR1AIP1', 'MYO9B', 'FYB1', 'TRPT1', 'GPR180', 'IGHV1-2', 'SH3TC2', 'WWOX', 'ZBED5', 'MAVS', 'GPN3', 'ZSCAN18', 'AIMP2', 'CORO2A', 'UBOX5-AS1', 'SYVN1', 'LONRF1', 'S1PR3', 'GMNN', 'RAMAC', 'ZNF425', 'GPX7', 'PAG1', 'SLC39A9', 'CCDC18', 'CLK2', 'MMP25', 'RFC4', 'ZNF277', 'CDRT15', 'SLF1', 'CSRNP2', 'RPS20', 'KBTBD3', 'GOLGA2P7', 'MAP3K2-DT', 'DDX5', 'PIK3R5', 'PRKCA', 'KANTR', 'STARD7', 'DIS3L2', 'ZDHHC8P1', 'BNIP3', 'NCOR2', 'FBXL19', 'SYNE1', 'TCTN2', 'SMAD3', 'ZNF354B', 'EEF1A1P6', 'WDR88', 'CKAP5', 'RPS4Y1', 'EVI5L', 'IGHM', 'KHDRBS1', 'NOL6', 'NAIP', 'TM6SF1', 'ELF3', 'PDCD11', 'ZNF138', 'SYTL3', 'TUBGCP6', 'IDH3B', 'RHOU', 'OLFM2', 'CLCN3', 'HIST1H2BJ', 'CICP6', 'HIST1H3H', 'TRIM25', 'URI1', 'DNAJB12', 'ITGAM', 'SH3BGRL2', 'TRAPPC2B', 'SUSD1', 'PALB2', 'TMC2', 'C5orf17', 'ZSCAN2', 'MRI1', 'GABPB2', 'CBX3', 'CEACAM1', 'PPFIA3', 'POLR2M', 'PRSS36', 'RASSF8', 'PCBP1-AS1', 'TMEM129', 'NQO1', 'SLBP', 'LYZ', 'LBR', 'TUT1', 'ADAMTSL5', 'USP7', 'GPAT4', 'ADIPOR1', 'ZNF641', 'MAGIX', 'TICAM2', 'HSD17B12', 'LMNB2', 'PSEN1', 'ZNF681', 'ACTG1P17', 'MADD', 'TRMT10B', 'CREBBP', 'ARAF', 'UVRAG', 'ADGRG5', 'ARF5', 'H2AFV', 'RFX2', 'ATG4D', 'PLAG1', 'STRN', 'MCTP1', 'GNRHR2', 'NIPSNAP1', 'IFT140', 'SCRN2', 'VILL', 'SYDE2', 'LRBA', 'CENPV', 'CSNK1G1', 'AGPAT4', 'DNAJC8', 'ADAM12', 'DSTN', 'FOXM1', 'FANCD2', 'CYP2D8P', 'SLC5A5', 'PCIF1', 'CATSPER2P1', 'EHHADH', 'RIDA', 'ZDHHC23', 'PSMC3IP', 'NLGN3', 'CEP68', 'P4HB', 'PIDD1', 'PPP2R2A', 'PAX5', 'FAM114A1', 'TRPV2', 'SKAP2', 'TMEM35B', 'INTS12', 'UBE4B', 'ABCA1', 'LRRC23', 'ZNF8', 'RAPGEF3', 'HLF', 'TRAV27', 'VPS29', 'NUB1', 'PDE6D', 'PAPLN', 'SECISBP2', 'MDP1', 'NMI', 'BRD1', 'NBPF11', 'THG1L', 'MRPL4', 'ZBTB11-AS1', 'ASB7', 'NUF2', 'MRPL33', 'ZNF738', 'PIK3R4', 'IGHV5-51', 'UFC1', 'NR2C1', 'SLC26A6', 'ZFYVE1', 'TAF1', 'BLOC1S5-TXNDC5', 'ITFG1', 'PRKY', 'CEP89', 'EMP1', 'OR52K3P', 'SUMO2', 'EMG1', 'RPS25', 'ZRANB3', 'INTS8', 'NUDT7', 'C7orf50', 'CYC1', 'C16orf74', 'DCUN1D5', 'GRIN3B', 'CDC23', 'MFSD2A', 'TBC1D3B', 'VPS41', 'FOLR2', 'MIR6891', 'ZNF304', 'MFGE8', 'CES1P1', 'CCDC81', 'ZNF271P', 'NAT14', 'HTT', 'CD2BP2-DT', 'RCBTB2', 'MRPL2', 'SLC4A1AP', 'TMX2P1', 'EXOC5', 'FZD2', 'DDX1', 'MEOX1', 'RABL3', 'PIM1', 'MTA3', 'TMEM79', 'DNAL4', 'KLHL12', 'IGSF8', 'LINC00667', 'ZNF443', 'CYP27C1', 'HDAC7', 'ZNF582-AS1', 'IDNK', 'COX7B', 'DNAJC17', 'FRG1', 'ADAM1A', 'SUFU', 'ASMTL', 'TMEM88', 'CHST12', 'CLEC18A', 'GTF2H2C', 'PKNOX1', 'TBC1D32', 'TNPO3', 'PLBD1', 'EMILIN2', 'HNRNPDL', 'MTND1P23', 'ASPA', 'RABAC1', 'IKBKE', 'MRPS30', 'IGKV1-27', 'CANX', 'FPGT', 'MAP3K8', 'GTPBP2', 'ZBED5-AS1', 'ADPRM', 'MYBL2', 'TEN1', 'DGKE', 'GLRX', 'MRPL27', 'YKT6', 'HAUS6', 'SLC5A6', 'STX11', 'EIF2S3', 'NUDT16', 'LINC01503', 'PSMA6', 'RBL2', 'ATF6B', 'WDTC1', 'NKRF', 'BCKDHA', 'PPP2R2D', 'WDR20', 'CRELD1', 'EXOSC4', 'BTG1P1', 'POU5F1B', 'BCL6', 'RWDD4', 'B3GALNT1', 'MAT2B', 'VOPP1', 'LINC02447', 'PATL1', 'WDR92', 'C6orf89', 'EOGT', 'MRTFB', 'AGAP10P', 'ARAP1-AS2', 'EFNA3', 'ENOPH1', 'CXXC1', 'USP9Y', 'SMG9', 'ATP13A2', 'PPHLN1', 'ACADS', 'ITPK1', 'ACTR6', 'KDM7A-DT', 'DDX54', 'UBP1', 'UBA52', 'FBXL8', 'TWSG1', 'ZNF852', 'EGFL7', 'RAB5C', 'MRPS7', 'CD79B', 'SOGA1', 'IGLV5-52', 'AMIGO1', 'DYNLT3', 'PEBP1', 'TNFAIP6', 'BEND3P3', 'OXLD1', 'SERPINB10', 'UQCRH', 'WDR62', 'MAP3K13', 'RERE', 'LSM5', 'NKAPP1', 'IMMP2L', 'ADAL', 'PSMD6', 'ACER3', 'VAV1', 'ZNF689', 'NME1', 'MED24', 'IPCEF1', 'NIPAL2', 'ALKBH6', 'TTC21A', 'LAMB2', 'TOGARAM2', 'EGF', 'MIR570', 'NOP53', 'SEMA4G', 'RGS1', 'ATXN10', 'AMDHD1', 'DCTN6', 'ELOVL4', 'C3orf38', 'STON1', 'TRIOBP', 'IGLV2-11', 'GPBAR1', 'AMMECR1', 'USP13', 'DDR2', 'PITHD1', 'NOL8', 'HLA-DPB1', 'IST1', 'STAMBP', 'SERPINF1', 'GIHCG', 'FBXO46', 'CRACR2B', 'GTF3C2', 'DVL2', 'ERI2', 'FAM209A', 'C2orf49', 'HIF3A', 'RBM38', 'CBLN3', 'USP16', 'E4F1', 'METTL15', 'CHD3', 'EPHA4', 'GPR3', 'BANP', 'CHUK', 'NDUFAF1', 'WDR55', 'LRP12', 'CRTAP', 'FAM104A', 'KCNC4', 'JKAMP', 'MIR646HG', 'SENP3-EIF4A1', 'ZNF260', 'UBR5-AS1', 'ANKRD44-IT1', 'SPRY1', 'ATIC', 'CBLB', 'SPTB', 'UBE2E3', 'FER1L5', 'DBT', 'INPP5A', 'STARD10', 'AFF4', 'FBXO42', 'GSDMD', 'KCNA7', 'ADAMTS17', 'SIPA1L1', 'TRUB1', 'CEP85L', 'TAPBPL', 'ANKRD13A', 'RNF175', 'CYSLTR2', 'BMPR1A', 'PRDM11', 'MPC2', 'LERFS', 'PRKAR1A', 'SAR1A', 'ZHX3', 'ZNF280C', 'SERF1A', 'RRS1', 'GPANK1', 'TALDO1', 'IGHV1-46', 'HIST1H2AE', 'RBFADN', 'KCNMA1', 'PKD1P6', 'NFRKB', 'UBE2W', 'C1QC', 'PPIEL', 'LARP4', 'TSFM', 'NUP205', 'PLA2G7', 'SLC16A1', 'COG6', 'MROH8', 'NDUFAF6', 'STARD4-AS1', 'ABI3BP', 'FRMD4B', 'TMEM167B', 'CCNYL1', 'PTGDR', 'ZNF776', 'SUZ12', 'LINC00337', 'TBX6', 'LRRC8D', 'KBTBD8', 'LRRC10', 'GATA2', 'GOLGA2P11', 'RASL11A', 'CARD8', 'SMAGP', 'KHNYN', 'RAB11B', 'PARGP1', 'ELOVL1', 'COL6A1', 'EEF1AKMT1', 'GSE1', 'NARF-IT1', 'IPO8', 'VIM', 'NHLRC3', 'HLA-DPB2', 'FAM174C', 'ARPC4', 'SFT2D1', 'VNN1', 'WEE1', 'ZNF212', 'NBPF1', 'NOSIP', 'SIPA1L3', 'DAPK1', 'C1R', 'C11orf58', 'PLEKHA3', 'ERBB3', 'DNAJC11', 'MYPOP', 'ORAI3', 'PDCD4', 'LINC02275', 'STRAP', 'UBE2Q2P2', 'NAIF1', 'NCMAP-DT', 'MX1', 'RNPEP', 'SHQ1', 'KLF9', 'MTMR2', 'EFR3A', 'EHBP1', 'WDR90', 'CCNL2', 'EIF3I', 'GOLGA6L10', 'LCLAT1', 'NCSTN', 'TOR1AIP2', 'CDKN1A', 'FAM120AOS', 'HSPA1A', 'ABHD15', 'METTL1', 'GLI1', 'SNX13', 'RNA5-8SN3', 'RYR1', 'CROCCP3', 'KCNMB1', 'LINC00944', 'MED12L', 'CDRT15P1', 'POPDC2', 'FBL', 'KLHL5', 'ATAD3B', 'FXR1', 'ELMOD3', 'SLC4A2', 'LINC01087', 'HCAR1', 'CERKL', 'DTHD1', 'BAIAP2-DT', 'SLC25A51P4', 'CLIC4', 'C12orf10', 'PCCA', 'ZNF814', 'ANKHD1-EIF4EBP3', 'EMC4', 'USP12', 'PACS2', 'NDUFB2-AS1', 'WDR7', 'KCNE1B', 'VDAC1P8', 'LIPH', 'COX4I1', 'ZNF391', 'ARMH2', 'RNF185', 'ARHGAP9', 'CALU', 'EIF2S2P4', 'ZNF326', 'GPR83', 'LINC00494', 'KIF21A', 'PHF1', 'GLT8D1', 'HYOU1', 'ZEB2-AS1', 'DNAH11', 'PRKAB2', 'LACTB', 'PLK2', 'ZFYVE19', 'ORC6', 'PLOD2', 'EPHB4', 'BRK1', 'FANK1', 'SDHA', 'APBB2', 'SERINC5', 'YIPF2', 'MIR22HG', 'EIF6', 'CROT', 'GATD1', 'EMC8', 'GTF2IP1', 'RIMKLB', 'DEF6', 'ERLEC1', 'P2RY10', 'CD1D', 'LAMP3', 'NAA38', 'RAB18', 'ZNF444', 'ZNF638', 'IER2', 'NRL', 'FARSA', 'POLD1', 'SPNS3', 'OGA', 'SRR', 'AFAP1', 'HLA-DOB', 'FLNB', 'SREBF1', 'SLC7A1', 'C5orf24', 'SLC5A3', 'FAM98C', 'SOS1-IT1', 'LINC01409', 'A2M', 'OR52N4', 'ZMYM2', 'DTD1', 'FAAH', 'CCDC85B', 'PPM1K', 'METTL4', 'SYCP2', 'RBM26', 'TTI2', 'MELK', 'MXRA7', 'TRDC', 'GABPB1-AS1', 'DHX36', 'OGFR', 'GPT2', 'HMBS', 'NLRP7', 'TIMM10B', 'RRN3P2', 'EGLN2', 'DGKK', 'KLHL28', 'FTH1P2', 'ST5', 'FCGR3A', 'STIP1', 'TMEM50A', 'MRPS35', 'SMC6', 'TRAV9-2', 'DNAH17', 'LAPTM5', 'MPP7', 'SGMS1-AS1', 'MCCC2', 'FABP5', 'KLF6', 'CUL2', 'LINC00339', 'OSBPL8', 'PHF23', 'RHOC', 'TXNDC9', 'GPS2', 'USHBP1', 'GALNT6', 'SNX15', 'NPRL3', 'FAR2P2', 'ATP8B3', 'RPL35P1', 'SNX21', 'DCAF13', 'UFD1', 'UBA6-AS1', 'GNB3', 'ABHD13', 'CNGB1', 'CDC42SE2', 'CCDC144A', 'UBE2O', 'NAB2', 'HDLBP', 'FTSJ3', 'DBN1', 'UBA2', 'USP4', 'MAPKAP1', 'ANK1', 'FRAT2', 'PPM1F', 'NUBP2', 'XRN1', 'GUSBP11', 'GPR35', 'FAM32A', 'PDE4DIP', 'ENOX2', 'RAB39A', 'UAP1', 'DOCK8', 'CETN2', 'SFI1', 'NBL1', 'ALKBH1', 'CYSTM1', 'GNG11', 'GOLGA6L22', 'CXCR2', 'BRAT1', 'LGR4', 'ARHGEF40', 'LINC00886', 'TJAP1', 'TRBV23-1', 'JAK1', 'PCDHA4', 'RPLP0', 'USO1', 'AKIRIN2', 'ATP5PDP4', 'TMEM9B', 'TMUB1', 'KNL1', 'SCN9A', 'LAS1L', 'DUX4L50', 'RPL32P1', 'SIRPD', 'DRG2', 'COQ10B', 'SDHAF1', 'PLCD4', 'CDKL1', 'CEP170B', 'FEZ1', 'ABCG1', 'PRMT9', 'LCA5L', 'MCUB', 'CNOT3', 'NOS3', 'ANKLE2', 'CHMP7', 'BSCL2', 'C9orf72', 'RALGAPA1P1', 'PDE4A', 'RPL6P27', 'EVI2A', 'TRAF6', 'CCNK', 'NLGN2', 'HRH4', 'ARF3', 'SLFN12L', 'ECM1', 'GK5', 'SLC25A36', 'NDUFB1', 'MRPL23', 'MYNN', 'ADORA2A', 'ZNF154', 'AKAP9', 'ALOX5AP', 'TLNRD1', 'OR2A20P', 'ANKMY1', 'MYO1D', 'RSL24D1', 'TMA16', 'EIF5B', 'MED15', 'BORCS8-MEF2B', 'CYB5D2', 'CDH13', 'IGHV3-72', 'RP2', 'WDFY4', 'PHF12', 'EREG', 'SLC23A3', 'GAR1', 'RABGAP1', 'ZNF597', 'TIGD6', 'TUBA3FP', 'C2CD4D-AS1', 'LIN54', 'PCBP4', 'WASHC3', 'IMMP1L', 'SETD3', 'IGF2BP3', 'PMVK', 'ZNF619', 'RAD54L', 'KCNE3', 'PAPOLG', 'OPA3', 'TK2', 'PTPN20', 'HLA-DRB5', 'DDX52', 'NFU1', 'E2F3', 'NT5DC3', 'DRC3', 'EPS15', 'CLN6', 'ARHGAP28', 'GOT1', 'GRAMD1B', 'MYO1G', 'TIGAR', 'PRADC1', 'RPL36AL', 'C16orf58', 'UBA1', 'HNRNPH3', 'FAM185A', 'ATG7', 'XYLB', 'ZNF878', 'HNRNPA1', 'C8G', 'GTF2IP20', 'ZRANB2', 'WARS', 'EP300-AS1', 'PRKAR2A-AS1', 'SLC22A16', 'IATPR', 'SLX1A-SULT1A3', 'KPNA6', 'CCDC78', 'CCDC62', 'FBN2', 'SLC25A24', 'CUL3', 'FBXL6', 'PYROXD2', 'STUB1', 'CEP78', 'FAM21FP', 'TCIRG1', 'MTERF2', 'ENTPD7', 'FAM111B', 'TRAV13-2', 'UBE2C', 'CIAO1', 'GFI1', 'TOP1', 'PARN', 'USP18', 'KTI12', 'CEMIP', 'CENPB', 'EMC2', 'DNAJC7', 'GALNT12', 'RPS27L', 'BRI3', 'TRAV4', 'LUC7L2', 'ZNF285', 'ZFP36L2', 'ZNF790-AS1', 'PUM1', 'SH3GLB1', 'TAF4B', 'L1TD1', 'TSKS', 'IGKV1D-16', 'CAPS2', 'NDUFV2', 'CCDC91', 'ORC4', 'GINS3', 'MILR1', 'IGLV7-43', 'CD3EAP', 'ZNF574', 'BOD1L1', 'TRPC2', 'FBXL20', 'LINC00174', 'GEN1', 'KCTD9', 'FBXL16', 'RPRD1A', 'H3F3AP4', 'AHI1', 'SNAI1', 'ITPR3', 'PPP3CB-AS1', 'LMTK3', 'DSTNP2', 'LINC02520', 'ZNF674', 'PHF20L1', 'MGP', 'PLCD3', 'MTM1', 'RBFA', 'ERCC2', 'MIR29B2CHG', 'RUNX3', 'RANBP9', 'IGKV1D-39', 'ZFP3', 'LCNL1', 'HSPE1', 'LTB', 'RAVER1', 'FUOM', 'PLXDC1', 'TNK1', 'MLX', 'COG8', 'LDLRAD4', 'MTX2', 'WDR70', 'MINCR', 'TMEM131', 'CORO6', 'PLPP6', 'CPNE2', 'TGFB1I1', 'ZNF688', 'PDLIM2', 'RHOA', 'MCRS1', 'NUDT9', 'RABGGTB', 'RNF125', 'SEMA7A', 'PDK3', 'SMARCAD1', 'ZNF160', 'JPT1', 'PGS1', 'TRAV5', 'EIF2B1', 'ABCA11P', 'MSS51', 'KCNJ6', 'RFC3', 'SDE2', 'PIM3', 'SDHAP3', 'USP6', 'PPIAL4G', 'PRF1', 'FHDC1', 'TG', 'TUBA4A', 'NAA10', 'DENND6A', 'CDCA7', 'PMM2', 'RFXAP', 'UBE2R2', 'CCR5AS', 'PMS2P7', 'PHF11', 'TNKS', 'TMIGD2', 'LINC01102', 'PPP2R5E', 'PELO', 'GPI', 'DDX50', 'MSC-AS1', 'ZSCAN29', 'SLFN14', 'C3orf33', 'STK35', 'WDR59', 'SLC25A40', 'CSNK2A2', 'SSSCA1-AS1', 'DHFR', 'RPL31', 'POM121B', 'SLC25A35', 'SIDT1', 'MPP5', 'PLEKHA2', 'WDR53', 'ZFP36L1', 'GAB3', 'PPP1R16A', 'ERVE-1', 'BBOF1', 'GOLGA8K', 'DAP', 'SNHG14', 'ADAM22', 'MAP3K1', 'DRAXIN', 'CAPN5', 'NID1', 'P4HTM', 'DUS4L', 'WBP4', 'DHX58', 'MYO18A', 'POM121C', 'AS3MT', 'DNM1L', 'P2RY12', 'PHLDB3', 'SSR4', 'RNF5', 'CSF1', 'GPATCH8', 'ALG6', 'MRRF', 'SELENOM', 'SMIM14', 'WDR60', 'PLEKHM1', 'COG1', 'ANKRD22', 'INO80C', 'MAN2C1', 'GBAP1', 'MRPL38', 'MACROD2', 'PLLP', 'HCFC1', 'GPR183', 'PLEKHM1P1', 'GSPT2', 'S100A12', 'CAD', 'SLC18A2', 'VCAN', 'HLA-J', 'EBPL', 'CNST', 'MIR3936HG', 'DDX59', 'LINC00869', 'NEK6', 'RSPRY1', 'ZNF490', 'PIK3CD-AS1', 'SLC4A10', 'ELK1', 'TIMP2', 'CPEB3', 'TAPT1', 'LPAL2', 'CARM1', 'LATS1', 'PKHD1L1', 'FAM20A', 'NCK1', 'TMEM65', 'CTBP2', 'UBE2L3', 'SATB2', 'SPCS1', 'RHEBP2', 'MCEE', 'ZNF826P', 'MGST2', 'RUFY3', 'TNFRSF11A', 'PEX3', 'PRRC1', 'DCBLD1', 'ZNF529', 'LINC02035', 'PIP4K2B', 'TMED2', 'TMEM260', 'TMX2', 'YIPF1', 'ELF2', 'LETM2', 'CDK2AP2', 'PIK3IP1', 'RPL23AP1', 'RHBDD2', 'EED', 'RAB11FIP4', 'RTL5', 'ADGRE5', 'ARPC1B', 'C3orf86', 'CENPH', 'MB21D2', 'AP2B1', 'KRTCAP3', 'CENPBD1P1', 'DNAH6', 'CRIP2', 'D2HGDH', 'TPRKB', 'SDF4', 'CFDP1', 'GPR137C', 'LRRC37A3', 'TMEM30B', 'TRBV4-1', 'DEPTOR', 'NLRC5', 'RPS6KL1', 'PHF21A', 'ST6GALNAC2', 'ACBD5', 'KLF10', 'JPX', 'DDX18', 'HNRNPR', 'MAPK8IP3', 'WIPF2', 'PRKCSH', 'LINC00861', 'NFE2L3', 'TMTC2', 'DLD', 'DHX8', 'SPPL2B', 'BLOC1S2', 'CLEC7A', 'SRRD', 'KNSTRN', 'TMEM150A', 'ADAR', 'CDYL2', 'C19orf25', 'HACD3', 'ZNF428', 'DNAJA4', 'CCDC154', 'VPS26C', 'C8orf33', 'CRIP1', 'ZBTB20', 'AOAH', 'TWNK', 'LYST', 'CTSO', 'JAG2', 'TMSB4Y', 'TUBB', 'CHROMR', 'TXNL4B', 'HCFC2', 'GART', 'NDUFAF5', 'C5orf22', 'NT5C1B', 'PDCD2', 'SSR1', 'TMEM187', 'ZCCHC8', 'GFOD2', 'MLLT3', 'ZNF250', 'SMIM10L2A', 'BRF1', 'PIAS3', 'SEC61A1', 'ECHDC2', 'TM2D3', 'GPR34', 'DAGLA', 'DPCD', 'SH3BP4', 'SAP130', 'INTS14', 'CAMK1D', 'HSH2D', 'CPSF3', 'GOLGA6L4', 'SPACA6', 'IGFBP2', 'TNFAIP3', 'CFAP97', 'FSCN1', 'ANKLE1', 'LGALSL', 'MYCT1', 'TMCC2', 'BCL9L', 'POLR2J2', 'ADAMTS1', 'LINC02199', 'HMGCS1', 'NR2C2', 'ACLY', 'MARK3', 'CEP170', 'PPP1R35', 'C1QTNF6', 'COPE', 'CLEC4C', 'SNRPC', 'CCDC117']"
     ]
    },
    {
     "name": "stdout",
     "output_type": "stream",
     "text": [
      "\n"
     ]
    }
   ],
   "source": [
    "sig_genes = pd.read_table(\"m256\" + \"\\genes.txt\", index_col=0)\n",
    "sig_genes = list(sig_genes['0'])\n",
    "print(sig_genes)"
   ]
  },
  {
   "cell_type": "code",
   "execution_count": 39,
   "metadata": {},
   "outputs": [],
   "source": [
    "data=data.reindex(sig_genes)"
   ]
  },
  {
   "cell_type": "code",
   "execution_count": 20,
   "metadata": {},
   "outputs": [
    {
     "data": {
      "text/plain": [
       "'GMPR2'"
      ]
     },
     "execution_count": 20,
     "metadata": {},
     "output_type": "execute_result"
    }
   ],
   "source": [
    "sig_genes['0']"
   ]
  },
  {
   "cell_type": "code",
   "execution_count": 40,
   "metadata": {},
   "outputs": [
    {
     "data": {
      "text/html": [
       "<div>\n",
       "<style scoped>\n",
       "    .dataframe tbody tr th:only-of-type {\n",
       "        vertical-align: middle;\n",
       "    }\n",
       "\n",
       "    .dataframe tbody tr th {\n",
       "        vertical-align: top;\n",
       "    }\n",
       "\n",
       "    .dataframe thead th {\n",
       "        text-align: right;\n",
       "    }\n",
       "</style>\n",
       "<table border=\"1\" class=\"dataframe\">\n",
       "  <thead>\n",
       "    <tr style=\"text-align: right;\">\n",
       "      <th></th>\n",
       "      <th>CYFZ</th>\n",
       "      <th>FY2H</th>\n",
       "      <th>FLWA</th>\n",
       "      <th>453W</th>\n",
       "      <th>684C</th>\n",
       "      <th>CZJE</th>\n",
       "      <th>DZQV</th>\n",
       "      <th>925L</th>\n",
       "      <th>9JD4</th>\n",
       "      <th>G4YW</th>\n",
       "      <th>4DUY</th>\n",
       "      <th>36TS</th>\n",
       "      <th>CR3L</th>\n",
       "    </tr>\n",
       "  </thead>\n",
       "  <tbody>\n",
       "    <tr>\n",
       "      <td>GMPR2</td>\n",
       "      <td>80.861474</td>\n",
       "      <td>110.55124</td>\n",
       "      <td>89.643974</td>\n",
       "      <td>147.800074</td>\n",
       "      <td>100.628689</td>\n",
       "      <td>97.722016</td>\n",
       "      <td>93.208378</td>\n",
       "      <td>109.207349</td>\n",
       "      <td>130.092838</td>\n",
       "      <td>112.142327</td>\n",
       "      <td>129.308559</td>\n",
       "      <td>105.706784</td>\n",
       "      <td>94.641891</td>\n",
       "    </tr>\n",
       "    <tr>\n",
       "      <td>BMERB1</td>\n",
       "      <td>NaN</td>\n",
       "      <td>NaN</td>\n",
       "      <td>NaN</td>\n",
       "      <td>NaN</td>\n",
       "      <td>NaN</td>\n",
       "      <td>NaN</td>\n",
       "      <td>NaN</td>\n",
       "      <td>NaN</td>\n",
       "      <td>NaN</td>\n",
       "      <td>NaN</td>\n",
       "      <td>NaN</td>\n",
       "      <td>NaN</td>\n",
       "      <td>NaN</td>\n",
       "    </tr>\n",
       "    <tr>\n",
       "      <td>AASDHPPT</td>\n",
       "      <td>NaN</td>\n",
       "      <td>NaN</td>\n",
       "      <td>NaN</td>\n",
       "      <td>NaN</td>\n",
       "      <td>NaN</td>\n",
       "      <td>NaN</td>\n",
       "      <td>NaN</td>\n",
       "      <td>NaN</td>\n",
       "      <td>NaN</td>\n",
       "      <td>NaN</td>\n",
       "      <td>NaN</td>\n",
       "      <td>NaN</td>\n",
       "      <td>NaN</td>\n",
       "    </tr>\n",
       "    <tr>\n",
       "      <td>SRBD1</td>\n",
       "      <td>NaN</td>\n",
       "      <td>NaN</td>\n",
       "      <td>NaN</td>\n",
       "      <td>NaN</td>\n",
       "      <td>NaN</td>\n",
       "      <td>NaN</td>\n",
       "      <td>NaN</td>\n",
       "      <td>NaN</td>\n",
       "      <td>NaN</td>\n",
       "      <td>NaN</td>\n",
       "      <td>NaN</td>\n",
       "      <td>NaN</td>\n",
       "      <td>NaN</td>\n",
       "    </tr>\n",
       "    <tr>\n",
       "      <td>RPL7</td>\n",
       "      <td>NaN</td>\n",
       "      <td>NaN</td>\n",
       "      <td>NaN</td>\n",
       "      <td>NaN</td>\n",
       "      <td>NaN</td>\n",
       "      <td>NaN</td>\n",
       "      <td>NaN</td>\n",
       "      <td>NaN</td>\n",
       "      <td>NaN</td>\n",
       "      <td>NaN</td>\n",
       "      <td>NaN</td>\n",
       "      <td>NaN</td>\n",
       "      <td>NaN</td>\n",
       "    </tr>\n",
       "    <tr>\n",
       "      <td>...</td>\n",
       "      <td>...</td>\n",
       "      <td>...</td>\n",
       "      <td>...</td>\n",
       "      <td>...</td>\n",
       "      <td>...</td>\n",
       "      <td>...</td>\n",
       "      <td>...</td>\n",
       "      <td>...</td>\n",
       "      <td>...</td>\n",
       "      <td>...</td>\n",
       "      <td>...</td>\n",
       "      <td>...</td>\n",
       "      <td>...</td>\n",
       "    </tr>\n",
       "    <tr>\n",
       "      <td>C1QTNF6</td>\n",
       "      <td>NaN</td>\n",
       "      <td>NaN</td>\n",
       "      <td>NaN</td>\n",
       "      <td>NaN</td>\n",
       "      <td>NaN</td>\n",
       "      <td>NaN</td>\n",
       "      <td>NaN</td>\n",
       "      <td>NaN</td>\n",
       "      <td>NaN</td>\n",
       "      <td>NaN</td>\n",
       "      <td>NaN</td>\n",
       "      <td>NaN</td>\n",
       "      <td>NaN</td>\n",
       "    </tr>\n",
       "    <tr>\n",
       "      <td>COPE</td>\n",
       "      <td>NaN</td>\n",
       "      <td>NaN</td>\n",
       "      <td>NaN</td>\n",
       "      <td>NaN</td>\n",
       "      <td>NaN</td>\n",
       "      <td>NaN</td>\n",
       "      <td>NaN</td>\n",
       "      <td>NaN</td>\n",
       "      <td>NaN</td>\n",
       "      <td>NaN</td>\n",
       "      <td>NaN</td>\n",
       "      <td>NaN</td>\n",
       "      <td>NaN</td>\n",
       "    </tr>\n",
       "    <tr>\n",
       "      <td>CLEC4C</td>\n",
       "      <td>2.945090</td>\n",
       "      <td>1.48993</td>\n",
       "      <td>1.338995</td>\n",
       "      <td>9.209750</td>\n",
       "      <td>1.757830</td>\n",
       "      <td>1.832284</td>\n",
       "      <td>4.922470</td>\n",
       "      <td>0.476316</td>\n",
       "      <td>4.002863</td>\n",
       "      <td>1.796630</td>\n",
       "      <td>0.307067</td>\n",
       "      <td>5.895850</td>\n",
       "      <td>1.415380</td>\n",
       "    </tr>\n",
       "    <tr>\n",
       "      <td>SNRPC</td>\n",
       "      <td>NaN</td>\n",
       "      <td>NaN</td>\n",
       "      <td>NaN</td>\n",
       "      <td>NaN</td>\n",
       "      <td>NaN</td>\n",
       "      <td>NaN</td>\n",
       "      <td>NaN</td>\n",
       "      <td>NaN</td>\n",
       "      <td>NaN</td>\n",
       "      <td>NaN</td>\n",
       "      <td>NaN</td>\n",
       "      <td>NaN</td>\n",
       "      <td>NaN</td>\n",
       "    </tr>\n",
       "    <tr>\n",
       "      <td>CCDC117</td>\n",
       "      <td>NaN</td>\n",
       "      <td>NaN</td>\n",
       "      <td>NaN</td>\n",
       "      <td>NaN</td>\n",
       "      <td>NaN</td>\n",
       "      <td>NaN</td>\n",
       "      <td>NaN</td>\n",
       "      <td>NaN</td>\n",
       "      <td>NaN</td>\n",
       "      <td>NaN</td>\n",
       "      <td>NaN</td>\n",
       "      <td>NaN</td>\n",
       "      <td>NaN</td>\n",
       "    </tr>\n",
       "  </tbody>\n",
       "</table>\n",
       "<p>14606 rows × 13 columns</p>\n",
       "</div>"
      ],
      "text/plain": [
       "               CYFZ       FY2H       FLWA        453W        684C       CZJE  \\\n",
       "GMPR2     80.861474  110.55124  89.643974  147.800074  100.628689  97.722016   \n",
       "BMERB1          NaN        NaN        NaN         NaN         NaN        NaN   \n",
       "AASDHPPT        NaN        NaN        NaN         NaN         NaN        NaN   \n",
       "SRBD1           NaN        NaN        NaN         NaN         NaN        NaN   \n",
       "RPL7            NaN        NaN        NaN         NaN         NaN        NaN   \n",
       "...             ...        ...        ...         ...         ...        ...   \n",
       "C1QTNF6         NaN        NaN        NaN         NaN         NaN        NaN   \n",
       "COPE            NaN        NaN        NaN         NaN         NaN        NaN   \n",
       "CLEC4C     2.945090    1.48993   1.338995    9.209750    1.757830   1.832284   \n",
       "SNRPC           NaN        NaN        NaN         NaN         NaN        NaN   \n",
       "CCDC117         NaN        NaN        NaN         NaN         NaN        NaN   \n",
       "\n",
       "               DZQV        925L        9JD4        G4YW        4DUY  \\\n",
       "GMPR2     93.208378  109.207349  130.092838  112.142327  129.308559   \n",
       "BMERB1          NaN         NaN         NaN         NaN         NaN   \n",
       "AASDHPPT        NaN         NaN         NaN         NaN         NaN   \n",
       "SRBD1           NaN         NaN         NaN         NaN         NaN   \n",
       "RPL7            NaN         NaN         NaN         NaN         NaN   \n",
       "...             ...         ...         ...         ...         ...   \n",
       "C1QTNF6         NaN         NaN         NaN         NaN         NaN   \n",
       "COPE            NaN         NaN         NaN         NaN         NaN   \n",
       "CLEC4C     4.922470    0.476316    4.002863    1.796630    0.307067   \n",
       "SNRPC           NaN         NaN         NaN         NaN         NaN   \n",
       "CCDC117         NaN         NaN         NaN         NaN         NaN   \n",
       "\n",
       "                36TS       CR3L  \n",
       "GMPR2     105.706784  94.641891  \n",
       "BMERB1           NaN        NaN  \n",
       "AASDHPPT         NaN        NaN  \n",
       "SRBD1            NaN        NaN  \n",
       "RPL7             NaN        NaN  \n",
       "...              ...        ...  \n",
       "C1QTNF6          NaN        NaN  \n",
       "COPE             NaN        NaN  \n",
       "CLEC4C      5.895850   1.415380  \n",
       "SNRPC            NaN        NaN  \n",
       "CCDC117          NaN        NaN  \n",
       "\n",
       "[14606 rows x 13 columns]"
      ]
     },
     "execution_count": 40,
     "metadata": {},
     "output_type": "execute_result"
    }
   ],
   "source": [
    "data"
   ]
  },
  {
   "cell_type": "code",
   "execution_count": null,
   "metadata": {},
   "outputs": [],
   "source": []
  }
 ],
 "metadata": {
  "kernelspec": {
   "display_name": "Python 3",
   "language": "python",
   "name": "python3"
  },
  "language_info": {
   "codemirror_mode": {
    "name": "ipython",
    "version": 3
   },
   "file_extension": ".py",
   "mimetype": "text/x-python",
   "name": "python",
   "nbconvert_exporter": "python",
   "pygments_lexer": "ipython3",
   "version": "3.7.4"
  }
 },
 "nbformat": 4,
 "nbformat_minor": 2
}
